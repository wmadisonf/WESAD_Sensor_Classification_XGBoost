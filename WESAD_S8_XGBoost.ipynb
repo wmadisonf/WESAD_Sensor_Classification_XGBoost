{
 "cells": [
  {
   "cell_type": "markdown",
   "metadata": {},
   "source": [
    "# S8 WESAD XGBoost"
   ]
  },
  {
   "cell_type": "markdown",
   "metadata": {},
   "source": [
    "    Female Participant\n",
    "    Age: 27\n",
    "    Height (cm): 172\n",
    "    Weight (kg): 64\n",
    "    Note: cold during stress"
   ]
  },
  {
   "cell_type": "markdown",
   "metadata": {},
   "source": [
    "## Load Tools"
   ]
  },
  {
   "cell_type": "code",
   "execution_count": 2,
   "metadata": {},
   "outputs": [],
   "source": [
    "%matplotlib inline\n",
    "import pickle\n",
    "import numpy as np\n",
    "import pandas as pd\n",
    "import matplotlib\n",
    "import matplotlib.pyplot as plt\n",
    "import seaborn as sns\n",
    "import warnings\n",
    "warnings.filterwarnings('ignore')"
   ]
  },
  {
   "cell_type": "code",
   "execution_count": 3,
   "metadata": {},
   "outputs": [],
   "source": [
    "import sklearn as skl\n",
    "from sklearn.model_selection import train_test_split\n",
    "from sklearn.metrics import confusion_matrix, classification_report\n",
    "from sklearn.metrics import balanced_accuracy_score, f1_score, roc_auc_score \n",
    "from sklearn import preprocessing\n",
    "from sklearn.preprocessing import LabelEncoder, StandardScaler, label_binarize\n",
    "from sklearn.utils import class_weight\n",
    "import xgboost as xgb\n",
    "from xgboost import plot_importance, XGBClassifier"
   ]
  },
  {
   "cell_type": "code",
   "execution_count": 5,
   "metadata": {},
   "outputs": [],
   "source": [
    "sns.set(style=\"darkgrid\")"
   ]
  },
  {
   "cell_type": "code",
   "execution_count": 6,
   "metadata": {},
   "outputs": [
    {
     "name": "stdout",
     "output_type": "stream",
     "text": [
      "WForsythe 2020-08-02 16:18:47 \n",
      "\n",
      "CPython 3.7.6\n",
      "IPython 7.11.1\n",
      "\n",
      "numpy 1.18.1\n",
      "pandas 1.0.3\n",
      "cv2 4.2.0\n",
      "xgboost 1.0.2\n",
      "sklearn 0.22.1\n",
      "seaborn 0.9.0\n",
      "matplotlib 3.2.2\n",
      "yellowbrick 1.1\n"
     ]
    }
   ],
   "source": [
    "import autoreload\n",
    "%load_ext watermark\n",
    "%load_ext autoreload\n",
    "%autoreload 2\n",
    "%watermark -a 'WForsythe' -d -t -v -p   numpy,pandas,cv2,xgboost,sklearn,seaborn,matplotlib,yellowbrick"
   ]
  },
  {
   "cell_type": "markdown",
   "metadata": {},
   "source": [
    "## Load and Process File"
   ]
  },
  {
   "cell_type": "markdown",
   "metadata": {},
   "source": [
    "### Load File"
   ]
  },
  {
   "cell_type": "code",
   "execution_count": 7,
   "metadata": {},
   "outputs": [
    {
     "data": {
      "text/plain": [
       "{'signal': {'chest': {'ACC': array([[ 8.74600053e-01, -2.31999755e-02,  2.76200056e-01],\n",
       "          [ 8.80200028e-01, -1.13999844e-02,  2.63800025e-01],\n",
       "          [ 8.86999965e-01,  2.00033188e-04,  2.38199949e-01],\n",
       "          ...,\n",
       "          [ 9.13800001e-01, -4.99999523e-03, -6.01999760e-02],\n",
       "          [ 9.13800001e-01, -5.80000877e-03, -5.86000085e-02],\n",
       "          [ 9.14600015e-01, -7.20000267e-03, -6.26000166e-02]]),\n",
       "   'ECG': array([[ 0.16950989],\n",
       "          [ 0.16639709],\n",
       "          [ 0.16337585],\n",
       "          ...,\n",
       "          [-0.02183533],\n",
       "          [-0.01629639],\n",
       "          [-0.00823975]]),\n",
       "   'EMG': array([[-0.00535583],\n",
       "          [ 0.00993347],\n",
       "          [ 0.01478577],\n",
       "          ...,\n",
       "          [-0.00119019],\n",
       "          [-0.0100708 ],\n",
       "          [-0.00979614]]),\n",
       "   'EDA': array([[4.36859131],\n",
       "          [4.37202454],\n",
       "          [4.38194275],\n",
       "          ...,\n",
       "          [3.51028442],\n",
       "          [3.50608826],\n",
       "          [3.50456238]]),\n",
       "   'Temp': array([[34.264893],\n",
       "          [34.28018 ],\n",
       "          [34.263397],\n",
       "          ...,\n",
       "          [35.432373],\n",
       "          [35.547394],\n",
       "          [35.538086]], dtype=float32),\n",
       "   'Resp': array([[-1.71813965],\n",
       "          [-1.71661377],\n",
       "          [-1.70593262],\n",
       "          ...,\n",
       "          [ 0.72784424],\n",
       "          [ 0.70343018],\n",
       "          [ 0.75073242]])},\n",
       "  'wrist': {'ACC': array([[  -7.,  -15.,  -34.],\n",
       "          [ -38.,  127.,  127.],\n",
       "          [ 127.,  -48.,  127.],\n",
       "          ...,\n",
       "          [  62.,  -22.,  -93.],\n",
       "          [-128.,  127.,  127.],\n",
       "          [ 127.,   62.,  127.]]), 'BVP': array([[-3.27],\n",
       "          [ 6.25],\n",
       "          [13.86],\n",
       "          ...,\n",
       "          [ 4.59],\n",
       "          [ 3.35],\n",
       "          [ 1.99]]), 'EDA': array([[0.503081],\n",
       "          [0.515874],\n",
       "          [0.799868],\n",
       "          ...,\n",
       "          [0.270188],\n",
       "          [0.270188],\n",
       "          [0.271468]]), 'TEMP': array([[33.25],\n",
       "          [33.25],\n",
       "          [33.29],\n",
       "          ...,\n",
       "          [31.59],\n",
       "          [31.61],\n",
       "          [31.61]])}},\n",
       " 'label': array([0, 0, 0, ..., 0, 0, 0]),\n",
       " 'subject': 'S8'}"
      ]
     },
     "execution_count": 7,
     "metadata": {},
     "output_type": "execute_result"
    }
   ],
   "source": [
    "data = 'D:/WESAD/'\n",
    "s8_file = pd.read_pickle(data + 'S8/S8.pkl')\n",
    "s8_file"
   ]
  },
  {
   "cell_type": "markdown",
   "metadata": {},
   "source": [
    "**there are 3 columns for both chest and wrist ACC and one column each for the other features**"
   ]
  },
  {
   "cell_type": "markdown",
   "metadata": {},
   "source": [
    "### Process"
   ]
  },
  {
   "cell_type": "markdown",
   "metadata": {},
   "source": [
    "#### Seperate chest features  from wrist  features "
   ]
  },
  {
   "cell_type": "code",
   "execution_count": 8,
   "metadata": {},
   "outputs": [],
   "source": [
    "cax = s8_file['signal']['chest']['ACC'][0:,0]\n",
    "cay = s8_file['signal']['chest']['ACC'][0:,1]\n",
    "caz = s8_file['signal']['chest']['ACC'][0:,2]\n",
    "cecg = s8_file['signal']['chest']['ECG'][:,0]\n",
    "cemg = s8_file['signal']['chest']['EMG'][:,0]\n",
    "ceda = s8_file['signal']['chest']['EDA'][:,0]\n",
    "ctemp = s8_file['signal']['chest']['Temp'][:,0]\n",
    "cresp = s8_file['signal']['chest']['Resp'][:,0]\n",
    "label = s8_file['label']"
   ]
  },
  {
   "cell_type": "code",
   "execution_count": 9,
   "metadata": {},
   "outputs": [
    {
     "data": {
      "text/plain": [
       "array([0, 0, 0, ..., 0, 0, 0])"
      ]
     },
     "execution_count": 9,
     "metadata": {},
     "output_type": "execute_result"
    }
   ],
   "source": [
    "label"
   ]
  },
  {
   "cell_type": "markdown",
   "metadata": {},
   "source": [
    "#### Change dictionary object to a numpy array and array to a dataframe"
   ]
  },
  {
   "cell_type": "code",
   "execution_count": 10,
   "metadata": {},
   "outputs": [],
   "source": [
    "# Python | Numpy ndarray.T\n",
    "# https://www.geeksforgeeks.org/python-numpy-ndarray-t/\n",
    "# Numpy Array Cookbook: Generating and Manipulating Arrays in Python\n",
    "# https://towardsdatascience.com/numpy-array-cookbook-generating-and-manipulating-arrays-in-python-2195c3988b09"
   ]
  },
  {
   "cell_type": "code",
   "execution_count": 11,
   "metadata": {},
   "outputs": [
    {
     "data": {
      "text/html": [
       "<div>\n",
       "<style scoped>\n",
       "    .dataframe tbody tr th:only-of-type {\n",
       "        vertical-align: middle;\n",
       "    }\n",
       "\n",
       "    .dataframe tbody tr th {\n",
       "        vertical-align: top;\n",
       "    }\n",
       "\n",
       "    .dataframe thead th {\n",
       "        text-align: right;\n",
       "    }\n",
       "</style>\n",
       "<table border=\"1\" class=\"dataframe\">\n",
       "  <thead>\n",
       "    <tr style=\"text-align: right;\">\n",
       "      <th></th>\n",
       "      <th>cax</th>\n",
       "      <th>cay</th>\n",
       "      <th>caz</th>\n",
       "      <th>cecg</th>\n",
       "      <th>cemg</th>\n",
       "      <th>ceda</th>\n",
       "      <th>ctemp</th>\n",
       "      <th>cresp</th>\n",
       "      <th>label</th>\n",
       "    </tr>\n",
       "  </thead>\n",
       "  <tbody>\n",
       "    <tr>\n",
       "      <th>0</th>\n",
       "      <td>0.8746</td>\n",
       "      <td>-0.0232</td>\n",
       "      <td>0.2762</td>\n",
       "      <td>0.169510</td>\n",
       "      <td>-0.005356</td>\n",
       "      <td>4.368591</td>\n",
       "      <td>34.264893</td>\n",
       "      <td>-1.718140</td>\n",
       "      <td>0.0</td>\n",
       "    </tr>\n",
       "    <tr>\n",
       "      <th>1</th>\n",
       "      <td>0.8802</td>\n",
       "      <td>-0.0114</td>\n",
       "      <td>0.2638</td>\n",
       "      <td>0.166397</td>\n",
       "      <td>0.009933</td>\n",
       "      <td>4.372025</td>\n",
       "      <td>34.280182</td>\n",
       "      <td>-1.716614</td>\n",
       "      <td>0.0</td>\n",
       "    </tr>\n",
       "    <tr>\n",
       "      <th>2</th>\n",
       "      <td>0.8870</td>\n",
       "      <td>0.0002</td>\n",
       "      <td>0.2382</td>\n",
       "      <td>0.163376</td>\n",
       "      <td>0.014786</td>\n",
       "      <td>4.381943</td>\n",
       "      <td>34.263397</td>\n",
       "      <td>-1.705933</td>\n",
       "      <td>0.0</td>\n",
       "    </tr>\n",
       "    <tr>\n",
       "      <th>3</th>\n",
       "      <td>0.8954</td>\n",
       "      <td>0.0176</td>\n",
       "      <td>0.2030</td>\n",
       "      <td>0.153259</td>\n",
       "      <td>0.015884</td>\n",
       "      <td>4.365921</td>\n",
       "      <td>34.271027</td>\n",
       "      <td>-1.710510</td>\n",
       "      <td>0.0</td>\n",
       "    </tr>\n",
       "    <tr>\n",
       "      <th>4</th>\n",
       "      <td>0.9002</td>\n",
       "      <td>0.0326</td>\n",
       "      <td>0.1486</td>\n",
       "      <td>0.147629</td>\n",
       "      <td>0.028381</td>\n",
       "      <td>4.366684</td>\n",
       "      <td>34.261841</td>\n",
       "      <td>-1.713562</td>\n",
       "      <td>0.0</td>\n",
       "    </tr>\n",
       "    <tr>\n",
       "      <th>...</th>\n",
       "      <td>...</td>\n",
       "      <td>...</td>\n",
       "      <td>...</td>\n",
       "      <td>...</td>\n",
       "      <td>...</td>\n",
       "      <td>...</td>\n",
       "      <td>...</td>\n",
       "      <td>...</td>\n",
       "      <td>...</td>\n",
       "    </tr>\n",
       "    <tr>\n",
       "      <th>3826195</th>\n",
       "      <td>0.9150</td>\n",
       "      <td>-0.0078</td>\n",
       "      <td>-0.0558</td>\n",
       "      <td>-0.022842</td>\n",
       "      <td>0.006363</td>\n",
       "      <td>3.517151</td>\n",
       "      <td>35.528717</td>\n",
       "      <td>0.733948</td>\n",
       "      <td>0.0</td>\n",
       "    </tr>\n",
       "    <tr>\n",
       "      <th>3826196</th>\n",
       "      <td>0.9160</td>\n",
       "      <td>-0.0082</td>\n",
       "      <td>-0.0586</td>\n",
       "      <td>-0.024216</td>\n",
       "      <td>0.002335</td>\n",
       "      <td>3.516388</td>\n",
       "      <td>35.519409</td>\n",
       "      <td>0.730896</td>\n",
       "      <td>0.0</td>\n",
       "    </tr>\n",
       "    <tr>\n",
       "      <th>3826197</th>\n",
       "      <td>0.9138</td>\n",
       "      <td>-0.0050</td>\n",
       "      <td>-0.0602</td>\n",
       "      <td>-0.021835</td>\n",
       "      <td>-0.001190</td>\n",
       "      <td>3.510284</td>\n",
       "      <td>35.432373</td>\n",
       "      <td>0.727844</td>\n",
       "      <td>0.0</td>\n",
       "    </tr>\n",
       "    <tr>\n",
       "      <th>3826198</th>\n",
       "      <td>0.9138</td>\n",
       "      <td>-0.0058</td>\n",
       "      <td>-0.0586</td>\n",
       "      <td>-0.016296</td>\n",
       "      <td>-0.010071</td>\n",
       "      <td>3.506088</td>\n",
       "      <td>35.547394</td>\n",
       "      <td>0.703430</td>\n",
       "      <td>0.0</td>\n",
       "    </tr>\n",
       "    <tr>\n",
       "      <th>3826199</th>\n",
       "      <td>0.9146</td>\n",
       "      <td>-0.0072</td>\n",
       "      <td>-0.0626</td>\n",
       "      <td>-0.008240</td>\n",
       "      <td>-0.009796</td>\n",
       "      <td>3.504562</td>\n",
       "      <td>35.538086</td>\n",
       "      <td>0.750732</td>\n",
       "      <td>0.0</td>\n",
       "    </tr>\n",
       "  </tbody>\n",
       "</table>\n",
       "<p>3826200 rows × 9 columns</p>\n",
       "</div>"
      ],
      "text/plain": [
       "            cax     cay     caz      cecg      cemg      ceda      ctemp  \\\n",
       "0        0.8746 -0.0232  0.2762  0.169510 -0.005356  4.368591  34.264893   \n",
       "1        0.8802 -0.0114  0.2638  0.166397  0.009933  4.372025  34.280182   \n",
       "2        0.8870  0.0002  0.2382  0.163376  0.014786  4.381943  34.263397   \n",
       "3        0.8954  0.0176  0.2030  0.153259  0.015884  4.365921  34.271027   \n",
       "4        0.9002  0.0326  0.1486  0.147629  0.028381  4.366684  34.261841   \n",
       "...         ...     ...     ...       ...       ...       ...        ...   \n",
       "3826195  0.9150 -0.0078 -0.0558 -0.022842  0.006363  3.517151  35.528717   \n",
       "3826196  0.9160 -0.0082 -0.0586 -0.024216  0.002335  3.516388  35.519409   \n",
       "3826197  0.9138 -0.0050 -0.0602 -0.021835 -0.001190  3.510284  35.432373   \n",
       "3826198  0.9138 -0.0058 -0.0586 -0.016296 -0.010071  3.506088  35.547394   \n",
       "3826199  0.9146 -0.0072 -0.0626 -0.008240 -0.009796  3.504562  35.538086   \n",
       "\n",
       "            cresp  label  \n",
       "0       -1.718140    0.0  \n",
       "1       -1.716614    0.0  \n",
       "2       -1.705933    0.0  \n",
       "3       -1.710510    0.0  \n",
       "4       -1.713562    0.0  \n",
       "...           ...    ...  \n",
       "3826195  0.733948    0.0  \n",
       "3826196  0.730896    0.0  \n",
       "3826197  0.727844    0.0  \n",
       "3826198  0.703430    0.0  \n",
       "3826199  0.750732    0.0  \n",
       "\n",
       "[3826200 rows x 9 columns]"
      ]
     },
     "execution_count": 11,
     "metadata": {},
     "output_type": "execute_result"
    }
   ],
   "source": [
    "chest = [cax, cay, caz, cecg, cemg, \n",
    "         ceda, ctemp, cresp, label] \n",
    "ch_array = np.array(chest) \n",
    "ch_array = ch_array.T # transpose \n",
    "Columns = ['cax', 'cay', 'caz','cecg', 'cemg', \n",
    "          'ceda','ctemp', 'cresp', 'label' ]\n",
    "ch_df = pd.DataFrame(ch_array, columns = Columns) \n",
    "ch_df"
   ]
  },
  {
   "cell_type": "markdown",
   "metadata": {},
   "source": [
    "##### Check Statistics"
   ]
  },
  {
   "cell_type": "code",
   "execution_count": 12,
   "metadata": {},
   "outputs": [
    {
     "data": {
      "text/html": [
       "<div>\n",
       "<style scoped>\n",
       "    .dataframe tbody tr th:only-of-type {\n",
       "        vertical-align: middle;\n",
       "    }\n",
       "\n",
       "    .dataframe tbody tr th {\n",
       "        vertical-align: top;\n",
       "    }\n",
       "\n",
       "    .dataframe thead th {\n",
       "        text-align: right;\n",
       "    }\n",
       "</style>\n",
       "<table border=\"1\" class=\"dataframe\">\n",
       "  <thead>\n",
       "    <tr style=\"text-align: right;\">\n",
       "      <th></th>\n",
       "      <th>count</th>\n",
       "      <th>mean</th>\n",
       "      <th>std</th>\n",
       "      <th>min</th>\n",
       "      <th>25%</th>\n",
       "      <th>50%</th>\n",
       "      <th>75%</th>\n",
       "      <th>max</th>\n",
       "    </tr>\n",
       "  </thead>\n",
       "  <tbody>\n",
       "    <tr>\n",
       "      <th>cax</th>\n",
       "      <td>3826200.0</td>\n",
       "      <td>0.824711</td>\n",
       "      <td>0.089931</td>\n",
       "      <td>-0.473400</td>\n",
       "      <td>0.780200</td>\n",
       "      <td>0.842600</td>\n",
       "      <td>0.897000</td>\n",
       "      <td>2.328600</td>\n",
       "    </tr>\n",
       "    <tr>\n",
       "      <th>cay</th>\n",
       "      <td>3826200.0</td>\n",
       "      <td>-0.087701</td>\n",
       "      <td>0.134317</td>\n",
       "      <td>-0.775800</td>\n",
       "      <td>-0.179600</td>\n",
       "      <td>-0.070600</td>\n",
       "      <td>0.001800</td>\n",
       "      <td>0.640800</td>\n",
       "    </tr>\n",
       "    <tr>\n",
       "      <th>caz</th>\n",
       "      <td>3826200.0</td>\n",
       "      <td>-0.270723</td>\n",
       "      <td>0.293661</td>\n",
       "      <td>-1.798400</td>\n",
       "      <td>-0.491400</td>\n",
       "      <td>-0.307000</td>\n",
       "      <td>-0.041800</td>\n",
       "      <td>2.261800</td>\n",
       "    </tr>\n",
       "    <tr>\n",
       "      <th>cecg</th>\n",
       "      <td>3826200.0</td>\n",
       "      <td>0.001477</td>\n",
       "      <td>0.266321</td>\n",
       "      <td>-1.440353</td>\n",
       "      <td>-0.077042</td>\n",
       "      <td>-0.017899</td>\n",
       "      <td>0.017624</td>\n",
       "      <td>1.499954</td>\n",
       "    </tr>\n",
       "    <tr>\n",
       "      <th>cemg</th>\n",
       "      <td>3826200.0</td>\n",
       "      <td>-0.002612</td>\n",
       "      <td>0.019346</td>\n",
       "      <td>-1.250198</td>\n",
       "      <td>-0.010025</td>\n",
       "      <td>-0.002060</td>\n",
       "      <td>0.005081</td>\n",
       "      <td>1.031433</td>\n",
       "    </tr>\n",
       "    <tr>\n",
       "      <th>ceda</th>\n",
       "      <td>3826200.0</td>\n",
       "      <td>3.782816</td>\n",
       "      <td>0.192292</td>\n",
       "      <td>3.295898</td>\n",
       "      <td>3.669357</td>\n",
       "      <td>3.759384</td>\n",
       "      <td>3.854752</td>\n",
       "      <td>5.717850</td>\n",
       "    </tr>\n",
       "    <tr>\n",
       "      <th>ctemp</th>\n",
       "      <td>3826200.0</td>\n",
       "      <td>35.014137</td>\n",
       "      <td>0.311258</td>\n",
       "      <td>33.630707</td>\n",
       "      <td>34.861572</td>\n",
       "      <td>35.017365</td>\n",
       "      <td>35.201355</td>\n",
       "      <td>35.776520</td>\n",
       "    </tr>\n",
       "    <tr>\n",
       "      <th>cresp</th>\n",
       "      <td>3826200.0</td>\n",
       "      <td>0.067162</td>\n",
       "      <td>3.574538</td>\n",
       "      <td>-24.359131</td>\n",
       "      <td>-1.795959</td>\n",
       "      <td>-0.077820</td>\n",
       "      <td>1.976013</td>\n",
       "      <td>22.613525</td>\n",
       "    </tr>\n",
       "    <tr>\n",
       "      <th>label</th>\n",
       "      <td>3826200.0</td>\n",
       "      <td>1.412002</td>\n",
       "      <td>1.635803</td>\n",
       "      <td>0.000000</td>\n",
       "      <td>0.000000</td>\n",
       "      <td>1.000000</td>\n",
       "      <td>2.000000</td>\n",
       "      <td>7.000000</td>\n",
       "    </tr>\n",
       "  </tbody>\n",
       "</table>\n",
       "</div>"
      ],
      "text/plain": [
       "           count       mean       std        min        25%        50%  \\\n",
       "cax    3826200.0   0.824711  0.089931  -0.473400   0.780200   0.842600   \n",
       "cay    3826200.0  -0.087701  0.134317  -0.775800  -0.179600  -0.070600   \n",
       "caz    3826200.0  -0.270723  0.293661  -1.798400  -0.491400  -0.307000   \n",
       "cecg   3826200.0   0.001477  0.266321  -1.440353  -0.077042  -0.017899   \n",
       "cemg   3826200.0  -0.002612  0.019346  -1.250198  -0.010025  -0.002060   \n",
       "ceda   3826200.0   3.782816  0.192292   3.295898   3.669357   3.759384   \n",
       "ctemp  3826200.0  35.014137  0.311258  33.630707  34.861572  35.017365   \n",
       "cresp  3826200.0   0.067162  3.574538 -24.359131  -1.795959  -0.077820   \n",
       "label  3826200.0   1.412002  1.635803   0.000000   0.000000   1.000000   \n",
       "\n",
       "             75%        max  \n",
       "cax     0.897000   2.328600  \n",
       "cay     0.001800   0.640800  \n",
       "caz    -0.041800   2.261800  \n",
       "cecg    0.017624   1.499954  \n",
       "cemg    0.005081   1.031433  \n",
       "ceda    3.854752   5.717850  \n",
       "ctemp  35.201355  35.776520  \n",
       "cresp   1.976013  22.613525  \n",
       "label   2.000000   7.000000  "
      ]
     },
     "execution_count": 12,
     "metadata": {},
     "output_type": "execute_result"
    }
   ],
   "source": [
    "ch_df.describe().T"
   ]
  },
  {
   "cell_type": "markdown",
   "metadata": {},
   "source": [
    "##### Check Type"
   ]
  },
  {
   "cell_type": "code",
   "execution_count": 13,
   "metadata": {},
   "outputs": [
    {
     "name": "stdout",
     "output_type": "stream",
     "text": [
      "<class 'pandas.core.frame.DataFrame'>\n",
      "RangeIndex: 3826200 entries, 0 to 3826199\n",
      "Data columns (total 9 columns):\n",
      " #   Column  Dtype  \n",
      "---  ------  -----  \n",
      " 0   cax     float64\n",
      " 1   cay     float64\n",
      " 2   caz     float64\n",
      " 3   cecg    float64\n",
      " 4   cemg    float64\n",
      " 5   ceda    float64\n",
      " 6   ctemp   float64\n",
      " 7   cresp   float64\n",
      " 8   label   float64\n",
      "dtypes: float64(9)\n",
      "memory usage: 262.7 MB\n",
      "None\n"
     ]
    }
   ],
   "source": [
    "print(ch_df.info())"
   ]
  },
  {
   "cell_type": "markdown",
   "metadata": {},
   "source": [
    "##### Show label classes sequence plot\n",
    "    Classes: 0 = Undefined, 1 = Baseline, 2 = Stress, 3 = Amusement, 4 = Meditation\n",
    "    Classes 5, 6, and 7 are periods in which questionnaires were given"
   ]
  },
  {
   "cell_type": "code",
   "execution_count": 14,
   "metadata": {},
   "outputs": [
    {
     "name": "stdout",
     "output_type": "stream",
     "text": [
      "3826200\n"
     ]
    },
    {
     "data": {
      "image/png": "[encoded data removed]",
      "text/plain": [
       "<Figure size 1080x144 with 1 Axes>"
      ]
     },
     "metadata": {},
     "output_type": "display_data"
    }
   ],
   "source": [
    "ch_df[[\"label\"]].plot(figsize=(15,2))\n",
    "plt.text(400000,1.2,'Baseline'), plt.text(2450000,2.2,'\"Stress\"', c = 'darkred'), plt.text(1600000,4.2,'Meditation1', c = 'darkblue')\n",
    "plt.text(1100000,3.3,'Amusement', c = 'darkgreen'), plt.text(3400000,4.2,'Meditation2', c = 'darkblue')\n",
    "print(len(label))"
   ]
  },
  {
   "cell_type": "markdown",
   "metadata": {},
   "source": [
    "### Concatenate classes 0, 1, 2, 3, and 4"
   ]
  },
  {
   "cell_type": "code",
   "execution_count": 15,
   "metadata": {},
   "outputs": [],
   "source": [
    "loc0 = ch_df.loc[ch_df['label'] == 0]\n",
    "loc1 = ch_df.loc[ch_df['label'] == 1]\n",
    "loc2 = ch_df.loc[ch_df['label'] == 2]\n",
    "loc3 = ch_df.loc[ch_df['label'] == 3]\n",
    "loc4 = ch_df.loc[ch_df['label'] == 4]"
   ]
  },
  {
   "cell_type": "code",
   "execution_count": 16,
   "metadata": {},
   "outputs": [
    {
     "data": {
      "text/html": [
       "<div>\n",
       "<style scoped>\n",
       "    .dataframe tbody tr th:only-of-type {\n",
       "        vertical-align: middle;\n",
       "    }\n",
       "\n",
       "    .dataframe tbody tr th {\n",
       "        vertical-align: top;\n",
       "    }\n",
       "\n",
       "    .dataframe thead th {\n",
       "        text-align: right;\n",
       "    }\n",
       "</style>\n",
       "<table border=\"1\" class=\"dataframe\">\n",
       "  <thead>\n",
       "    <tr style=\"text-align: right;\">\n",
       "      <th></th>\n",
       "      <th>cax</th>\n",
       "      <th>cay</th>\n",
       "      <th>caz</th>\n",
       "      <th>cecg</th>\n",
       "      <th>cemg</th>\n",
       "      <th>ceda</th>\n",
       "      <th>ctemp</th>\n",
       "      <th>cresp</th>\n",
       "      <th>label</th>\n",
       "    </tr>\n",
       "  </thead>\n",
       "  <tbody>\n",
       "    <tr>\n",
       "      <th>0</th>\n",
       "      <td>0.8746</td>\n",
       "      <td>-0.0232</td>\n",
       "      <td>0.2762</td>\n",
       "      <td>0.169510</td>\n",
       "      <td>-0.005356</td>\n",
       "      <td>4.368591</td>\n",
       "      <td>34.264893</td>\n",
       "      <td>-1.718140</td>\n",
       "      <td>0.0</td>\n",
       "    </tr>\n",
       "    <tr>\n",
       "      <th>1</th>\n",
       "      <td>0.8802</td>\n",
       "      <td>-0.0114</td>\n",
       "      <td>0.2638</td>\n",
       "      <td>0.166397</td>\n",
       "      <td>0.009933</td>\n",
       "      <td>4.372025</td>\n",
       "      <td>34.280182</td>\n",
       "      <td>-1.716614</td>\n",
       "      <td>0.0</td>\n",
       "    </tr>\n",
       "    <tr>\n",
       "      <th>2</th>\n",
       "      <td>0.8870</td>\n",
       "      <td>0.0002</td>\n",
       "      <td>0.2382</td>\n",
       "      <td>0.163376</td>\n",
       "      <td>0.014786</td>\n",
       "      <td>4.381943</td>\n",
       "      <td>34.263397</td>\n",
       "      <td>-1.705933</td>\n",
       "      <td>0.0</td>\n",
       "    </tr>\n",
       "    <tr>\n",
       "      <th>3</th>\n",
       "      <td>0.8954</td>\n",
       "      <td>0.0176</td>\n",
       "      <td>0.2030</td>\n",
       "      <td>0.153259</td>\n",
       "      <td>0.015884</td>\n",
       "      <td>4.365921</td>\n",
       "      <td>34.271027</td>\n",
       "      <td>-1.710510</td>\n",
       "      <td>0.0</td>\n",
       "    </tr>\n",
       "    <tr>\n",
       "      <th>4</th>\n",
       "      <td>0.9002</td>\n",
       "      <td>0.0326</td>\n",
       "      <td>0.1486</td>\n",
       "      <td>0.147629</td>\n",
       "      <td>0.028381</td>\n",
       "      <td>4.366684</td>\n",
       "      <td>34.261841</td>\n",
       "      <td>-1.713562</td>\n",
       "      <td>0.0</td>\n",
       "    </tr>\n",
       "    <tr>\n",
       "      <th>...</th>\n",
       "      <td>...</td>\n",
       "      <td>...</td>\n",
       "      <td>...</td>\n",
       "      <td>...</td>\n",
       "      <td>...</td>\n",
       "      <td>...</td>\n",
       "      <td>...</td>\n",
       "      <td>...</td>\n",
       "      <td>...</td>\n",
       "    </tr>\n",
       "    <tr>\n",
       "      <th>3704767</th>\n",
       "      <td>0.6554</td>\n",
       "      <td>0.0192</td>\n",
       "      <td>-0.6834</td>\n",
       "      <td>0.478180</td>\n",
       "      <td>-0.015289</td>\n",
       "      <td>3.532410</td>\n",
       "      <td>35.581635</td>\n",
       "      <td>2.293396</td>\n",
       "      <td>4.0</td>\n",
       "    </tr>\n",
       "    <tr>\n",
       "      <th>3704768</th>\n",
       "      <td>0.6538</td>\n",
       "      <td>0.0200</td>\n",
       "      <td>-0.6806</td>\n",
       "      <td>0.262756</td>\n",
       "      <td>-0.003937</td>\n",
       "      <td>3.532791</td>\n",
       "      <td>35.511627</td>\n",
       "      <td>2.265930</td>\n",
       "      <td>4.0</td>\n",
       "    </tr>\n",
       "    <tr>\n",
       "      <th>3704769</th>\n",
       "      <td>0.6542</td>\n",
       "      <td>0.0222</td>\n",
       "      <td>-0.6806</td>\n",
       "      <td>0.103363</td>\n",
       "      <td>0.004532</td>\n",
       "      <td>3.535461</td>\n",
       "      <td>35.586304</td>\n",
       "      <td>2.253723</td>\n",
       "      <td>4.0</td>\n",
       "    </tr>\n",
       "    <tr>\n",
       "      <th>3704770</th>\n",
       "      <td>0.6532</td>\n",
       "      <td>0.0222</td>\n",
       "      <td>-0.6818</td>\n",
       "      <td>-0.013000</td>\n",
       "      <td>-0.007095</td>\n",
       "      <td>3.535461</td>\n",
       "      <td>35.597229</td>\n",
       "      <td>2.250671</td>\n",
       "      <td>4.0</td>\n",
       "    </tr>\n",
       "    <tr>\n",
       "      <th>3704771</th>\n",
       "      <td>0.6534</td>\n",
       "      <td>0.0206</td>\n",
       "      <td>-0.6792</td>\n",
       "      <td>-0.110916</td>\n",
       "      <td>0.007278</td>\n",
       "      <td>3.540421</td>\n",
       "      <td>35.586304</td>\n",
       "      <td>2.272034</td>\n",
       "      <td>4.0</td>\n",
       "    </tr>\n",
       "  </tbody>\n",
       "</table>\n",
       "<p>3719799 rows × 9 columns</p>\n",
       "</div>"
      ],
      "text/plain": [
       "            cax     cay     caz      cecg      cemg      ceda      ctemp  \\\n",
       "0        0.8746 -0.0232  0.2762  0.169510 -0.005356  4.368591  34.264893   \n",
       "1        0.8802 -0.0114  0.2638  0.166397  0.009933  4.372025  34.280182   \n",
       "2        0.8870  0.0002  0.2382  0.163376  0.014786  4.381943  34.263397   \n",
       "3        0.8954  0.0176  0.2030  0.153259  0.015884  4.365921  34.271027   \n",
       "4        0.9002  0.0326  0.1486  0.147629  0.028381  4.366684  34.261841   \n",
       "...         ...     ...     ...       ...       ...       ...        ...   \n",
       "3704767  0.6554  0.0192 -0.6834  0.478180 -0.015289  3.532410  35.581635   \n",
       "3704768  0.6538  0.0200 -0.6806  0.262756 -0.003937  3.532791  35.511627   \n",
       "3704769  0.6542  0.0222 -0.6806  0.103363  0.004532  3.535461  35.586304   \n",
       "3704770  0.6532  0.0222 -0.6818 -0.013000 -0.007095  3.535461  35.597229   \n",
       "3704771  0.6534  0.0206 -0.6792 -0.110916  0.007278  3.540421  35.586304   \n",
       "\n",
       "            cresp  label  \n",
       "0       -1.718140    0.0  \n",
       "1       -1.716614    0.0  \n",
       "2       -1.705933    0.0  \n",
       "3       -1.710510    0.0  \n",
       "4       -1.713562    0.0  \n",
       "...           ...    ...  \n",
       "3704767  2.293396    4.0  \n",
       "3704768  2.265930    4.0  \n",
       "3704769  2.253723    4.0  \n",
       "3704770  2.250671    4.0  \n",
       "3704771  2.272034    4.0  \n",
       "\n",
       "[3719799 rows x 9 columns]"
      ]
     },
     "execution_count": 16,
     "metadata": {},
     "output_type": "execute_result"
    }
   ],
   "source": [
    "ch_loc = pd.concat([loc0, loc1, loc2, loc3, loc4])\n",
    "ch_loc"
   ]
  },
  {
   "cell_type": "markdown",
   "metadata": {},
   "source": [
    "#### Check Statistics"
   ]
  },
  {
   "cell_type": "code",
   "execution_count": 17,
   "metadata": {},
   "outputs": [
    {
     "data": {
      "text/html": [
       "<div>\n",
       "<style scoped>\n",
       "    .dataframe tbody tr th:only-of-type {\n",
       "        vertical-align: middle;\n",
       "    }\n",
       "\n",
       "    .dataframe tbody tr th {\n",
       "        vertical-align: top;\n",
       "    }\n",
       "\n",
       "    .dataframe thead th {\n",
       "        text-align: right;\n",
       "    }\n",
       "</style>\n",
       "<table border=\"1\" class=\"dataframe\">\n",
       "  <thead>\n",
       "    <tr style=\"text-align: right;\">\n",
       "      <th></th>\n",
       "      <th>count</th>\n",
       "      <th>mean</th>\n",
       "      <th>std</th>\n",
       "      <th>min</th>\n",
       "      <th>25%</th>\n",
       "      <th>50%</th>\n",
       "      <th>75%</th>\n",
       "      <th>max</th>\n",
       "    </tr>\n",
       "  </thead>\n",
       "  <tbody>\n",
       "    <tr>\n",
       "      <th>cax</th>\n",
       "      <td>3719799.0</td>\n",
       "      <td>0.822315</td>\n",
       "      <td>0.090039</td>\n",
       "      <td>-0.473400</td>\n",
       "      <td>0.778600</td>\n",
       "      <td>0.837800</td>\n",
       "      <td>0.894000</td>\n",
       "      <td>2.328600</td>\n",
       "    </tr>\n",
       "    <tr>\n",
       "      <th>cay</th>\n",
       "      <td>3719799.0</td>\n",
       "      <td>-0.088365</td>\n",
       "      <td>0.136074</td>\n",
       "      <td>-0.775800</td>\n",
       "      <td>-0.182400</td>\n",
       "      <td>-0.069000</td>\n",
       "      <td>0.003000</td>\n",
       "      <td>0.640800</td>\n",
       "    </tr>\n",
       "    <tr>\n",
       "      <th>caz</th>\n",
       "      <td>3719799.0</td>\n",
       "      <td>-0.276392</td>\n",
       "      <td>0.295248</td>\n",
       "      <td>-1.798400</td>\n",
       "      <td>-0.499800</td>\n",
       "      <td>-0.324600</td>\n",
       "      <td>-0.047000</td>\n",
       "      <td>2.261800</td>\n",
       "    </tr>\n",
       "    <tr>\n",
       "      <th>cecg</th>\n",
       "      <td>3719799.0</td>\n",
       "      <td>0.001470</td>\n",
       "      <td>0.266494</td>\n",
       "      <td>-1.440353</td>\n",
       "      <td>-0.077316</td>\n",
       "      <td>-0.018036</td>\n",
       "      <td>0.017532</td>\n",
       "      <td>1.499954</td>\n",
       "    </tr>\n",
       "    <tr>\n",
       "      <th>cemg</th>\n",
       "      <td>3719799.0</td>\n",
       "      <td>-0.002611</td>\n",
       "      <td>0.019383</td>\n",
       "      <td>-1.250198</td>\n",
       "      <td>-0.010025</td>\n",
       "      <td>-0.002060</td>\n",
       "      <td>0.004990</td>\n",
       "      <td>1.031433</td>\n",
       "    </tr>\n",
       "    <tr>\n",
       "      <th>ceda</th>\n",
       "      <td>3719799.0</td>\n",
       "      <td>3.782342</td>\n",
       "      <td>0.194464</td>\n",
       "      <td>3.295898</td>\n",
       "      <td>3.664398</td>\n",
       "      <td>3.757858</td>\n",
       "      <td>3.853989</td>\n",
       "      <td>5.717850</td>\n",
       "    </tr>\n",
       "    <tr>\n",
       "      <th>ctemp</th>\n",
       "      <td>3719799.0</td>\n",
       "      <td>35.012175</td>\n",
       "      <td>0.315127</td>\n",
       "      <td>33.630707</td>\n",
       "      <td>34.853912</td>\n",
       "      <td>35.014282</td>\n",
       "      <td>35.205963</td>\n",
       "      <td>35.776520</td>\n",
       "    </tr>\n",
       "    <tr>\n",
       "      <th>cresp</th>\n",
       "      <td>3719799.0</td>\n",
       "      <td>0.066212</td>\n",
       "      <td>3.587294</td>\n",
       "      <td>-24.359131</td>\n",
       "      <td>-1.789856</td>\n",
       "      <td>-0.057983</td>\n",
       "      <td>1.991272</td>\n",
       "      <td>22.613525</td>\n",
       "    </tr>\n",
       "    <tr>\n",
       "      <th>label</th>\n",
       "      <td>3719799.0</td>\n",
       "      <td>1.280203</td>\n",
       "      <td>1.452146</td>\n",
       "      <td>0.000000</td>\n",
       "      <td>0.000000</td>\n",
       "      <td>1.000000</td>\n",
       "      <td>2.000000</td>\n",
       "      <td>4.000000</td>\n",
       "    </tr>\n",
       "  </tbody>\n",
       "</table>\n",
       "</div>"
      ],
      "text/plain": [
       "           count       mean       std        min        25%        50%  \\\n",
       "cax    3719799.0   0.822315  0.090039  -0.473400   0.778600   0.837800   \n",
       "cay    3719799.0  -0.088365  0.136074  -0.775800  -0.182400  -0.069000   \n",
       "caz    3719799.0  -0.276392  0.295248  -1.798400  -0.499800  -0.324600   \n",
       "cecg   3719799.0   0.001470  0.266494  -1.440353  -0.077316  -0.018036   \n",
       "cemg   3719799.0  -0.002611  0.019383  -1.250198  -0.010025  -0.002060   \n",
       "ceda   3719799.0   3.782342  0.194464   3.295898   3.664398   3.757858   \n",
       "ctemp  3719799.0  35.012175  0.315127  33.630707  34.853912  35.014282   \n",
       "cresp  3719799.0   0.066212  3.587294 -24.359131  -1.789856  -0.057983   \n",
       "label  3719799.0   1.280203  1.452146   0.000000   0.000000   1.000000   \n",
       "\n",
       "             75%        max  \n",
       "cax     0.894000   2.328600  \n",
       "cay     0.003000   0.640800  \n",
       "caz    -0.047000   2.261800  \n",
       "cecg    0.017532   1.499954  \n",
       "cemg    0.004990   1.031433  \n",
       "ceda    3.853989   5.717850  \n",
       "ctemp  35.205963  35.776520  \n",
       "cresp   1.991272  22.613525  \n",
       "label   2.000000   4.000000  "
      ]
     },
     "execution_count": 17,
     "metadata": {},
     "output_type": "execute_result"
    }
   ],
   "source": [
    "ch_loc.describe().T"
   ]
  },
  {
   "cell_type": "markdown",
   "metadata": {},
   "source": [
    "#### Plot all classes vs. classes 0,1,2,3,4 "
   ]
  },
  {
   "cell_type": "code",
   "execution_count": 18,
   "metadata": {},
   "outputs": [
    {
     "name": "stdout",
     "output_type": "stream",
     "text": [
      "3826200 3719799\n",
      "Number of Rows Removed: 106401\n"
     ]
    },
    {
     "data": {
      "image/png": "[encoded data removed]",
      "text/plain": [
       "<Figure size 1008x360 with 2 Axes>"
      ]
     },
     "metadata": {},
     "output_type": "display_data"
    }
   ],
   "source": [
    "sns.set(style=\"darkgrid\")\n",
    "plt.figure(figsize = (14,5))\n",
    "plt.subplot(1, 2, 1)\n",
    "ch_df['label'].value_counts().plot(kind='bar', \n",
    "                                     title='Chest Number of Examples by Class \\n',\n",
    "                                     color=['b','b','b','b','b','r','r','r'])\n",
    "plt.subplot(1, 2, 2)\n",
    "ch_loc['label'].value_counts().plot(kind='bar', \n",
    "                                     title='Chest Number of Examples by Class \\n')\n",
    "print((ch_df['label'].value_counts().sum()), ch_loc['label'].value_counts().sum())\n",
    "print('Number of Rows Removed:', (ch_df['label'].value_counts().sum()) - \n",
    "      ch_loc['label'].value_counts().sum());"
   ]
  },
  {
   "cell_type": "markdown",
   "metadata": {},
   "source": [
    "# Model Runs: XGBoost Classifier"
   ]
  },
  {
   "cell_type": "markdown",
   "metadata": {},
   "source": [
    "**XGBoost for Multi-class Classification** <br>\n",
    "https://towardsdatascience.com/xgboost-for-multi-class-classification-799d96bcd368"
   ]
  },
  {
   "cell_type": "markdown",
   "metadata": {},
   "source": [
    "## Model allChest: All chest features"
   ]
  },
  {
   "cell_type": "markdown",
   "metadata": {},
   "source": [
    "### Train Test"
   ]
  },
  {
   "cell_type": "code",
   "execution_count": 21,
   "metadata": {},
   "outputs": [
    {
     "name": "stdout",
     "output_type": "stream",
     "text": [
      "(2975839, 8)\n",
      "(743960,)\n"
     ]
    }
   ],
   "source": [
    "y = ch_loc.label\n",
    "x = ch_loc.drop('label',axis=1)\n",
    "x_train, x_test, y_train, y_test = train_test_split(x, y, test_size=0.2)\n",
    "print(x_train.shape)\n",
    "print(y_test.shape)\n",
    "evalSet = [(x_train, y_train), (x_test, y_test)]"
   ]
  },
  {
   "cell_type": "markdown",
   "metadata": {},
   "source": [
    "### Model Fit and f1 and Balanced Accuracy Scores"
   ]
  },
  {
   "cell_type": "code",
   "execution_count": 23,
   "metadata": {
    "scrolled": true
   },
   "outputs": [
    {
     "name": "stdout",
     "output_type": "stream",
     "text": [
      "Balanced Accuracy: 0.9924485846269185\n",
      "----------------------------------------\n",
      "------------ S11 All Chest Classification Report------------\n",
      "              precision    recall  f1-score   support\n",
      "\n",
      "         0.0     0.9932    0.9873    0.9903    323786\n",
      "         1.0     0.9949    0.9981    0.9965    163444\n",
      "         2.0     0.9865    0.9920    0.9893     93335\n",
      "         3.0     0.9828    0.9908    0.9868     51852\n",
      "         4.0     0.9901    0.9940    0.9920    111543\n",
      "\n",
      "    accuracy                         0.9915    743960\n",
      "   macro avg     0.9895    0.9924    0.9910    743960\n",
      "weighted avg     0.9915    0.9915    0.9915    743960\n",
      "\n",
      "Wall time: 1min 35s\n"
     ]
    }
   ],
   "source": [
    "%%time\n",
    "allChest = xgb.XGBClassifier(objective = 'multi:softmax',\n",
    "                              tree_method = 'gpu_hist',\n",
    "                              learning_rate = 0.1,\n",
    "                              n_estimators = 300, \n",
    "                              max_depth = 10,\n",
    "                              #deterministic_histogram = 'false',\n",
    "                              gradient_based = 0.1,\n",
    "                              num_early_stopping_rounds = 20,\n",
    "                              gamma = 3,\n",
    "                              seed = 24,\n",
    "                              verbosity = 2) \n",
    "\n",
    "model_allChest = allChest.fit(x_train,y_train) # , class_weight=class_weights\n",
    "allChest_pred = allChest.predict(x_test)\n",
    "allChest_report = (classification_report(y_test,\n",
    "                                         allChest_pred,\n",
    "                                         labels=np.unique(allChest_pred),\n",
    "                                         digits=4))\n",
    "\n",
    "print('Balanced Accuracy:', balanced_accuracy_score(y_test, allChest_pred))\n",
    "print('----------------------------------------')\n",
    "print('------------ S8 All Chest Classification Report------------')\n",
    "print(allChest_report)"
   ]
  },
  {
   "cell_type": "markdown",
   "metadata": {},
   "source": [
    "### Confusion Matrix"
   ]
  },
  {
   "cell_type": "code",
   "execution_count": 23,
   "metadata": {},
   "outputs": [
    {
     "data": {
      "image/png": "[encoded data removed]",
      "text/plain": [
       "<Figure size 504x360 with 2 Axes>"
      ]
     },
     "metadata": {},
     "output_type": "display_data"
    }
   ],
   "source": [
    "cm = confusion_matrix(y_test, allChest_pred)\n",
    "plt.figure(figsize=(7,5))\n",
    "sns.heatmap(cm, annot=True, fmt='d', cmap=plt.cm.BuPu );"
   ]
  },
  {
   "cell_type": "markdown",
   "metadata": {},
   "source": [
    "## Model ACC TEMP EDA"
   ]
  },
  {
   "cell_type": "markdown",
   "metadata": {},
   "source": [
    "### Test Train Split"
   ]
  },
  {
   "cell_type": "code",
   "execution_count": 19,
   "metadata": {},
   "outputs": [
    {
     "name": "stdout",
     "output_type": "stream",
     "text": [
      "(2975839, 5)\n",
      "(743960,)\n"
     ]
    }
   ],
   "source": [
    "less_Emg_Ecg = ch_loc[['ceda', 'ctemp', 'cax', 'cay', 'caz', 'label']]\n",
    "y = less_Emg_Ecg.label\n",
    "x = less_Emg_Ecg.drop('label',axis=1)\n",
    "x_train, x_test, y_train, y_test = train_test_split(x, y, test_size=0.2)\n",
    "print(x_train.shape)\n",
    "print(y_test.shape)"
   ]
  },
  {
   "cell_type": "markdown",
   "metadata": {},
   "source": [
    "### Model Fit, classification report, and Balanced Accuracy "
   ]
  },
  {
   "cell_type": "code",
   "execution_count": 20,
   "metadata": {},
   "outputs": [
    {
     "name": "stdout",
     "output_type": "stream",
     "text": [
      "Balanced Accuracy: 0.986073770294389\n",
      "---------------------------------------\n",
      "------------ S8 ACC EDA TEMP Classification Report------------\n",
      "              precision    recall  f1-score   support\n",
      "\n",
      "         0.0     0.9864    0.9788    0.9826    323612\n",
      "         1.0     0.9930    0.9972    0.9951    163957\n",
      "         2.0     0.9729    0.9808    0.9768     93362\n",
      "         3.0     0.9766    0.9860    0.9813     51683\n",
      "         4.0     0.9827    0.9875    0.9851    111346\n",
      "\n",
      "    accuracy                         0.9849    743960\n",
      "   macro avg     0.9823    0.9861    0.9842    743960\n",
      "weighted avg     0.9849    0.9849    0.9849    743960\n",
      "\n",
      "Wall time: 1min 14s\n"
     ]
    }
   ],
   "source": [
    "%%time\n",
    "accEdaTemp = XGBClassifier(objective = 'multi:softmax',\n",
    "                           tree_method = 'gpu_hist',\n",
    "                           learning_rate = 0.1,\n",
    "                           gradient_based = 0.1,\n",
    "                           num_early_stopping_rounds = 20,\n",
    "                           n_estimators = 300,\n",
    "                           gamma = 3,\n",
    "                           verbosity = 2) \n",
    "\n",
    "model_accEdaTemp = accEdaTemp.fit(x_train, y_train)\n",
    "accEdaTemp_pred = accEdaTemp.predict(x_test)\n",
    "accEdaTemp_report = (classification_report(y_test, \n",
    "                                         accEdaTemp_pred, \n",
    "                                         labels = np.unique(accEdaTemp_pred),\n",
    "                                         digits = 4))\n",
    "\n",
    "print('Balanced Accuracy:', balanced_accuracy_score(y_test, accEdaTemp_pred))\n",
    "print('---------------------------------------')\n",
    "print('------------ S8 ACC EDA TEMP Classification Report------------')\n",
    "print(accEdaTemp_report)"
   ]
  },
  {
   "cell_type": "markdown",
   "metadata": {},
   "source": [
    "### Confusion matrix"
   ]
  },
  {
   "cell_type": "code",
   "execution_count": 21,
   "metadata": {},
   "outputs": [
    {
     "data": {
      "image/png": "[encoded data removed]",
      "text/plain": [
       "<Figure size 576x432 with 2 Axes>"
      ]
     },
     "metadata": {},
     "output_type": "display_data"
    }
   ],
   "source": [
    "cm = confusion_matrix(y_test, accEdaTemp_pred)\n",
    "plt.figure(figsize=(8,6))\n",
    "sns.heatmap(cm, annot=True, fmt='d', cmap=plt.cm.BuPu );"
   ]
  },
  {
   "cell_type": "code",
   "execution_count": null,
   "metadata": {},
   "outputs": [],
   "source": []
  }
 ],
 "metadata": {
  "kernelspec": {
   "display_name": "practicum1",
   "language": "python",
   "name": "practicum1"
  },
  "language_info": {
   "codemirror_mode": {
    "name": "ipython",
    "version": 3
   },
   "file_extension": ".py",
   "mimetype": "text/x-python",
   "name": "python",
   "nbconvert_exporter": "python",
   "pygments_lexer": "ipython3",
   "version": "3.7.6"
  },
  "toc": {
   "base_numbering": 1,
   "nav_menu": {},
   "number_sections": true,
   "sideBar": true,
   "skip_h1_title": true,
   "title_cell": "Table of Contents",
   "title_sidebar": "Contents",
   "toc_cell": true,
   "toc_position": {},
   "toc_section_display": true,
   "toc_window_display": false
  }
 },
 "nbformat": 4,
 "nbformat_minor": 2
}
