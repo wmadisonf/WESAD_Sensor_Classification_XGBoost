{
 "cells": [
  {
   "cell_type": "markdown",
   "metadata": {},
   "source": [
    "# Analysis of scores"
   ]
  },
  {
   "cell_type": "code",
   "execution_count": 3,
   "metadata": {},
   "outputs": [],
   "source": [
    "#pip install xlrd\n",
    "import pandas as pd\n",
    "from statistics import mean, stdev\n",
    "import matplotlib.pyplot as plt\n",
    "from IPython.display import Image\n",
    "import seaborn as sns"
   ]
  },
  {
   "cell_type": "code",
   "execution_count": 2,
   "metadata": {},
   "outputs": [],
   "source": [
    "# https://docs.bokeh.org/en/latest/docs/gallery/bar_dodged.html\n",
    "from bokeh.io import output_file, show\n",
    "from bokeh.models import ColumnDataSource\n",
    "from bokeh.plotting import figure\n",
    "from bokeh.transform import dodge"
   ]
  },
  {
   "cell_type": "markdown",
   "metadata": {},
   "source": [
    "## All Models"
   ]
  },
  {
   "cell_type": "markdown",
   "metadata": {},
   "source": [
    "### F1 scores across all 5 test runs used in S16\n",
    "To help determine the feature or feature combination that is the best predictor of stress"
   ]
  },
  {
   "cell_type": "code",
   "execution_count": 2,
   "metadata": {},
   "outputs": [
    {
     "data": {
      "text/html": [
       "<div>\n",
       "<style scoped>\n",
       "    .dataframe tbody tr th:only-of-type {\n",
       "        vertical-align: middle;\n",
       "    }\n",
       "\n",
       "    .dataframe tbody tr th {\n",
       "        vertical-align: top;\n",
       "    }\n",
       "\n",
       "    .dataframe thead th {\n",
       "        text-align: right;\n",
       "    }\n",
       "</style>\n",
       "<table border=\"1\" class=\"dataframe\">\n",
       "  <thead>\n",
       "    <tr style=\"text-align: right;\">\n",
       "      <th></th>\n",
       "      <th>model</th>\n",
       "      <th>f1_stress</th>\n",
       "      <th>f1_acc</th>\n",
       "    </tr>\n",
       "  </thead>\n",
       "  <tbody>\n",
       "    <tr>\n",
       "      <th>0</th>\n",
       "      <td>allChest</td>\n",
       "      <td>0.9907</td>\n",
       "      <td>0.9869</td>\n",
       "    </tr>\n",
       "    <tr>\n",
       "      <th>1</th>\n",
       "      <td>chLessAcc</td>\n",
       "      <td>0.9694</td>\n",
       "      <td>0.9348</td>\n",
       "    </tr>\n",
       "    <tr>\n",
       "      <th>2</th>\n",
       "      <td>ACC</td>\n",
       "      <td>0.6319</td>\n",
       "      <td>0.7154</td>\n",
       "    </tr>\n",
       "    <tr>\n",
       "      <th>3</th>\n",
       "      <td>EDA</td>\n",
       "      <td>0.6195</td>\n",
       "      <td>0.7435</td>\n",
       "    </tr>\n",
       "    <tr>\n",
       "      <th>4</th>\n",
       "      <td>TEMP</td>\n",
       "      <td>0.4952</td>\n",
       "      <td>0.6019</td>\n",
       "    </tr>\n",
       "    <tr>\n",
       "      <th>5</th>\n",
       "      <td>accEdaTemp</td>\n",
       "      <td>0.9869</td>\n",
       "      <td>0.9823</td>\n",
       "    </tr>\n",
       "  </tbody>\n",
       "</table>\n",
       "</div>"
      ],
      "text/plain": [
       "        model  f1_stress  f1_acc\n",
       "0    allChest     0.9907  0.9869\n",
       "1   chLessAcc     0.9694  0.9348\n",
       "2         ACC     0.6319  0.7154\n",
       "3         EDA     0.6195  0.7435\n",
       "4        TEMP     0.4952  0.6019\n",
       "5  accEdaTemp     0.9869  0.9823"
      ]
     },
     "execution_count": 2,
     "metadata": {},
     "output_type": "execute_result"
    }
   ],
   "source": [
    "allModels = pd.read_excel('D:WESAD/model_metrics.xlsx', \n",
    "                             index_col=0,sheet_name='all_models',\n",
    "                             dtype={'Name': str, 'Value': float})\n",
    "allModels"
   ]
  },
  {
   "cell_type": "markdown",
   "metadata": {},
   "source": [
    "     Using all sensor features when compared to splitting the sensor data was the best predictor of stress\n",
    "     f1 stress and f1 average for model accEdaTemp was nearly equal to model allChest\n",
    "     Features from the chest device corresponding to the wrist device included \n",
    "     the accelerometer, epidermal activity, skin temperature were included in model accEdaTemp."
   ]
  },
  {
   "cell_type": "code",
   "execution_count": 98,
   "metadata": {},
   "outputs": [
    {
     "data": {
      "image/png": "[encoded data removed]",
      "text/plain": [
       "<Figure size 648x432 with 1 Axes>"
      ]
     },
     "metadata": {},
     "output_type": "display_data"
    }
   ],
   "source": [
    "#plt.style.use('ggplot')\n",
    "sns.set(style=\"whitegrid\")\n",
    "f, ax = plt.subplots(figsize=(9,6))\n",
    "allModels.plot(kind='bar', x='model', sharex=True, ax=ax, rot=0, color=['lightseagreen','slategray'])\n",
    "plt.title('S16 All test model runs ')\n",
    "plt.ylim(0.25, 1);"
   ]
  },
  {
   "cell_type": "code",
   "execution_count": 53,
   "metadata": {},
   "outputs": [
    {
     "data": {
      "text/html": [
       "<div>\n",
       "<style scoped>\n",
       "    .dataframe tbody tr th:only-of-type {\n",
       "        vertical-align: middle;\n",
       "    }\n",
       "\n",
       "    .dataframe tbody tr th {\n",
       "        vertical-align: top;\n",
       "    }\n",
       "\n",
       "    .dataframe thead th {\n",
       "        text-align: right;\n",
       "    }\n",
       "</style>\n",
       "<table border=\"1\" class=\"dataframe\">\n",
       "  <thead>\n",
       "    <tr style=\"text-align: right;\">\n",
       "      <th></th>\n",
       "      <th>allChest</th>\n",
       "      <th>chLessAcc</th>\n",
       "      <th>ACC</th>\n",
       "      <th>EDA</th>\n",
       "      <th>TEMP</th>\n",
       "      <th>accEdaTemp</th>\n",
       "    </tr>\n",
       "  </thead>\n",
       "  <tbody>\n",
       "    <tr>\n",
       "      <th>f1_stress</th>\n",
       "      <td>0.9907</td>\n",
       "      <td>0.9694</td>\n",
       "      <td>0.6319</td>\n",
       "      <td>0.6195</td>\n",
       "      <td>0.4952</td>\n",
       "      <td>0.9869</td>\n",
       "    </tr>\n",
       "    <tr>\n",
       "      <th>f1_acc</th>\n",
       "      <td>0.9869</td>\n",
       "      <td>0.9348</td>\n",
       "      <td>0.7154</td>\n",
       "      <td>0.7435</td>\n",
       "      <td>0.6019</td>\n",
       "      <td>0.9823</td>\n",
       "    </tr>\n",
       "  </tbody>\n",
       "</table>\n",
       "</div>"
      ],
      "text/plain": [
       "           allChest  chLessAcc     ACC     EDA    TEMP  accEdaTemp\n",
       "f1_stress    0.9907     0.9694  0.6319  0.6195  0.4952      0.9869\n",
       "f1_acc       0.9869     0.9348  0.7154  0.7435  0.6019      0.9823"
      ]
     },
     "execution_count": 53,
     "metadata": {},
     "output_type": "execute_result"
    }
   ],
   "source": [
    "f1Avg = pd.read_excel('D:WESAD/model_metrics.xlsx', \n",
    "                             index_col=0,sheet_name='all_S16_f1',\n",
    "                             dtype={'Name': str, 'Value': float})\n",
    "round(f1Avg.T,4)"
   ]
  },
  {
   "cell_type": "markdown",
   "metadata": {},
   "source": [
    "    Clearly, using all chest features produced the best prediction result: accEdaTemp is a close second. "
   ]
  },
  {
   "cell_type": "markdown",
   "metadata": {},
   "source": [
    "##  Stress by Model: allChest vs accEdaTemp"
   ]
  },
  {
   "cell_type": "code",
   "execution_count": 45,
   "metadata": {},
   "outputs": [
    {
     "data": {
      "text/html": [
       "<div>\n",
       "<style scoped>\n",
       "    .dataframe tbody tr th:only-of-type {\n",
       "        vertical-align: middle;\n",
       "    }\n",
       "\n",
       "    .dataframe tbody tr th {\n",
       "        vertical-align: top;\n",
       "    }\n",
       "\n",
       "    .dataframe thead th {\n",
       "        text-align: right;\n",
       "    }\n",
       "</style>\n",
       "<table border=\"1\" class=\"dataframe\">\n",
       "  <thead>\n",
       "    <tr style=\"text-align: right;\">\n",
       "      <th></th>\n",
       "      <th>subject</th>\n",
       "      <th>allChest</th>\n",
       "      <th>accEdaTemp</th>\n",
       "    </tr>\n",
       "  </thead>\n",
       "  <tbody>\n",
       "    <tr>\n",
       "      <th>0</th>\n",
       "      <td>S4</td>\n",
       "      <td>0.9891</td>\n",
       "      <td>0.9830</td>\n",
       "    </tr>\n",
       "    <tr>\n",
       "      <th>1</th>\n",
       "      <td>S8</td>\n",
       "      <td>0.9893</td>\n",
       "      <td>0.9768</td>\n",
       "    </tr>\n",
       "    <tr>\n",
       "      <th>2</th>\n",
       "      <td>S11</td>\n",
       "      <td>0.9947</td>\n",
       "      <td>0.9891</td>\n",
       "    </tr>\n",
       "    <tr>\n",
       "      <th>3</th>\n",
       "      <td>S13</td>\n",
       "      <td>0.9923</td>\n",
       "      <td>0.9849</td>\n",
       "    </tr>\n",
       "    <tr>\n",
       "      <th>4</th>\n",
       "      <td>S16</td>\n",
       "      <td>0.9912</td>\n",
       "      <td>0.9869</td>\n",
       "    </tr>\n",
       "    <tr>\n",
       "      <th>5</th>\n",
       "      <td>S17</td>\n",
       "      <td>0.9990</td>\n",
       "      <td>0.9978</td>\n",
       "    </tr>\n",
       "  </tbody>\n",
       "</table>\n",
       "</div>"
      ],
      "text/plain": [
       "  subject  allChest  accEdaTemp\n",
       "0      S4    0.9891      0.9830\n",
       "1      S8    0.9893      0.9768\n",
       "2     S11    0.9947      0.9891\n",
       "3     S13    0.9923      0.9849\n",
       "4     S16    0.9912      0.9869\n",
       "5     S17    0.9990      0.9978"
      ]
     },
     "execution_count": 45,
     "metadata": {},
     "output_type": "execute_result"
    }
   ],
   "source": [
    "stress_by_model = pd.read_excel('D:WESAD/model_metrics.xlsx', index_col=0,sheet_name='stress_by_model',\n",
    "              dtype={'Name': str, 'Value': float})\n",
    "round(stress_by_model,4)"
   ]
  },
  {
   "cell_type": "code",
   "execution_count": 97,
   "metadata": {},
   "outputs": [
    {
     "name": "stdout",
     "output_type": "stream",
     "text": [
      "Model allChest: Mean =  0.9926\n",
      "Model accEdaTemp: Mean =  0.9864\n"
     ]
    }
   ],
   "source": [
    "print('Model allChest: Mean = ', round(mean(stress_by_model['allChest']),4))\n",
    "print('Model accEdaTemp: Mean = ', round(mean(stress_by_model['accEdaTemp']),4))"
   ]
  },
  {
   "cell_type": "code",
   "execution_count": 96,
   "metadata": {},
   "outputs": [
    {
     "data": {
      "image/png": "[encoded data removed]",
      "text/plain": [
       "<Figure size 576x432 with 1 Axes>"
      ]
     },
     "metadata": {},
     "output_type": "display_data"
    }
   ],
   "source": [
    "f, ax = plt.subplots(figsize=(8,6))\n",
    "stress_by_model.plot(kind='bar', x='subject', sharex=True, ax=ax, rot=0, color=['lightseagreen','slategray'])\n",
    "plt.ylim(0.945, 1)\n",
    "plt.title('Stress f1 Scores: allChest vs accEdaTemp');"
   ]
  },
  {
   "cell_type": "markdown",
   "metadata": {},
   "source": [
    "## Stress condition scores\n",
    "    The number of subjects is too low to make any reliable analyses.\n",
    "    However, the analyses are presented here as an example of what else might be accomplished using this type of data."
   ]
  },
  {
   "cell_type": "markdown",
   "metadata": {},
   "source": [
    "### Comfort during Stress\n",
    "used excel pivot\n",
    "\n",
    "     Analysis of difference between comfort levels. \n",
    "     in this case comfort level was between feeling cold and not feeling cold during the stress test"
   ]
  },
  {
   "cell_type": "code",
   "execution_count": 4,
   "metadata": {},
   "outputs": [
    {
     "data": {
      "text/html": [
       "<div>\n",
       "<style scoped>\n",
       "    .dataframe tbody tr th:only-of-type {\n",
       "        vertical-align: middle;\n",
       "    }\n",
       "\n",
       "    .dataframe tbody tr th {\n",
       "        vertical-align: top;\n",
       "    }\n",
       "\n",
       "    .dataframe thead th {\n",
       "        text-align: right;\n",
       "    }\n",
       "</style>\n",
       "<table border=\"1\" class=\"dataframe\">\n",
       "  <thead>\n",
       "    <tr style=\"text-align: right;\">\n",
       "      <th></th>\n",
       "      <th>subject</th>\n",
       "      <th>f1_stress</th>\n",
       "      <th>comfort_level</th>\n",
       "    </tr>\n",
       "  </thead>\n",
       "  <tbody>\n",
       "    <tr>\n",
       "      <th>0</th>\n",
       "      <td>S4</td>\n",
       "      <td>0.9887</td>\n",
       "      <td>not_cold</td>\n",
       "    </tr>\n",
       "    <tr>\n",
       "      <th>1</th>\n",
       "      <td>S8</td>\n",
       "      <td>0.9893</td>\n",
       "      <td>cold</td>\n",
       "    </tr>\n",
       "    <tr>\n",
       "      <th>2</th>\n",
       "      <td>S11</td>\n",
       "      <td>0.9947</td>\n",
       "      <td>not_cold</td>\n",
       "    </tr>\n",
       "    <tr>\n",
       "      <th>3</th>\n",
       "      <td>S13</td>\n",
       "      <td>0.9940</td>\n",
       "      <td>not_cold</td>\n",
       "    </tr>\n",
       "    <tr>\n",
       "      <th>4</th>\n",
       "      <td>S16</td>\n",
       "      <td>0.9912</td>\n",
       "      <td>cold</td>\n",
       "    </tr>\n",
       "    <tr>\n",
       "      <th>5</th>\n",
       "      <td>S17</td>\n",
       "      <td>0.9990</td>\n",
       "      <td>not_cold</td>\n",
       "    </tr>\n",
       "  </tbody>\n",
       "</table>\n",
       "</div>"
      ],
      "text/plain": [
       "  subject  f1_stress comfort_level\n",
       "0      S4     0.9887      not_cold\n",
       "1      S8     0.9893          cold\n",
       "2     S11     0.9947      not_cold\n",
       "3     S13     0.9940      not_cold\n",
       "4     S16     0.9912          cold\n",
       "5     S17     0.9990      not_cold"
      ]
     },
     "execution_count": 4,
     "metadata": {},
     "output_type": "execute_result"
    }
   ],
   "source": [
    "stress_by_comfort_level = pd.read_excel('D:WESAD/model_metrics.xlsx', index_col=0,sheet_name='comfort_level',\n",
    "              dtype={'Name': str, 'Value': float})\n",
    "stress_by_comfort_level"
   ]
  },
  {
   "cell_type": "code",
   "execution_count": 10,
   "metadata": {},
   "outputs": [
    {
     "name": "stdout",
     "output_type": "stream",
     "text": [
      "Felt cold during Stress conditioning: Mean =  0.989\n",
      "Did not feel cold during Stress conditioning: Mean =  0.9947\n"
     ]
    }
   ],
   "source": [
    "print('Felt cold during Stress conditioning: Mean = ', round(mean(stress_by_comfort_level['f1_stress'][0:2]),4))\n",
    "print('Did not feel cold during Stress conditioning: Mean = ', round(mean(stress_by_comfort_level['f1_stress'][2:6]),4))"
   ]
  },
  {
   "cell_type": "code",
   "execution_count": 8,
   "metadata": {},
   "outputs": [
    {
     "data": {
      "image/png": "[encoded data removed]",
      "text/plain": [
       "<IPython.core.display.Image object>"
      ]
     },
     "execution_count": 8,
     "metadata": {
      "image/png": {
       "width": 500
      }
     },
     "output_type": "execute_result"
    }
   ],
   "source": [
    "Image(width = 500, filename = 'D:/WESAD/stress_by_comfort.png')"
   ]
  },
  {
   "cell_type": "markdown",
   "metadata": {},
   "source": [
    "    There appears to be a slight but not significant difference between comfort levels during the stress conditioning"
   ]
  },
  {
   "cell_type": "markdown",
   "metadata": {},
   "source": [
    "###  Stress vs\n",
    "     Analysis of difference between gender: Female = 0, Male = 1"
   ]
  },
  {
   "cell_type": "code",
   "execution_count": 90,
   "metadata": {},
   "outputs": [
    {
     "data": {
      "text/html": [
       "<div>\n",
       "<style scoped>\n",
       "    .dataframe tbody tr th:only-of-type {\n",
       "        vertical-align: middle;\n",
       "    }\n",
       "\n",
       "    .dataframe tbody tr th {\n",
       "        vertical-align: top;\n",
       "    }\n",
       "\n",
       "    .dataframe thead th {\n",
       "        text-align: right;\n",
       "    }\n",
       "</style>\n",
       "<table border=\"1\" class=\"dataframe\">\n",
       "  <thead>\n",
       "    <tr style=\"text-align: right;\">\n",
       "      <th></th>\n",
       "      <th>subject</th>\n",
       "      <th>f1_stress</th>\n",
       "      <th>f1_baseline</th>\n",
       "      <th>gender</th>\n",
       "      <th>f1_acc</th>\n",
       "    </tr>\n",
       "  </thead>\n",
       "  <tbody>\n",
       "    <tr>\n",
       "      <th>0</th>\n",
       "      <td>S4</td>\n",
       "      <td>0.9891</td>\n",
       "      <td>0.9975</td>\n",
       "      <td>male</td>\n",
       "      <td>0.9923</td>\n",
       "    </tr>\n",
       "    <tr>\n",
       "      <th>1</th>\n",
       "      <td>S13</td>\n",
       "      <td>0.9923</td>\n",
       "      <td>0.9977</td>\n",
       "      <td>male</td>\n",
       "      <td>0.9918</td>\n",
       "    </tr>\n",
       "    <tr>\n",
       "      <th>2</th>\n",
       "      <td>S16</td>\n",
       "      <td>0.9912</td>\n",
       "      <td>0.9953</td>\n",
       "      <td>male</td>\n",
       "      <td>0.9869</td>\n",
       "    </tr>\n",
       "    <tr>\n",
       "      <th>3</th>\n",
       "      <td>S8</td>\n",
       "      <td>0.9893</td>\n",
       "      <td>0.9965</td>\n",
       "      <td>female</td>\n",
       "      <td>0.9915</td>\n",
       "    </tr>\n",
       "    <tr>\n",
       "      <th>4</th>\n",
       "      <td>S11</td>\n",
       "      <td>0.9947</td>\n",
       "      <td>0.9961</td>\n",
       "      <td>female</td>\n",
       "      <td>0.9822</td>\n",
       "    </tr>\n",
       "    <tr>\n",
       "      <th>5</th>\n",
       "      <td>S17</td>\n",
       "      <td>0.9990</td>\n",
       "      <td>0.9986</td>\n",
       "      <td>female</td>\n",
       "      <td>0.9936</td>\n",
       "    </tr>\n",
       "  </tbody>\n",
       "</table>\n",
       "</div>"
      ],
      "text/plain": [
       "  subject  f1_stress  f1_baseline  gender  f1_acc\n",
       "0      S4     0.9891       0.9975    male  0.9923\n",
       "1     S13     0.9923       0.9977    male  0.9918\n",
       "2     S16     0.9912       0.9953    male  0.9869\n",
       "3      S8     0.9893       0.9965  female  0.9915\n",
       "4     S11     0.9947       0.9961  female  0.9822\n",
       "5     S17     0.9990       0.9986  female  0.9936"
      ]
     },
     "execution_count": 90,
     "metadata": {},
     "output_type": "execute_result"
    }
   ],
   "source": [
    "stress_by_gender = pd.read_excel('D:WESAD/model_metrics.xlsx', index_col=0,sheet_name='gender',\n",
    "              dtype={'Name': str, 'Value': float})\n",
    "stress_by_gender"
   ]
  },
  {
   "cell_type": "markdown",
   "metadata": {},
   "source": [
    "### Stress vs Baseline"
   ]
  },
  {
   "cell_type": "code",
   "execution_count": 58,
   "metadata": {},
   "outputs": [
    {
     "name": "stdout",
     "output_type": "stream",
     "text": [
      "Stress: Mean =  0.9926\n",
      "Baseline: Mean =  0.997\n",
      "f1 Average: Mean =  0.9897\n"
     ]
    }
   ],
   "source": [
    "print('Stress: Mean = ', round(mean(stress_by_gender['f1_stress']),4))\n",
    "print('Baseline: Mean = ', round(mean(stress_by_gender['f1_baseline']),4))\n",
    "print('f1 Average: Mean = ', round(mean(stress_by_gender['f1_acc']),4))"
   ]
  },
  {
   "cell_type": "markdown",
   "metadata": {},
   "source": [
    "Stress and Baseline outperform the f1 average"
   ]
  },
  {
   "cell_type": "code",
   "execution_count": 61,
   "metadata": {},
   "outputs": [],
   "source": [
    "subject = stress_by_gender['subject']\n",
    "g = figure(x_range=subject, y_range=(0.97, 1), plot_height=350, title=\"Stress vs. Baseline\",\n",
    "           toolbar_location=None, tools=\"\")\n",
    "\n",
    "g.vbar(x=dodge('subject', -0.25, range=g.x_range), top='f1_stress', width=0.2, source=stress_by_gender,\n",
    "       color=\"mediumturquoise\", legend_label=\"f1_stress\")\n",
    "\n",
    "g.vbar(x=dodge('subject',  0.0,  range=g.x_range), top='f1_baseline', width=0.2, source=stress_by_gender,\n",
    "       color=\"#718dbf\", legend_label=\"f1_baseline\")\n",
    "\n",
    "g.vbar(x=dodge('subject',  0.25,  range=g.x_range), top='f1_avg', width=0.2, source=stress_by_gender,\n",
    "       color=\"lightslategray\", legend_label=\"f1_avg\")\n",
    "\n",
    "g.x_range.range_padding = 0.1\n",
    "g.xgrid.grid_line_color = None\n",
    "g.legend.location = \"top_left\"\n",
    "g.legend.orientation = \"horizontal\"\n",
    "\n",
    "show(g)"
   ]
  },
  {
   "cell_type": "code",
   "execution_count": 69,
   "metadata": {},
   "outputs": [
    {
     "data": {
      "image/png": "[encoded data removed]",
      "text/plain": [
       "<IPython.core.display.Image object>"
      ]
     },
     "execution_count": 69,
     "metadata": {
      "image/png": {
       "width": 600
      }
     },
     "output_type": "execute_result"
    }
   ],
   "source": [
    "from IPython.display import Image\n",
    "Image(width = 600, filename = 'D:/WESAD/Stress_vs_Baseline_S16.png')"
   ]
  },
  {
   "cell_type": "markdown",
   "metadata": {},
   "source": [
    "###  Stress vs Baseline by Gender \n",
    "    This graph was made using an excel pivot table.\n",
    "    Same information as the previous (bokeh) graph but with gender class included."
   ]
  },
  {
   "cell_type": "code",
   "execution_count": 50,
   "metadata": {},
   "outputs": [
    {
     "name": "stdout",
     "output_type": "stream",
     "text": [
      "Male Stress: Mean =  0.9909\n",
      "Female Stress: Mean =  0.9943\n",
      "-----------------------------\n",
      "Male Baseline: Mean =  0.9968\n",
      "Femal Baseline: Mean =  0.9971\n"
     ]
    }
   ],
   "source": [
    "from statistics import mean\n",
    "print('Male Stress: Mean = ', round(mean(stress_by_gender['f1_stress'][0:3]),4))\n",
    "print('Female Stress: Mean = ', round(mean(stress_by_gender['f1_stress'][3:6]),4))\n",
    "print('-----------------------------')\n",
    "print('Male Baseline: Mean = ', round(mean(stress_by_gender['f1_baseline'][0:3]),4))\n",
    "print('Femal Baseline: Mean = ', round(mean(stress_by_gender['f1_baseline'][3:6]),4))"
   ]
  },
  {
   "cell_type": "markdown",
   "metadata": {},
   "source": [
    "    Baseline conditioning between male and female are essentially identical.\n",
    "    There appears to be a slight but not significant difference between male and female during the stress conditioning"
   ]
  },
  {
   "cell_type": "code",
   "execution_count": 75,
   "metadata": {},
   "outputs": [
    {
     "data": {
      "image/png": "[encoded data removed]",
      "text/plain": [
       "<IPython.core.display.Image object>"
      ]
     },
     "execution_count": 75,
     "metadata": {
      "image/png": {
       "width": 600
      }
     },
     "output_type": "execute_result"
    }
   ],
   "source": [
    "Image(width = 600, filename = 'D:/WESAD/Stress_by_Gender.png')"
   ]
  },
  {
   "cell_type": "code",
   "execution_count": null,
   "metadata": {},
   "outputs": [],
   "source": []
  }
 ],
 "metadata": {
  "kernelspec": {
   "display_name": "practicum1",
   "language": "python",
   "name": "practicum1"
  },
  "language_info": {
   "codemirror_mode": {
    "name": "ipython",
    "version": 3
   },
   "file_extension": ".py",
   "mimetype": "text/x-python",
   "name": "python",
   "nbconvert_exporter": "python",
   "pygments_lexer": "ipython3",
   "version": "3.7.6"
  },
  "toc": {
   "base_numbering": 1,
   "nav_menu": {},
   "number_sections": true,
   "sideBar": true,
   "skip_h1_title": true,
   "title_cell": "Table of Contents",
   "title_sidebar": "Contents",
   "toc_cell": true,
   "toc_position": {},
   "toc_section_display": true,
   "toc_window_display": false
  }
 },
 "nbformat": 4,
 "nbformat_minor": 2
}
