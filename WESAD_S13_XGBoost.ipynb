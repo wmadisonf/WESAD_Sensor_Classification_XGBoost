{
 "cells": [
  {
   "cell_type": "markdown",
   "metadata": {},
   "source": [
    "# S13 WESAD XGBoost  "
   ]
  },
  {
   "cell_type": "markdown",
   "metadata": {},
   "source": [
    "    Male Participant\n",
    "    Age: 28\n",
    "    Height (cm): 181\n",
    "    Weight (kg): 82"
   ]
  },
  {
   "cell_type": "markdown",
   "metadata": {},
   "source": [
    "# Load Tools"
   ]
  },
  {
   "cell_type": "code",
   "execution_count": 2,
   "metadata": {},
   "outputs": [],
   "source": [
    "%matplotlib inline\n",
    "import pickle\n",
    "import numpy as np\n",
    "import pandas as pd\n",
    "import matplotlib\n",
    "import matplotlib.pyplot as plt\n",
    "import seaborn as sns\n",
    "import warnings\n",
    "warnings.filterwarnings('ignore')"
   ]
  },
  {
   "cell_type": "code",
   "execution_count": 3,
   "metadata": {},
   "outputs": [],
   "source": [
    "import sklearn as skl\n",
    "from sklearn.model_selection import train_test_split\n",
    "from sklearn.metrics import confusion_matrix, classification_report\n",
    "from sklearn.metrics import balanced_accuracy_score, f1_score, roc_auc_score \n",
    "from sklearn import preprocessing\n",
    "from sklearn.preprocessing import LabelEncoder, StandardScaler, label_binarize\n",
    "from sklearn.utils import class_weight\n",
    "import xgboost as xgb\n",
    "from xgboost import plot_importance, XGBClassifier"
   ]
  },
  {
   "cell_type": "code",
   "execution_count": 4,
   "metadata": {},
   "outputs": [],
   "source": [
    "# Visualizing High-Performance Gradient Boosting with XGBoost and Yellowbrick\n",
    "# https://rebeccabilbro.github.io/xgboost-and-yellowbrick/\n",
    "# conda install -c districtdatalabs yellowbrick\n",
    "\n",
    "from yellowbrick.classifier import ClassBalance, ROCAUC, ClassificationReport, ClassPredictionError"
   ]
  },
  {
   "cell_type": "code",
   "execution_count": 5,
   "metadata": {},
   "outputs": [],
   "source": [
    "sns.set(style=\"darkgrid\")"
   ]
  },
  {
   "cell_type": "code",
   "execution_count": 6,
   "metadata": {},
   "outputs": [],
   "source": [
    "# https://medium.com/ibm-data-science-experience/markdown-for-jupyter-notebooks-cheatsheet-386c05aeebed#:~:text=Colors%3A%20Use%20this%20code%3A%20%3C,space%2C%20then%20type%20the%20text.\n",
    "# https://www.w3schools.com/charsets/ref_utf_geometric.asp# import pydot"
   ]
  },
  {
   "cell_type": "code",
   "execution_count": 7,
   "metadata": {},
   "outputs": [
    {
     "name": "stdout",
     "output_type": "stream",
     "text": [
      "WForsythe 2020-07-29 14:47:35 \n",
      "\n",
      "CPython 3.7.6\n",
      "IPython 7.11.1\n",
      "\n",
      "numpy 1.18.1\n",
      "pandas 1.0.3\n",
      "cv2 4.2.0\n",
      "xgboost 1.0.2\n",
      "sklearn 0.22.1\n",
      "seaborn 0.9.0\n",
      "matplotlib 3.2.2\n",
      "yellowbrick 1.1\n"
     ]
    }
   ],
   "source": [
    "import autoreload\n",
    "%load_ext watermark\n",
    "%load_ext autoreload\n",
    "%autoreload 2\n",
    "%watermark -a 'WForsythe' -d -t -v -p   numpy,pandas,cv2,xgboost,sklearn,seaborn,matplotlib,yellowbrick"
   ]
  },
  {
   "cell_type": "markdown",
   "metadata": {},
   "source": [
    "# Load and Process File"
   ]
  },
  {
   "cell_type": "markdown",
   "metadata": {},
   "source": [
    "## Load File"
   ]
  },
  {
   "cell_type": "code",
   "execution_count": 7,
   "metadata": {},
   "outputs": [
    {
     "name": "stdout",
     "output_type": "stream",
     "text": [
      "Wall time: 10.4 s\n"
     ]
    },
    {
     "data": {
      "text/plain": [
       "{'signal': {'chest': {'ACC': array([[ 0.97259998, -0.14120001,  0.23179996],\n",
       "          [ 0.99100006, -0.08279997,  0.20780003],\n",
       "          [ 0.99779999, -0.023     ,  0.02380002],\n",
       "          ...,\n",
       "          [ 0.93420005,  0.09459996, -0.12019998],\n",
       "          [ 0.93700004,  0.10099995, -0.1128    ],\n",
       "          [ 0.9382    ,  0.10220003, -0.11299998]]),\n",
       "   'ECG': array([[-0.27278137],\n",
       "          [-0.27104187],\n",
       "          [-0.26394653],\n",
       "          ...,\n",
       "          [-0.15142822],\n",
       "          [-0.15769958],\n",
       "          [-0.15934753]]),\n",
       "   'EMG': array([[-0.00498962],\n",
       "          [-0.04788208],\n",
       "          [-0.06752014],\n",
       "          ...,\n",
       "          [-0.00485229],\n",
       "          [ 0.00801086],\n",
       "          [ 0.00068665]]),\n",
       "   'EDA': array([[2.34718323],\n",
       "          [2.36778259],\n",
       "          [2.35862732],\n",
       "          ...,\n",
       "          [3.52859497],\n",
       "          [3.51676941],\n",
       "          [3.52897644]]),\n",
       "   'Temp': array([[32.62726 ],\n",
       "          [32.622772],\n",
       "          [32.621246],\n",
       "          ...,\n",
       "          [34.167206],\n",
       "          [34.159607],\n",
       "          [34.15808 ]], dtype=float32),\n",
       "   'Resp': array([[ 0.050354  ],\n",
       "          [ 0.40435791],\n",
       "          [ 0.40588379],\n",
       "          ...,\n",
       "          [-0.51727295],\n",
       "          [-0.61798096],\n",
       "          [-0.4989624 ]])},\n",
       "  'wrist': {'ACC': array([[ 54., -57., 127.],\n",
       "          [ 35.,  50.,  40.],\n",
       "          [  3.,  30.,  -2.],\n",
       "          ...,\n",
       "          [ 46.,  39.,  18.],\n",
       "          [ 47.,  40.,  18.],\n",
       "          [ 47.,  39.,  19.]]), 'BVP': array([[  44.2 ],\n",
       "          [  42.39],\n",
       "          [  40.48],\n",
       "          ...,\n",
       "          [-342.38],\n",
       "          [-352.82],\n",
       "          [-357.59]]), 'EDA': array([[9.149161],\n",
       "          [8.816556],\n",
       "          [8.713039],\n",
       "          ...,\n",
       "          [3.317144],\n",
       "          [3.317144],\n",
       "          [3.331215]]), 'TEMP': array([[34.71],\n",
       "          [34.71],\n",
       "          [34.68],\n",
       "          ...,\n",
       "          [34.05],\n",
       "          [34.05],\n",
       "          [34.05]])}},\n",
       " 'label': array([0, 0, 0, ..., 0, 0, 0]),\n",
       " 'subject': 'S13'}"
      ]
     },
     "execution_count": 7,
     "metadata": {},
     "output_type": "execute_result"
    }
   ],
   "source": [
    "%%time\n",
    "data = 'D:/WESAD/'\n",
    "s13_file = pd.read_pickle(data + 'S13/S13.pkl')\n",
    "s13_file"
   ]
  },
  {
   "cell_type": "markdown",
   "metadata": {},
   "source": [
    "## Process"
   ]
  },
  {
   "cell_type": "markdown",
   "metadata": {},
   "source": [
    "### Separate chest features  from wrist  features "
   ]
  },
  {
   "cell_type": "code",
   "execution_count": 8,
   "metadata": {},
   "outputs": [],
   "source": [
    "cax = s13_file['signal']['chest']['ACC'][0:,0]\n",
    "cay = s13_file['signal']['chest']['ACC'][0:,1]\n",
    "caz = s13_file['signal']['chest']['ACC'][0:,2]\n",
    "cecg = s13_file['signal']['chest']['ECG'][:,0]\n",
    "cemg = s13_file['signal']['chest']['EMG'][:,0]\n",
    "ceda = s13_file['signal']['chest']['EDA'][:,0]\n",
    "ctemp = s13_file['signal']['chest']['Temp'][:,0]\n",
    "cresp = s13_file['signal']['chest']['Resp'][:,0]\n",
    "label = s13_file['label']"
   ]
  },
  {
   "cell_type": "code",
   "execution_count": 9,
   "metadata": {},
   "outputs": [
    {
     "data": {
      "text/plain": [
       "array([0, 0, 0, ..., 0, 0, 0])"
      ]
     },
     "execution_count": 9,
     "metadata": {},
     "output_type": "execute_result"
    }
   ],
   "source": [
    "label"
   ]
  },
  {
   "cell_type": "markdown",
   "metadata": {},
   "source": [
    "### Change dictionary object to a numpy array and array to a dataframe"
   ]
  },
  {
   "cell_type": "code",
   "execution_count": 9,
   "metadata": {},
   "outputs": [],
   "source": [
    "# Python | Numpy ndarray.T\n",
    "# https://www.geeksforgeeks.org/python-numpy-ndarray-t/\n",
    "# Numpy Array Cookbook: Generating and Manipulating Arrays in Python\n",
    "# https://towardsdatascience.com/numpy-array-cookbook-generating-and-manipulating-arrays-in-python-2195c3988b09"
   ]
  },
  {
   "cell_type": "code",
   "execution_count": 10,
   "metadata": {},
   "outputs": [
    {
     "data": {
      "text/html": [
       "<div>\n",
       "<style scoped>\n",
       "    .dataframe tbody tr th:only-of-type {\n",
       "        vertical-align: middle;\n",
       "    }\n",
       "\n",
       "    .dataframe tbody tr th {\n",
       "        vertical-align: top;\n",
       "    }\n",
       "\n",
       "    .dataframe thead th {\n",
       "        text-align: right;\n",
       "    }\n",
       "</style>\n",
       "<table border=\"1\" class=\"dataframe\">\n",
       "  <thead>\n",
       "    <tr style=\"text-align: right;\">\n",
       "      <th></th>\n",
       "      <th>cax</th>\n",
       "      <th>cay</th>\n",
       "      <th>caz</th>\n",
       "      <th>cecg</th>\n",
       "      <th>cemg</th>\n",
       "      <th>ceda</th>\n",
       "      <th>ctemp</th>\n",
       "      <th>cresp</th>\n",
       "      <th>label</th>\n",
       "    </tr>\n",
       "  </thead>\n",
       "  <tbody>\n",
       "    <tr>\n",
       "      <th>0</th>\n",
       "      <td>0.9726</td>\n",
       "      <td>-0.1412</td>\n",
       "      <td>0.2318</td>\n",
       "      <td>-0.272781</td>\n",
       "      <td>-0.004990</td>\n",
       "      <td>2.347183</td>\n",
       "      <td>32.627258</td>\n",
       "      <td>0.050354</td>\n",
       "      <td>0.0</td>\n",
       "    </tr>\n",
       "    <tr>\n",
       "      <th>1</th>\n",
       "      <td>0.9910</td>\n",
       "      <td>-0.0828</td>\n",
       "      <td>0.2078</td>\n",
       "      <td>-0.271042</td>\n",
       "      <td>-0.047882</td>\n",
       "      <td>2.367783</td>\n",
       "      <td>32.622772</td>\n",
       "      <td>0.404358</td>\n",
       "      <td>0.0</td>\n",
       "    </tr>\n",
       "    <tr>\n",
       "      <th>2</th>\n",
       "      <td>0.9978</td>\n",
       "      <td>-0.0230</td>\n",
       "      <td>0.0238</td>\n",
       "      <td>-0.263947</td>\n",
       "      <td>-0.067520</td>\n",
       "      <td>2.358627</td>\n",
       "      <td>32.621246</td>\n",
       "      <td>0.405884</td>\n",
       "      <td>0.0</td>\n",
       "    </tr>\n",
       "    <tr>\n",
       "      <th>3</th>\n",
       "      <td>1.0114</td>\n",
       "      <td>0.0406</td>\n",
       "      <td>-0.2766</td>\n",
       "      <td>-0.255386</td>\n",
       "      <td>-0.041428</td>\n",
       "      <td>2.349091</td>\n",
       "      <td>32.603302</td>\n",
       "      <td>0.404358</td>\n",
       "      <td>0.0</td>\n",
       "    </tr>\n",
       "    <tr>\n",
       "      <th>4</th>\n",
       "      <td>1.0318</td>\n",
       "      <td>0.0842</td>\n",
       "      <td>-0.4152</td>\n",
       "      <td>-0.261520</td>\n",
       "      <td>0.006638</td>\n",
       "      <td>2.359009</td>\n",
       "      <td>32.624237</td>\n",
       "      <td>0.396729</td>\n",
       "      <td>0.0</td>\n",
       "    </tr>\n",
       "    <tr>\n",
       "      <th>...</th>\n",
       "      <td>...</td>\n",
       "      <td>...</td>\n",
       "      <td>...</td>\n",
       "      <td>...</td>\n",
       "      <td>...</td>\n",
       "      <td>...</td>\n",
       "      <td>...</td>\n",
       "      <td>...</td>\n",
       "      <td>...</td>\n",
       "    </tr>\n",
       "    <tr>\n",
       "      <th>3875895</th>\n",
       "      <td>0.9288</td>\n",
       "      <td>0.0906</td>\n",
       "      <td>-0.1214</td>\n",
       "      <td>-0.120529</td>\n",
       "      <td>-0.020828</td>\n",
       "      <td>3.525162</td>\n",
       "      <td>34.109283</td>\n",
       "      <td>-0.611877</td>\n",
       "      <td>0.0</td>\n",
       "    </tr>\n",
       "    <tr>\n",
       "      <th>3875896</th>\n",
       "      <td>0.9310</td>\n",
       "      <td>0.0920</td>\n",
       "      <td>-0.1186</td>\n",
       "      <td>-0.136734</td>\n",
       "      <td>-0.006042</td>\n",
       "      <td>3.516769</td>\n",
       "      <td>34.168732</td>\n",
       "      <td>-0.517273</td>\n",
       "      <td>0.0</td>\n",
       "    </tr>\n",
       "    <tr>\n",
       "      <th>3875897</th>\n",
       "      <td>0.9342</td>\n",
       "      <td>0.0946</td>\n",
       "      <td>-0.1202</td>\n",
       "      <td>-0.151428</td>\n",
       "      <td>-0.004852</td>\n",
       "      <td>3.528595</td>\n",
       "      <td>34.167206</td>\n",
       "      <td>-0.517273</td>\n",
       "      <td>0.0</td>\n",
       "    </tr>\n",
       "    <tr>\n",
       "      <th>3875898</th>\n",
       "      <td>0.9370</td>\n",
       "      <td>0.1010</td>\n",
       "      <td>-0.1128</td>\n",
       "      <td>-0.157700</td>\n",
       "      <td>0.008011</td>\n",
       "      <td>3.516769</td>\n",
       "      <td>34.159607</td>\n",
       "      <td>-0.617981</td>\n",
       "      <td>0.0</td>\n",
       "    </tr>\n",
       "    <tr>\n",
       "      <th>3875899</th>\n",
       "      <td>0.9382</td>\n",
       "      <td>0.1022</td>\n",
       "      <td>-0.1130</td>\n",
       "      <td>-0.159348</td>\n",
       "      <td>0.000687</td>\n",
       "      <td>3.528976</td>\n",
       "      <td>34.158081</td>\n",
       "      <td>-0.498962</td>\n",
       "      <td>0.0</td>\n",
       "    </tr>\n",
       "  </tbody>\n",
       "</table>\n",
       "<p>3875900 rows × 9 columns</p>\n",
       "</div>"
      ],
      "text/plain": [
       "            cax     cay     caz      cecg      cemg      ceda      ctemp  \\\n",
       "0        0.9726 -0.1412  0.2318 -0.272781 -0.004990  2.347183  32.627258   \n",
       "1        0.9910 -0.0828  0.2078 -0.271042 -0.047882  2.367783  32.622772   \n",
       "2        0.9978 -0.0230  0.0238 -0.263947 -0.067520  2.358627  32.621246   \n",
       "3        1.0114  0.0406 -0.2766 -0.255386 -0.041428  2.349091  32.603302   \n",
       "4        1.0318  0.0842 -0.4152 -0.261520  0.006638  2.359009  32.624237   \n",
       "...         ...     ...     ...       ...       ...       ...        ...   \n",
       "3875895  0.9288  0.0906 -0.1214 -0.120529 -0.020828  3.525162  34.109283   \n",
       "3875896  0.9310  0.0920 -0.1186 -0.136734 -0.006042  3.516769  34.168732   \n",
       "3875897  0.9342  0.0946 -0.1202 -0.151428 -0.004852  3.528595  34.167206   \n",
       "3875898  0.9370  0.1010 -0.1128 -0.157700  0.008011  3.516769  34.159607   \n",
       "3875899  0.9382  0.1022 -0.1130 -0.159348  0.000687  3.528976  34.158081   \n",
       "\n",
       "            cresp  label  \n",
       "0        0.050354    0.0  \n",
       "1        0.404358    0.0  \n",
       "2        0.405884    0.0  \n",
       "3        0.404358    0.0  \n",
       "4        0.396729    0.0  \n",
       "...           ...    ...  \n",
       "3875895 -0.611877    0.0  \n",
       "3875896 -0.517273    0.0  \n",
       "3875897 -0.517273    0.0  \n",
       "3875898 -0.617981    0.0  \n",
       "3875899 -0.498962    0.0  \n",
       "\n",
       "[3875900 rows x 9 columns]"
      ]
     },
     "execution_count": 10,
     "metadata": {},
     "output_type": "execute_result"
    }
   ],
   "source": [
    "chest = [cax, cay, caz, cecg, cemg, \n",
    "         ceda, ctemp, cresp, label] \n",
    "ch_array = np.array(chest) \n",
    "ch_array = ch_array.T # transpose \n",
    "Columns = ['cax', 'cay', 'caz','cecg', 'cemg', \n",
    "          'ceda','ctemp', 'cresp', 'label' ]\n",
    "ch_df = pd.DataFrame(ch_array, columns = Columns) \n",
    "ch_df"
   ]
  },
  {
   "cell_type": "markdown",
   "metadata": {},
   "source": [
    "#### Check Statistics"
   ]
  },
  {
   "cell_type": "code",
   "execution_count": 11,
   "metadata": {},
   "outputs": [
    {
     "data": {
      "text/html": [
       "<div>\n",
       "<style scoped>\n",
       "    .dataframe tbody tr th:only-of-type {\n",
       "        vertical-align: middle;\n",
       "    }\n",
       "\n",
       "    .dataframe tbody tr th {\n",
       "        vertical-align: top;\n",
       "    }\n",
       "\n",
       "    .dataframe thead th {\n",
       "        text-align: right;\n",
       "    }\n",
       "</style>\n",
       "<table border=\"1\" class=\"dataframe\">\n",
       "  <thead>\n",
       "    <tr style=\"text-align: right;\">\n",
       "      <th></th>\n",
       "      <th>count</th>\n",
       "      <th>mean</th>\n",
       "      <th>std</th>\n",
       "      <th>min</th>\n",
       "      <th>25%</th>\n",
       "      <th>50%</th>\n",
       "      <th>75%</th>\n",
       "      <th>max</th>\n",
       "    </tr>\n",
       "  </thead>\n",
       "  <tbody>\n",
       "    <tr>\n",
       "      <th>cax</th>\n",
       "      <td>3875900.0</td>\n",
       "      <td>0.871506</td>\n",
       "      <td>0.053724</td>\n",
       "      <td>0.250600</td>\n",
       "      <td>0.845200</td>\n",
       "      <td>0.877800</td>\n",
       "      <td>0.908200</td>\n",
       "      <td>2.841800</td>\n",
       "    </tr>\n",
       "    <tr>\n",
       "      <th>cay</th>\n",
       "      <td>3875900.0</td>\n",
       "      <td>-0.026478</td>\n",
       "      <td>0.094199</td>\n",
       "      <td>-0.549800</td>\n",
       "      <td>-0.062600</td>\n",
       "      <td>-0.039000</td>\n",
       "      <td>0.015800</td>\n",
       "      <td>0.519800</td>\n",
       "    </tr>\n",
       "    <tr>\n",
       "      <th>caz</th>\n",
       "      <td>3875900.0</td>\n",
       "      <td>-0.160541</td>\n",
       "      <td>0.233431</td>\n",
       "      <td>-0.897400</td>\n",
       "      <td>-0.349400</td>\n",
       "      <td>-0.186600</td>\n",
       "      <td>0.012600</td>\n",
       "      <td>0.911400</td>\n",
       "    </tr>\n",
       "    <tr>\n",
       "      <th>cecg</th>\n",
       "      <td>3875900.0</td>\n",
       "      <td>0.001111</td>\n",
       "      <td>0.234763</td>\n",
       "      <td>-1.050156</td>\n",
       "      <td>-0.090408</td>\n",
       "      <td>-0.043259</td>\n",
       "      <td>0.022476</td>\n",
       "      <td>1.499954</td>\n",
       "    </tr>\n",
       "    <tr>\n",
       "      <th>cemg</th>\n",
       "      <td>3875900.0</td>\n",
       "      <td>-0.003054</td>\n",
       "      <td>0.013728</td>\n",
       "      <td>-0.286514</td>\n",
       "      <td>-0.010025</td>\n",
       "      <td>-0.002701</td>\n",
       "      <td>0.003891</td>\n",
       "      <td>0.463852</td>\n",
       "    </tr>\n",
       "    <tr>\n",
       "      <th>ceda</th>\n",
       "      <td>3875900.0</td>\n",
       "      <td>3.168534</td>\n",
       "      <td>0.765021</td>\n",
       "      <td>2.026749</td>\n",
       "      <td>2.454758</td>\n",
       "      <td>3.025818</td>\n",
       "      <td>3.544617</td>\n",
       "      <td>6.635284</td>\n",
       "    </tr>\n",
       "    <tr>\n",
       "      <th>ctemp</th>\n",
       "      <td>3875900.0</td>\n",
       "      <td>34.025030</td>\n",
       "      <td>0.374422</td>\n",
       "      <td>32.530121</td>\n",
       "      <td>33.937256</td>\n",
       "      <td>34.129089</td>\n",
       "      <td>34.234375</td>\n",
       "      <td>34.864685</td>\n",
       "    </tr>\n",
       "    <tr>\n",
       "      <th>cresp</th>\n",
       "      <td>3875900.0</td>\n",
       "      <td>0.050309</td>\n",
       "      <td>4.927053</td>\n",
       "      <td>-30.082703</td>\n",
       "      <td>-2.389526</td>\n",
       "      <td>-0.257874</td>\n",
       "      <td>2.465820</td>\n",
       "      <td>37.886047</td>\n",
       "    </tr>\n",
       "    <tr>\n",
       "      <th>label</th>\n",
       "      <td>3875900.0</td>\n",
       "      <td>1.355788</td>\n",
       "      <td>1.575795</td>\n",
       "      <td>0.000000</td>\n",
       "      <td>0.000000</td>\n",
       "      <td>1.000000</td>\n",
       "      <td>2.000000</td>\n",
       "      <td>7.000000</td>\n",
       "    </tr>\n",
       "  </tbody>\n",
       "</table>\n",
       "</div>"
      ],
      "text/plain": [
       "           count       mean       std        min        25%        50%  \\\n",
       "cax    3875900.0   0.871506  0.053724   0.250600   0.845200   0.877800   \n",
       "cay    3875900.0  -0.026478  0.094199  -0.549800  -0.062600  -0.039000   \n",
       "caz    3875900.0  -0.160541  0.233431  -0.897400  -0.349400  -0.186600   \n",
       "cecg   3875900.0   0.001111  0.234763  -1.050156  -0.090408  -0.043259   \n",
       "cemg   3875900.0  -0.003054  0.013728  -0.286514  -0.010025  -0.002701   \n",
       "ceda   3875900.0   3.168534  0.765021   2.026749   2.454758   3.025818   \n",
       "ctemp  3875900.0  34.025030  0.374422  32.530121  33.937256  34.129089   \n",
       "cresp  3875900.0   0.050309  4.927053 -30.082703  -2.389526  -0.257874   \n",
       "label  3875900.0   1.355788  1.575795   0.000000   0.000000   1.000000   \n",
       "\n",
       "             75%        max  \n",
       "cax     0.908200   2.841800  \n",
       "cay     0.015800   0.519800  \n",
       "caz     0.012600   0.911400  \n",
       "cecg    0.022476   1.499954  \n",
       "cemg    0.003891   0.463852  \n",
       "ceda    3.544617   6.635284  \n",
       "ctemp  34.234375  34.864685  \n",
       "cresp   2.465820  37.886047  \n",
       "label   2.000000   7.000000  "
      ]
     },
     "execution_count": 11,
     "metadata": {},
     "output_type": "execute_result"
    }
   ],
   "source": [
    "ch_df.describe().T"
   ]
  },
  {
   "cell_type": "markdown",
   "metadata": {},
   "source": [
    "#### Check Type"
   ]
  },
  {
   "cell_type": "code",
   "execution_count": 12,
   "metadata": {},
   "outputs": [
    {
     "name": "stdout",
     "output_type": "stream",
     "text": [
      "<class 'pandas.core.frame.DataFrame'>\n",
      "RangeIndex: 3875900 entries, 0 to 3875899\n",
      "Data columns (total 9 columns):\n",
      " #   Column  Dtype  \n",
      "---  ------  -----  \n",
      " 0   cax     float64\n",
      " 1   cay     float64\n",
      " 2   caz     float64\n",
      " 3   cecg    float64\n",
      " 4   cemg    float64\n",
      " 5   ceda    float64\n",
      " 6   ctemp   float64\n",
      " 7   cresp   float64\n",
      " 8   label   float64\n",
      "dtypes: float64(9)\n",
      "memory usage: 266.1 MB\n",
      "None\n"
     ]
    }
   ],
   "source": [
    "print(ch_df.info())"
   ]
  },
  {
   "cell_type": "markdown",
   "metadata": {},
   "source": [
    "### Concatenate classes 0, 1, 2, 3, and 4\n",
    "    Classes 5, 6 and 7 correspond to timed periods in which the participant answered questionnaires, \n",
    "    therefore, only classes 0, 1, 2, 3, and 4 will be used \n",
    "    Additionally, the significant imbalance has been eliminated"
   ]
  },
  {
   "cell_type": "code",
   "execution_count": 14,
   "metadata": {},
   "outputs": [],
   "source": [
    "loc0 = ch_df.loc[ch_df['label'] == 0]\n",
    "loc1 = ch_df.loc[ch_df['label'] == 1]\n",
    "loc2 = ch_df.loc[ch_df['label'] == 2]\n",
    "loc3 = ch_df.loc[ch_df['label'] == 3]\n",
    "loc4 = ch_df.loc[ch_df['label'] == 4]"
   ]
  },
  {
   "cell_type": "code",
   "execution_count": 15,
   "metadata": {},
   "outputs": [
    {
     "data": {
      "text/html": [
       "<div>\n",
       "<style scoped>\n",
       "    .dataframe tbody tr th:only-of-type {\n",
       "        vertical-align: middle;\n",
       "    }\n",
       "\n",
       "    .dataframe tbody tr th {\n",
       "        vertical-align: top;\n",
       "    }\n",
       "\n",
       "    .dataframe thead th {\n",
       "        text-align: right;\n",
       "    }\n",
       "</style>\n",
       "<table border=\"1\" class=\"dataframe\">\n",
       "  <thead>\n",
       "    <tr style=\"text-align: right;\">\n",
       "      <th></th>\n",
       "      <th>cax</th>\n",
       "      <th>cay</th>\n",
       "      <th>caz</th>\n",
       "      <th>cecg</th>\n",
       "      <th>cemg</th>\n",
       "      <th>ceda</th>\n",
       "      <th>ctemp</th>\n",
       "      <th>cresp</th>\n",
       "      <th>label</th>\n",
       "    </tr>\n",
       "  </thead>\n",
       "  <tbody>\n",
       "    <tr>\n",
       "      <th>0</th>\n",
       "      <td>0.9726</td>\n",
       "      <td>-0.1412</td>\n",
       "      <td>0.2318</td>\n",
       "      <td>-0.272781</td>\n",
       "      <td>-0.004990</td>\n",
       "      <td>2.347183</td>\n",
       "      <td>32.627258</td>\n",
       "      <td>0.050354</td>\n",
       "      <td>0.0</td>\n",
       "    </tr>\n",
       "    <tr>\n",
       "      <th>1</th>\n",
       "      <td>0.9910</td>\n",
       "      <td>-0.0828</td>\n",
       "      <td>0.2078</td>\n",
       "      <td>-0.271042</td>\n",
       "      <td>-0.047882</td>\n",
       "      <td>2.367783</td>\n",
       "      <td>32.622772</td>\n",
       "      <td>0.404358</td>\n",
       "      <td>0.0</td>\n",
       "    </tr>\n",
       "    <tr>\n",
       "      <th>2</th>\n",
       "      <td>0.9978</td>\n",
       "      <td>-0.0230</td>\n",
       "      <td>0.0238</td>\n",
       "      <td>-0.263947</td>\n",
       "      <td>-0.067520</td>\n",
       "      <td>2.358627</td>\n",
       "      <td>32.621246</td>\n",
       "      <td>0.405884</td>\n",
       "      <td>0.0</td>\n",
       "    </tr>\n",
       "    <tr>\n",
       "      <th>3</th>\n",
       "      <td>1.0114</td>\n",
       "      <td>0.0406</td>\n",
       "      <td>-0.2766</td>\n",
       "      <td>-0.255386</td>\n",
       "      <td>-0.041428</td>\n",
       "      <td>2.349091</td>\n",
       "      <td>32.603302</td>\n",
       "      <td>0.404358</td>\n",
       "      <td>0.0</td>\n",
       "    </tr>\n",
       "    <tr>\n",
       "      <th>4</th>\n",
       "      <td>1.0318</td>\n",
       "      <td>0.0842</td>\n",
       "      <td>-0.4152</td>\n",
       "      <td>-0.261520</td>\n",
       "      <td>0.006638</td>\n",
       "      <td>2.359009</td>\n",
       "      <td>32.624237</td>\n",
       "      <td>0.396729</td>\n",
       "      <td>0.0</td>\n",
       "    </tr>\n",
       "    <tr>\n",
       "      <th>...</th>\n",
       "      <td>...</td>\n",
       "      <td>...</td>\n",
       "      <td>...</td>\n",
       "      <td>...</td>\n",
       "      <td>...</td>\n",
       "      <td>...</td>\n",
       "      <td>...</td>\n",
       "      <td>...</td>\n",
       "      <td>...</td>\n",
       "    </tr>\n",
       "    <tr>\n",
       "      <th>3741430</th>\n",
       "      <td>0.8244</td>\n",
       "      <td>-0.0766</td>\n",
       "      <td>-0.4402</td>\n",
       "      <td>0.019638</td>\n",
       "      <td>-0.002884</td>\n",
       "      <td>3.594971</td>\n",
       "      <td>34.249634</td>\n",
       "      <td>0.059509</td>\n",
       "      <td>4.0</td>\n",
       "    </tr>\n",
       "    <tr>\n",
       "      <th>3741431</th>\n",
       "      <td>0.8240</td>\n",
       "      <td>-0.0744</td>\n",
       "      <td>-0.4366</td>\n",
       "      <td>0.023849</td>\n",
       "      <td>-0.017441</td>\n",
       "      <td>3.611374</td>\n",
       "      <td>34.280182</td>\n",
       "      <td>0.032043</td>\n",
       "      <td>4.0</td>\n",
       "    </tr>\n",
       "    <tr>\n",
       "      <th>3741432</th>\n",
       "      <td>0.8226</td>\n",
       "      <td>-0.0748</td>\n",
       "      <td>-0.4358</td>\n",
       "      <td>0.033737</td>\n",
       "      <td>-0.002701</td>\n",
       "      <td>3.586578</td>\n",
       "      <td>34.280182</td>\n",
       "      <td>0.067139</td>\n",
       "      <td>4.0</td>\n",
       "    </tr>\n",
       "    <tr>\n",
       "      <th>3741433</th>\n",
       "      <td>0.8238</td>\n",
       "      <td>-0.0764</td>\n",
       "      <td>-0.4370</td>\n",
       "      <td>0.046829</td>\n",
       "      <td>-0.009933</td>\n",
       "      <td>3.599167</td>\n",
       "      <td>34.274109</td>\n",
       "      <td>0.035095</td>\n",
       "      <td>4.0</td>\n",
       "    </tr>\n",
       "    <tr>\n",
       "      <th>3741434</th>\n",
       "      <td>0.8236</td>\n",
       "      <td>-0.0750</td>\n",
       "      <td>-0.4356</td>\n",
       "      <td>0.058868</td>\n",
       "      <td>-0.004166</td>\n",
       "      <td>3.598404</td>\n",
       "      <td>34.261841</td>\n",
       "      <td>0.010681</td>\n",
       "      <td>4.0</td>\n",
       "    </tr>\n",
       "  </tbody>\n",
       "</table>\n",
       "<p>3794000 rows × 9 columns</p>\n",
       "</div>"
      ],
      "text/plain": [
       "            cax     cay     caz      cecg      cemg      ceda      ctemp  \\\n",
       "0        0.9726 -0.1412  0.2318 -0.272781 -0.004990  2.347183  32.627258   \n",
       "1        0.9910 -0.0828  0.2078 -0.271042 -0.047882  2.367783  32.622772   \n",
       "2        0.9978 -0.0230  0.0238 -0.263947 -0.067520  2.358627  32.621246   \n",
       "3        1.0114  0.0406 -0.2766 -0.255386 -0.041428  2.349091  32.603302   \n",
       "4        1.0318  0.0842 -0.4152 -0.261520  0.006638  2.359009  32.624237   \n",
       "...         ...     ...     ...       ...       ...       ...        ...   \n",
       "3741430  0.8244 -0.0766 -0.4402  0.019638 -0.002884  3.594971  34.249634   \n",
       "3741431  0.8240 -0.0744 -0.4366  0.023849 -0.017441  3.611374  34.280182   \n",
       "3741432  0.8226 -0.0748 -0.4358  0.033737 -0.002701  3.586578  34.280182   \n",
       "3741433  0.8238 -0.0764 -0.4370  0.046829 -0.009933  3.599167  34.274109   \n",
       "3741434  0.8236 -0.0750 -0.4356  0.058868 -0.004166  3.598404  34.261841   \n",
       "\n",
       "            cresp  label  \n",
       "0        0.050354    0.0  \n",
       "1        0.404358    0.0  \n",
       "2        0.405884    0.0  \n",
       "3        0.404358    0.0  \n",
       "4        0.396729    0.0  \n",
       "...           ...    ...  \n",
       "3741430  0.059509    4.0  \n",
       "3741431  0.032043    4.0  \n",
       "3741432  0.067139    4.0  \n",
       "3741433  0.035095    4.0  \n",
       "3741434  0.010681    4.0  \n",
       "\n",
       "[3794000 rows x 9 columns]"
      ]
     },
     "execution_count": 15,
     "metadata": {},
     "output_type": "execute_result"
    }
   ],
   "source": [
    "ch_loc = pd.concat([loc0, loc1, loc2, loc3, loc4])\n",
    "ch_loc"
   ]
  },
  {
   "cell_type": "markdown",
   "metadata": {},
   "source": [
    "#### Check Statistics"
   ]
  },
  {
   "cell_type": "code",
   "execution_count": 16,
   "metadata": {},
   "outputs": [
    {
     "data": {
      "text/html": [
       "<div>\n",
       "<style scoped>\n",
       "    .dataframe tbody tr th:only-of-type {\n",
       "        vertical-align: middle;\n",
       "    }\n",
       "\n",
       "    .dataframe tbody tr th {\n",
       "        vertical-align: top;\n",
       "    }\n",
       "\n",
       "    .dataframe thead th {\n",
       "        text-align: right;\n",
       "    }\n",
       "</style>\n",
       "<table border=\"1\" class=\"dataframe\">\n",
       "  <thead>\n",
       "    <tr style=\"text-align: right;\">\n",
       "      <th></th>\n",
       "      <th>count</th>\n",
       "      <th>mean</th>\n",
       "      <th>std</th>\n",
       "      <th>min</th>\n",
       "      <th>25%</th>\n",
       "      <th>50%</th>\n",
       "      <th>75%</th>\n",
       "      <th>max</th>\n",
       "    </tr>\n",
       "  </thead>\n",
       "  <tbody>\n",
       "    <tr>\n",
       "      <th>cax</th>\n",
       "      <td>3794000.0</td>\n",
       "      <td>0.870688</td>\n",
       "      <td>0.053984</td>\n",
       "      <td>0.250600</td>\n",
       "      <td>0.844600</td>\n",
       "      <td>0.876000</td>\n",
       "      <td>0.908000</td>\n",
       "      <td>2.841800</td>\n",
       "    </tr>\n",
       "    <tr>\n",
       "      <th>cay</th>\n",
       "      <td>3794000.0</td>\n",
       "      <td>-0.026806</td>\n",
       "      <td>0.095158</td>\n",
       "      <td>-0.549800</td>\n",
       "      <td>-0.064000</td>\n",
       "      <td>-0.040000</td>\n",
       "      <td>0.017400</td>\n",
       "      <td>0.519800</td>\n",
       "    </tr>\n",
       "    <tr>\n",
       "      <th>caz</th>\n",
       "      <td>3794000.0</td>\n",
       "      <td>-0.165206</td>\n",
       "      <td>0.233411</td>\n",
       "      <td>-0.897400</td>\n",
       "      <td>-0.351400</td>\n",
       "      <td>-0.193400</td>\n",
       "      <td>0.007400</td>\n",
       "      <td>0.911400</td>\n",
       "    </tr>\n",
       "    <tr>\n",
       "      <th>cecg</th>\n",
       "      <td>3794000.0</td>\n",
       "      <td>0.001114</td>\n",
       "      <td>0.234874</td>\n",
       "      <td>-1.050156</td>\n",
       "      <td>-0.090408</td>\n",
       "      <td>-0.043076</td>\n",
       "      <td>0.022385</td>\n",
       "      <td>1.499954</td>\n",
       "    </tr>\n",
       "    <tr>\n",
       "      <th>cemg</th>\n",
       "      <td>3794000.0</td>\n",
       "      <td>-0.003056</td>\n",
       "      <td>0.013785</td>\n",
       "      <td>-0.286514</td>\n",
       "      <td>-0.010025</td>\n",
       "      <td>-0.002701</td>\n",
       "      <td>0.003891</td>\n",
       "      <td>0.463852</td>\n",
       "    </tr>\n",
       "    <tr>\n",
       "      <th>ceda</th>\n",
       "      <td>3794000.0</td>\n",
       "      <td>3.172072</td>\n",
       "      <td>0.768966</td>\n",
       "      <td>2.026749</td>\n",
       "      <td>2.456284</td>\n",
       "      <td>3.026962</td>\n",
       "      <td>3.541946</td>\n",
       "      <td>6.635284</td>\n",
       "    </tr>\n",
       "    <tr>\n",
       "      <th>ctemp</th>\n",
       "      <td>3794000.0</td>\n",
       "      <td>34.021846</td>\n",
       "      <td>0.375761</td>\n",
       "      <td>32.530121</td>\n",
       "      <td>33.944855</td>\n",
       "      <td>34.129089</td>\n",
       "      <td>34.231323</td>\n",
       "      <td>34.864685</td>\n",
       "    </tr>\n",
       "    <tr>\n",
       "      <th>cresp</th>\n",
       "      <td>3794000.0</td>\n",
       "      <td>0.046755</td>\n",
       "      <td>4.921680</td>\n",
       "      <td>-30.082703</td>\n",
       "      <td>-2.372742</td>\n",
       "      <td>-0.247192</td>\n",
       "      <td>2.479553</td>\n",
       "      <td>37.886047</td>\n",
       "    </tr>\n",
       "    <tr>\n",
       "      <th>label</th>\n",
       "      <td>3794000.0</td>\n",
       "      <td>1.260885</td>\n",
       "      <td>1.448826</td>\n",
       "      <td>0.000000</td>\n",
       "      <td>0.000000</td>\n",
       "      <td>1.000000</td>\n",
       "      <td>2.000000</td>\n",
       "      <td>4.000000</td>\n",
       "    </tr>\n",
       "  </tbody>\n",
       "</table>\n",
       "</div>"
      ],
      "text/plain": [
       "           count       mean       std        min        25%        50%  \\\n",
       "cax    3794000.0   0.870688  0.053984   0.250600   0.844600   0.876000   \n",
       "cay    3794000.0  -0.026806  0.095158  -0.549800  -0.064000  -0.040000   \n",
       "caz    3794000.0  -0.165206  0.233411  -0.897400  -0.351400  -0.193400   \n",
       "cecg   3794000.0   0.001114  0.234874  -1.050156  -0.090408  -0.043076   \n",
       "cemg   3794000.0  -0.003056  0.013785  -0.286514  -0.010025  -0.002701   \n",
       "ceda   3794000.0   3.172072  0.768966   2.026749   2.456284   3.026962   \n",
       "ctemp  3794000.0  34.021846  0.375761  32.530121  33.944855  34.129089   \n",
       "cresp  3794000.0   0.046755  4.921680 -30.082703  -2.372742  -0.247192   \n",
       "label  3794000.0   1.260885  1.448826   0.000000   0.000000   1.000000   \n",
       "\n",
       "             75%        max  \n",
       "cax     0.908000   2.841800  \n",
       "cay     0.017400   0.519800  \n",
       "caz     0.007400   0.911400  \n",
       "cecg    0.022385   1.499954  \n",
       "cemg    0.003891   0.463852  \n",
       "ceda    3.541946   6.635284  \n",
       "ctemp  34.231323  34.864685  \n",
       "cresp   2.479553  37.886047  \n",
       "label   2.000000   4.000000  "
      ]
     },
     "execution_count": 16,
     "metadata": {},
     "output_type": "execute_result"
    }
   ],
   "source": [
    "ch_loc.describe().T"
   ]
  },
  {
   "cell_type": "markdown",
   "metadata": {},
   "source": [
    "#### Plot all classes vs. classes 0,1,2,3,4 "
   ]
  },
  {
   "cell_type": "code",
   "execution_count": 17,
   "metadata": {
    "scrolled": false
   },
   "outputs": [
    {
     "name": "stdout",
     "output_type": "stream",
     "text": [
      "3875900 3794000\n",
      "Number of Rows Removed: 81900\n"
     ]
    },
    {
     "data": {
      "image/png": "[encoded data removed]",
      "text/plain": [
       "<Figure size 1008x360 with 2 Axes>"
      ]
     },
     "metadata": {},
     "output_type": "display_data"
    }
   ],
   "source": [
    "plt.figure(figsize = (14,5))\n",
    "plt.subplot(1, 2, 1)\n",
    "ch_df['label'].value_counts().plot(kind='bar', \n",
    "                                     title='Chest Number of Examples by Class \\n',\n",
    "                                     color=['b','b','b','b','b','r','r','r'])\n",
    "plt.subplot(1, 2, 2)\n",
    "ch_loc['label'].value_counts().plot(kind='bar', \n",
    "                                     title='Chest Number of Examples by Class \\n')\n",
    "print((ch_df['label'].value_counts().sum()), ch_loc['label'].value_counts().sum())\n",
    "print('Number of Rows Removed:', (ch_df['label'].value_counts().sum()) - \n",
    "      ch_loc['label'].value_counts().sum());"
   ]
  },
  {
   "cell_type": "markdown",
   "metadata": {},
   "source": [
    "**XGBoost for Multi-class Classification** <br>\n",
    "https://towardsdatascience.com/xgboost-for-multi-class-classification-799d96bcd368"
   ]
  },
  {
   "cell_type": "code",
   "execution_count": 24,
   "metadata": {},
   "outputs": [
    {
     "data": {
      "text/plain": [
       "'\\nAuthor: Plog, E\\nTitle: AUC ROC Curve Scoring Function for Multi-class Classification\\nDate: 2018\\nCode version: n.a.\\nAvailability: https://medium.com/@plog397/auc-roc-curve-scoring-function-for-multi-class-classification-9822871a6659\\n'"
      ]
     },
     "execution_count": 24,
     "metadata": {},
     "output_type": "execute_result"
    }
   ],
   "source": [
    "# Multiclass ROC AUC Score original script sourced from \n",
    "'''\n",
    "Author: Plog, E\n",
    "Title: AUC ROC Curve Scoring Function for Multi-class Classification\n",
    "Date: 2018\n",
    "Code version: n.a.\n",
    "Availability: https://medium.com/@plog397/auc-roc-curve-scoring-function-for-multi-class-classification-9822871a6659\n",
    "'''"
   ]
  },
  {
   "cell_type": "markdown",
   "metadata": {},
   "source": [
    "# Model Runs: XGBoost Classifier"
   ]
  },
  {
   "cell_type": "markdown",
   "metadata": {},
   "source": [
    "## Model allChest: All chest features"
   ]
  },
  {
   "cell_type": "markdown",
   "metadata": {},
   "source": [
    "### Train Test"
   ]
  },
  {
   "cell_type": "code",
   "execution_count": 20,
   "metadata": {},
   "outputs": [
    {
     "name": "stdout",
     "output_type": "stream",
     "text": [
      "(3035200, 8)\n",
      "(758800,)\n"
     ]
    }
   ],
   "source": [
    "y = ch_loc.label\n",
    "x = ch_loc.drop('label',axis=1)\n",
    "x_train, x_test, y_train, y_test = train_test_split(x, y, test_size=0.2)\n",
    "print(x_train.shape)\n",
    "print(y_test.shape)\n",
    "evalSet = [(x_train, y_train), (x_test, y_test)]"
   ]
  },
  {
   "cell_type": "markdown",
   "metadata": {},
   "source": [
    "### Check Correlations"
   ]
  },
  {
   "cell_type": "code",
   "execution_count": 21,
   "metadata": {},
   "outputs": [
    {
     "data": {
      "image/png": "[encoded data removed]",
      "text/plain": [
       "<Figure size 648x504 with 2 Axes>"
      ]
     },
     "metadata": {},
     "output_type": "display_data"
    }
   ],
   "source": [
    "plt.figure(figsize=(9,7))\n",
    "sns.heatmap(x_train.corr(), annot=True, cmap=plt.cm.BuPu);"
   ]
  },
  {
   "cell_type": "markdown",
   "metadata": {},
   "source": [
    "    There is a strong correlation between temp and eda "
   ]
  },
  {
   "cell_type": "markdown",
   "metadata": {},
   "source": [
    "### Model Fit and f1 and Balanced Accuracy Scores"
   ]
  },
  {
   "cell_type": "code",
   "execution_count": 22,
   "metadata": {
    "scrolled": true
   },
   "outputs": [
    {
     "name": "stdout",
     "output_type": "stream",
     "text": [
      "[0]\tvalidation_0-merror:0.01581\tvalidation_1-merror:0.01591\n",
      "[1]\tvalidation_0-merror:0.01542\tvalidation_1-merror:0.01556\n",
      "[2]\tvalidation_0-merror:0.01551\tvalidation_1-merror:0.01559\n",
      "[3]\tvalidation_0-merror:0.01535\tvalidation_1-merror:0.01540\n",
      "[4]\tvalidation_0-merror:0.01514\tvalidation_1-merror:0.01524\n",
      "[5]\tvalidation_0-merror:0.01498\tvalidation_1-merror:0.01508\n",
      "[6]\tvalidation_0-merror:0.01487\tvalidation_1-merror:0.01499\n",
      "[7]\tvalidation_0-merror:0.01470\tvalidation_1-merror:0.01482\n",
      "[8]\tvalidation_0-merror:0.01438\tvalidation_1-merror:0.01458\n",
      "[9]\tvalidation_0-merror:0.01417\tvalidation_1-merror:0.01440\n",
      "[10]\tvalidation_0-merror:0.01371\tvalidation_1-merror:0.01394\n",
      "[11]\tvalidation_0-merror:0.01352\tvalidation_1-merror:0.01377\n",
      "[12]\tvalidation_0-merror:0.01325\tvalidation_1-merror:0.01355\n",
      "[13]\tvalidation_0-merror:0.01311\tvalidation_1-merror:0.01339\n",
      "[14]\tvalidation_0-merror:0.01290\tvalidation_1-merror:0.01321\n",
      "[15]\tvalidation_0-merror:0.01273\tvalidation_1-merror:0.01301\n",
      "[16]\tvalidation_0-merror:0.01260\tvalidation_1-merror:0.01288\n",
      "[17]\tvalidation_0-merror:0.01235\tvalidation_1-merror:0.01264\n",
      "[18]\tvalidation_0-merror:0.01221\tvalidation_1-merror:0.01253\n",
      "[19]\tvalidation_0-merror:0.01205\tvalidation_1-merror:0.01234\n",
      "[20]\tvalidation_0-merror:0.01191\tvalidation_1-merror:0.01220\n",
      "[21]\tvalidation_0-merror:0.01167\tvalidation_1-merror:0.01202\n",
      "[22]\tvalidation_0-merror:0.01155\tvalidation_1-merror:0.01188\n",
      "[23]\tvalidation_0-merror:0.01141\tvalidation_1-merror:0.01178\n",
      "[24]\tvalidation_0-merror:0.01129\tvalidation_1-merror:0.01166\n",
      "[25]\tvalidation_0-merror:0.01118\tvalidation_1-merror:0.01156\n",
      "[26]\tvalidation_0-merror:0.01104\tvalidation_1-merror:0.01141\n",
      "[27]\tvalidation_0-merror:0.01092\tvalidation_1-merror:0.01132\n",
      "[28]\tvalidation_0-merror:0.01084\tvalidation_1-merror:0.01126\n",
      "[29]\tvalidation_0-merror:0.01073\tvalidation_1-merror:0.01112\n",
      "[30]\tvalidation_0-merror:0.01061\tvalidation_1-merror:0.01102\n",
      "[31]\tvalidation_0-merror:0.01051\tvalidation_1-merror:0.01094\n",
      "[32]\tvalidation_0-merror:0.01042\tvalidation_1-merror:0.01084\n",
      "[33]\tvalidation_0-merror:0.01032\tvalidation_1-merror:0.01073\n",
      "[34]\tvalidation_0-merror:0.01024\tvalidation_1-merror:0.01067\n",
      "[35]\tvalidation_0-merror:0.01014\tvalidation_1-merror:0.01059\n",
      "[36]\tvalidation_0-merror:0.01006\tvalidation_1-merror:0.01054\n",
      "[37]\tvalidation_0-merror:0.00993\tvalidation_1-merror:0.01042\n",
      "[38]\tvalidation_0-merror:0.00984\tvalidation_1-merror:0.01035\n",
      "[39]\tvalidation_0-merror:0.00973\tvalidation_1-merror:0.01025\n",
      "[40]\tvalidation_0-merror:0.00964\tvalidation_1-merror:0.01015\n",
      "[41]\tvalidation_0-merror:0.00953\tvalidation_1-merror:0.01006\n",
      "[42]\tvalidation_0-merror:0.00944\tvalidation_1-merror:0.00994\n",
      "[43]\tvalidation_0-merror:0.00932\tvalidation_1-merror:0.00983\n",
      "[44]\tvalidation_0-merror:0.00923\tvalidation_1-merror:0.00972\n",
      "[45]\tvalidation_0-merror:0.00913\tvalidation_1-merror:0.00964\n",
      "[46]\tvalidation_0-merror:0.00905\tvalidation_1-merror:0.00954\n",
      "[47]\tvalidation_0-merror:0.00897\tvalidation_1-merror:0.00947\n",
      "[48]\tvalidation_0-merror:0.00888\tvalidation_1-merror:0.00941\n",
      "[49]\tvalidation_0-merror:0.00882\tvalidation_1-merror:0.00933\n",
      "[50]\tvalidation_0-merror:0.00876\tvalidation_1-merror:0.00927\n",
      "[51]\tvalidation_0-merror:0.00870\tvalidation_1-merror:0.00923\n",
      "[52]\tvalidation_0-merror:0.00861\tvalidation_1-merror:0.00915\n",
      "[53]\tvalidation_0-merror:0.00853\tvalidation_1-merror:0.00908\n",
      "[54]\tvalidation_0-merror:0.00847\tvalidation_1-merror:0.00903\n",
      "[55]\tvalidation_0-merror:0.00843\tvalidation_1-merror:0.00899\n",
      "[56]\tvalidation_0-merror:0.00838\tvalidation_1-merror:0.00892\n",
      "[57]\tvalidation_0-merror:0.00832\tvalidation_1-merror:0.00885\n",
      "[58]\tvalidation_0-merror:0.00826\tvalidation_1-merror:0.00879\n",
      "[59]\tvalidation_0-merror:0.00816\tvalidation_1-merror:0.00870\n",
      "[60]\tvalidation_0-merror:0.00808\tvalidation_1-merror:0.00862\n",
      "[61]\tvalidation_0-merror:0.00803\tvalidation_1-merror:0.00859\n",
      "[62]\tvalidation_0-merror:0.00800\tvalidation_1-merror:0.00854\n",
      "[63]\tvalidation_0-merror:0.00797\tvalidation_1-merror:0.00850\n",
      "[64]\tvalidation_0-merror:0.00794\tvalidation_1-merror:0.00848\n",
      "[65]\tvalidation_0-merror:0.00791\tvalidation_1-merror:0.00847\n",
      "[66]\tvalidation_0-merror:0.00787\tvalidation_1-merror:0.00845\n",
      "[67]\tvalidation_0-merror:0.00784\tvalidation_1-merror:0.00842\n",
      "[68]\tvalidation_0-merror:0.00781\tvalidation_1-merror:0.00838\n",
      "[69]\tvalidation_0-merror:0.00777\tvalidation_1-merror:0.00832\n",
      "[70]\tvalidation_0-merror:0.00775\tvalidation_1-merror:0.00829\n",
      "[71]\tvalidation_0-merror:0.00773\tvalidation_1-merror:0.00828\n",
      "[72]\tvalidation_0-merror:0.00771\tvalidation_1-merror:0.00826\n",
      "[73]\tvalidation_0-merror:0.00766\tvalidation_1-merror:0.00823\n",
      "[74]\tvalidation_0-merror:0.00763\tvalidation_1-merror:0.00819\n",
      "[75]\tvalidation_0-merror:0.00758\tvalidation_1-merror:0.00812\n",
      "[76]\tvalidation_0-merror:0.00754\tvalidation_1-merror:0.00809\n",
      "[77]\tvalidation_0-merror:0.00749\tvalidation_1-merror:0.00804\n",
      "[78]\tvalidation_0-merror:0.00746\tvalidation_1-merror:0.00801\n",
      "[79]\tvalidation_0-merror:0.00739\tvalidation_1-merror:0.00796\n",
      "[80]\tvalidation_0-merror:0.00737\tvalidation_1-merror:0.00794\n",
      "[81]\tvalidation_0-merror:0.00728\tvalidation_1-merror:0.00785\n",
      "[82]\tvalidation_0-merror:0.00724\tvalidation_1-merror:0.00784\n",
      "[83]\tvalidation_0-merror:0.00719\tvalidation_1-merror:0.00779\n",
      "[84]\tvalidation_0-merror:0.00714\tvalidation_1-merror:0.00774\n",
      "[85]\tvalidation_0-merror:0.00711\tvalidation_1-merror:0.00772\n",
      "[86]\tvalidation_0-merror:0.00706\tvalidation_1-merror:0.00768\n",
      "[87]\tvalidation_0-merror:0.00705\tvalidation_1-merror:0.00768\n",
      "[88]\tvalidation_0-merror:0.00700\tvalidation_1-merror:0.00762\n",
      "[89]\tvalidation_0-merror:0.00696\tvalidation_1-merror:0.00757\n",
      "[90]\tvalidation_0-merror:0.00689\tvalidation_1-merror:0.00750\n",
      "[91]\tvalidation_0-merror:0.00683\tvalidation_1-merror:0.00745\n",
      "[92]\tvalidation_0-merror:0.00678\tvalidation_1-merror:0.00738\n",
      "[93]\tvalidation_0-merror:0.00672\tvalidation_1-merror:0.00731\n",
      "[94]\tvalidation_0-merror:0.00668\tvalidation_1-merror:0.00726\n",
      "[95]\tvalidation_0-merror:0.00662\tvalidation_1-merror:0.00723\n",
      "[96]\tvalidation_0-merror:0.00657\tvalidation_1-merror:0.00719\n",
      "[97]\tvalidation_0-merror:0.00651\tvalidation_1-merror:0.00714\n",
      "[98]\tvalidation_0-merror:0.00646\tvalidation_1-merror:0.00711\n",
      "[99]\tvalidation_0-merror:0.00641\tvalidation_1-merror:0.00706\n",
      "[100]\tvalidation_0-merror:0.00638\tvalidation_1-merror:0.00706\n",
      "[101]\tvalidation_0-merror:0.00632\tvalidation_1-merror:0.00699\n",
      "[102]\tvalidation_0-merror:0.00631\tvalidation_1-merror:0.00698\n",
      "[103]\tvalidation_0-merror:0.00625\tvalidation_1-merror:0.00694\n",
      "[104]\tvalidation_0-merror:0.00623\tvalidation_1-merror:0.00692\n",
      "[105]\tvalidation_0-merror:0.00618\tvalidation_1-merror:0.00687\n",
      "[106]\tvalidation_0-merror:0.00614\tvalidation_1-merror:0.00686\n",
      "[107]\tvalidation_0-merror:0.00611\tvalidation_1-merror:0.00683\n",
      "[108]\tvalidation_0-merror:0.00608\tvalidation_1-merror:0.00678\n",
      "[109]\tvalidation_0-merror:0.00606\tvalidation_1-merror:0.00677\n",
      "[110]\tvalidation_0-merror:0.00600\tvalidation_1-merror:0.00672\n",
      "[111]\tvalidation_0-merror:0.00595\tvalidation_1-merror:0.00669\n",
      "[112]\tvalidation_0-merror:0.00591\tvalidation_1-merror:0.00666\n",
      "[113]\tvalidation_0-merror:0.00587\tvalidation_1-merror:0.00663\n",
      "[114]\tvalidation_0-merror:0.00583\tvalidation_1-merror:0.00658\n",
      "[115]\tvalidation_0-merror:0.00582\tvalidation_1-merror:0.00658\n",
      "[116]\tvalidation_0-merror:0.00581\tvalidation_1-merror:0.00656\n",
      "[117]\tvalidation_0-merror:0.00580\tvalidation_1-merror:0.00656\n",
      "[118]\tvalidation_0-merror:0.00579\tvalidation_1-merror:0.00655\n",
      "[119]\tvalidation_0-merror:0.00578\tvalidation_1-merror:0.00654\n",
      "[120]\tvalidation_0-merror:0.00578\tvalidation_1-merror:0.00654\n",
      "[121]\tvalidation_0-merror:0.00578\tvalidation_1-merror:0.00654\n",
      "[122]\tvalidation_0-merror:0.00577\tvalidation_1-merror:0.00653\n",
      "[123]\tvalidation_0-merror:0.00575\tvalidation_1-merror:0.00652\n",
      "[124]\tvalidation_0-merror:0.00575\tvalidation_1-merror:0.00652\n",
      "[125]\tvalidation_0-merror:0.00574\tvalidation_1-merror:0.00652\n",
      "[126]\tvalidation_0-merror:0.00572\tvalidation_1-merror:0.00648\n",
      "[127]\tvalidation_0-merror:0.00570\tvalidation_1-merror:0.00647\n",
      "[128]\tvalidation_0-merror:0.00569\tvalidation_1-merror:0.00646\n",
      "[129]\tvalidation_0-merror:0.00568\tvalidation_1-merror:0.00643\n",
      "[130]\tvalidation_0-merror:0.00567\tvalidation_1-merror:0.00643\n",
      "[131]\tvalidation_0-merror:0.00567\tvalidation_1-merror:0.00643\n",
      "[132]\tvalidation_0-merror:0.00564\tvalidation_1-merror:0.00642\n",
      "[133]\tvalidation_0-merror:0.00564\tvalidation_1-merror:0.00642\n"
     ]
    },
    {
     "name": "stdout",
     "output_type": "stream",
     "text": [
      "[134]\tvalidation_0-merror:0.00564\tvalidation_1-merror:0.00642\n",
      "[135]\tvalidation_0-merror:0.00563\tvalidation_1-merror:0.00640\n",
      "[136]\tvalidation_0-merror:0.00562\tvalidation_1-merror:0.00641\n",
      "[137]\tvalidation_0-merror:0.00561\tvalidation_1-merror:0.00639\n",
      "[138]\tvalidation_0-merror:0.00560\tvalidation_1-merror:0.00638\n",
      "[139]\tvalidation_0-merror:0.00560\tvalidation_1-merror:0.00638\n",
      "[140]\tvalidation_0-merror:0.00560\tvalidation_1-merror:0.00638\n",
      "[141]\tvalidation_0-merror:0.00559\tvalidation_1-merror:0.00636\n",
      "[142]\tvalidation_0-merror:0.00559\tvalidation_1-merror:0.00637\n",
      "[143]\tvalidation_0-merror:0.00559\tvalidation_1-merror:0.00637\n",
      "[144]\tvalidation_0-merror:0.00559\tvalidation_1-merror:0.00637\n",
      "[145]\tvalidation_0-merror:0.00559\tvalidation_1-merror:0.00637\n",
      "[146]\tvalidation_0-merror:0.00559\tvalidation_1-merror:0.00637\n",
      "[147]\tvalidation_0-merror:0.00559\tvalidation_1-merror:0.00637\n",
      "[148]\tvalidation_0-merror:0.00559\tvalidation_1-merror:0.00637\n",
      "[149]\tvalidation_0-merror:0.00559\tvalidation_1-merror:0.00637\n",
      "[150]\tvalidation_0-merror:0.00558\tvalidation_1-merror:0.00636\n",
      "[151]\tvalidation_0-merror:0.00558\tvalidation_1-merror:0.00636\n",
      "[152]\tvalidation_0-merror:0.00558\tvalidation_1-merror:0.00636\n",
      "[153]\tvalidation_0-merror:0.00558\tvalidation_1-merror:0.00636\n",
      "[154]\tvalidation_0-merror:0.00558\tvalidation_1-merror:0.00636\n",
      "[155]\tvalidation_0-merror:0.00558\tvalidation_1-merror:0.00636\n",
      "[156]\tvalidation_0-merror:0.00558\tvalidation_1-merror:0.00636\n",
      "[157]\tvalidation_0-merror:0.00558\tvalidation_1-merror:0.00636\n",
      "[158]\tvalidation_0-merror:0.00558\tvalidation_1-merror:0.00636\n",
      "[159]\tvalidation_0-merror:0.00558\tvalidation_1-merror:0.00636\n",
      "[160]\tvalidation_0-merror:0.00558\tvalidation_1-merror:0.00636\n",
      "[161]\tvalidation_0-merror:0.00559\tvalidation_1-merror:0.00636\n",
      "[162]\tvalidation_0-merror:0.00559\tvalidation_1-merror:0.00636\n",
      "[163]\tvalidation_0-merror:0.00559\tvalidation_1-merror:0.00636\n",
      "[164]\tvalidation_0-merror:0.00558\tvalidation_1-merror:0.00636\n",
      "[165]\tvalidation_0-merror:0.00558\tvalidation_1-merror:0.00636\n",
      "[166]\tvalidation_0-merror:0.00558\tvalidation_1-merror:0.00636\n",
      "[167]\tvalidation_0-merror:0.00559\tvalidation_1-merror:0.00636\n",
      "[168]\tvalidation_0-merror:0.00559\tvalidation_1-merror:0.00636\n",
      "[169]\tvalidation_0-merror:0.00558\tvalidation_1-merror:0.00636\n",
      "[170]\tvalidation_0-merror:0.00558\tvalidation_1-merror:0.00636\n",
      "[171]\tvalidation_0-merror:0.00558\tvalidation_1-merror:0.00636\n",
      "[172]\tvalidation_0-merror:0.00558\tvalidation_1-merror:0.00636\n",
      "[173]\tvalidation_0-merror:0.00558\tvalidation_1-merror:0.00636\n",
      "[174]\tvalidation_0-merror:0.00558\tvalidation_1-merror:0.00636\n",
      "[175]\tvalidation_0-merror:0.00558\tvalidation_1-merror:0.00636\n",
      "[176]\tvalidation_0-merror:0.00558\tvalidation_1-merror:0.00636\n",
      "[177]\tvalidation_0-merror:0.00558\tvalidation_1-merror:0.00636\n",
      "[178]\tvalidation_0-merror:0.00558\tvalidation_1-merror:0.00636\n",
      "[179]\tvalidation_0-merror:0.00558\tvalidation_1-merror:0.00636\n",
      "[180]\tvalidation_0-merror:0.00558\tvalidation_1-merror:0.00636\n",
      "[181]\tvalidation_0-merror:0.00558\tvalidation_1-merror:0.00636\n",
      "[182]\tvalidation_0-merror:0.00558\tvalidation_1-merror:0.00636\n",
      "[183]\tvalidation_0-merror:0.00558\tvalidation_1-merror:0.00636\n",
      "[184]\tvalidation_0-merror:0.00558\tvalidation_1-merror:0.00636\n",
      "[185]\tvalidation_0-merror:0.00558\tvalidation_1-merror:0.00636\n",
      "[186]\tvalidation_0-merror:0.00558\tvalidation_1-merror:0.00636\n",
      "[187]\tvalidation_0-merror:0.00558\tvalidation_1-merror:0.00636\n",
      "[188]\tvalidation_0-merror:0.00558\tvalidation_1-merror:0.00636\n",
      "[189]\tvalidation_0-merror:0.00558\tvalidation_1-merror:0.00636\n",
      "[190]\tvalidation_0-merror:0.00558\tvalidation_1-merror:0.00636\n",
      "[191]\tvalidation_0-merror:0.00558\tvalidation_1-merror:0.00636\n",
      "[192]\tvalidation_0-merror:0.00558\tvalidation_1-merror:0.00636\n",
      "[193]\tvalidation_0-merror:0.00558\tvalidation_1-merror:0.00636\n",
      "[194]\tvalidation_0-merror:0.00558\tvalidation_1-merror:0.00636\n",
      "[195]\tvalidation_0-merror:0.00558\tvalidation_1-merror:0.00636\n",
      "[196]\tvalidation_0-merror:0.00558\tvalidation_1-merror:0.00636\n",
      "[197]\tvalidation_0-merror:0.00559\tvalidation_1-merror:0.00636\n",
      "[198]\tvalidation_0-merror:0.00559\tvalidation_1-merror:0.00636\n",
      "[199]\tvalidation_0-merror:0.00559\tvalidation_1-merror:0.00636\n",
      "[200]\tvalidation_0-merror:0.00559\tvalidation_1-merror:0.00636\n",
      "[201]\tvalidation_0-merror:0.00559\tvalidation_1-merror:0.00636\n",
      "[202]\tvalidation_0-merror:0.00559\tvalidation_1-merror:0.00636\n",
      "[203]\tvalidation_0-merror:0.00559\tvalidation_1-merror:0.00636\n",
      "[204]\tvalidation_0-merror:0.00559\tvalidation_1-merror:0.00636\n",
      "[205]\tvalidation_0-merror:0.00559\tvalidation_1-merror:0.00636\n",
      "[206]\tvalidation_0-merror:0.00559\tvalidation_1-merror:0.00636\n",
      "[207]\tvalidation_0-merror:0.00559\tvalidation_1-merror:0.00636\n",
      "[208]\tvalidation_0-merror:0.00559\tvalidation_1-merror:0.00636\n",
      "[209]\tvalidation_0-merror:0.00559\tvalidation_1-merror:0.00636\n",
      "[210]\tvalidation_0-merror:0.00559\tvalidation_1-merror:0.00636\n",
      "[211]\tvalidation_0-merror:0.00559\tvalidation_1-merror:0.00636\n",
      "[212]\tvalidation_0-merror:0.00559\tvalidation_1-merror:0.00636\n",
      "[213]\tvalidation_0-merror:0.00559\tvalidation_1-merror:0.00636\n",
      "[214]\tvalidation_0-merror:0.00559\tvalidation_1-merror:0.00636\n",
      "[215]\tvalidation_0-merror:0.00559\tvalidation_1-merror:0.00636\n",
      "[216]\tvalidation_0-merror:0.00559\tvalidation_1-merror:0.00636\n",
      "[217]\tvalidation_0-merror:0.00559\tvalidation_1-merror:0.00636\n",
      "[218]\tvalidation_0-merror:0.00559\tvalidation_1-merror:0.00636\n",
      "[219]\tvalidation_0-merror:0.00559\tvalidation_1-merror:0.00636\n",
      "[220]\tvalidation_0-merror:0.00559\tvalidation_1-merror:0.00636\n",
      "[221]\tvalidation_0-merror:0.00559\tvalidation_1-merror:0.00636\n",
      "[222]\tvalidation_0-merror:0.00559\tvalidation_1-merror:0.00636\n",
      "[223]\tvalidation_0-merror:0.00559\tvalidation_1-merror:0.00636\n",
      "[224]\tvalidation_0-merror:0.00559\tvalidation_1-merror:0.00636\n",
      "[225]\tvalidation_0-merror:0.00559\tvalidation_1-merror:0.00636\n",
      "[226]\tvalidation_0-merror:0.00559\tvalidation_1-merror:0.00636\n",
      "[227]\tvalidation_0-merror:0.00559\tvalidation_1-merror:0.00636\n",
      "[228]\tvalidation_0-merror:0.00559\tvalidation_1-merror:0.00636\n",
      "[229]\tvalidation_0-merror:0.00559\tvalidation_1-merror:0.00636\n",
      "[230]\tvalidation_0-merror:0.00559\tvalidation_1-merror:0.00636\n",
      "[231]\tvalidation_0-merror:0.00559\tvalidation_1-merror:0.00636\n",
      "[232]\tvalidation_0-merror:0.00559\tvalidation_1-merror:0.00636\n",
      "[233]\tvalidation_0-merror:0.00558\tvalidation_1-merror:0.00636\n",
      "[234]\tvalidation_0-merror:0.00558\tvalidation_1-merror:0.00636\n",
      "[235]\tvalidation_0-merror:0.00558\tvalidation_1-merror:0.00636\n",
      "[236]\tvalidation_0-merror:0.00558\tvalidation_1-merror:0.00636\n",
      "[237]\tvalidation_0-merror:0.00558\tvalidation_1-merror:0.00636\n",
      "[238]\tvalidation_0-merror:0.00558\tvalidation_1-merror:0.00636\n",
      "[239]\tvalidation_0-merror:0.00558\tvalidation_1-merror:0.00636\n",
      "[240]\tvalidation_0-merror:0.00558\tvalidation_1-merror:0.00636\n",
      "[241]\tvalidation_0-merror:0.00558\tvalidation_1-merror:0.00636\n",
      "[242]\tvalidation_0-merror:0.00558\tvalidation_1-merror:0.00636\n",
      "[243]\tvalidation_0-merror:0.00558\tvalidation_1-merror:0.00636\n",
      "[244]\tvalidation_0-merror:0.00558\tvalidation_1-merror:0.00636\n",
      "[245]\tvalidation_0-merror:0.00558\tvalidation_1-merror:0.00636\n",
      "[246]\tvalidation_0-merror:0.00558\tvalidation_1-merror:0.00636\n",
      "[247]\tvalidation_0-merror:0.00558\tvalidation_1-merror:0.00636\n",
      "[248]\tvalidation_0-merror:0.00558\tvalidation_1-merror:0.00636\n",
      "[249]\tvalidation_0-merror:0.00558\tvalidation_1-merror:0.00636\n",
      "[250]\tvalidation_0-merror:0.00558\tvalidation_1-merror:0.00636\n",
      "[251]\tvalidation_0-merror:0.00558\tvalidation_1-merror:0.00636\n",
      "[252]\tvalidation_0-merror:0.00558\tvalidation_1-merror:0.00636\n",
      "[253]\tvalidation_0-merror:0.00558\tvalidation_1-merror:0.00636\n",
      "[254]\tvalidation_0-merror:0.00558\tvalidation_1-merror:0.00636\n",
      "[255]\tvalidation_0-merror:0.00558\tvalidation_1-merror:0.00636\n",
      "[256]\tvalidation_0-merror:0.00558\tvalidation_1-merror:0.00636\n",
      "[257]\tvalidation_0-merror:0.00558\tvalidation_1-merror:0.00636\n",
      "[258]\tvalidation_0-merror:0.00558\tvalidation_1-merror:0.00636\n",
      "[259]\tvalidation_0-merror:0.00558\tvalidation_1-merror:0.00636\n",
      "[260]\tvalidation_0-merror:0.00558\tvalidation_1-merror:0.00636\n",
      "[261]\tvalidation_0-merror:0.00558\tvalidation_1-merror:0.00636\n",
      "[262]\tvalidation_0-merror:0.00558\tvalidation_1-merror:0.00636\n",
      "[263]\tvalidation_0-merror:0.00558\tvalidation_1-merror:0.00636\n",
      "[264]\tvalidation_0-merror:0.00558\tvalidation_1-merror:0.00636\n",
      "[265]\tvalidation_0-merror:0.00558\tvalidation_1-merror:0.00636\n",
      "[266]\tvalidation_0-merror:0.00558\tvalidation_1-merror:0.00636\n"
     ]
    },
    {
     "name": "stdout",
     "output_type": "stream",
     "text": [
      "[267]\tvalidation_0-merror:0.00558\tvalidation_1-merror:0.00636\n",
      "[268]\tvalidation_0-merror:0.00558\tvalidation_1-merror:0.00636\n",
      "[269]\tvalidation_0-merror:0.00558\tvalidation_1-merror:0.00636\n",
      "[270]\tvalidation_0-merror:0.00558\tvalidation_1-merror:0.00636\n",
      "[271]\tvalidation_0-merror:0.00558\tvalidation_1-merror:0.00636\n",
      "[272]\tvalidation_0-merror:0.00558\tvalidation_1-merror:0.00636\n",
      "[273]\tvalidation_0-merror:0.00558\tvalidation_1-merror:0.00636\n",
      "[274]\tvalidation_0-merror:0.00558\tvalidation_1-merror:0.00636\n",
      "[275]\tvalidation_0-merror:0.00558\tvalidation_1-merror:0.00636\n",
      "[276]\tvalidation_0-merror:0.00558\tvalidation_1-merror:0.00636\n",
      "[277]\tvalidation_0-merror:0.00558\tvalidation_1-merror:0.00636\n",
      "[278]\tvalidation_0-merror:0.00558\tvalidation_1-merror:0.00636\n",
      "[279]\tvalidation_0-merror:0.00558\tvalidation_1-merror:0.00636\n",
      "[280]\tvalidation_0-merror:0.00558\tvalidation_1-merror:0.00636\n",
      "[281]\tvalidation_0-merror:0.00558\tvalidation_1-merror:0.00636\n",
      "[282]\tvalidation_0-merror:0.00558\tvalidation_1-merror:0.00636\n",
      "[283]\tvalidation_0-merror:0.00558\tvalidation_1-merror:0.00636\n",
      "[284]\tvalidation_0-merror:0.00558\tvalidation_1-merror:0.00636\n",
      "[285]\tvalidation_0-merror:0.00558\tvalidation_1-merror:0.00636\n",
      "[286]\tvalidation_0-merror:0.00558\tvalidation_1-merror:0.00636\n",
      "[287]\tvalidation_0-merror:0.00558\tvalidation_1-merror:0.00636\n",
      "[288]\tvalidation_0-merror:0.00558\tvalidation_1-merror:0.00636\n",
      "[289]\tvalidation_0-merror:0.00558\tvalidation_1-merror:0.00636\n",
      "[290]\tvalidation_0-merror:0.00558\tvalidation_1-merror:0.00636\n",
      "[291]\tvalidation_0-merror:0.00558\tvalidation_1-merror:0.00636\n",
      "[292]\tvalidation_0-merror:0.00558\tvalidation_1-merror:0.00636\n",
      "[293]\tvalidation_0-merror:0.00558\tvalidation_1-merror:0.00636\n",
      "[294]\tvalidation_0-merror:0.00558\tvalidation_1-merror:0.00636\n",
      "[295]\tvalidation_0-merror:0.00558\tvalidation_1-merror:0.00636\n",
      "[296]\tvalidation_0-merror:0.00558\tvalidation_1-merror:0.00636\n",
      "[297]\tvalidation_0-merror:0.00558\tvalidation_1-merror:0.00636\n",
      "[298]\tvalidation_0-merror:0.00558\tvalidation_1-merror:0.00636\n",
      "[299]\tvalidation_0-merror:0.00558\tvalidation_1-merror:0.00636\n",
      "Balanced Accuracy: 0.9931856446298617\n",
      "----------------------------------------\n",
      "------------ S11 All Chest Classification Report------------\n",
      "              precision    recall  f1-score   support\n",
      "\n",
      "         0.0     0.9936    0.9922    0.9929    336050\n",
      "         1.0     0.9980    0.9973    0.9977    164976\n",
      "         2.0     0.9931    0.9949    0.9940     92963\n",
      "         3.0     0.9852    0.9865    0.9859     53573\n",
      "         4.0     0.9918    0.9951    0.9935    111238\n",
      "\n",
      "    accuracy                         0.9936    758800\n",
      "   macro avg     0.9923    0.9932    0.9928    758800\n",
      "weighted avg     0.9936    0.9936    0.9936    758800\n",
      "\n",
      "Wall time: 1min 39s\n"
     ]
    }
   ],
   "source": [
    "%%time\n",
    "allChest = xgb.XGBClassifier(objective = 'multi:softmax',\n",
    "                              tree_method = 'gpu_hist',\n",
    "                              learning_rate = 0.1,\n",
    "                              n_estimators = 300, \n",
    "                              max_depth = 10,\n",
    "                              #deterministic_histogram = 'false',\n",
    "                              gradient_based = 0.1,\n",
    "                              num_early_stopping_rounds = 20,\n",
    "                              gamma = 3,\n",
    "                              seed = 24,\n",
    "                              verbosity = 2) \n",
    "\n",
    "model_allChest = allChest.fit(x_train,y_train, \n",
    "                              eval_metric=['merror'],\n",
    "                              eval_set = evalSet) \n",
    "allChest_pred = allChest.predict(x_test)\n",
    "allChest_report = (classification_report(y_test,\n",
    "                                         allChest_pred,\n",
    "                                         labels=np.unique(allChest_pred),\n",
    "                                         digits=4))\n",
    "\n",
    "print('Balanced Accuracy:', balanced_accuracy_score(y_test, allChest_pred))\n",
    "print('----------------------------------------')\n",
    "print('------------ S11 All Chest Classification Report------------')\n",
    "print(allChest_report)"
   ]
  },
  {
   "cell_type": "markdown",
   "metadata": {},
   "source": [
    "### Confusion Matrix"
   ]
  },
  {
   "cell_type": "code",
   "execution_count": 23,
   "metadata": {},
   "outputs": [
    {
     "data": {
      "image/png": "[encoded data removed]",
      "text/plain": [
       "<Figure size 504x360 with 2 Axes>"
      ]
     },
     "metadata": {},
     "output_type": "display_data"
    }
   ],
   "source": [
    "cm = confusion_matrix(y_test, allChest_pred)\n",
    "plt.figure(figsize=(7,5))\n",
    "sns.heatmap(cm, annot=True, fmt='d', cmap=plt.cm.BuPu );"
   ]
  },
  {
   "cell_type": "markdown",
   "metadata": {},
   "source": [
    "### Multi-class AUC Score"
   ]
  },
  {
   "cell_type": "code",
   "execution_count": 26,
   "metadata": {},
   "outputs": [
    {
     "name": "stdout",
     "output_type": "stream",
     "text": [
      "S11 All Chest\n",
      "---------------------\n",
      "AUC: 99.60%\n"
     ]
    }
   ],
   "source": [
    "def multiclass_roc_auc_score(y_test, allChest_pred, average = 'micro'): \n",
    "    xg = preprocessing.LabelBinarizer()\n",
    "    xg.fit(y_test)\n",
    "    y_test1 = xg.transform(y_test) \n",
    "    y_pred1 = xg.transform(allChest_pred)\n",
    "    return roc_auc_score(y_test1, y_pred1, average=average)\n",
    "\n",
    "aucScore = multiclass_roc_auc_score(y_test, allChest_pred)\n",
    "\n",
    "print('S11 All Chest')\n",
    "print('---------------------')\n",
    "print(\"AUC: %.2f%%\" % (aucScore*100))"
   ]
  },
  {
   "cell_type": "markdown",
   "metadata": {},
   "source": [
    "## Model ch_lessAcc: Chest Less Accelerometer  "
   ]
  },
  {
   "cell_type": "markdown",
   "metadata": {},
   "source": [
    "### Train Test Split"
   ]
  },
  {
   "cell_type": "code",
   "execution_count": 33,
   "metadata": {},
   "outputs": [
    {
     "name": "stdout",
     "output_type": "stream",
     "text": [
      "(3035200, 5)\n",
      "(758800,)\n"
     ]
    }
   ],
   "source": [
    "lessAcc = ch_loc[['ceda', 'ctemp', 'cresp', 'cemg', 'cecg', 'label']]\n",
    "y = lessAcc.label\n",
    "x = lessAcc.drop('label',axis=1)\n",
    "x_train, x_test, y_train, y_test = train_test_split(x, y, test_size=0.2)\n",
    "print(x_train.shape)\n",
    "print(y_test.shape)"
   ]
  },
  {
   "cell_type": "markdown",
   "metadata": {},
   "source": [
    "### Model Fit and f1 and Balanced Accuracy Scores"
   ]
  },
  {
   "cell_type": "code",
   "execution_count": 34,
   "metadata": {},
   "outputs": [
    {
     "name": "stdout",
     "output_type": "stream",
     "text": [
      "Balanced Accuracy: 0.9292336474658827\n",
      "----------------------------------------\n",
      "------------ S11 All Chest less ACC Classification Report------------\n",
      "              precision    recall  f1-score   support\n",
      "\n",
      "         0.0     0.9153    0.9511    0.9328    335770\n",
      "         1.0     0.9925    0.9908    0.9917    165423\n",
      "         2.0     0.9776    0.9478    0.9624     92851\n",
      "         3.0     0.9474    0.9360    0.9417     53722\n",
      "         4.0     0.8961    0.8205    0.8566    111034\n",
      "\n",
      "    accuracy                         0.9392    758800\n",
      "   macro avg     0.9458    0.9292    0.9370    758800\n",
      "weighted avg     0.9392    0.9392    0.9388    758800\n",
      "\n",
      "Wall time: 55.8 s\n"
     ]
    }
   ],
   "source": [
    "%%time\n",
    "ch_lessAcc = XGBClassifier(objective = 'multi:softmax',\n",
    "                              tree_method = 'gpu_hist',\n",
    "                              learning_rate = 0.1,\n",
    "                              n_estimators = 200, \n",
    "                              max_depth = 10,\n",
    "                              #deterministic_histogram = 'false',\n",
    "                              gradient_based = 0.1,\n",
    "                              num_early_stopping_rounds = 20,\n",
    "                              gamma = 3,\n",
    "                              #seed = 24,\n",
    "                              verbosity = 2) \n",
    "\n",
    "model_ch_lessAcc = ch_lessAcc.fit(x_train,y_train)\n",
    "ch_lessAcc_pred = ch_lessAcc.predict(x_test)\n",
    "ch_lessAcc_report = (classification_report(y_test,\n",
    "                                           ch_lessAcc_pred,\n",
    "                                           labels=np.unique(ch_lessAcc_pred),\n",
    "                                           digits=4))\n",
    "\n",
    "print('Balanced Accuracy:', balanced_accuracy_score(y_test, ch_lessAcc_pred))\n",
    "print('----------------------------------------')\n",
    "print('------------ S11 All Chest less ACC Classification Report------------')\n",
    "print(ch_lessAcc_report)"
   ]
  },
  {
   "cell_type": "markdown",
   "metadata": {},
   "source": [
    "### Confusion Matrix"
   ]
  },
  {
   "cell_type": "code",
   "execution_count": 35,
   "metadata": {},
   "outputs": [
    {
     "data": {
      "image/png": "[encoded data removed]",
      "text/plain": [
       "<Figure size 504x360 with 2 Axes>"
      ]
     },
     "metadata": {},
     "output_type": "display_data"
    }
   ],
   "source": [
    "cm = confusion_matrix(y_test, ch_lessAcc_pred)\n",
    "plt.figure(figsize=(7,5))\n",
    "sns.heatmap(cm, annot=True, fmt='d', cmap=plt.cm.BuPu );"
   ]
  },
  {
   "cell_type": "markdown",
   "metadata": {},
   "source": [
    "### Classification Prediction Error"
   ]
  },
  {
   "cell_type": "code",
   "execution_count": 36,
   "metadata": {},
   "outputs": [
    {
     "data": {
      "image/png": "[encoded data removed]",
      "text/plain": [
       "<Figure size 620x450 with 1 Axes>"
      ]
     },
     "metadata": {},
     "output_type": "display_data"
    }
   ],
   "source": [
    "Classes = ['0', 'base', 'stress', 'amus', 'med']\n",
    "error = ClassPredictionError(ch_lessAcc, size=(620, 450), classes=Classes)\n",
    "error.score(x_test, y_test)\n",
    "e = error.poof()"
   ]
  },
  {
   "cell_type": "markdown",
   "metadata": {},
   "source": [
    "### Multiclass ROC AUC Score"
   ]
  },
  {
   "cell_type": "code",
   "execution_count": 37,
   "metadata": {},
   "outputs": [
    {
     "name": "stdout",
     "output_type": "stream",
     "text": [
      "S11 All Chest less ACC\n",
      "-------------------------------\n",
      "AUC: 96.20%\n"
     ]
    }
   ],
   "source": [
    "def multiclass_roc_auc_score(y_test, ch_lessAcc_pred, average = 'micro'): \n",
    "    xg = preprocessing.LabelBinarizer()\n",
    "    xg.fit(y_test)\n",
    "    y_test1 = xg.transform(y_test) \n",
    "    y_pred1 = xg.transform(ch_lessAcc_pred)\n",
    "    return roc_auc_score(y_test1, y_pred1, average=average)\n",
    "\n",
    "aucScore = multiclass_roc_auc_score(y_test, ch_lessAcc_pred)\n",
    "\n",
    "print('S11 All Chest less ACC')\n",
    "print('-------------------------------')\n",
    "print(\"AUC: %.2f%%\" % (aucScore*100))"
   ]
  },
  {
   "cell_type": "markdown",
   "metadata": {},
   "source": [
    "##  Model ACC: Accelerometer [X,Y,Z]"
   ]
  },
  {
   "cell_type": "markdown",
   "metadata": {},
   "source": [
    "### Train Test Split"
   ]
  },
  {
   "cell_type": "code",
   "execution_count": 38,
   "metadata": {},
   "outputs": [
    {
     "name": "stdout",
     "output_type": "stream",
     "text": [
      "(3035200, 3)\n",
      "(758800,)\n"
     ]
    }
   ],
   "source": [
    "ch_ACC = ch_loc[['cax', 'cay', 'caz', 'label']]\n",
    "y = ch_ACC.label\n",
    "x = ch_ACC.drop('label',axis=1)\n",
    "x_train, x_test, y_train, y_test = train_test_split(x, y, test_size=0.2)\n",
    "print(x_train.shape)\n",
    "print(y_test.shape)"
   ]
  },
  {
   "cell_type": "markdown",
   "metadata": {},
   "source": [
    "### Model Fit and f1 and Balanced Accuracy Scores"
   ]
  },
  {
   "cell_type": "code",
   "execution_count": 39,
   "metadata": {},
   "outputs": [
    {
     "name": "stdout",
     "output_type": "stream",
     "text": [
      "Balanced Accuracy: 0.7831199928579576\n",
      "---------------------------------------\n",
      "------------ S11 Chest ACC Classification Report------------\n",
      "              precision    recall  f1-score   support\n",
      "\n",
      "         0.0     0.8522    0.8559    0.8540    336067\n",
      "         1.0     0.8681    0.8064    0.8361    164775\n",
      "         2.0     0.6643    0.6811    0.6726     93043\n",
      "         3.0     0.7466    0.6454    0.6923     53661\n",
      "         4.0     0.8156    0.9268    0.8676    111254\n",
      "\n",
      "    accuracy                         0.8192    758800\n",
      "   macro avg     0.7894    0.7831    0.7845    758800\n",
      "weighted avg     0.8198    0.8192    0.8185    758800\n",
      "\n",
      "Wall time: 58.1 s\n"
     ]
    }
   ],
   "source": [
    "%%time\n",
    "ACC = XGBClassifier(objective = 'multi:softmax',\n",
    "                    tree_method = 'gpu_hist',\n",
    "                    learning_rate = 0.1,\n",
    "                    gradient_based = 0.1,\n",
    "                    max_depth = 10,\n",
    "                    num_early_stopping_rounds = 20,\n",
    "                    n_estimators = 300,\n",
    "                    gamma = 3,\n",
    "                    verbosity = 2) \n",
    "\n",
    "model_ACC = ACC.fit(x_train, y_train)\n",
    "ACC_pred = ACC.predict(x_test)\n",
    "ACC_report = (classification_report(y_test,\n",
    "                                    ACC_pred,\n",
    "                                    labels=np.unique(ACC_pred),\n",
    "                                    digits=4))\n",
    "\n",
    "print('Balanced Accuracy:', balanced_accuracy_score(y_test, ACC_pred))\n",
    "print('---------------------------------------')\n",
    "print('------------ S11 Chest ACC Classification Report------------')\n",
    "print(ACC_report)"
   ]
  },
  {
   "cell_type": "markdown",
   "metadata": {},
   "source": [
    "### Confusion matrix "
   ]
  },
  {
   "cell_type": "code",
   "execution_count": 40,
   "metadata": {},
   "outputs": [
    {
     "data": {
      "image/png": "[encoded data removed]",
      "text/plain": [
       "<Figure size 576x432 with 2 Axes>"
      ]
     },
     "metadata": {},
     "output_type": "display_data"
    }
   ],
   "source": [
    "cm = confusion_matrix(y_test, ACC_pred)\n",
    "plt.figure(figsize=(8,6))\n",
    "sns.heatmap(cm, annot=True, fmt='d', cmap=plt.cm.BuPu );"
   ]
  },
  {
   "cell_type": "markdown",
   "metadata": {},
   "source": [
    "### Classification Prediction Error"
   ]
  },
  {
   "cell_type": "code",
   "execution_count": 41,
   "metadata": {},
   "outputs": [
    {
     "data": {
      "image/png": "[encoded data removed]",
      "text/plain": [
       "<Figure size 620x450 with 1 Axes>"
      ]
     },
     "metadata": {},
     "output_type": "display_data"
    }
   ],
   "source": [
    "Classes = ['0', 'base', 'stress', 'amus', 'med']\n",
    "error = ClassPredictionError(ACC, size=(620, 450), classes=Classes)\n",
    "error.score(x_test, y_test)\n",
    "e = error.poof()"
   ]
  },
  {
   "cell_type": "markdown",
   "metadata": {},
   "source": [
    "### Multiclass ROC AUC Score"
   ]
  },
  {
   "cell_type": "code",
   "execution_count": 42,
   "metadata": {},
   "outputs": [
    {
     "name": "stdout",
     "output_type": "stream",
     "text": [
      "S11 Chest Accelerometer\n",
      "-------------------\n",
      "AUC: 86.63%\n"
     ]
    }
   ],
   "source": [
    "def multiclass_roc_auc_score(y_test, ACC_pred, average = 'macro'): #(None, 'micro', 'macro', 'weighted', 'samples')\n",
    "    xg = preprocessing.LabelBinarizer()\n",
    "    xg.fit(y_test)\n",
    "    y_test1 = xg.transform(y_test) \n",
    "    y_pred1 = xg.transform(ACC_pred)\n",
    "    return roc_auc_score(y_test1, y_pred1, average=average)\n",
    "\n",
    "aucScore = multiclass_roc_auc_score(y_test, ACC_pred)\n",
    "\n",
    "print('S11 Chest Accelerometer')\n",
    "print('-------------------')\n",
    "print(\"AUC: %.2f%%\" % (aucScore*100))  "
   ]
  },
  {
   "cell_type": "markdown",
   "metadata": {},
   "source": [
    "## Model Eda: Electrodermal Activity only"
   ]
  },
  {
   "cell_type": "code",
   "execution_count": 18,
   "metadata": {},
   "outputs": [
    {
     "name": "stdout",
     "output_type": "stream",
     "text": [
      "(3035200, 1)\n",
      "(758800,)\n"
     ]
    }
   ],
   "source": [
    "ch_eda= ch_loc[['ceda', 'label']]\n",
    "y = ch_eda.label\n",
    "x = ch_eda.drop('label',axis=1)\n",
    "x_train, x_test, y_train, y_test = train_test_split(x, y, test_size=0.2)\n",
    "print(x_train.shape)\n",
    "print(y_test.shape)"
   ]
  },
  {
   "cell_type": "code",
   "execution_count": 19,
   "metadata": {},
   "outputs": [
    {
     "name": "stdout",
     "output_type": "stream",
     "text": [
      "Balanced Accuracy: 0.834649609024584\n",
      "---------------------------------------\n",
      "------------ S11 Chest Electrodermal Activity Classification Report------------\n",
      "              precision    recall  f1-score   support\n",
      "\n",
      "         0.0     0.8066    0.9110    0.8556    336213\n",
      "         1.0     0.9294    0.9923    0.9598    164999\n",
      "         2.0     0.9839    0.8554    0.9151     93068\n",
      "         3.0     0.9047    0.9072    0.9059     53645\n",
      "         4.0     0.8247    0.5074    0.6283    110875\n",
      "\n",
      "    accuracy                         0.8626    758800\n",
      "   macro avg     0.8899    0.8346    0.8530    758800\n",
      "weighted avg     0.8646    0.8626    0.8559    758800\n",
      "\n",
      "Wall time: 1min 4s\n"
     ]
    }
   ],
   "source": [
    "%%time\n",
    "Eda = XGBClassifier(objective = 'multi:softmax',\n",
    "                    tree_method = 'gpu_hist',\n",
    "                    learning_rate = 0.1,\n",
    "                    gradient_based = 0.1,\n",
    "                    num_early_stopping_rounds = 20,\n",
    "                    n_estimators = 300,\n",
    "                    max_depth = 10,\n",
    "                    gamma = 3,\n",
    "                    seed = 24,\n",
    "                    verbosity = 2) \n",
    "\n",
    "model_Eda = Eda.fit(x_train, y_train)\n",
    "Eda_pred = Eda.predict(x_test)\n",
    "Eda_report = (classification_report(y_test,\n",
    "                                    Eda_pred,\n",
    "                                    labels = np.unique(Eda_pred),\n",
    "                                    digits = 4))\n",
    "\n",
    "print('Balanced Accuracy:', balanced_accuracy_score(y_test, Eda_pred))\n",
    "print('---------------------------------------')\n",
    "print('------------ S11 Chest Electrodermal Activity Classification Report------------')\n",
    "print(Eda_report)"
   ]
  },
  {
   "cell_type": "code",
   "execution_count": 20,
   "metadata": {},
   "outputs": [
    {
     "data": {
      "image/png": "[encoded data removed]",
      "text/plain": [
       "<Figure size 576x432 with 2 Axes>"
      ]
     },
     "metadata": {},
     "output_type": "display_data"
    }
   ],
   "source": [
    "cm = confusion_matrix(y_test, Eda_pred)\n",
    "plt.figure(figsize=(8,6))\n",
    "sns.heatmap(cm, annot=True, fmt='d', cmap=plt.cm.BuPu );"
   ]
  },
  {
   "cell_type": "code",
   "execution_count": 21,
   "metadata": {},
   "outputs": [
    {
     "data": {
      "image/png": "[encoded data removed]",
      "text/plain": [
       "<Figure size 620x450 with 1 Axes>"
      ]
     },
     "metadata": {},
     "output_type": "display_data"
    }
   ],
   "source": [
    "Classes = ['0', 'base', 'stress', 'amus', 'med']\n",
    "error = ClassPredictionError(Eda, size=(620, 450), classes=Classes)\n",
    "error.score(x_test, y_test)\n",
    "e = error.poof()"
   ]
  },
  {
   "cell_type": "code",
   "execution_count": 22,
   "metadata": {},
   "outputs": [
    {
     "name": "stdout",
     "output_type": "stream",
     "text": [
      "S11 Chest Skin Temperature\n",
      "-------------------\n",
      "AUC: 89.51%\n"
     ]
    }
   ],
   "source": [
    "def multiclass_roc_auc_score(y_test, Eda_pred, average = 'macro'): #(None, 'micro', 'macro', 'weighted', 'samples')\n",
    "    xg = preprocessing.LabelBinarizer()\n",
    "    xg.fit(y_test)\n",
    "    y_test1 = xg.transform(y_test) \n",
    "    y_pred1 = xg.transform(Eda_pred)\n",
    "    return roc_auc_score(y_test1, y_pred1, average=average)\n",
    "\n",
    "aucScore = multiclass_roc_auc_score(y_test, Eda_pred)\n",
    "\n",
    "print('S11 Chest Skin Temperature')\n",
    "print('-------------------')\n",
    "print(\"AUC: %.2f%%\" % (aucScore*100))  "
   ]
  },
  {
   "cell_type": "code",
   "execution_count": null,
   "metadata": {},
   "outputs": [],
   "source": []
  }
 ],
 "metadata": {
  "kernelspec": {
   "display_name": "practicum1",
   "language": "python",
   "name": "practicum1"
  },
  "language_info": {
   "codemirror_mode": {
    "name": "ipython",
    "version": 3
   },
   "file_extension": ".py",
   "mimetype": "text/x-python",
   "name": "python",
   "nbconvert_exporter": "python",
   "pygments_lexer": "ipython3",
   "version": "3.7.6"
  }
 },
 "nbformat": 4,
 "nbformat_minor": 2
}
