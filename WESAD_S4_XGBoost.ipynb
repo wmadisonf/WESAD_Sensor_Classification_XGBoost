{
 "cells": [
  {
   "cell_type": "markdown",
   "metadata": {},
   "source": [
    "# S4 WESAD XGBoost  "
   ]
  },
  {
   "cell_type": "markdown",
   "metadata": {},
   "source": [
    "    Male Participant\n",
    "    Age: 25\n",
    "    Height (cm): 175\n",
    "    Weight (kg): 90"
   ]
  },
  {
   "cell_type": "markdown",
   "metadata": {},
   "source": [
    "# Load Tools"
   ]
  },
  {
   "cell_type": "code",
   "execution_count": 2,
   "metadata": {},
   "outputs": [],
   "source": [
    "%matplotlib inline\n",
    "import pickle\n",
    "import numpy as np\n",
    "import pandas as pd\n",
    "import matplotlib\n",
    "import matplotlib.pyplot as plt\n",
    "import seaborn as sns\n",
    "import warnings\n",
    "warnings.filterwarnings('ignore')"
   ]
  },
  {
   "cell_type": "code",
   "execution_count": 3,
   "metadata": {},
   "outputs": [],
   "source": [
    "import sklearn as skl\n",
    "from sklearn.model_selection import train_test_split\n",
    "from sklearn.metrics import confusion_matrix, classification_report\n",
    "from sklearn.metrics import balanced_accuracy_score, f1_score, roc_auc_score \n",
    "from sklearn import preprocessing\n",
    "from sklearn.preprocessing import LabelEncoder, StandardScaler, label_binarize\n",
    "import xgboost as xgb\n",
    "from xgboost import plot_importance, XGBClassifier"
   ]
  },
  {
   "cell_type": "code",
   "execution_count": 4,
   "metadata": {},
   "outputs": [],
   "source": [
    "# Visualizing High-Performance Gradient Boosting with XGBoost and Yellowbrick\n",
    "# https://rebeccabilbro.github.io/xgboost-and-yellowbrick/\n",
    "# conda install -c districtdatalabs yellowbrick\n",
    "\n",
    "from yellowbrick.classifier import ClassBalance, ROCAUC, ClassificationReport, ClassPredictionError"
   ]
  },
  {
   "cell_type": "code",
   "execution_count": 5,
   "metadata": {},
   "outputs": [],
   "source": [
    "sns.set(style=\"darkgrid\")"
   ]
  },
  {
   "cell_type": "code",
   "execution_count": 6,
   "metadata": {},
   "outputs": [],
   "source": [
    "# https://medium.com/ibm-data-science-experience/markdown-for-jupyter-notebooks-cheatsheet-386c05aeebed#:~:text=Colors%3A%20Use%20this%20code%3A%20%3C,space%2C%20then%20type%20the%20text.\n",
    "# https://www.w3schools.com/charsets/ref_utf_geometric.asp# import pydot"
   ]
  },
  {
   "cell_type": "code",
   "execution_count": 7,
   "metadata": {},
   "outputs": [
    {
     "name": "stdout",
     "output_type": "stream",
     "text": [
      "WForsythe 2020-08-02 16:13:38 \n",
      "\n",
      "CPython 3.7.6\n",
      "IPython 7.11.1\n",
      "\n",
      "numpy 1.18.1\n",
      "pandas 1.0.3\n",
      "cv2 4.2.0\n",
      "xgboost 1.0.2\n",
      "sklearn 0.22.1\n",
      "seaborn 0.9.0\n",
      "matplotlib 3.2.2\n",
      "yellowbrick 1.1\n"
     ]
    }
   ],
   "source": [
    "import autoreload\n",
    "%load_ext watermark\n",
    "%load_ext autoreload\n",
    "%autoreload 2\n",
    "%watermark -a 'WForsythe' -d -t -v -p   numpy,pandas,cv2,xgboost,sklearn,seaborn,matplotlib,yellowbrick"
   ]
  },
  {
   "cell_type": "markdown",
   "metadata": {},
   "source": [
    "# Load and Process File"
   ]
  },
  {
   "cell_type": "markdown",
   "metadata": {},
   "source": [
    "## Load File"
   ]
  },
  {
   "cell_type": "code",
   "execution_count": 8,
   "metadata": {},
   "outputs": [
    {
     "name": "stdout",
     "output_type": "stream",
     "text": [
      "Wall time: 12.2 s\n"
     ]
    },
    {
     "data": {
      "text/plain": [
       "{'signal': {'chest': {'ACC': array([[ 1.55539989, -0.07840002,  1.36240005],\n",
       "          [ 1.51300001, -0.10699999,  1.45860004],\n",
       "          [ 1.4460001 , -0.10420001,  1.06040001],\n",
       "          ...,\n",
       "          [ 0.89020002, -0.079     , -0.23000002],\n",
       "          [ 0.8908    , -0.07980001, -0.22659999],\n",
       "          [ 0.88940001, -0.0794    , -0.22780001]]),\n",
       "   'ECG': array([[-1.40538025],\n",
       "          [-1.3996582 ],\n",
       "          [-1.39338684],\n",
       "          ...,\n",
       "          [ 0.11128235],\n",
       "          [ 0.12547302],\n",
       "          [ 0.13499451]]),\n",
       "   'EMG': array([[ 0.04417419],\n",
       "          [ 0.01547241],\n",
       "          [-0.03204346],\n",
       "          ...,\n",
       "          [ 0.00567627],\n",
       "          [ 0.01625061],\n",
       "          [-0.00013733]]),\n",
       "   'EDA': array([[1.09634399],\n",
       "          [1.09443665],\n",
       "          [1.09405518],\n",
       "          ...,\n",
       "          [2.48260498],\n",
       "          [2.49443054],\n",
       "          [2.49404907]]),\n",
       "   'Temp': array([[32.506256],\n",
       "          [32.49878 ],\n",
       "          [32.50177 ],\n",
       "          ...,\n",
       "          [33.630707],\n",
       "          [33.633728],\n",
       "          [33.62918 ]], dtype=float32),\n",
       "   'Resp': array([[2.83660889],\n",
       "          [2.83966064],\n",
       "          [2.83813477],\n",
       "          ...,\n",
       "          [2.58178711],\n",
       "          [2.57110596],\n",
       "          [2.56195068]])},\n",
       "  'wrist': {'ACC': array([[-128.,  122.,   88.],\n",
       "          [ -31.,  -34.,   77.],\n",
       "          [ -61.,    4.,   62.],\n",
       "          ...,\n",
       "          [   5.,  -29.,   55.],\n",
       "          [   6.,  -29.,   56.],\n",
       "          [   6.,  -28.,   56.]]), 'BVP': array([[  -3.69],\n",
       "          [  -5.53],\n",
       "          [  -7.82],\n",
       "          ...,\n",
       "          [-102.58],\n",
       "          [-105.06],\n",
       "          [-106.6 ]]), 'EDA': array([[0.169117],\n",
       "          [0.164001],\n",
       "          [0.167838],\n",
       "          ...,\n",
       "          [0.139696],\n",
       "          [0.138417],\n",
       "          [0.139696]]), 'TEMP': array([[32.53],\n",
       "          [32.53],\n",
       "          [32.53],\n",
       "          ...,\n",
       "          [31.37],\n",
       "          [31.37],\n",
       "          [31.37]])}},\n",
       " 'label': array([0, 0, 0, ..., 0, 0, 0]),\n",
       " 'subject': 'S4'}"
      ]
     },
     "execution_count": 8,
     "metadata": {},
     "output_type": "execute_result"
    }
   ],
   "source": [
    "%%time\n",
    "data = 'D:/WESAD/'\n",
    "s4_file = pd.read_pickle(data + 'S4/S4.pkl')\n",
    "s4_file"
   ]
  },
  {
   "cell_type": "markdown",
   "metadata": {},
   "source": [
    "## Process"
   ]
  },
  {
   "cell_type": "markdown",
   "metadata": {},
   "source": [
    "### Separate chest features  from wrist  features "
   ]
  },
  {
   "cell_type": "code",
   "execution_count": 9,
   "metadata": {},
   "outputs": [],
   "source": [
    "cax = s4_file['signal']['chest']['ACC'][0:,0]\n",
    "cay = s4_file['signal']['chest']['ACC'][0:,1]\n",
    "caz = s4_file['signal']['chest']['ACC'][0:,2]\n",
    "cecg = s4_file['signal']['chest']['ECG'][:,0]\n",
    "cemg = s4_file['signal']['chest']['EMG'][:,0]\n",
    "ceda = s4_file['signal']['chest']['EDA'][:,0]\n",
    "ctemp = s4_file['signal']['chest']['Temp'][:,0]\n",
    "cresp = s4_file['signal']['chest']['Resp'][:,0]\n",
    "label = s4_file['label']"
   ]
  },
  {
   "cell_type": "code",
   "execution_count": 10,
   "metadata": {},
   "outputs": [
    {
     "data": {
      "text/plain": [
       "array([0, 0, 0, ..., 0, 0, 0])"
      ]
     },
     "execution_count": 10,
     "metadata": {},
     "output_type": "execute_result"
    }
   ],
   "source": [
    "label"
   ]
  },
  {
   "cell_type": "markdown",
   "metadata": {},
   "source": [
    "### Change dictionary object to a numpy array and array to a dataframe"
   ]
  },
  {
   "cell_type": "code",
   "execution_count": 11,
   "metadata": {},
   "outputs": [],
   "source": [
    "# Python | Numpy ndarray.T\n",
    "# https://www.geeksforgeeks.org/python-numpy-ndarray-t/\n",
    "# Numpy Array Cookbook: Generating and Manipulating Arrays in Python\n",
    "# https://towardsdatascience.com/numpy-array-cookbook-generating-and-manipulating-arrays-in-python-2195c3988b09"
   ]
  },
  {
   "cell_type": "code",
   "execution_count": 12,
   "metadata": {},
   "outputs": [
    {
     "data": {
      "text/html": [
       "<div>\n",
       "<style scoped>\n",
       "    .dataframe tbody tr th:only-of-type {\n",
       "        vertical-align: middle;\n",
       "    }\n",
       "\n",
       "    .dataframe tbody tr th {\n",
       "        vertical-align: top;\n",
       "    }\n",
       "\n",
       "    .dataframe thead th {\n",
       "        text-align: right;\n",
       "    }\n",
       "</style>\n",
       "<table border=\"1\" class=\"dataframe\">\n",
       "  <thead>\n",
       "    <tr style=\"text-align: right;\">\n",
       "      <th></th>\n",
       "      <th>cax</th>\n",
       "      <th>cay</th>\n",
       "      <th>caz</th>\n",
       "      <th>cecg</th>\n",
       "      <th>cemg</th>\n",
       "      <th>ceda</th>\n",
       "      <th>ctemp</th>\n",
       "      <th>cresp</th>\n",
       "      <th>label</th>\n",
       "    </tr>\n",
       "  </thead>\n",
       "  <tbody>\n",
       "    <tr>\n",
       "      <th>0</th>\n",
       "      <td>1.5554</td>\n",
       "      <td>-0.0784</td>\n",
       "      <td>1.3624</td>\n",
       "      <td>-1.405380</td>\n",
       "      <td>0.044174</td>\n",
       "      <td>1.096344</td>\n",
       "      <td>32.506256</td>\n",
       "      <td>2.836609</td>\n",
       "      <td>0.0</td>\n",
       "    </tr>\n",
       "    <tr>\n",
       "      <th>1</th>\n",
       "      <td>1.5130</td>\n",
       "      <td>-0.1070</td>\n",
       "      <td>1.4586</td>\n",
       "      <td>-1.399658</td>\n",
       "      <td>0.015472</td>\n",
       "      <td>1.094437</td>\n",
       "      <td>32.498779</td>\n",
       "      <td>2.839661</td>\n",
       "      <td>0.0</td>\n",
       "    </tr>\n",
       "    <tr>\n",
       "      <th>2</th>\n",
       "      <td>1.4460</td>\n",
       "      <td>-0.1042</td>\n",
       "      <td>1.0604</td>\n",
       "      <td>-1.393387</td>\n",
       "      <td>-0.032043</td>\n",
       "      <td>1.094055</td>\n",
       "      <td>32.501770</td>\n",
       "      <td>2.838135</td>\n",
       "      <td>0.0</td>\n",
       "    </tr>\n",
       "    <tr>\n",
       "      <th>3</th>\n",
       "      <td>1.3382</td>\n",
       "      <td>-0.0622</td>\n",
       "      <td>0.4234</td>\n",
       "      <td>-1.387436</td>\n",
       "      <td>-0.003799</td>\n",
       "      <td>1.094818</td>\n",
       "      <td>32.491302</td>\n",
       "      <td>2.839661</td>\n",
       "      <td>0.0</td>\n",
       "    </tr>\n",
       "    <tr>\n",
       "      <th>4</th>\n",
       "      <td>1.1958</td>\n",
       "      <td>-0.0306</td>\n",
       "      <td>-0.0164</td>\n",
       "      <td>-1.381165</td>\n",
       "      <td>0.020370</td>\n",
       "      <td>1.092911</td>\n",
       "      <td>32.501770</td>\n",
       "      <td>2.882385</td>\n",
       "      <td>0.0</td>\n",
       "    </tr>\n",
       "    <tr>\n",
       "      <th>...</th>\n",
       "      <td>...</td>\n",
       "      <td>...</td>\n",
       "      <td>...</td>\n",
       "      <td>...</td>\n",
       "      <td>...</td>\n",
       "      <td>...</td>\n",
       "      <td>...</td>\n",
       "      <td>...</td>\n",
       "      <td>...</td>\n",
       "    </tr>\n",
       "    <tr>\n",
       "      <th>4496095</th>\n",
       "      <td>0.8926</td>\n",
       "      <td>-0.0810</td>\n",
       "      <td>-0.2290</td>\n",
       "      <td>0.082443</td>\n",
       "      <td>0.008743</td>\n",
       "      <td>2.483749</td>\n",
       "      <td>33.650391</td>\n",
       "      <td>2.578735</td>\n",
       "      <td>0.0</td>\n",
       "    </tr>\n",
       "    <tr>\n",
       "      <th>4496096</th>\n",
       "      <td>0.8944</td>\n",
       "      <td>-0.0824</td>\n",
       "      <td>-0.2276</td>\n",
       "      <td>0.093796</td>\n",
       "      <td>-0.024673</td>\n",
       "      <td>2.480698</td>\n",
       "      <td>33.650391</td>\n",
       "      <td>1.963806</td>\n",
       "      <td>0.0</td>\n",
       "    </tr>\n",
       "    <tr>\n",
       "      <th>4496097</th>\n",
       "      <td>0.8902</td>\n",
       "      <td>-0.0790</td>\n",
       "      <td>-0.2300</td>\n",
       "      <td>0.111282</td>\n",
       "      <td>0.005676</td>\n",
       "      <td>2.482605</td>\n",
       "      <td>33.630707</td>\n",
       "      <td>2.581787</td>\n",
       "      <td>0.0</td>\n",
       "    </tr>\n",
       "    <tr>\n",
       "      <th>4496098</th>\n",
       "      <td>0.8908</td>\n",
       "      <td>-0.0798</td>\n",
       "      <td>-0.2266</td>\n",
       "      <td>0.125473</td>\n",
       "      <td>0.016251</td>\n",
       "      <td>2.494431</td>\n",
       "      <td>33.633728</td>\n",
       "      <td>2.571106</td>\n",
       "      <td>0.0</td>\n",
       "    </tr>\n",
       "    <tr>\n",
       "      <th>4496099</th>\n",
       "      <td>0.8894</td>\n",
       "      <td>-0.0794</td>\n",
       "      <td>-0.2278</td>\n",
       "      <td>0.134995</td>\n",
       "      <td>-0.000137</td>\n",
       "      <td>2.494049</td>\n",
       "      <td>33.629181</td>\n",
       "      <td>2.561951</td>\n",
       "      <td>0.0</td>\n",
       "    </tr>\n",
       "  </tbody>\n",
       "</table>\n",
       "<p>4496100 rows × 9 columns</p>\n",
       "</div>"
      ],
      "text/plain": [
       "            cax     cay     caz      cecg      cemg      ceda      ctemp  \\\n",
       "0        1.5554 -0.0784  1.3624 -1.405380  0.044174  1.096344  32.506256   \n",
       "1        1.5130 -0.1070  1.4586 -1.399658  0.015472  1.094437  32.498779   \n",
       "2        1.4460 -0.1042  1.0604 -1.393387 -0.032043  1.094055  32.501770   \n",
       "3        1.3382 -0.0622  0.4234 -1.387436 -0.003799  1.094818  32.491302   \n",
       "4        1.1958 -0.0306 -0.0164 -1.381165  0.020370  1.092911  32.501770   \n",
       "...         ...     ...     ...       ...       ...       ...        ...   \n",
       "4496095  0.8926 -0.0810 -0.2290  0.082443  0.008743  2.483749  33.650391   \n",
       "4496096  0.8944 -0.0824 -0.2276  0.093796 -0.024673  2.480698  33.650391   \n",
       "4496097  0.8902 -0.0790 -0.2300  0.111282  0.005676  2.482605  33.630707   \n",
       "4496098  0.8908 -0.0798 -0.2266  0.125473  0.016251  2.494431  33.633728   \n",
       "4496099  0.8894 -0.0794 -0.2278  0.134995 -0.000137  2.494049  33.629181   \n",
       "\n",
       "            cresp  label  \n",
       "0        2.836609    0.0  \n",
       "1        2.839661    0.0  \n",
       "2        2.838135    0.0  \n",
       "3        2.839661    0.0  \n",
       "4        2.882385    0.0  \n",
       "...           ...    ...  \n",
       "4496095  2.578735    0.0  \n",
       "4496096  1.963806    0.0  \n",
       "4496097  2.581787    0.0  \n",
       "4496098  2.571106    0.0  \n",
       "4496099  2.561951    0.0  \n",
       "\n",
       "[4496100 rows x 9 columns]"
      ]
     },
     "execution_count": 12,
     "metadata": {},
     "output_type": "execute_result"
    }
   ],
   "source": [
    "chest = [cax, cay, caz, cecg, cemg, \n",
    "         ceda, ctemp, cresp, label] \n",
    "ch_array = np.array(chest) \n",
    "ch_array = ch_array.T # transpose \n",
    "Columns = ['cax', 'cay', 'caz','cecg', 'cemg', \n",
    "          'ceda','ctemp', 'cresp', 'label' ]\n",
    "ch_df = pd.DataFrame(ch_array, columns = Columns) \n",
    "ch_df"
   ]
  },
  {
   "cell_type": "markdown",
   "metadata": {},
   "source": [
    "#### Check Statistics"
   ]
  },
  {
   "cell_type": "code",
   "execution_count": 13,
   "metadata": {},
   "outputs": [
    {
     "data": {
      "text/html": [
       "<div>\n",
       "<style scoped>\n",
       "    .dataframe tbody tr th:only-of-type {\n",
       "        vertical-align: middle;\n",
       "    }\n",
       "\n",
       "    .dataframe tbody tr th {\n",
       "        vertical-align: top;\n",
       "    }\n",
       "\n",
       "    .dataframe thead th {\n",
       "        text-align: right;\n",
       "    }\n",
       "</style>\n",
       "<table border=\"1\" class=\"dataframe\">\n",
       "  <thead>\n",
       "    <tr style=\"text-align: right;\">\n",
       "      <th></th>\n",
       "      <th>count</th>\n",
       "      <th>mean</th>\n",
       "      <th>std</th>\n",
       "      <th>min</th>\n",
       "      <th>25%</th>\n",
       "      <th>50%</th>\n",
       "      <th>75%</th>\n",
       "      <th>max</th>\n",
       "    </tr>\n",
       "  </thead>\n",
       "  <tbody>\n",
       "    <tr>\n",
       "      <th>cax</th>\n",
       "      <td>4496100.0</td>\n",
       "      <td>0.789582</td>\n",
       "      <td>0.118992</td>\n",
       "      <td>-0.009800</td>\n",
       "      <td>0.719800</td>\n",
       "      <td>0.806200</td>\n",
       "      <td>0.895800</td>\n",
       "      <td>1.694200</td>\n",
       "    </tr>\n",
       "    <tr>\n",
       "      <th>cay</th>\n",
       "      <td>4496100.0</td>\n",
       "      <td>-0.236378</td>\n",
       "      <td>0.151279</td>\n",
       "      <td>-0.622200</td>\n",
       "      <td>-0.394000</td>\n",
       "      <td>-0.194200</td>\n",
       "      <td>-0.115600</td>\n",
       "      <td>0.469000</td>\n",
       "    </tr>\n",
       "    <tr>\n",
       "      <th>caz</th>\n",
       "      <td>4496100.0</td>\n",
       "      <td>-0.350279</td>\n",
       "      <td>0.240648</td>\n",
       "      <td>-1.440200</td>\n",
       "      <td>-0.496200</td>\n",
       "      <td>-0.380000</td>\n",
       "      <td>-0.170400</td>\n",
       "      <td>1.947000</td>\n",
       "    </tr>\n",
       "    <tr>\n",
       "      <th>cecg</th>\n",
       "      <td>4496100.0</td>\n",
       "      <td>0.001240</td>\n",
       "      <td>0.234884</td>\n",
       "      <td>-1.499405</td>\n",
       "      <td>-0.073975</td>\n",
       "      <td>-0.024673</td>\n",
       "      <td>0.008560</td>\n",
       "      <td>1.499954</td>\n",
       "    </tr>\n",
       "    <tr>\n",
       "      <th>cemg</th>\n",
       "      <td>4496100.0</td>\n",
       "      <td>-0.002288</td>\n",
       "      <td>0.014199</td>\n",
       "      <td>-0.195877</td>\n",
       "      <td>-0.009430</td>\n",
       "      <td>-0.001968</td>\n",
       "      <td>0.004623</td>\n",
       "      <td>0.365891</td>\n",
       "    </tr>\n",
       "    <tr>\n",
       "      <th>ceda</th>\n",
       "      <td>4496100.0</td>\n",
       "      <td>2.176569</td>\n",
       "      <td>1.044990</td>\n",
       "      <td>0.912094</td>\n",
       "      <td>1.363754</td>\n",
       "      <td>1.538467</td>\n",
       "      <td>2.666855</td>\n",
       "      <td>5.508423</td>\n",
       "    </tr>\n",
       "    <tr>\n",
       "      <th>ctemp</th>\n",
       "      <td>4496100.0</td>\n",
       "      <td>33.298668</td>\n",
       "      <td>0.403770</td>\n",
       "      <td>32.342224</td>\n",
       "      <td>32.956757</td>\n",
       "      <td>33.245544</td>\n",
       "      <td>33.704956</td>\n",
       "      <td>34.092499</td>\n",
       "    </tr>\n",
       "    <tr>\n",
       "      <th>cresp</th>\n",
       "      <td>4496100.0</td>\n",
       "      <td>0.056295</td>\n",
       "      <td>2.481089</td>\n",
       "      <td>-20.941162</td>\n",
       "      <td>-1.226807</td>\n",
       "      <td>-0.074768</td>\n",
       "      <td>1.377869</td>\n",
       "      <td>21.275330</td>\n",
       "    </tr>\n",
       "    <tr>\n",
       "      <th>label</th>\n",
       "      <td>4496100.0</td>\n",
       "      <td>1.190566</td>\n",
       "      <td>1.589549</td>\n",
       "      <td>0.000000</td>\n",
       "      <td>0.000000</td>\n",
       "      <td>0.000000</td>\n",
       "      <td>2.000000</td>\n",
       "      <td>7.000000</td>\n",
       "    </tr>\n",
       "  </tbody>\n",
       "</table>\n",
       "</div>"
      ],
      "text/plain": [
       "           count       mean       std        min        25%        50%  \\\n",
       "cax    4496100.0   0.789582  0.118992  -0.009800   0.719800   0.806200   \n",
       "cay    4496100.0  -0.236378  0.151279  -0.622200  -0.394000  -0.194200   \n",
       "caz    4496100.0  -0.350279  0.240648  -1.440200  -0.496200  -0.380000   \n",
       "cecg   4496100.0   0.001240  0.234884  -1.499405  -0.073975  -0.024673   \n",
       "cemg   4496100.0  -0.002288  0.014199  -0.195877  -0.009430  -0.001968   \n",
       "ceda   4496100.0   2.176569  1.044990   0.912094   1.363754   1.538467   \n",
       "ctemp  4496100.0  33.298668  0.403770  32.342224  32.956757  33.245544   \n",
       "cresp  4496100.0   0.056295  2.481089 -20.941162  -1.226807  -0.074768   \n",
       "label  4496100.0   1.190566  1.589549   0.000000   0.000000   0.000000   \n",
       "\n",
       "             75%        max  \n",
       "cax     0.895800   1.694200  \n",
       "cay    -0.115600   0.469000  \n",
       "caz    -0.170400   1.947000  \n",
       "cecg    0.008560   1.499954  \n",
       "cemg    0.004623   0.365891  \n",
       "ceda    2.666855   5.508423  \n",
       "ctemp  33.704956  34.092499  \n",
       "cresp   1.377869  21.275330  \n",
       "label   2.000000   7.000000  "
      ]
     },
     "execution_count": 13,
     "metadata": {},
     "output_type": "execute_result"
    }
   ],
   "source": [
    "ch_df.describe().T"
   ]
  },
  {
   "cell_type": "markdown",
   "metadata": {},
   "source": [
    "#### Check Type"
   ]
  },
  {
   "cell_type": "code",
   "execution_count": 14,
   "metadata": {},
   "outputs": [
    {
     "name": "stdout",
     "output_type": "stream",
     "text": [
      "<class 'pandas.core.frame.DataFrame'>\n",
      "RangeIndex: 4496100 entries, 0 to 4496099\n",
      "Data columns (total 9 columns):\n",
      " #   Column  Dtype  \n",
      "---  ------  -----  \n",
      " 0   cax     float64\n",
      " 1   cay     float64\n",
      " 2   caz     float64\n",
      " 3   cecg    float64\n",
      " 4   cemg    float64\n",
      " 5   ceda    float64\n",
      " 6   ctemp   float64\n",
      " 7   cresp   float64\n",
      " 8   label   float64\n",
      "dtypes: float64(9)\n",
      "memory usage: 308.7 MB\n",
      "None\n"
     ]
    }
   ],
   "source": [
    "print(ch_df.info())"
   ]
  },
  {
   "cell_type": "markdown",
   "metadata": {},
   "source": [
    "### Concatenate classes 0, 1, 2, 3, and 4\n",
    "    Classes 5, 6 and 7 correspond to timed periods in which the participant answered questionnaires, \n",
    "    therefore, only classes 0, 1, 2, 3, and 4 will be used \n",
    "    Additionally, the significant imbalance has been eliminated"
   ]
  },
  {
   "cell_type": "code",
   "execution_count": 15,
   "metadata": {},
   "outputs": [],
   "source": [
    "loc0 = ch_df.loc[ch_df['label'] == 0]\n",
    "loc1 = ch_df.loc[ch_df['label'] == 1]\n",
    "loc2 = ch_df.loc[ch_df['label'] == 2]\n",
    "loc3 = ch_df.loc[ch_df['label'] == 3]\n",
    "loc4 = ch_df.loc[ch_df['label'] == 4]"
   ]
  },
  {
   "cell_type": "code",
   "execution_count": 16,
   "metadata": {},
   "outputs": [
    {
     "data": {
      "text/html": [
       "<div>\n",
       "<style scoped>\n",
       "    .dataframe tbody tr th:only-of-type {\n",
       "        vertical-align: middle;\n",
       "    }\n",
       "\n",
       "    .dataframe tbody tr th {\n",
       "        vertical-align: top;\n",
       "    }\n",
       "\n",
       "    .dataframe thead th {\n",
       "        text-align: right;\n",
       "    }\n",
       "</style>\n",
       "<table border=\"1\" class=\"dataframe\">\n",
       "  <thead>\n",
       "    <tr style=\"text-align: right;\">\n",
       "      <th></th>\n",
       "      <th>cax</th>\n",
       "      <th>cay</th>\n",
       "      <th>caz</th>\n",
       "      <th>cecg</th>\n",
       "      <th>cemg</th>\n",
       "      <th>ceda</th>\n",
       "      <th>ctemp</th>\n",
       "      <th>cresp</th>\n",
       "      <th>label</th>\n",
       "    </tr>\n",
       "  </thead>\n",
       "  <tbody>\n",
       "    <tr>\n",
       "      <th>0</th>\n",
       "      <td>1.5554</td>\n",
       "      <td>-0.0784</td>\n",
       "      <td>1.3624</td>\n",
       "      <td>-1.405380</td>\n",
       "      <td>0.044174</td>\n",
       "      <td>1.096344</td>\n",
       "      <td>32.506256</td>\n",
       "      <td>2.836609</td>\n",
       "      <td>0.0</td>\n",
       "    </tr>\n",
       "    <tr>\n",
       "      <th>1</th>\n",
       "      <td>1.5130</td>\n",
       "      <td>-0.1070</td>\n",
       "      <td>1.4586</td>\n",
       "      <td>-1.399658</td>\n",
       "      <td>0.015472</td>\n",
       "      <td>1.094437</td>\n",
       "      <td>32.498779</td>\n",
       "      <td>2.839661</td>\n",
       "      <td>0.0</td>\n",
       "    </tr>\n",
       "    <tr>\n",
       "      <th>2</th>\n",
       "      <td>1.4460</td>\n",
       "      <td>-0.1042</td>\n",
       "      <td>1.0604</td>\n",
       "      <td>-1.393387</td>\n",
       "      <td>-0.032043</td>\n",
       "      <td>1.094055</td>\n",
       "      <td>32.501770</td>\n",
       "      <td>2.838135</td>\n",
       "      <td>0.0</td>\n",
       "    </tr>\n",
       "    <tr>\n",
       "      <th>3</th>\n",
       "      <td>1.3382</td>\n",
       "      <td>-0.0622</td>\n",
       "      <td>0.4234</td>\n",
       "      <td>-1.387436</td>\n",
       "      <td>-0.003799</td>\n",
       "      <td>1.094818</td>\n",
       "      <td>32.491302</td>\n",
       "      <td>2.839661</td>\n",
       "      <td>0.0</td>\n",
       "    </tr>\n",
       "    <tr>\n",
       "      <th>4</th>\n",
       "      <td>1.1958</td>\n",
       "      <td>-0.0306</td>\n",
       "      <td>-0.0164</td>\n",
       "      <td>-1.381165</td>\n",
       "      <td>0.020370</td>\n",
       "      <td>1.092911</td>\n",
       "      <td>32.501770</td>\n",
       "      <td>2.882385</td>\n",
       "      <td>0.0</td>\n",
       "    </tr>\n",
       "    <tr>\n",
       "      <th>...</th>\n",
       "      <td>...</td>\n",
       "      <td>...</td>\n",
       "      <td>...</td>\n",
       "      <td>...</td>\n",
       "      <td>...</td>\n",
       "      <td>...</td>\n",
       "      <td>...</td>\n",
       "      <td>...</td>\n",
       "      <td>...</td>\n",
       "    </tr>\n",
       "    <tr>\n",
       "      <th>4251301</th>\n",
       "      <td>0.9026</td>\n",
       "      <td>-0.0522</td>\n",
       "      <td>0.0880</td>\n",
       "      <td>-0.098419</td>\n",
       "      <td>0.010849</td>\n",
       "      <td>2.528763</td>\n",
       "      <td>33.718567</td>\n",
       "      <td>1.707458</td>\n",
       "      <td>4.0</td>\n",
       "    </tr>\n",
       "    <tr>\n",
       "      <th>4251302</th>\n",
       "      <td>0.9030</td>\n",
       "      <td>-0.0506</td>\n",
       "      <td>0.0842</td>\n",
       "      <td>-0.134445</td>\n",
       "      <td>0.017990</td>\n",
       "      <td>2.527237</td>\n",
       "      <td>33.729218</td>\n",
       "      <td>1.707458</td>\n",
       "      <td>4.0</td>\n",
       "    </tr>\n",
       "    <tr>\n",
       "      <th>4251303</th>\n",
       "      <td>0.9066</td>\n",
       "      <td>-0.0524</td>\n",
       "      <td>0.0870</td>\n",
       "      <td>-0.180130</td>\n",
       "      <td>0.017075</td>\n",
       "      <td>2.539825</td>\n",
       "      <td>33.720123</td>\n",
       "      <td>1.719666</td>\n",
       "      <td>4.0</td>\n",
       "    </tr>\n",
       "    <tr>\n",
       "      <th>4251304</th>\n",
       "      <td>0.9086</td>\n",
       "      <td>-0.0534</td>\n",
       "      <td>0.0890</td>\n",
       "      <td>-0.240738</td>\n",
       "      <td>-0.002655</td>\n",
       "      <td>2.535248</td>\n",
       "      <td>33.714050</td>\n",
       "      <td>1.683044</td>\n",
       "      <td>4.0</td>\n",
       "    </tr>\n",
       "    <tr>\n",
       "      <th>4251305</th>\n",
       "      <td>0.9092</td>\n",
       "      <td>-0.0538</td>\n",
       "      <td>0.0904</td>\n",
       "      <td>-0.299698</td>\n",
       "      <td>-0.016434</td>\n",
       "      <td>2.546692</td>\n",
       "      <td>33.726166</td>\n",
       "      <td>1.696777</td>\n",
       "      <td>4.0</td>\n",
       "    </tr>\n",
       "  </tbody>\n",
       "</table>\n",
       "<p>4393200 rows × 9 columns</p>\n",
       "</div>"
      ],
      "text/plain": [
       "            cax     cay     caz      cecg      cemg      ceda      ctemp  \\\n",
       "0        1.5554 -0.0784  1.3624 -1.405380  0.044174  1.096344  32.506256   \n",
       "1        1.5130 -0.1070  1.4586 -1.399658  0.015472  1.094437  32.498779   \n",
       "2        1.4460 -0.1042  1.0604 -1.393387 -0.032043  1.094055  32.501770   \n",
       "3        1.3382 -0.0622  0.4234 -1.387436 -0.003799  1.094818  32.491302   \n",
       "4        1.1958 -0.0306 -0.0164 -1.381165  0.020370  1.092911  32.501770   \n",
       "...         ...     ...     ...       ...       ...       ...        ...   \n",
       "4251301  0.9026 -0.0522  0.0880 -0.098419  0.010849  2.528763  33.718567   \n",
       "4251302  0.9030 -0.0506  0.0842 -0.134445  0.017990  2.527237  33.729218   \n",
       "4251303  0.9066 -0.0524  0.0870 -0.180130  0.017075  2.539825  33.720123   \n",
       "4251304  0.9086 -0.0534  0.0890 -0.240738 -0.002655  2.535248  33.714050   \n",
       "4251305  0.9092 -0.0538  0.0904 -0.299698 -0.016434  2.546692  33.726166   \n",
       "\n",
       "            cresp  label  \n",
       "0        2.836609    0.0  \n",
       "1        2.839661    0.0  \n",
       "2        2.838135    0.0  \n",
       "3        2.839661    0.0  \n",
       "4        2.882385    0.0  \n",
       "...           ...    ...  \n",
       "4251301  1.707458    4.0  \n",
       "4251302  1.707458    4.0  \n",
       "4251303  1.719666    4.0  \n",
       "4251304  1.683044    4.0  \n",
       "4251305  1.696777    4.0  \n",
       "\n",
       "[4393200 rows x 9 columns]"
      ]
     },
     "execution_count": 16,
     "metadata": {},
     "output_type": "execute_result"
    }
   ],
   "source": [
    "ch_loc = pd.concat([loc0, loc1, loc2, loc3, loc4])\n",
    "ch_loc"
   ]
  },
  {
   "cell_type": "markdown",
   "metadata": {},
   "source": [
    "#### Check Statistics"
   ]
  },
  {
   "cell_type": "code",
   "execution_count": 17,
   "metadata": {},
   "outputs": [
    {
     "data": {
      "text/html": [
       "<div>\n",
       "<style scoped>\n",
       "    .dataframe tbody tr th:only-of-type {\n",
       "        vertical-align: middle;\n",
       "    }\n",
       "\n",
       "    .dataframe tbody tr th {\n",
       "        vertical-align: top;\n",
       "    }\n",
       "\n",
       "    .dataframe thead th {\n",
       "        text-align: right;\n",
       "    }\n",
       "</style>\n",
       "<table border=\"1\" class=\"dataframe\">\n",
       "  <thead>\n",
       "    <tr style=\"text-align: right;\">\n",
       "      <th></th>\n",
       "      <th>count</th>\n",
       "      <th>mean</th>\n",
       "      <th>std</th>\n",
       "      <th>min</th>\n",
       "      <th>25%</th>\n",
       "      <th>50%</th>\n",
       "      <th>75%</th>\n",
       "      <th>max</th>\n",
       "    </tr>\n",
       "  </thead>\n",
       "  <tbody>\n",
       "    <tr>\n",
       "      <th>cax</th>\n",
       "      <td>4393200.0</td>\n",
       "      <td>0.788452</td>\n",
       "      <td>0.120080</td>\n",
       "      <td>-0.009800</td>\n",
       "      <td>0.719000</td>\n",
       "      <td>0.799400</td>\n",
       "      <td>0.896600</td>\n",
       "      <td>1.694200</td>\n",
       "    </tr>\n",
       "    <tr>\n",
       "      <th>cay</th>\n",
       "      <td>4393200.0</td>\n",
       "      <td>-0.235849</td>\n",
       "      <td>0.152625</td>\n",
       "      <td>-0.622200</td>\n",
       "      <td>-0.395800</td>\n",
       "      <td>-0.192200</td>\n",
       "      <td>-0.113800</td>\n",
       "      <td>0.469000</td>\n",
       "    </tr>\n",
       "    <tr>\n",
       "      <th>caz</th>\n",
       "      <td>4393200.0</td>\n",
       "      <td>-0.350486</td>\n",
       "      <td>0.243408</td>\n",
       "      <td>-1.440200</td>\n",
       "      <td>-0.499400</td>\n",
       "      <td>-0.391200</td>\n",
       "      <td>-0.167200</td>\n",
       "      <td>1.947000</td>\n",
       "    </tr>\n",
       "    <tr>\n",
       "      <th>cecg</th>\n",
       "      <td>4393200.0</td>\n",
       "      <td>0.001238</td>\n",
       "      <td>0.234922</td>\n",
       "      <td>-1.499405</td>\n",
       "      <td>-0.073929</td>\n",
       "      <td>-0.024673</td>\n",
       "      <td>0.008560</td>\n",
       "      <td>1.499954</td>\n",
       "    </tr>\n",
       "    <tr>\n",
       "      <th>cemg</th>\n",
       "      <td>4393200.0</td>\n",
       "      <td>-0.002287</td>\n",
       "      <td>0.014275</td>\n",
       "      <td>-0.195877</td>\n",
       "      <td>-0.009476</td>\n",
       "      <td>-0.001968</td>\n",
       "      <td>0.004623</td>\n",
       "      <td>0.365891</td>\n",
       "    </tr>\n",
       "    <tr>\n",
       "      <th>ceda</th>\n",
       "      <td>4393200.0</td>\n",
       "      <td>2.179000</td>\n",
       "      <td>1.044502</td>\n",
       "      <td>0.912094</td>\n",
       "      <td>1.362991</td>\n",
       "      <td>1.542282</td>\n",
       "      <td>2.665710</td>\n",
       "      <td>5.508423</td>\n",
       "    </tr>\n",
       "    <tr>\n",
       "      <th>ctemp</th>\n",
       "      <td>4393200.0</td>\n",
       "      <td>33.298629</td>\n",
       "      <td>0.406385</td>\n",
       "      <td>32.342224</td>\n",
       "      <td>32.950775</td>\n",
       "      <td>33.247040</td>\n",
       "      <td>33.706482</td>\n",
       "      <td>34.092499</td>\n",
       "    </tr>\n",
       "    <tr>\n",
       "      <th>cresp</th>\n",
       "      <td>4393200.0</td>\n",
       "      <td>0.055813</td>\n",
       "      <td>2.479964</td>\n",
       "      <td>-20.941162</td>\n",
       "      <td>-1.210022</td>\n",
       "      <td>-0.059509</td>\n",
       "      <td>1.377869</td>\n",
       "      <td>21.275330</td>\n",
       "    </tr>\n",
       "    <tr>\n",
       "      <th>label</th>\n",
       "      <td>4393200.0</td>\n",
       "      <td>1.077757</td>\n",
       "      <td>1.418941</td>\n",
       "      <td>0.000000</td>\n",
       "      <td>0.000000</td>\n",
       "      <td>0.000000</td>\n",
       "      <td>2.000000</td>\n",
       "      <td>4.000000</td>\n",
       "    </tr>\n",
       "  </tbody>\n",
       "</table>\n",
       "</div>"
      ],
      "text/plain": [
       "           count       mean       std        min        25%        50%  \\\n",
       "cax    4393200.0   0.788452  0.120080  -0.009800   0.719000   0.799400   \n",
       "cay    4393200.0  -0.235849  0.152625  -0.622200  -0.395800  -0.192200   \n",
       "caz    4393200.0  -0.350486  0.243408  -1.440200  -0.499400  -0.391200   \n",
       "cecg   4393200.0   0.001238  0.234922  -1.499405  -0.073929  -0.024673   \n",
       "cemg   4393200.0  -0.002287  0.014275  -0.195877  -0.009476  -0.001968   \n",
       "ceda   4393200.0   2.179000  1.044502   0.912094   1.362991   1.542282   \n",
       "ctemp  4393200.0  33.298629  0.406385  32.342224  32.950775  33.247040   \n",
       "cresp  4393200.0   0.055813  2.479964 -20.941162  -1.210022  -0.059509   \n",
       "label  4393200.0   1.077757  1.418941   0.000000   0.000000   0.000000   \n",
       "\n",
       "             75%        max  \n",
       "cax     0.896600   1.694200  \n",
       "cay    -0.113800   0.469000  \n",
       "caz    -0.167200   1.947000  \n",
       "cecg    0.008560   1.499954  \n",
       "cemg    0.004623   0.365891  \n",
       "ceda    2.665710   5.508423  \n",
       "ctemp  33.706482  34.092499  \n",
       "cresp   1.377869  21.275330  \n",
       "label   2.000000   4.000000  "
      ]
     },
     "execution_count": 17,
     "metadata": {},
     "output_type": "execute_result"
    }
   ],
   "source": [
    "ch_loc.describe().T"
   ]
  },
  {
   "cell_type": "markdown",
   "metadata": {},
   "source": [
    "#### Plot all classes vs. classes 0,1,2,3,4 "
   ]
  },
  {
   "cell_type": "code",
   "execution_count": 18,
   "metadata": {
    "scrolled": false
   },
   "outputs": [
    {
     "name": "stdout",
     "output_type": "stream",
     "text": [
      "4496100 4393200\n",
      "Number of Rows Removed: 102900\n"
     ]
    },
    {
     "data": {
      "image/png": "[encoded data removed]",
      "text/plain": [
       "<Figure size 1008x360 with 2 Axes>"
      ]
     },
     "metadata": {},
     "output_type": "display_data"
    }
   ],
   "source": [
    "plt.figure(figsize = (14,5))\n",
    "plt.subplot(1, 2, 1)\n",
    "ch_df['label'].value_counts().plot(kind='bar', \n",
    "                                     title='Chest Number of Examples by Class \\n',\n",
    "                                     color=['b','b','b','b','b','r','r','r'])\n",
    "plt.subplot(1, 2, 2)\n",
    "ch_loc['label'].value_counts().plot(kind='bar', \n",
    "                                     title='Chest Number of Examples by Class \\n')\n",
    "print((ch_df['label'].value_counts().sum()), ch_loc['label'].value_counts().sum())\n",
    "print('Number of Rows Removed:', (ch_df['label'].value_counts().sum()) - \n",
    "      ch_loc['label'].value_counts().sum());"
   ]
  },
  {
   "cell_type": "markdown",
   "metadata": {},
   "source": [
    "**XGBoost for Multi-class Classification** <br>\n",
    "https://towardsdatascience.com/xgboost-for-multi-class-classification-799d96bcd368"
   ]
  },
  {
   "cell_type": "code",
   "execution_count": 19,
   "metadata": {},
   "outputs": [
    {
     "data": {
      "text/plain": [
       "'\\nAuthor: Plog, E\\nTitle: AUC ROC Curve Scoring Function for Multi-class Classification\\nDate: 2018\\nCode version: n.a.\\nAvailability: https://medium.com/@plog397/auc-roc-curve-scoring-function-for-multi-class-classification-9822871a6659\\n'"
      ]
     },
     "execution_count": 19,
     "metadata": {},
     "output_type": "execute_result"
    }
   ],
   "source": [
    "# Multiclass ROC AUC Score original script sourced from \n",
    "'''\n",
    "Author: Plog, E\n",
    "Title: AUC ROC Curve Scoring Function for Multi-class Classification\n",
    "Date: 2018\n",
    "Code version: n.a.\n",
    "Availability: https://medium.com/@plog397/auc-roc-curve-scoring-function-for-multi-class-classification-9822871a6659\n",
    "'''"
   ]
  },
  {
   "cell_type": "markdown",
   "metadata": {},
   "source": [
    "# Model Runs: XGBoost Classifier"
   ]
  },
  {
   "cell_type": "markdown",
   "metadata": {},
   "source": [
    "## Model allChest: All chest features"
   ]
  },
  {
   "cell_type": "markdown",
   "metadata": {},
   "source": [
    "### Train Test"
   ]
  },
  {
   "cell_type": "code",
   "execution_count": 20,
   "metadata": {},
   "outputs": [
    {
     "name": "stdout",
     "output_type": "stream",
     "text": [
      "(3514560, 8)\n",
      "(878640,)\n"
     ]
    }
   ],
   "source": [
    "y = ch_loc.label\n",
    "x = ch_loc.drop('label',axis=1)\n",
    "x_train, x_test, y_train, y_test = train_test_split(x, y, test_size=0.2)\n",
    "print(x_train.shape)\n",
    "print(y_test.shape)\n",
    "evalSet = [(x_train, y_train), (x_test, y_test)]"
   ]
  },
  {
   "cell_type": "markdown",
   "metadata": {},
   "source": [
    "### Check Correlations"
   ]
  },
  {
   "cell_type": "code",
   "execution_count": 21,
   "metadata": {},
   "outputs": [
    {
     "data": {
      "image/png": "[encoded data removed]",
      "text/plain": [
       "<Figure size 648x504 with 2 Axes>"
      ]
     },
     "metadata": {},
     "output_type": "display_data"
    }
   ],
   "source": [
    "plt.figure(figsize=(9,7))\n",
    "sns.heatmap(x_train.corr(), annot=True, cmap=plt.cm.BuPu);"
   ]
  },
  {
   "cell_type": "markdown",
   "metadata": {},
   "source": [
    "    There is a very strong correlation between caz and cax \n",
    "    There is strong relationship between eda and temp"
   ]
  },
  {
   "cell_type": "markdown",
   "metadata": {},
   "source": [
    "### Model Fit and f1 and Balanced Accuracy Scores"
   ]
  },
  {
   "cell_type": "code",
   "execution_count": 22,
   "metadata": {
    "scrolled": true
   },
   "outputs": [
    {
     "name": "stdout",
     "output_type": "stream",
     "text": [
      "[0]\tvalidation_0-merror:0.02246\tvalidation_1-merror:0.02242\n",
      "[1]\tvalidation_0-merror:0.02191\tvalidation_1-merror:0.02185\n",
      "[2]\tvalidation_0-merror:0.02185\tvalidation_1-merror:0.02180\n",
      "[3]\tvalidation_0-merror:0.02188\tvalidation_1-merror:0.02183\n",
      "[4]\tvalidation_0-merror:0.02183\tvalidation_1-merror:0.02176\n",
      "[5]\tvalidation_0-merror:0.02151\tvalidation_1-merror:0.02143\n",
      "[6]\tvalidation_0-merror:0.02144\tvalidation_1-merror:0.02135\n",
      "[7]\tvalidation_0-merror:0.02143\tvalidation_1-merror:0.02134\n",
      "[8]\tvalidation_0-merror:0.02125\tvalidation_1-merror:0.02115\n",
      "[9]\tvalidation_0-merror:0.02117\tvalidation_1-merror:0.02106\n",
      "[10]\tvalidation_0-merror:0.02101\tvalidation_1-merror:0.02087\n",
      "[11]\tvalidation_0-merror:0.02095\tvalidation_1-merror:0.02081\n",
      "[12]\tvalidation_0-merror:0.02076\tvalidation_1-merror:0.02059\n",
      "[13]\tvalidation_0-merror:0.02067\tvalidation_1-merror:0.02050\n",
      "[14]\tvalidation_0-merror:0.02049\tvalidation_1-merror:0.02033\n",
      "[15]\tvalidation_0-merror:0.01814\tvalidation_1-merror:0.01801\n",
      "[16]\tvalidation_0-merror:0.01808\tvalidation_1-merror:0.01796\n",
      "[17]\tvalidation_0-merror:0.01800\tvalidation_1-merror:0.01787\n",
      "[18]\tvalidation_0-merror:0.01724\tvalidation_1-merror:0.01715\n",
      "[19]\tvalidation_0-merror:0.01710\tvalidation_1-merror:0.01698\n",
      "[20]\tvalidation_0-merror:0.01665\tvalidation_1-merror:0.01650\n",
      "[21]\tvalidation_0-merror:0.01654\tvalidation_1-merror:0.01639\n",
      "[22]\tvalidation_0-merror:0.01641\tvalidation_1-merror:0.01630\n",
      "[23]\tvalidation_0-merror:0.01613\tvalidation_1-merror:0.01601\n",
      "[24]\tvalidation_0-merror:0.01585\tvalidation_1-merror:0.01573\n",
      "[25]\tvalidation_0-merror:0.01574\tvalidation_1-merror:0.01565\n",
      "[26]\tvalidation_0-merror:0.01567\tvalidation_1-merror:0.01561\n",
      "[27]\tvalidation_0-merror:0.01555\tvalidation_1-merror:0.01550\n",
      "[28]\tvalidation_0-merror:0.01542\tvalidation_1-merror:0.01535\n",
      "[29]\tvalidation_0-merror:0.01524\tvalidation_1-merror:0.01518\n",
      "[30]\tvalidation_0-merror:0.01511\tvalidation_1-merror:0.01505\n",
      "[31]\tvalidation_0-merror:0.01495\tvalidation_1-merror:0.01491\n",
      "[32]\tvalidation_0-merror:0.01472\tvalidation_1-merror:0.01474\n",
      "[33]\tvalidation_0-merror:0.01460\tvalidation_1-merror:0.01465\n",
      "[34]\tvalidation_0-merror:0.01450\tvalidation_1-merror:0.01452\n",
      "[35]\tvalidation_0-merror:0.01438\tvalidation_1-merror:0.01441\n",
      "[36]\tvalidation_0-merror:0.01429\tvalidation_1-merror:0.01430\n",
      "[37]\tvalidation_0-merror:0.01421\tvalidation_1-merror:0.01421\n",
      "[38]\tvalidation_0-merror:0.01414\tvalidation_1-merror:0.01412\n",
      "[39]\tvalidation_0-merror:0.01402\tvalidation_1-merror:0.01399\n",
      "[40]\tvalidation_0-merror:0.01395\tvalidation_1-merror:0.01393\n",
      "[41]\tvalidation_0-merror:0.01388\tvalidation_1-merror:0.01387\n",
      "[42]\tvalidation_0-merror:0.01380\tvalidation_1-merror:0.01380\n",
      "[43]\tvalidation_0-merror:0.01372\tvalidation_1-merror:0.01373\n",
      "[44]\tvalidation_0-merror:0.01364\tvalidation_1-merror:0.01367\n",
      "[45]\tvalidation_0-merror:0.01355\tvalidation_1-merror:0.01359\n",
      "[46]\tvalidation_0-merror:0.01350\tvalidation_1-merror:0.01353\n",
      "[47]\tvalidation_0-merror:0.01345\tvalidation_1-merror:0.01348\n",
      "[48]\tvalidation_0-merror:0.01341\tvalidation_1-merror:0.01347\n",
      "[49]\tvalidation_0-merror:0.01334\tvalidation_1-merror:0.01338\n",
      "[50]\tvalidation_0-merror:0.01324\tvalidation_1-merror:0.01328\n",
      "[51]\tvalidation_0-merror:0.01316\tvalidation_1-merror:0.01320\n",
      "[52]\tvalidation_0-merror:0.01309\tvalidation_1-merror:0.01314\n",
      "[53]\tvalidation_0-merror:0.01305\tvalidation_1-merror:0.01308\n",
      "[54]\tvalidation_0-merror:0.01300\tvalidation_1-merror:0.01304\n",
      "[55]\tvalidation_0-merror:0.01295\tvalidation_1-merror:0.01297\n",
      "[56]\tvalidation_0-merror:0.01287\tvalidation_1-merror:0.01290\n",
      "[57]\tvalidation_0-merror:0.01280\tvalidation_1-merror:0.01282\n",
      "[58]\tvalidation_0-merror:0.01277\tvalidation_1-merror:0.01280\n",
      "[59]\tvalidation_0-merror:0.01272\tvalidation_1-merror:0.01275\n",
      "[60]\tvalidation_0-merror:0.01269\tvalidation_1-merror:0.01270\n",
      "[61]\tvalidation_0-merror:0.01264\tvalidation_1-merror:0.01263\n",
      "[62]\tvalidation_0-merror:0.01258\tvalidation_1-merror:0.01256\n",
      "[63]\tvalidation_0-merror:0.01254\tvalidation_1-merror:0.01252\n",
      "[64]\tvalidation_0-merror:0.01248\tvalidation_1-merror:0.01248\n",
      "[65]\tvalidation_0-merror:0.01245\tvalidation_1-merror:0.01247\n",
      "[66]\tvalidation_0-merror:0.01240\tvalidation_1-merror:0.01242\n",
      "[67]\tvalidation_0-merror:0.01235\tvalidation_1-merror:0.01237\n",
      "[68]\tvalidation_0-merror:0.01230\tvalidation_1-merror:0.01230\n",
      "[69]\tvalidation_0-merror:0.01227\tvalidation_1-merror:0.01228\n",
      "[70]\tvalidation_0-merror:0.01222\tvalidation_1-merror:0.01224\n",
      "[71]\tvalidation_0-merror:0.01218\tvalidation_1-merror:0.01220\n",
      "[72]\tvalidation_0-merror:0.01214\tvalidation_1-merror:0.01216\n",
      "[73]\tvalidation_0-merror:0.01209\tvalidation_1-merror:0.01213\n",
      "[74]\tvalidation_0-merror:0.01207\tvalidation_1-merror:0.01210\n",
      "[75]\tvalidation_0-merror:0.01204\tvalidation_1-merror:0.01205\n",
      "[76]\tvalidation_0-merror:0.01199\tvalidation_1-merror:0.01201\n",
      "[77]\tvalidation_0-merror:0.01196\tvalidation_1-merror:0.01199\n",
      "[78]\tvalidation_0-merror:0.01191\tvalidation_1-merror:0.01194\n",
      "[79]\tvalidation_0-merror:0.01187\tvalidation_1-merror:0.01191\n",
      "[80]\tvalidation_0-merror:0.01182\tvalidation_1-merror:0.01186\n",
      "[81]\tvalidation_0-merror:0.01181\tvalidation_1-merror:0.01184\n",
      "[82]\tvalidation_0-merror:0.01176\tvalidation_1-merror:0.01180\n",
      "[83]\tvalidation_0-merror:0.01170\tvalidation_1-merror:0.01174\n",
      "[84]\tvalidation_0-merror:0.01166\tvalidation_1-merror:0.01170\n",
      "[85]\tvalidation_0-merror:0.01164\tvalidation_1-merror:0.01168\n",
      "[86]\tvalidation_0-merror:0.01159\tvalidation_1-merror:0.01162\n",
      "[87]\tvalidation_0-merror:0.01155\tvalidation_1-merror:0.01157\n",
      "[88]\tvalidation_0-merror:0.01150\tvalidation_1-merror:0.01154\n",
      "[89]\tvalidation_0-merror:0.01146\tvalidation_1-merror:0.01150\n",
      "[90]\tvalidation_0-merror:0.01145\tvalidation_1-merror:0.01150\n",
      "[91]\tvalidation_0-merror:0.01139\tvalidation_1-merror:0.01144\n",
      "[92]\tvalidation_0-merror:0.01135\tvalidation_1-merror:0.01140\n",
      "[93]\tvalidation_0-merror:0.01130\tvalidation_1-merror:0.01135\n",
      "[94]\tvalidation_0-merror:0.01127\tvalidation_1-merror:0.01130\n",
      "[95]\tvalidation_0-merror:0.01124\tvalidation_1-merror:0.01128\n",
      "[96]\tvalidation_0-merror:0.01119\tvalidation_1-merror:0.01124\n",
      "[97]\tvalidation_0-merror:0.01118\tvalidation_1-merror:0.01122\n",
      "[98]\tvalidation_0-merror:0.01110\tvalidation_1-merror:0.01117\n",
      "[99]\tvalidation_0-merror:0.01107\tvalidation_1-merror:0.01114\n",
      "[100]\tvalidation_0-merror:0.01101\tvalidation_1-merror:0.01107\n",
      "[101]\tvalidation_0-merror:0.01093\tvalidation_1-merror:0.01102\n",
      "[102]\tvalidation_0-merror:0.01090\tvalidation_1-merror:0.01099\n",
      "[103]\tvalidation_0-merror:0.01087\tvalidation_1-merror:0.01096\n",
      "[104]\tvalidation_0-merror:0.01080\tvalidation_1-merror:0.01088\n",
      "[105]\tvalidation_0-merror:0.01078\tvalidation_1-merror:0.01085\n",
      "[106]\tvalidation_0-merror:0.01074\tvalidation_1-merror:0.01084\n",
      "[107]\tvalidation_0-merror:0.01068\tvalidation_1-merror:0.01078\n",
      "[108]\tvalidation_0-merror:0.01065\tvalidation_1-merror:0.01072\n",
      "[109]\tvalidation_0-merror:0.01061\tvalidation_1-merror:0.01069\n",
      "[110]\tvalidation_0-merror:0.01058\tvalidation_1-merror:0.01065\n",
      "[111]\tvalidation_0-merror:0.01055\tvalidation_1-merror:0.01064\n",
      "[112]\tvalidation_0-merror:0.01050\tvalidation_1-merror:0.01061\n",
      "[113]\tvalidation_0-merror:0.01046\tvalidation_1-merror:0.01057\n",
      "[114]\tvalidation_0-merror:0.01042\tvalidation_1-merror:0.01053\n",
      "[115]\tvalidation_0-merror:0.01039\tvalidation_1-merror:0.01050\n",
      "[116]\tvalidation_0-merror:0.01035\tvalidation_1-merror:0.01047\n",
      "[117]\tvalidation_0-merror:0.01031\tvalidation_1-merror:0.01043\n",
      "[118]\tvalidation_0-merror:0.01029\tvalidation_1-merror:0.01040\n",
      "[119]\tvalidation_0-merror:0.01027\tvalidation_1-merror:0.01035\n",
      "[120]\tvalidation_0-merror:0.01024\tvalidation_1-merror:0.01035\n",
      "[121]\tvalidation_0-merror:0.01019\tvalidation_1-merror:0.01030\n",
      "[122]\tvalidation_0-merror:0.01015\tvalidation_1-merror:0.01026\n",
      "[123]\tvalidation_0-merror:0.01010\tvalidation_1-merror:0.01022\n",
      "[124]\tvalidation_0-merror:0.01004\tvalidation_1-merror:0.01016\n",
      "[125]\tvalidation_0-merror:0.01002\tvalidation_1-merror:0.01013\n",
      "[126]\tvalidation_0-merror:0.00997\tvalidation_1-merror:0.01008\n",
      "[127]\tvalidation_0-merror:0.00994\tvalidation_1-merror:0.01005\n",
      "[128]\tvalidation_0-merror:0.00991\tvalidation_1-merror:0.01001\n",
      "[129]\tvalidation_0-merror:0.00988\tvalidation_1-merror:0.00998\n",
      "[130]\tvalidation_0-merror:0.00986\tvalidation_1-merror:0.00995\n",
      "[131]\tvalidation_0-merror:0.00983\tvalidation_1-merror:0.00991\n",
      "[132]\tvalidation_0-merror:0.00977\tvalidation_1-merror:0.00986\n",
      "[133]\tvalidation_0-merror:0.00974\tvalidation_1-merror:0.00983\n"
     ]
    },
    {
     "name": "stdout",
     "output_type": "stream",
     "text": [
      "[134]\tvalidation_0-merror:0.00970\tvalidation_1-merror:0.00980\n",
      "[135]\tvalidation_0-merror:0.00968\tvalidation_1-merror:0.00978\n",
      "[136]\tvalidation_0-merror:0.00963\tvalidation_1-merror:0.00975\n",
      "[137]\tvalidation_0-merror:0.00961\tvalidation_1-merror:0.00972\n",
      "[138]\tvalidation_0-merror:0.00955\tvalidation_1-merror:0.00967\n",
      "[139]\tvalidation_0-merror:0.00953\tvalidation_1-merror:0.00966\n",
      "[140]\tvalidation_0-merror:0.00950\tvalidation_1-merror:0.00962\n",
      "[141]\tvalidation_0-merror:0.00947\tvalidation_1-merror:0.00961\n",
      "[142]\tvalidation_0-merror:0.00945\tvalidation_1-merror:0.00960\n",
      "[143]\tvalidation_0-merror:0.00942\tvalidation_1-merror:0.00956\n",
      "[144]\tvalidation_0-merror:0.00940\tvalidation_1-merror:0.00953\n",
      "[145]\tvalidation_0-merror:0.00937\tvalidation_1-merror:0.00953\n",
      "[146]\tvalidation_0-merror:0.00932\tvalidation_1-merror:0.00948\n",
      "[147]\tvalidation_0-merror:0.00929\tvalidation_1-merror:0.00945\n",
      "[148]\tvalidation_0-merror:0.00926\tvalidation_1-merror:0.00941\n",
      "[149]\tvalidation_0-merror:0.00924\tvalidation_1-merror:0.00939\n",
      "[150]\tvalidation_0-merror:0.00923\tvalidation_1-merror:0.00938\n",
      "[151]\tvalidation_0-merror:0.00918\tvalidation_1-merror:0.00934\n",
      "[152]\tvalidation_0-merror:0.00915\tvalidation_1-merror:0.00931\n",
      "[153]\tvalidation_0-merror:0.00912\tvalidation_1-merror:0.00929\n",
      "[154]\tvalidation_0-merror:0.00909\tvalidation_1-merror:0.00927\n",
      "[155]\tvalidation_0-merror:0.00907\tvalidation_1-merror:0.00924\n",
      "[156]\tvalidation_0-merror:0.00904\tvalidation_1-merror:0.00922\n",
      "[157]\tvalidation_0-merror:0.00901\tvalidation_1-merror:0.00918\n",
      "[158]\tvalidation_0-merror:0.00898\tvalidation_1-merror:0.00915\n",
      "[159]\tvalidation_0-merror:0.00893\tvalidation_1-merror:0.00911\n",
      "[160]\tvalidation_0-merror:0.00890\tvalidation_1-merror:0.00908\n",
      "[161]\tvalidation_0-merror:0.00887\tvalidation_1-merror:0.00906\n",
      "[162]\tvalidation_0-merror:0.00885\tvalidation_1-merror:0.00903\n",
      "[163]\tvalidation_0-merror:0.00882\tvalidation_1-merror:0.00899\n",
      "[164]\tvalidation_0-merror:0.00880\tvalidation_1-merror:0.00896\n",
      "[165]\tvalidation_0-merror:0.00876\tvalidation_1-merror:0.00891\n",
      "[166]\tvalidation_0-merror:0.00875\tvalidation_1-merror:0.00890\n",
      "[167]\tvalidation_0-merror:0.00872\tvalidation_1-merror:0.00888\n",
      "[168]\tvalidation_0-merror:0.00869\tvalidation_1-merror:0.00882\n",
      "[169]\tvalidation_0-merror:0.00866\tvalidation_1-merror:0.00881\n",
      "[170]\tvalidation_0-merror:0.00863\tvalidation_1-merror:0.00880\n",
      "[171]\tvalidation_0-merror:0.00860\tvalidation_1-merror:0.00876\n",
      "[172]\tvalidation_0-merror:0.00857\tvalidation_1-merror:0.00873\n",
      "[173]\tvalidation_0-merror:0.00855\tvalidation_1-merror:0.00870\n",
      "[174]\tvalidation_0-merror:0.00852\tvalidation_1-merror:0.00868\n",
      "[175]\tvalidation_0-merror:0.00850\tvalidation_1-merror:0.00866\n",
      "[176]\tvalidation_0-merror:0.00848\tvalidation_1-merror:0.00864\n",
      "[177]\tvalidation_0-merror:0.00847\tvalidation_1-merror:0.00861\n",
      "[178]\tvalidation_0-merror:0.00844\tvalidation_1-merror:0.00860\n",
      "[179]\tvalidation_0-merror:0.00841\tvalidation_1-merror:0.00857\n",
      "[180]\tvalidation_0-merror:0.00838\tvalidation_1-merror:0.00855\n",
      "[181]\tvalidation_0-merror:0.00837\tvalidation_1-merror:0.00854\n",
      "[182]\tvalidation_0-merror:0.00834\tvalidation_1-merror:0.00853\n",
      "[183]\tvalidation_0-merror:0.00831\tvalidation_1-merror:0.00848\n",
      "[184]\tvalidation_0-merror:0.00828\tvalidation_1-merror:0.00847\n",
      "[185]\tvalidation_0-merror:0.00826\tvalidation_1-merror:0.00845\n",
      "[186]\tvalidation_0-merror:0.00824\tvalidation_1-merror:0.00845\n",
      "[187]\tvalidation_0-merror:0.00823\tvalidation_1-merror:0.00842\n",
      "[188]\tvalidation_0-merror:0.00822\tvalidation_1-merror:0.00841\n",
      "[189]\tvalidation_0-merror:0.00820\tvalidation_1-merror:0.00839\n",
      "[190]\tvalidation_0-merror:0.00819\tvalidation_1-merror:0.00838\n",
      "[191]\tvalidation_0-merror:0.00818\tvalidation_1-merror:0.00838\n",
      "[192]\tvalidation_0-merror:0.00818\tvalidation_1-merror:0.00838\n",
      "[193]\tvalidation_0-merror:0.00816\tvalidation_1-merror:0.00835\n",
      "[194]\tvalidation_0-merror:0.00812\tvalidation_1-merror:0.00833\n",
      "[195]\tvalidation_0-merror:0.00811\tvalidation_1-merror:0.00830\n",
      "[196]\tvalidation_0-merror:0.00810\tvalidation_1-merror:0.00829\n",
      "[197]\tvalidation_0-merror:0.00809\tvalidation_1-merror:0.00828\n",
      "[198]\tvalidation_0-merror:0.00806\tvalidation_1-merror:0.00826\n",
      "[199]\tvalidation_0-merror:0.00805\tvalidation_1-merror:0.00825\n",
      "[200]\tvalidation_0-merror:0.00803\tvalidation_1-merror:0.00823\n",
      "[201]\tvalidation_0-merror:0.00801\tvalidation_1-merror:0.00822\n",
      "[202]\tvalidation_0-merror:0.00800\tvalidation_1-merror:0.00821\n",
      "[203]\tvalidation_0-merror:0.00799\tvalidation_1-merror:0.00819\n",
      "[204]\tvalidation_0-merror:0.00797\tvalidation_1-merror:0.00817\n",
      "[205]\tvalidation_0-merror:0.00796\tvalidation_1-merror:0.00817\n",
      "[206]\tvalidation_0-merror:0.00795\tvalidation_1-merror:0.00815\n",
      "[207]\tvalidation_0-merror:0.00793\tvalidation_1-merror:0.00813\n",
      "[208]\tvalidation_0-merror:0.00792\tvalidation_1-merror:0.00811\n",
      "[209]\tvalidation_0-merror:0.00790\tvalidation_1-merror:0.00810\n",
      "[210]\tvalidation_0-merror:0.00788\tvalidation_1-merror:0.00809\n",
      "[211]\tvalidation_0-merror:0.00788\tvalidation_1-merror:0.00809\n",
      "[212]\tvalidation_0-merror:0.00787\tvalidation_1-merror:0.00808\n",
      "[213]\tvalidation_0-merror:0.00785\tvalidation_1-merror:0.00807\n",
      "[214]\tvalidation_0-merror:0.00783\tvalidation_1-merror:0.00805\n",
      "[215]\tvalidation_0-merror:0.00781\tvalidation_1-merror:0.00804\n",
      "[216]\tvalidation_0-merror:0.00781\tvalidation_1-merror:0.00803\n",
      "[217]\tvalidation_0-merror:0.00779\tvalidation_1-merror:0.00802\n",
      "[218]\tvalidation_0-merror:0.00778\tvalidation_1-merror:0.00800\n",
      "[219]\tvalidation_0-merror:0.00776\tvalidation_1-merror:0.00798\n",
      "[220]\tvalidation_0-merror:0.00776\tvalidation_1-merror:0.00798\n",
      "[221]\tvalidation_0-merror:0.00775\tvalidation_1-merror:0.00797\n",
      "[222]\tvalidation_0-merror:0.00773\tvalidation_1-merror:0.00795\n",
      "[223]\tvalidation_0-merror:0.00771\tvalidation_1-merror:0.00795\n",
      "[224]\tvalidation_0-merror:0.00771\tvalidation_1-merror:0.00794\n",
      "[225]\tvalidation_0-merror:0.00769\tvalidation_1-merror:0.00793\n",
      "[226]\tvalidation_0-merror:0.00768\tvalidation_1-merror:0.00792\n",
      "[227]\tvalidation_0-merror:0.00767\tvalidation_1-merror:0.00791\n",
      "[228]\tvalidation_0-merror:0.00766\tvalidation_1-merror:0.00790\n",
      "[229]\tvalidation_0-merror:0.00766\tvalidation_1-merror:0.00789\n",
      "[230]\tvalidation_0-merror:0.00764\tvalidation_1-merror:0.00789\n",
      "[231]\tvalidation_0-merror:0.00763\tvalidation_1-merror:0.00787\n",
      "[232]\tvalidation_0-merror:0.00762\tvalidation_1-merror:0.00786\n",
      "[233]\tvalidation_0-merror:0.00762\tvalidation_1-merror:0.00785\n",
      "[234]\tvalidation_0-merror:0.00762\tvalidation_1-merror:0.00785\n",
      "[235]\tvalidation_0-merror:0.00761\tvalidation_1-merror:0.00784\n",
      "[236]\tvalidation_0-merror:0.00760\tvalidation_1-merror:0.00783\n",
      "[237]\tvalidation_0-merror:0.00760\tvalidation_1-merror:0.00783\n",
      "[238]\tvalidation_0-merror:0.00759\tvalidation_1-merror:0.00783\n",
      "[239]\tvalidation_0-merror:0.00758\tvalidation_1-merror:0.00782\n",
      "[240]\tvalidation_0-merror:0.00758\tvalidation_1-merror:0.00781\n",
      "[241]\tvalidation_0-merror:0.00758\tvalidation_1-merror:0.00781\n",
      "[242]\tvalidation_0-merror:0.00757\tvalidation_1-merror:0.00780\n",
      "[243]\tvalidation_0-merror:0.00756\tvalidation_1-merror:0.00780\n",
      "[244]\tvalidation_0-merror:0.00755\tvalidation_1-merror:0.00779\n",
      "[245]\tvalidation_0-merror:0.00754\tvalidation_1-merror:0.00778\n",
      "[246]\tvalidation_0-merror:0.00752\tvalidation_1-merror:0.00777\n",
      "[247]\tvalidation_0-merror:0.00751\tvalidation_1-merror:0.00775\n",
      "[248]\tvalidation_0-merror:0.00751\tvalidation_1-merror:0.00775\n",
      "[249]\tvalidation_0-merror:0.00750\tvalidation_1-merror:0.00773\n",
      "[250]\tvalidation_0-merror:0.00749\tvalidation_1-merror:0.00772\n",
      "[251]\tvalidation_0-merror:0.00748\tvalidation_1-merror:0.00771\n",
      "[252]\tvalidation_0-merror:0.00747\tvalidation_1-merror:0.00770\n",
      "[253]\tvalidation_0-merror:0.00746\tvalidation_1-merror:0.00771\n",
      "[254]\tvalidation_0-merror:0.00746\tvalidation_1-merror:0.00770\n",
      "[255]\tvalidation_0-merror:0.00744\tvalidation_1-merror:0.00769\n",
      "[256]\tvalidation_0-merror:0.00744\tvalidation_1-merror:0.00768\n",
      "[257]\tvalidation_0-merror:0.00743\tvalidation_1-merror:0.00767\n",
      "[258]\tvalidation_0-merror:0.00743\tvalidation_1-merror:0.00767\n",
      "[259]\tvalidation_0-merror:0.00743\tvalidation_1-merror:0.00767\n",
      "[260]\tvalidation_0-merror:0.00743\tvalidation_1-merror:0.00767\n",
      "[261]\tvalidation_0-merror:0.00743\tvalidation_1-merror:0.00767\n",
      "[262]\tvalidation_0-merror:0.00743\tvalidation_1-merror:0.00767\n",
      "[263]\tvalidation_0-merror:0.00743\tvalidation_1-merror:0.00767\n",
      "[264]\tvalidation_0-merror:0.00743\tvalidation_1-merror:0.00767\n",
      "[265]\tvalidation_0-merror:0.00743\tvalidation_1-merror:0.00767\n",
      "[266]\tvalidation_0-merror:0.00743\tvalidation_1-merror:0.00767\n"
     ]
    },
    {
     "name": "stdout",
     "output_type": "stream",
     "text": [
      "[267]\tvalidation_0-merror:0.00743\tvalidation_1-merror:0.00767\n",
      "[268]\tvalidation_0-merror:0.00743\tvalidation_1-merror:0.00767\n",
      "[269]\tvalidation_0-merror:0.00743\tvalidation_1-merror:0.00767\n",
      "[270]\tvalidation_0-merror:0.00743\tvalidation_1-merror:0.00767\n",
      "[271]\tvalidation_0-merror:0.00743\tvalidation_1-merror:0.00767\n",
      "[272]\tvalidation_0-merror:0.00743\tvalidation_1-merror:0.00767\n",
      "[273]\tvalidation_0-merror:0.00743\tvalidation_1-merror:0.00767\n",
      "[274]\tvalidation_0-merror:0.00743\tvalidation_1-merror:0.00767\n",
      "[275]\tvalidation_0-merror:0.00743\tvalidation_1-merror:0.00767\n",
      "[276]\tvalidation_0-merror:0.00743\tvalidation_1-merror:0.00767\n",
      "[277]\tvalidation_0-merror:0.00743\tvalidation_1-merror:0.00767\n",
      "[278]\tvalidation_0-merror:0.00743\tvalidation_1-merror:0.00767\n",
      "[279]\tvalidation_0-merror:0.00743\tvalidation_1-merror:0.00767\n",
      "[280]\tvalidation_0-merror:0.00743\tvalidation_1-merror:0.00767\n",
      "[281]\tvalidation_0-merror:0.00743\tvalidation_1-merror:0.00767\n",
      "[282]\tvalidation_0-merror:0.00743\tvalidation_1-merror:0.00767\n",
      "[283]\tvalidation_0-merror:0.00743\tvalidation_1-merror:0.00767\n",
      "[284]\tvalidation_0-merror:0.00743\tvalidation_1-merror:0.00767\n",
      "[285]\tvalidation_0-merror:0.00743\tvalidation_1-merror:0.00767\n",
      "[286]\tvalidation_0-merror:0.00743\tvalidation_1-merror:0.00767\n",
      "[287]\tvalidation_0-merror:0.00743\tvalidation_1-merror:0.00767\n",
      "[288]\tvalidation_0-merror:0.00743\tvalidation_1-merror:0.00767\n",
      "[289]\tvalidation_0-merror:0.00743\tvalidation_1-merror:0.00767\n",
      "[290]\tvalidation_0-merror:0.00743\tvalidation_1-merror:0.00767\n",
      "[291]\tvalidation_0-merror:0.00743\tvalidation_1-merror:0.00767\n",
      "[292]\tvalidation_0-merror:0.00743\tvalidation_1-merror:0.00767\n",
      "[293]\tvalidation_0-merror:0.00743\tvalidation_1-merror:0.00767\n",
      "[294]\tvalidation_0-merror:0.00743\tvalidation_1-merror:0.00767\n",
      "[295]\tvalidation_0-merror:0.00743\tvalidation_1-merror:0.00767\n",
      "[296]\tvalidation_0-merror:0.00743\tvalidation_1-merror:0.00767\n",
      "[297]\tvalidation_0-merror:0.00743\tvalidation_1-merror:0.00767\n",
      "[298]\tvalidation_0-merror:0.00743\tvalidation_1-merror:0.00767\n",
      "[299]\tvalidation_0-merror:0.00743\tvalidation_1-merror:0.00767\n",
      "Balanced Accuracy: 0.994173863032865\n",
      "----------------------------------------\n",
      "------------ S11 All Chest Classification Report------------\n",
      "              precision    recall  f1-score   support\n",
      "\n",
      "         0.0     0.9964    0.9891    0.9927    463525\n",
      "         1.0     0.9961    0.9990    0.9975    162424\n",
      "         2.0     0.9863    0.9911    0.9887     88284\n",
      "         3.0     0.9554    0.9965    0.9755     51961\n",
      "         4.0     0.9928    0.9953    0.9940    112446\n",
      "\n",
      "    accuracy                         0.9923    878640\n",
      "   macro avg     0.9854    0.9942    0.9897    878640\n",
      "weighted avg     0.9924    0.9923    0.9924    878640\n",
      "\n",
      "Wall time: 1min 44s\n"
     ]
    }
   ],
   "source": [
    "%%time\n",
    "allChest = xgb.XGBClassifier(objective = 'multi:softmax',\n",
    "                              tree_method = 'gpu_hist',\n",
    "                              learning_rate = 0.1,\n",
    "                              n_estimators = 300, \n",
    "                              #max_depth = 10,\n",
    "                              #deterministic_histogram = 'false',\n",
    "                              gradient_based = 0.1,\n",
    "                              num_early_stopping_rounds = 20,\n",
    "                              gamma = 3,\n",
    "                              #seed = 24,\n",
    "                              verbosity = 2) \n",
    "\n",
    "model_allChest = allChest.fit(x_train,y_train, \n",
    "                              eval_metric=['merror'],\n",
    "                              eval_set = evalSet) \n",
    "allChest_pred = allChest.predict(x_test)\n",
    "allChest_report = (classification_report(y_test,\n",
    "                                         allChest_pred,\n",
    "                                         labels=np.unique(allChest_pred),\n",
    "                                         digits=4))\n",
    "\n",
    "print('Balanced Accuracy:', balanced_accuracy_score(y_test, allChest_pred))\n",
    "print('----------------------------------------')\n",
    "print('------------ S4 All Chest Classification Report------------')\n",
    "print(allChest_report)"
   ]
  },
  {
   "cell_type": "markdown",
   "metadata": {},
   "source": [
    "### Confusion Matrix"
   ]
  },
  {
   "cell_type": "code",
   "execution_count": 23,
   "metadata": {},
   "outputs": [
    {
     "data": {
      "image/png": "[encoded data removed]",
      "text/plain": [
       "<Figure size 504x360 with 2 Axes>"
      ]
     },
     "metadata": {},
     "output_type": "display_data"
    }
   ],
   "source": [
    "cm = confusion_matrix(y_test, allChest_pred)\n",
    "plt.figure(figsize=(7,5))\n",
    "sns.heatmap(cm, annot=True, fmt='d', cmap=plt.cm.BuPu );"
   ]
  },
  {
   "cell_type": "markdown",
   "metadata": {},
   "source": [
    "### Multi-class AUC Score"
   ]
  },
  {
   "cell_type": "code",
   "execution_count": 24,
   "metadata": {},
   "outputs": [
    {
     "name": "stdout",
     "output_type": "stream",
     "text": [
      "S11 All Chest\n",
      "---------------------\n",
      "AUC: 99.52%\n"
     ]
    }
   ],
   "source": [
    "def multiclass_roc_auc_score(y_test, allChest_pred, average = 'micro'): \n",
    "    xg = preprocessing.LabelBinarizer()\n",
    "    xg.fit(y_test)\n",
    "    y_test1 = xg.transform(y_test) \n",
    "    y_pred1 = xg.transform(allChest_pred)\n",
    "    return roc_auc_score(y_test1, y_pred1, average=average)\n",
    "\n",
    "aucScore = multiclass_roc_auc_score(y_test, allChest_pred)\n",
    "\n",
    "print('S11 All Chest')\n",
    "print('---------------------')\n",
    "print(\"AUC: %.2f%%\" % (aucScore*100))"
   ]
  },
  {
   "cell_type": "markdown",
   "metadata": {},
   "source": [
    "## Model ch_lessAcc: Chest Less Accelerometer  "
   ]
  },
  {
   "cell_type": "markdown",
   "metadata": {},
   "source": [
    "### Train Test Split"
   ]
  },
  {
   "cell_type": "code",
   "execution_count": 25,
   "metadata": {},
   "outputs": [
    {
     "name": "stdout",
     "output_type": "stream",
     "text": [
      "(3514560, 5)\n",
      "(878640,)\n"
     ]
    }
   ],
   "source": [
    "lessAcc = ch_loc[['ceda', 'ctemp', 'cresp', 'cemg', 'cecg', 'label']]\n",
    "y = lessAcc.label\n",
    "x = lessAcc.drop('label',axis=1)\n",
    "x_train, x_test, y_train, y_test = train_test_split(x, y, test_size=0.2)\n",
    "print(x_train.shape)\n",
    "print(y_test.shape)"
   ]
  },
  {
   "cell_type": "markdown",
   "metadata": {},
   "source": [
    "### Model Fit and f1 and Balanced Accuracy Scores"
   ]
  },
  {
   "cell_type": "code",
   "execution_count": 27,
   "metadata": {},
   "outputs": [
    {
     "name": "stdout",
     "output_type": "stream",
     "text": [
      "Balanced Accuracy: 0.9484293178912429\n",
      "----------------------------------------\n",
      "------------ S11 All Chest less ACC Classification Report------------\n",
      "              precision    recall  f1-score   support\n",
      "\n",
      "         0.0     0.9629    0.9302    0.9463    462011\n",
      "         1.0     0.9785    0.9815    0.9800    162750\n",
      "         2.0     0.9306    0.9620    0.9461     88971\n",
      "         3.0     0.8547    0.9515    0.9005     52364\n",
      "         4.0     0.8685    0.9169    0.8921    112544\n",
      "\n",
      "    accuracy                         0.9425    878640\n",
      "   macro avg     0.9191    0.9484    0.9330    878640\n",
      "weighted avg     0.9440    0.9425    0.9428    878640\n",
      "\n",
      "Wall time: 1min 28s\n"
     ]
    }
   ],
   "source": [
    "%%time\n",
    "ch_lessAcc = XGBClassifier(objective = 'multi:softmax',\n",
    "                              tree_method = 'gpu_hist',\n",
    "                              learning_rate = 0.1,\n",
    "                              n_estimators = 300, \n",
    "                              #max_depth = 10,\n",
    "                              #deterministic_histogram = 'false',\n",
    "                              gradient_based = 0.1,\n",
    "                              num_early_stopping_rounds = 20,\n",
    "                              gamma = 3,\n",
    "                              #seed = 24,\n",
    "                              verbosity = 2) \n",
    "\n",
    "model_ch_lessAcc = ch_lessAcc.fit(x_train,y_train)\n",
    "ch_lessAcc_pred = ch_lessAcc.predict(x_test)\n",
    "ch_lessAcc_report = (classification_report(y_test,\n",
    "                                           ch_lessAcc_pred,\n",
    "                                           labels=np.unique(ch_lessAcc_pred),\n",
    "                                           digits=4))\n",
    "\n",
    "print('Balanced Accuracy:', balanced_accuracy_score(y_test, ch_lessAcc_pred))\n",
    "print('----------------------------------------')\n",
    "print('------------ S4 All Chest less ACC Classification Report------------')\n",
    "print(ch_lessAcc_report)"
   ]
  },
  {
   "cell_type": "markdown",
   "metadata": {},
   "source": [
    "### Confusion Matrix"
   ]
  },
  {
   "cell_type": "code",
   "execution_count": 35,
   "metadata": {},
   "outputs": [
    {
     "data": {
      "image/png": "[encoded data removed]",
      "text/plain": [
       "<Figure size 504x360 with 2 Axes>"
      ]
     },
     "metadata": {},
     "output_type": "display_data"
    }
   ],
   "source": [
    "cm = confusion_matrix(y_test, ch_lessAcc_pred)\n",
    "plt.figure(figsize=(7,5))\n",
    "sns.heatmap(cm, annot=True, fmt='d', cmap=plt.cm.BuPu );"
   ]
  },
  {
   "cell_type": "markdown",
   "metadata": {},
   "source": [
    "### Classification Prediction Error"
   ]
  },
  {
   "cell_type": "code",
   "execution_count": 36,
   "metadata": {},
   "outputs": [
    {
     "data": {
      "image/png": "[encoded data removed]",
      "text/plain": [
       "<Figure size 620x450 with 1 Axes>"
      ]
     },
     "metadata": {},
     "output_type": "display_data"
    }
   ],
   "source": [
    "Classes = ['0', 'base', 'stress', 'amus', 'med']\n",
    "error = ClassPredictionError(ch_lessAcc, size=(620, 450), classes=Classes)\n",
    "error.score(x_test, y_test)\n",
    "e = error.poof()"
   ]
  },
  {
   "cell_type": "markdown",
   "metadata": {},
   "source": [
    "### Multiclass ROC AUC Score"
   ]
  },
  {
   "cell_type": "code",
   "execution_count": 37,
   "metadata": {},
   "outputs": [
    {
     "name": "stdout",
     "output_type": "stream",
     "text": [
      "S11 All Chest less ACC\n",
      "-------------------------------\n",
      "AUC: 96.20%\n"
     ]
    }
   ],
   "source": [
    "def multiclass_roc_auc_score(y_test, ch_lessAcc_pred, average = 'micro'): \n",
    "    xg = preprocessing.LabelBinarizer()\n",
    "    xg.fit(y_test)\n",
    "    y_test1 = xg.transform(y_test) \n",
    "    y_pred1 = xg.transform(ch_lessAcc_pred)\n",
    "    return roc_auc_score(y_test1, y_pred1, average=average)\n",
    "\n",
    "aucScore = multiclass_roc_auc_score(y_test, ch_lessAcc_pred)\n",
    "\n",
    "print('S11 All Chest less ACC')\n",
    "print('-------------------------------')\n",
    "print(\"AUC: %.2f%%\" % (aucScore*100))"
   ]
  },
  {
   "cell_type": "markdown",
   "metadata": {},
   "source": [
    "##  Model ACC: Accelerometer [X,Y,Z]"
   ]
  },
  {
   "cell_type": "markdown",
   "metadata": {},
   "source": [
    "### Train Test Split"
   ]
  },
  {
   "cell_type": "code",
   "execution_count": 28,
   "metadata": {},
   "outputs": [
    {
     "name": "stdout",
     "output_type": "stream",
     "text": [
      "(3514560, 3)\n",
      "(878640,)\n"
     ]
    }
   ],
   "source": [
    "ch_ACC = ch_loc[['cax', 'cay', 'caz', 'label']]\n",
    "y = ch_ACC.label\n",
    "x = ch_ACC.drop('label',axis=1)\n",
    "x_train, x_test, y_train, y_test = train_test_split(x, y, test_size=0.2)\n",
    "print(x_train.shape)\n",
    "print(y_test.shape)"
   ]
  },
  {
   "cell_type": "markdown",
   "metadata": {},
   "source": [
    "### Model Fit and f1 and Balanced Accuracy Scores"
   ]
  },
  {
   "cell_type": "code",
   "execution_count": 29,
   "metadata": {},
   "outputs": [
    {
     "name": "stdout",
     "output_type": "stream",
     "text": [
      "Balanced Accuracy: 0.9215305006875945\n",
      "---------------------------------------\n",
      "------------ S11 Chest ACC Classification Report------------\n",
      "              precision    recall  f1-score   support\n",
      "\n",
      "         0.0     0.9426    0.9174    0.9299    462200\n",
      "         1.0     0.9833    0.9710    0.9771    162451\n",
      "         2.0     0.6974    0.7892    0.7404     89165\n",
      "         3.0     0.9000    0.9509    0.9247     52168\n",
      "         4.0     0.9818    0.9792    0.9805    112656\n",
      "\n",
      "    accuracy                         0.9242    878640\n",
      "   macro avg     0.9010    0.9215    0.9105    878640\n",
      "weighted avg     0.9277    0.9242    0.9256    878640\n",
      "\n",
      "Wall time: 1min 20s\n"
     ]
    }
   ],
   "source": [
    "%%time\n",
    "ACC = XGBClassifier(objective = 'multi:softmax',\n",
    "                    tree_method = 'gpu_hist',\n",
    "                    learning_rate = 0.1,\n",
    "                    gradient_based = 0.1,\n",
    "                    #max_depth = 10,\n",
    "                    num_early_stopping_rounds = 20,\n",
    "                    n_estimators = 300,\n",
    "                    gamma = 3,\n",
    "                    verbosity = 2) \n",
    "\n",
    "model_ACC = ACC.fit(x_train, y_train)\n",
    "ACC_pred = ACC.predict(x_test)\n",
    "ACC_report = (classification_report(y_test,\n",
    "                                    ACC_pred,\n",
    "                                    labels=np.unique(ACC_pred),\n",
    "                                    digits=4))\n",
    "\n",
    "print('Balanced Accuracy:', balanced_accuracy_score(y_test, ACC_pred))\n",
    "print('---------------------------------------')\n",
    "print('------------ S4 Chest ACC Classification Report------------')\n",
    "print(ACC_report)"
   ]
  },
  {
   "cell_type": "markdown",
   "metadata": {},
   "source": [
    "### Confusion matrix "
   ]
  },
  {
   "cell_type": "code",
   "execution_count": 30,
   "metadata": {},
   "outputs": [
    {
     "data": {
      "image/png": "[encoded data removed]",
      "text/plain": [
       "<Figure size 576x432 with 2 Axes>"
      ]
     },
     "metadata": {},
     "output_type": "display_data"
    }
   ],
   "source": [
    "cm = confusion_matrix(y_test, ACC_pred)\n",
    "plt.figure(figsize=(8,6))\n",
    "sns.heatmap(cm, annot=True, fmt='d', cmap=plt.cm.BuPu );"
   ]
  },
  {
   "cell_type": "markdown",
   "metadata": {},
   "source": [
    "### Classification Prediction Error"
   ]
  },
  {
   "cell_type": "code",
   "execution_count": 31,
   "metadata": {},
   "outputs": [
    {
     "data": {
      "image/png": "[encoded data removed]",
      "text/plain": [
       "<Figure size 620x450 with 1 Axes>"
      ]
     },
     "metadata": {},
     "output_type": "display_data"
    }
   ],
   "source": [
    "Classes = ['0', 'base', 'stress', 'amus', 'med']\n",
    "error = ClassPredictionError(ACC, size=(620, 450), classes=Classes)\n",
    "error.score(x_test, y_test)\n",
    "e = error.poof()"
   ]
  },
  {
   "cell_type": "markdown",
   "metadata": {},
   "source": [
    "### Multiclass ROC AUC Score"
   ]
  },
  {
   "cell_type": "code",
   "execution_count": 32,
   "metadata": {},
   "outputs": [
    {
     "name": "stdout",
     "output_type": "stream",
     "text": [
      "S11 Chest Accelerometer\n",
      "-------------------\n",
      "AUC: 94.94%\n"
     ]
    }
   ],
   "source": [
    "def multiclass_roc_auc_score(y_test, ACC_pred, average = 'macro'): #(None, 'micro', 'macro', 'weighted', 'samples')\n",
    "    xg = preprocessing.LabelBinarizer()\n",
    "    xg.fit(y_test)\n",
    "    y_test1 = xg.transform(y_test) \n",
    "    y_pred1 = xg.transform(ACC_pred)\n",
    "    return roc_auc_score(y_test1, y_pred1, average=average)\n",
    "\n",
    "aucScore = multiclass_roc_auc_score(y_test, ACC_pred)\n",
    "\n",
    "print('S11 Chest Accelerometer')\n",
    "print('-------------------')\n",
    "print(\"AUC: %.2f%%\" % (aucScore*100))  "
   ]
  },
  {
   "cell_type": "markdown",
   "metadata": {},
   "source": [
    "## Model Eda: Electrodermal Activity only"
   ]
  },
  {
   "cell_type": "markdown",
   "metadata": {},
   "source": [
    "### Train Test Split"
   ]
  },
  {
   "cell_type": "code",
   "execution_count": 18,
   "metadata": {},
   "outputs": [
    {
     "name": "stdout",
     "output_type": "stream",
     "text": [
      "(3514560, 1)\n",
      "(878640,)\n"
     ]
    }
   ],
   "source": [
    "ch_eda= ch_loc[['ceda', 'label']]\n",
    "y = ch_eda.label\n",
    "x = ch_eda.drop('label',axis=1)\n",
    "x_train, x_test, y_train, y_test = train_test_split(x, y, test_size=0.2)\n",
    "print(x_train.shape)\n",
    "print(y_test.shape)"
   ]
  },
  {
   "cell_type": "markdown",
   "metadata": {},
   "source": [
    "### Model Fit, classification report, and balanced accuracy "
   ]
  },
  {
   "cell_type": "code",
   "execution_count": 19,
   "metadata": {},
   "outputs": [
    {
     "name": "stdout",
     "output_type": "stream",
     "text": [
      "Balanced Accuracy: 0.7160210051622824\n",
      "---------------------------------------\n",
      "------------ S11 Chest Electrodermal Activity Classification Report------------\n",
      "              precision    recall  f1-score   support\n",
      "\n",
      "         0.0     0.8051    0.8430    0.8236    463076\n",
      "         1.0     0.9277    0.9467    0.9371    161972\n",
      "         2.0     0.7435    0.7254    0.7343     88931\n",
      "         3.0     0.5935    0.3158    0.4123     51924\n",
      "         4.0     0.7405    0.7492    0.7448    112737\n",
      "\n",
      "    accuracy                         0.8070    878640\n",
      "   macro avg     0.7621    0.7160    0.7304    878640\n",
      "weighted avg     0.8007    0.8070    0.8011    878640\n",
      "\n",
      "Wall time: 1min 11s\n"
     ]
    }
   ],
   "source": [
    "%%time\n",
    "Eda = XGBClassifier(objective = 'multi:softmax',\n",
    "                    tree_method = 'gpu_hist',\n",
    "                    learning_rate = 0.1,\n",
    "                    gradient_based = 0.1,\n",
    "                    num_early_stopping_rounds = 20,\n",
    "                    n_estimators = 300,\n",
    "                    #max_depth = 10,\n",
    "                    gamma = 3,\n",
    "                    Eseed = 24,\n",
    "                    verbosity = 2) \n",
    "\n",
    "model_Eda = Eda.fit(x_train, y_train)\n",
    "Eda_pred = Eda.predict(x_test)\n",
    "Eda_report = (classification_report(y_test,\n",
    "                                    Eda_pred,\n",
    "                                    labels = np.unique(Eda_pred),\n",
    "                                    digits = 4))\n",
    "\n",
    "print('Balanced Accuracy:', balanced_accuracy_score(y_test, Eda_pred))\n",
    "print('---------------------------------------')\n",
    "print('------------ S4 Chest Electrodermal Activity Classification Report------------')\n",
    "print(Eda_report)"
   ]
  },
  {
   "cell_type": "markdown",
   "metadata": {},
   "source": [
    "### Confusion Matrix"
   ]
  },
  {
   "cell_type": "code",
   "execution_count": 20,
   "metadata": {},
   "outputs": [
    {
     "data": {
      "image/png": "[encoded data removed]",
      "text/plain": [
       "<Figure size 576x432 with 2 Axes>"
      ]
     },
     "metadata": {},
     "output_type": "display_data"
    }
   ],
   "source": [
    "cm = confusion_matrix(y_test, Eda_pred)\n",
    "plt.figure(figsize=(8,6))\n",
    "sns.heatmap(cm, annot=True, fmt='d', cmap=plt.cm.BuPu );"
   ]
  },
  {
   "cell_type": "markdown",
   "metadata": {},
   "source": [
    "### Classification Prediction Error"
   ]
  },
  {
   "cell_type": "code",
   "execution_count": 21,
   "metadata": {},
   "outputs": [
    {
     "data": {
      "image/png": "[encoded data removed]",
      "text/plain": [
       "<Figure size 620x450 with 1 Axes>"
      ]
     },
     "metadata": {},
     "output_type": "display_data"
    }
   ],
   "source": [
    "Classes = ['0', 'base', 'stress', 'amus', 'med']\n",
    "error = ClassPredictionError(Eda, size=(620, 450), classes=Classes)\n",
    "error.score(x_test, y_test)\n",
    "e = error.poof()"
   ]
  },
  {
   "cell_type": "markdown",
   "metadata": {},
   "source": [
    "### Multiclass ROC AUC Score"
   ]
  },
  {
   "cell_type": "code",
   "execution_count": 22,
   "metadata": {},
   "outputs": [
    {
     "name": "stdout",
     "output_type": "stream",
     "text": [
      "S11 Chest Skin Temperature\n",
      "-------------------\n",
      "AUC: 82.56%\n"
     ]
    }
   ],
   "source": [
    "def multiclass_roc_auc_score(y_test, Eda_pred, average = 'macro'): #(None, 'micro', 'macro', 'weighted', 'samples')\n",
    "    xg = preprocessing.LabelBinarizer()\n",
    "    xg.fit(y_test)\n",
    "    y_test1 = xg.transform(y_test) \n",
    "    y_pred1 = xg.transform(Eda_pred)\n",
    "    return roc_auc_score(y_test1, y_pred1, average=average)\n",
    "\n",
    "aucScore = multiclass_roc_auc_score(y_test, Eda_pred)\n",
    "\n",
    "print('S11 Chest Skin Temperature')\n",
    "print('-------------------')\n",
    "print(\"AUC: %.2f%%\" % (aucScore*100))  "
   ]
  },
  {
   "cell_type": "markdown",
   "metadata": {},
   "source": [
    "### Model ACC TEMP EDA"
   ]
  },
  {
   "cell_type": "code",
   "execution_count": null,
   "metadata": {},
   "outputs": [],
   "source": []
  },
  {
   "cell_type": "code",
   "execution_count": 19,
   "metadata": {},
   "outputs": [
    {
     "name": "stdout",
     "output_type": "stream",
     "text": [
      "(3514560, 5)\n",
      "(878640,)\n"
     ]
    }
   ],
   "source": [
    "less_Emg_Ecg = ch_loc[['ceda', 'ctemp', 'cax', 'cay', 'caz', 'label']]\n",
    "y = less_Emg_Ecg.label\n",
    "x = less_Emg_Ecg.drop('label',axis=1)\n",
    "x_train, x_test, y_train, y_test = train_test_split(x, y, test_size=0.2)\n",
    "print(x_train.shape)\n",
    "print(y_test.shape)"
   ]
  },
  {
   "cell_type": "code",
   "execution_count": null,
   "metadata": {},
   "outputs": [],
   "source": []
  },
  {
   "cell_type": "code",
   "execution_count": 21,
   "metadata": {
    "scrolled": true
   },
   "outputs": [
    {
     "name": "stdout",
     "output_type": "stream",
     "text": [
      "Balanced Accuracy: 0.991238174253089\n",
      "---------------------------------------\n",
      "------------ S4 ACC EDA TEMP Classification Report------------\n",
      "              precision    recall  f1-score   support\n",
      "\n",
      "         0.0     0.9939    0.9859    0.9899    462873\n",
      "         1.0     0.9949    0.9983    0.9966    161781\n",
      "         2.0     0.9808    0.9856    0.9832     88912\n",
      "         3.0     0.9470    0.9950    0.9704     52420\n",
      "         4.0     0.9905    0.9913    0.9909    112654\n",
      "\n",
      "    accuracy                         0.9894    878640\n",
      "   macro avg     0.9814    0.9912    0.9862    878640\n",
      "weighted avg     0.9896    0.9894    0.9894    878640\n",
      "\n",
      "Wall time: 1min 23s\n"
     ]
    }
   ],
   "source": [
    "%%time\n",
    "accEdaTemp = XGBClassifier(objective = 'multi:softmax',\n",
    "                           tree_method = 'gpu_hist',\n",
    "                           learning_rate = 0.1,\n",
    "                           gradient_based = 0.1,\n",
    "                           num_early_stopping_rounds = 20,\n",
    "                           n_estimators = 300,\n",
    "                           gamma = 3,\n",
    "                           verbosity = 2) \n",
    "\n",
    "model_accEdaTemp = accEdaTemp.fit(x_train, y_train)\n",
    "accEdaTemp_pred = accEdaTemp.predict(x_test)\n",
    "accEdaTemp_report = (classification_report(y_test, \n",
    "                                         accEdaTemp_pred, \n",
    "                                         labels = np.unique(accEdaTemp_pred),\n",
    "                                         digits = 4))\n",
    "\n",
    "print('Balanced Accuracy:', balanced_accuracy_score(y_test, accEdaTemp_pred))\n",
    "print('---------------------------------------')\n",
    "print('------------ S4 ACC EDA TEMP Classification Report------------')\n",
    "print(accEdaTemp_report)"
   ]
  },
  {
   "cell_type": "code",
   "execution_count": null,
   "metadata": {},
   "outputs": [],
   "source": []
  },
  {
   "cell_type": "code",
   "execution_count": 23,
   "metadata": {},
   "outputs": [
    {
     "data": {
      "image/png": "[encoded data removed]",
      "text/plain": [
       "<Figure size 576x432 with 2 Axes>"
      ]
     },
     "metadata": {},
     "output_type": "display_data"
    }
   ],
   "source": [
    "cm = confusion_matrix(y_test, accEdaTemp_pred)\n",
    "plt.figure(figsize=(8,6))\n",
    "sns.heatmap(cm, annot=True, fmt='d', cmap=plt.cm.BuPu );"
   ]
  },
  {
   "cell_type": "code",
   "execution_count": null,
   "metadata": {},
   "outputs": [],
   "source": []
  },
  {
   "cell_type": "code",
   "execution_count": 24,
   "metadata": {},
   "outputs": [
    {
     "data": {
      "image/png": "[encoded data removed]",
      "text/plain": [
       "<Figure size 620x450 with 1 Axes>"
      ]
     },
     "metadata": {},
     "output_type": "display_data"
    }
   ],
   "source": [
    "Classes = ['0', 'base', 'stress', 'amus', 'med']\n",
    "error = ClassPredictionError(accEdaTemp, size=(620, 450), classes=Classes)\n",
    "error.score(x_test, y_test)\n",
    "e = error.poof()"
   ]
  },
  {
   "cell_type": "code",
   "execution_count": null,
   "metadata": {},
   "outputs": [],
   "source": []
  },
  {
   "cell_type": "code",
   "execution_count": 25,
   "metadata": {},
   "outputs": [
    {
     "name": "stdout",
     "output_type": "stream",
     "text": [
      "S11 Chest Skin Temperature\n",
      "-------------------\n",
      "AUC: 99.41%\n"
     ]
    }
   ],
   "source": [
    "def multiclass_roc_auc_score(y_test, accEdaTemp_pred, average = 'macro'): #(None, 'micro', 'macro', 'weighted', 'samples')\n",
    "    xg = preprocessing.LabelBinarizer()\n",
    "    xg.fit(y_test)\n",
    "    y_test1 = xg.transform(y_test) \n",
    "    y_pred1 = xg.transform(accEdaTemp_pred)\n",
    "    return roc_auc_score(y_test1, y_pred1, average=average)\n",
    "\n",
    "aucScore = multiclass_roc_auc_score(y_test, accEdaTemp_pred)\n",
    "\n",
    "print('S11 Chest Skin Temperature')\n",
    "print('-------------------')\n",
    "print(\"AUC: %.2f%%\" % (aucScore*100)) "
   ]
  },
  {
   "cell_type": "code",
   "execution_count": null,
   "metadata": {},
   "outputs": [],
   "source": []
  }
 ],
 "metadata": {
  "kernelspec": {
   "display_name": "practicum1",
   "language": "python",
   "name": "practicum1"
  },
  "language_info": {
   "codemirror_mode": {
    "name": "ipython",
    "version": 3
   },
   "file_extension": ".py",
   "mimetype": "text/x-python",
   "name": "python",
   "nbconvert_exporter": "python",
   "pygments_lexer": "ipython3",
   "version": "3.7.6"
  },
  "toc": {
   "base_numbering": 1,
   "nav_menu": {},
   "number_sections": true,
   "sideBar": true,
   "skip_h1_title": true,
   "title_cell": "Table of Contents",
   "title_sidebar": "Contents",
   "toc_cell": true,
   "toc_position": {},
   "toc_section_display": true,
   "toc_window_display": false
  }
 },
 "nbformat": 4,
 "nbformat_minor": 2
}
