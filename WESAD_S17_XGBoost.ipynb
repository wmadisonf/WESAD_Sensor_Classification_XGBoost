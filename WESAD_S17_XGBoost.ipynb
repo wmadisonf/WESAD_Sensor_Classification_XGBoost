{
 "cells": [
  {
   "cell_type": "markdown",
   "metadata": {},
   "source": [
    "# S4 WESAD XGBoost  "
   ]
  },
  {
   "cell_type": "markdown",
   "metadata": {},
   "source": [
    "    Female Participant\n",
    "    Age: 29\n",
    "    Height (cm): 165\n",
    "    Weight (kg): 55"
   ]
  },
  {
   "cell_type": "markdown",
   "metadata": {},
   "source": [
    "# Load Tools"
   ]
  },
  {
   "cell_type": "code",
   "execution_count": 3,
   "metadata": {},
   "outputs": [],
   "source": [
    "%matplotlib inline\n",
    "import pickle\n",
    "import numpy as np\n",
    "import pandas as pd\n",
    "import matplotlib\n",
    "import matplotlib.pyplot as plt\n",
    "import seaborn as sns\n",
    "import warnings\n",
    "warnings.filterwarnings('ignore')"
   ]
  },
  {
   "cell_type": "code",
   "execution_count": 4,
   "metadata": {},
   "outputs": [],
   "source": [
    "import sklearn as skl\n",
    "from sklearn.model_selection import train_test_split\n",
    "from sklearn.metrics import confusion_matrix, classification_report\n",
    "from sklearn.metrics import balanced_accuracy_score, f1_score, roc_auc_score \n",
    "from sklearn import preprocessing\n",
    "from sklearn.preprocessing import LabelEncoder, StandardScaler, label_binarize\n",
    "from sklearn.utils import class_weight\n",
    "import xgboost as xgb\n",
    "from xgboost import plot_importance, XGBClassifier"
   ]
  },
  {
   "cell_type": "code",
   "execution_count": 5,
   "metadata": {},
   "outputs": [],
   "source": [
    "# Visualizing High-Performance Gradient Boosting with XGBoost and Yellowbrick\n",
    "# https://rebeccabilbro.github.io/xgboost-and-yellowbrick/\n",
    "# conda install -c districtdatalabs yellowbrick\n",
    "\n",
    "from yellowbrick.classifier import ClassBalance, ROCAUC, ClassificationReport, ClassPredictionError"
   ]
  },
  {
   "cell_type": "code",
   "execution_count": 6,
   "metadata": {},
   "outputs": [],
   "source": [
    "sns.set(style=\"darkgrid\")"
   ]
  },
  {
   "cell_type": "code",
   "execution_count": 7,
   "metadata": {},
   "outputs": [],
   "source": [
    "# https://medium.com/ibm-data-science-experience/markdown-for-jupyter-notebooks-cheatsheet-386c05aeebed#:~:text=Colors%3A%20Use%20this%20code%3A%20%3C,space%2C%20then%20type%20the%20text.\n",
    "# https://www.w3schools.com/charsets/ref_utf_geometric.asp# import pydot"
   ]
  },
  {
   "cell_type": "code",
   "execution_count": 8,
   "metadata": {},
   "outputs": [
    {
     "name": "stdout",
     "output_type": "stream",
     "text": [
      "WForsythe 2020-08-02 16:36:17 \n",
      "\n",
      "CPython 3.7.6\n",
      "IPython 7.11.1\n",
      "\n",
      "numpy 1.18.1\n",
      "pandas 1.0.3\n",
      "cv2 4.2.0\n",
      "xgboost 1.0.2\n",
      "sklearn 0.22.1\n",
      "seaborn 0.9.0\n",
      "matplotlib 3.2.2\n",
      "yellowbrick 1.1\n"
     ]
    }
   ],
   "source": [
    "import autoreload\n",
    "%load_ext watermark\n",
    "%load_ext autoreload\n",
    "%autoreload 2\n",
    "%watermark -a 'WForsythe' -d -t -v -p   numpy,pandas,cv2,xgboost,sklearn,seaborn,matplotlib,yellowbrick"
   ]
  },
  {
   "cell_type": "markdown",
   "metadata": {},
   "source": [
    "# Load and Process File"
   ]
  },
  {
   "cell_type": "markdown",
   "metadata": {},
   "source": [
    "## Load File"
   ]
  },
  {
   "cell_type": "code",
   "execution_count": 9,
   "metadata": {},
   "outputs": [
    {
     "name": "stdout",
     "output_type": "stream",
     "text": [
      "Wall time: 11.4 s\n"
     ]
    },
    {
     "data": {
      "text/plain": [
       "{'signal': {'chest': {'ACC': array([[ 0.70019996, -0.19819999, -1.07019997],\n",
       "          [ 0.72940004, -0.19019997, -1.04700005],\n",
       "          [ 0.76460004, -0.18400002, -1.00460005],\n",
       "          ...,\n",
       "          [ 0.90279996, -0.0424    , -0.1864    ],\n",
       "          [ 0.90020001, -0.04079998, -0.18540001],\n",
       "          [ 0.89960003, -0.04140002, -0.18620002]]),\n",
       "   'ECG': array([[1.43179321],\n",
       "          [1.46195984],\n",
       "          [1.47161865],\n",
       "          ...,\n",
       "          [0.16712952],\n",
       "          [0.17033386],\n",
       "          [0.17523193]]),\n",
       "   'EMG': array([[ 0.00709534],\n",
       "          [-0.0124054 ],\n",
       "          [-0.01808167],\n",
       "          ...,\n",
       "          [-0.0160675 ],\n",
       "          [ 0.00517273],\n",
       "          [ 0.02275085]]),\n",
       "   'EDA': array([[5.40046692],\n",
       "          [5.40885925],\n",
       "          [5.40161133],\n",
       "          ...,\n",
       "          [7.26280212],\n",
       "          [7.26966858],\n",
       "          [7.2681427 ]]),\n",
       "   'Temp': array([[32.415283],\n",
       "          [32.43463 ],\n",
       "          [32.4451  ],\n",
       "          ...,\n",
       "          [33.86429 ],\n",
       "          [33.862762],\n",
       "          [33.868835]], dtype=float32),\n",
       "   'Resp': array([[3.22113037],\n",
       "          [3.60717773],\n",
       "          [3.60870361],\n",
       "          ...,\n",
       "          [0.31890869],\n",
       "          [0.30822754],\n",
       "          [0.2746582 ]])},\n",
       "  'wrist': {'ACC': array([[ -36.,  -38., -128.],\n",
       "          [  -9.,   -9.,    2.],\n",
       "          [ 113.,  -25.,   86.],\n",
       "          ...,\n",
       "          [ -38.,  -43.,  -93.],\n",
       "          [   2.,  -52., -105.],\n",
       "          [-128.,   86.,  127.]]), 'BVP': array([[-0.49],\n",
       "          [-0.38],\n",
       "          [-0.36],\n",
       "          ...,\n",
       "          [-4.43],\n",
       "          [-5.44],\n",
       "          [-6.21]]), 'EDA': array([[2.015176],\n",
       "          [2.012617],\n",
       "          [2.001103],\n",
       "          ...,\n",
       "          [0.78717 ],\n",
       "          [0.784611],\n",
       "          [0.783331]]), 'TEMP': array([[33.39],\n",
       "          [33.37],\n",
       "          [33.37],\n",
       "          ...,\n",
       "          [31.81],\n",
       "          [31.81],\n",
       "          [31.81]])}},\n",
       " 'label': array([0, 0, 0, ..., 0, 0, 0]),\n",
       " 'subject': 'S17'}"
      ]
     },
     "execution_count": 9,
     "metadata": {},
     "output_type": "execute_result"
    }
   ],
   "source": [
    "%%time\n",
    "data = 'D:/WESAD/'\n",
    "s17_file = pd.read_pickle(data + 'S17/S17.pkl')\n",
    "s17_file"
   ]
  },
  {
   "cell_type": "markdown",
   "metadata": {},
   "source": [
    "## Process"
   ]
  },
  {
   "cell_type": "markdown",
   "metadata": {},
   "source": [
    "### Separate chest features  from wrist  features "
   ]
  },
  {
   "cell_type": "code",
   "execution_count": 10,
   "metadata": {},
   "outputs": [],
   "source": [
    "cax = s17_file['signal']['chest']['ACC'][0:,0]\n",
    "cay = s17_file['signal']['chest']['ACC'][0:,1]\n",
    "caz = s17_file['signal']['chest']['ACC'][0:,2]\n",
    "cecg = s17_file['signal']['chest']['ECG'][:,0]\n",
    "cemg = s17_file['signal']['chest']['EMG'][:,0]\n",
    "ceda = s17_file['signal']['chest']['EDA'][:,0]\n",
    "ctemp = s17_file['signal']['chest']['Temp'][:,0]\n",
    "cresp = s17_file['signal']['chest']['Resp'][:,0]\n",
    "label = s17_file['label']"
   ]
  },
  {
   "cell_type": "code",
   "execution_count": 11,
   "metadata": {},
   "outputs": [
    {
     "data": {
      "text/plain": [
       "array([0, 0, 0, ..., 0, 0, 0])"
      ]
     },
     "execution_count": 11,
     "metadata": {},
     "output_type": "execute_result"
    }
   ],
   "source": [
    "label"
   ]
  },
  {
   "cell_type": "markdown",
   "metadata": {},
   "source": [
    "### Change dictionary object to a numpy array and array to a dataframe"
   ]
  },
  {
   "cell_type": "code",
   "execution_count": 12,
   "metadata": {},
   "outputs": [],
   "source": [
    "# Python | Numpy ndarray.T\n",
    "# https://www.geeksforgeeks.org/python-numpy-ndarray-t/\n",
    "# Numpy Array Cookbook: Generating and Manipulating Arrays in Python\n",
    "# https://towardsdatascience.com/numpy-array-cookbook-generating-and-manipulating-arrays-in-python-2195c3988b09"
   ]
  },
  {
   "cell_type": "code",
   "execution_count": 13,
   "metadata": {},
   "outputs": [
    {
     "data": {
      "text/html": [
       "<div>\n",
       "<style scoped>\n",
       "    .dataframe tbody tr th:only-of-type {\n",
       "        vertical-align: middle;\n",
       "    }\n",
       "\n",
       "    .dataframe tbody tr th {\n",
       "        vertical-align: top;\n",
       "    }\n",
       "\n",
       "    .dataframe thead th {\n",
       "        text-align: right;\n",
       "    }\n",
       "</style>\n",
       "<table border=\"1\" class=\"dataframe\">\n",
       "  <thead>\n",
       "    <tr style=\"text-align: right;\">\n",
       "      <th></th>\n",
       "      <th>cax</th>\n",
       "      <th>cay</th>\n",
       "      <th>caz</th>\n",
       "      <th>cecg</th>\n",
       "      <th>cemg</th>\n",
       "      <th>ceda</th>\n",
       "      <th>ctemp</th>\n",
       "      <th>cresp</th>\n",
       "      <th>label</th>\n",
       "    </tr>\n",
       "  </thead>\n",
       "  <tbody>\n",
       "    <tr>\n",
       "      <th>0</th>\n",
       "      <td>0.7002</td>\n",
       "      <td>-0.1982</td>\n",
       "      <td>-1.0702</td>\n",
       "      <td>1.431793</td>\n",
       "      <td>0.007095</td>\n",
       "      <td>5.400467</td>\n",
       "      <td>32.415283</td>\n",
       "      <td>3.221130</td>\n",
       "      <td>0.0</td>\n",
       "    </tr>\n",
       "    <tr>\n",
       "      <th>1</th>\n",
       "      <td>0.7294</td>\n",
       "      <td>-0.1902</td>\n",
       "      <td>-1.0470</td>\n",
       "      <td>1.461960</td>\n",
       "      <td>-0.012405</td>\n",
       "      <td>5.408859</td>\n",
       "      <td>32.434631</td>\n",
       "      <td>3.607178</td>\n",
       "      <td>0.0</td>\n",
       "    </tr>\n",
       "    <tr>\n",
       "      <th>2</th>\n",
       "      <td>0.7646</td>\n",
       "      <td>-0.1840</td>\n",
       "      <td>-1.0046</td>\n",
       "      <td>1.471619</td>\n",
       "      <td>-0.018082</td>\n",
       "      <td>5.401611</td>\n",
       "      <td>32.445099</td>\n",
       "      <td>3.608704</td>\n",
       "      <td>0.0</td>\n",
       "    </tr>\n",
       "    <tr>\n",
       "      <th>3</th>\n",
       "      <td>0.8014</td>\n",
       "      <td>-0.1778</td>\n",
       "      <td>-0.9782</td>\n",
       "      <td>1.472763</td>\n",
       "      <td>-0.027557</td>\n",
       "      <td>5.407715</td>\n",
       "      <td>32.439087</td>\n",
       "      <td>3.643799</td>\n",
       "      <td>0.0</td>\n",
       "    </tr>\n",
       "    <tr>\n",
       "      <th>4</th>\n",
       "      <td>0.8348</td>\n",
       "      <td>-0.1608</td>\n",
       "      <td>-0.8950</td>\n",
       "      <td>1.469421</td>\n",
       "      <td>-0.026779</td>\n",
       "      <td>5.410385</td>\n",
       "      <td>32.439087</td>\n",
       "      <td>3.575134</td>\n",
       "      <td>0.0</td>\n",
       "    </tr>\n",
       "    <tr>\n",
       "      <th>...</th>\n",
       "      <td>...</td>\n",
       "      <td>...</td>\n",
       "      <td>...</td>\n",
       "      <td>...</td>\n",
       "      <td>...</td>\n",
       "      <td>...</td>\n",
       "      <td>...</td>\n",
       "      <td>...</td>\n",
       "      <td>...</td>\n",
       "    </tr>\n",
       "    <tr>\n",
       "      <th>4143995</th>\n",
       "      <td>0.9006</td>\n",
       "      <td>-0.0400</td>\n",
       "      <td>-0.1898</td>\n",
       "      <td>0.173676</td>\n",
       "      <td>-0.005539</td>\n",
       "      <td>7.265091</td>\n",
       "      <td>33.862762</td>\n",
       "      <td>0.318909</td>\n",
       "      <td>0.0</td>\n",
       "    </tr>\n",
       "    <tr>\n",
       "      <th>4143996</th>\n",
       "      <td>0.9022</td>\n",
       "      <td>-0.0398</td>\n",
       "      <td>-0.1872</td>\n",
       "      <td>0.168777</td>\n",
       "      <td>-0.004944</td>\n",
       "      <td>7.266617</td>\n",
       "      <td>33.859741</td>\n",
       "      <td>0.233459</td>\n",
       "      <td>0.0</td>\n",
       "    </tr>\n",
       "    <tr>\n",
       "      <th>4143997</th>\n",
       "      <td>0.9028</td>\n",
       "      <td>-0.0424</td>\n",
       "      <td>-0.1864</td>\n",
       "      <td>0.167130</td>\n",
       "      <td>-0.016068</td>\n",
       "      <td>7.262802</td>\n",
       "      <td>33.864288</td>\n",
       "      <td>0.318909</td>\n",
       "      <td>0.0</td>\n",
       "    </tr>\n",
       "    <tr>\n",
       "      <th>4143998</th>\n",
       "      <td>0.9002</td>\n",
       "      <td>-0.0408</td>\n",
       "      <td>-0.1854</td>\n",
       "      <td>0.170334</td>\n",
       "      <td>0.005173</td>\n",
       "      <td>7.269669</td>\n",
       "      <td>33.862762</td>\n",
       "      <td>0.308228</td>\n",
       "      <td>0.0</td>\n",
       "    </tr>\n",
       "    <tr>\n",
       "      <th>4143999</th>\n",
       "      <td>0.8996</td>\n",
       "      <td>-0.0414</td>\n",
       "      <td>-0.1862</td>\n",
       "      <td>0.175232</td>\n",
       "      <td>0.022751</td>\n",
       "      <td>7.268143</td>\n",
       "      <td>33.868835</td>\n",
       "      <td>0.274658</td>\n",
       "      <td>0.0</td>\n",
       "    </tr>\n",
       "  </tbody>\n",
       "</table>\n",
       "<p>4144000 rows × 9 columns</p>\n",
       "</div>"
      ],
      "text/plain": [
       "            cax     cay     caz      cecg      cemg      ceda      ctemp  \\\n",
       "0        0.7002 -0.1982 -1.0702  1.431793  0.007095  5.400467  32.415283   \n",
       "1        0.7294 -0.1902 -1.0470  1.461960 -0.012405  5.408859  32.434631   \n",
       "2        0.7646 -0.1840 -1.0046  1.471619 -0.018082  5.401611  32.445099   \n",
       "3        0.8014 -0.1778 -0.9782  1.472763 -0.027557  5.407715  32.439087   \n",
       "4        0.8348 -0.1608 -0.8950  1.469421 -0.026779  5.410385  32.439087   \n",
       "...         ...     ...     ...       ...       ...       ...        ...   \n",
       "4143995  0.9006 -0.0400 -0.1898  0.173676 -0.005539  7.265091  33.862762   \n",
       "4143996  0.9022 -0.0398 -0.1872  0.168777 -0.004944  7.266617  33.859741   \n",
       "4143997  0.9028 -0.0424 -0.1864  0.167130 -0.016068  7.262802  33.864288   \n",
       "4143998  0.9002 -0.0408 -0.1854  0.170334  0.005173  7.269669  33.862762   \n",
       "4143999  0.8996 -0.0414 -0.1862  0.175232  0.022751  7.268143  33.868835   \n",
       "\n",
       "            cresp  label  \n",
       "0        3.221130    0.0  \n",
       "1        3.607178    0.0  \n",
       "2        3.608704    0.0  \n",
       "3        3.643799    0.0  \n",
       "4        3.575134    0.0  \n",
       "...           ...    ...  \n",
       "4143995  0.318909    0.0  \n",
       "4143996  0.233459    0.0  \n",
       "4143997  0.318909    0.0  \n",
       "4143998  0.308228    0.0  \n",
       "4143999  0.274658    0.0  \n",
       "\n",
       "[4144000 rows x 9 columns]"
      ]
     },
     "execution_count": 13,
     "metadata": {},
     "output_type": "execute_result"
    }
   ],
   "source": [
    "chest = [cax, cay, caz, cecg, cemg, \n",
    "         ceda, ctemp, cresp, label] \n",
    "ch_array = np.array(chest) \n",
    "ch_array = ch_array.T # transpose \n",
    "Columns = ['cax', 'cay', 'caz','cecg', 'cemg', \n",
    "          'ceda','ctemp', 'cresp', 'label' ]\n",
    "ch_df = pd.DataFrame(ch_array, columns = Columns) \n",
    "ch_df"
   ]
  },
  {
   "cell_type": "markdown",
   "metadata": {},
   "source": [
    "#### Check Statistics"
   ]
  },
  {
   "cell_type": "code",
   "execution_count": 14,
   "metadata": {},
   "outputs": [
    {
     "data": {
      "text/html": [
       "<div>\n",
       "<style scoped>\n",
       "    .dataframe tbody tr th:only-of-type {\n",
       "        vertical-align: middle;\n",
       "    }\n",
       "\n",
       "    .dataframe tbody tr th {\n",
       "        vertical-align: top;\n",
       "    }\n",
       "\n",
       "    .dataframe thead th {\n",
       "        text-align: right;\n",
       "    }\n",
       "</style>\n",
       "<table border=\"1\" class=\"dataframe\">\n",
       "  <thead>\n",
       "    <tr style=\"text-align: right;\">\n",
       "      <th></th>\n",
       "      <th>count</th>\n",
       "      <th>mean</th>\n",
       "      <th>std</th>\n",
       "      <th>min</th>\n",
       "      <th>25%</th>\n",
       "      <th>50%</th>\n",
       "      <th>75%</th>\n",
       "      <th>max</th>\n",
       "    </tr>\n",
       "  </thead>\n",
       "  <tbody>\n",
       "    <tr>\n",
       "      <th>cax</th>\n",
       "      <td>4144000.0</td>\n",
       "      <td>0.632924</td>\n",
       "      <td>0.232578</td>\n",
       "      <td>0.181000</td>\n",
       "      <td>0.386600</td>\n",
       "      <td>0.647000</td>\n",
       "      <td>0.877800</td>\n",
       "      <td>1.859400</td>\n",
       "    </tr>\n",
       "    <tr>\n",
       "      <th>cay</th>\n",
       "      <td>4144000.0</td>\n",
       "      <td>-0.015859</td>\n",
       "      <td>0.060026</td>\n",
       "      <td>-0.665600</td>\n",
       "      <td>-0.059800</td>\n",
       "      <td>-0.001800</td>\n",
       "      <td>0.027000</td>\n",
       "      <td>0.541600</td>\n",
       "    </tr>\n",
       "    <tr>\n",
       "      <th>caz</th>\n",
       "      <td>4144000.0</td>\n",
       "      <td>-0.581079</td>\n",
       "      <td>0.315453</td>\n",
       "      <td>-1.321400</td>\n",
       "      <td>-0.885400</td>\n",
       "      <td>-0.683000</td>\n",
       "      <td>-0.275400</td>\n",
       "      <td>1.474400</td>\n",
       "    </tr>\n",
       "    <tr>\n",
       "      <th>cecg</th>\n",
       "      <td>4144000.0</td>\n",
       "      <td>0.000965</td>\n",
       "      <td>0.286104</td>\n",
       "      <td>-1.258484</td>\n",
       "      <td>-0.110916</td>\n",
       "      <td>-0.039963</td>\n",
       "      <td>0.017899</td>\n",
       "      <td>1.499954</td>\n",
       "    </tr>\n",
       "    <tr>\n",
       "      <th>cemg</th>\n",
       "      <td>4144000.0</td>\n",
       "      <td>-0.004101</td>\n",
       "      <td>0.017794</td>\n",
       "      <td>-0.901337</td>\n",
       "      <td>-0.011765</td>\n",
       "      <td>-0.003891</td>\n",
       "      <td>0.003525</td>\n",
       "      <td>1.138412</td>\n",
       "    </tr>\n",
       "    <tr>\n",
       "      <th>ceda</th>\n",
       "      <td>4144000.0</td>\n",
       "      <td>6.491610</td>\n",
       "      <td>0.810352</td>\n",
       "      <td>5.057526</td>\n",
       "      <td>5.738068</td>\n",
       "      <td>6.290817</td>\n",
       "      <td>7.224655</td>\n",
       "      <td>8.211136</td>\n",
       "    </tr>\n",
       "    <tr>\n",
       "      <th>ctemp</th>\n",
       "      <td>4144000.0</td>\n",
       "      <td>33.774129</td>\n",
       "      <td>0.423570</td>\n",
       "      <td>32.102783</td>\n",
       "      <td>33.529327</td>\n",
       "      <td>33.674652</td>\n",
       "      <td>34.106201</td>\n",
       "      <td>34.755402</td>\n",
       "    </tr>\n",
       "    <tr>\n",
       "      <th>cresp</th>\n",
       "      <td>4144000.0</td>\n",
       "      <td>0.047059</td>\n",
       "      <td>4.809081</td>\n",
       "      <td>-28.024292</td>\n",
       "      <td>-2.397156</td>\n",
       "      <td>-0.256348</td>\n",
       "      <td>2.641296</td>\n",
       "      <td>28.684998</td>\n",
       "    </tr>\n",
       "    <tr>\n",
       "      <th>label</th>\n",
       "      <td>4144000.0</td>\n",
       "      <td>1.302363</td>\n",
       "      <td>1.615107</td>\n",
       "      <td>0.000000</td>\n",
       "      <td>0.000000</td>\n",
       "      <td>1.000000</td>\n",
       "      <td>2.000000</td>\n",
       "      <td>7.000000</td>\n",
       "    </tr>\n",
       "  </tbody>\n",
       "</table>\n",
       "</div>"
      ],
      "text/plain": [
       "           count       mean       std        min        25%        50%  \\\n",
       "cax    4144000.0   0.632924  0.232578   0.181000   0.386600   0.647000   \n",
       "cay    4144000.0  -0.015859  0.060026  -0.665600  -0.059800  -0.001800   \n",
       "caz    4144000.0  -0.581079  0.315453  -1.321400  -0.885400  -0.683000   \n",
       "cecg   4144000.0   0.000965  0.286104  -1.258484  -0.110916  -0.039963   \n",
       "cemg   4144000.0  -0.004101  0.017794  -0.901337  -0.011765  -0.003891   \n",
       "ceda   4144000.0   6.491610  0.810352   5.057526   5.738068   6.290817   \n",
       "ctemp  4144000.0  33.774129  0.423570  32.102783  33.529327  33.674652   \n",
       "cresp  4144000.0   0.047059  4.809081 -28.024292  -2.397156  -0.256348   \n",
       "label  4144000.0   1.302363  1.615107   0.000000   0.000000   1.000000   \n",
       "\n",
       "             75%        max  \n",
       "cax     0.877800   1.859400  \n",
       "cay     0.027000   0.541600  \n",
       "caz    -0.275400   1.474400  \n",
       "cecg    0.017899   1.499954  \n",
       "cemg    0.003525   1.138412  \n",
       "ceda    7.224655   8.211136  \n",
       "ctemp  34.106201  34.755402  \n",
       "cresp   2.641296  28.684998  \n",
       "label   2.000000   7.000000  "
      ]
     },
     "execution_count": 14,
     "metadata": {},
     "output_type": "execute_result"
    }
   ],
   "source": [
    "ch_df.describe().T"
   ]
  },
  {
   "cell_type": "markdown",
   "metadata": {},
   "source": [
    "#### Check Type"
   ]
  },
  {
   "cell_type": "code",
   "execution_count": 15,
   "metadata": {},
   "outputs": [
    {
     "name": "stdout",
     "output_type": "stream",
     "text": [
      "<class 'pandas.core.frame.DataFrame'>\n",
      "RangeIndex: 4144000 entries, 0 to 4143999\n",
      "Data columns (total 9 columns):\n",
      " #   Column  Dtype  \n",
      "---  ------  -----  \n",
      " 0   cax     float64\n",
      " 1   cay     float64\n",
      " 2   caz     float64\n",
      " 3   cecg    float64\n",
      " 4   cemg    float64\n",
      " 5   ceda    float64\n",
      " 6   ctemp   float64\n",
      " 7   cresp   float64\n",
      " 8   label   float64\n",
      "dtypes: float64(9)\n",
      "memory usage: 284.5 MB\n",
      "None\n"
     ]
    }
   ],
   "source": [
    "print(ch_df.info())"
   ]
  },
  {
   "cell_type": "markdown",
   "metadata": {},
   "source": [
    "### Concatenate classes 0, 1, 2, 3, and 4\n",
    "    Classes 5, 6 and 7 correspond to timed periods in which the participant answered questionnaires, \n",
    "    therefore, only classes 0, 1, 2, 3, and 4 will be used \n",
    "    Additionally, the significant imbalance has been eliminated"
   ]
  },
  {
   "cell_type": "code",
   "execution_count": 16,
   "metadata": {},
   "outputs": [],
   "source": [
    "loc0 = ch_df.loc[ch_df['label'] == 0]\n",
    "loc1 = ch_df.loc[ch_df['label'] == 1]\n",
    "loc2 = ch_df.loc[ch_df['label'] == 2]\n",
    "loc3 = ch_df.loc[ch_df['label'] == 3]\n",
    "loc4 = ch_df.loc[ch_df['label'] == 4]"
   ]
  },
  {
   "cell_type": "code",
   "execution_count": 17,
   "metadata": {},
   "outputs": [
    {
     "data": {
      "text/html": [
       "<div>\n",
       "<style scoped>\n",
       "    .dataframe tbody tr th:only-of-type {\n",
       "        vertical-align: middle;\n",
       "    }\n",
       "\n",
       "    .dataframe tbody tr th {\n",
       "        vertical-align: top;\n",
       "    }\n",
       "\n",
       "    .dataframe thead th {\n",
       "        text-align: right;\n",
       "    }\n",
       "</style>\n",
       "<table border=\"1\" class=\"dataframe\">\n",
       "  <thead>\n",
       "    <tr style=\"text-align: right;\">\n",
       "      <th></th>\n",
       "      <th>cax</th>\n",
       "      <th>cay</th>\n",
       "      <th>caz</th>\n",
       "      <th>cecg</th>\n",
       "      <th>cemg</th>\n",
       "      <th>ceda</th>\n",
       "      <th>ctemp</th>\n",
       "      <th>cresp</th>\n",
       "      <th>label</th>\n",
       "    </tr>\n",
       "  </thead>\n",
       "  <tbody>\n",
       "    <tr>\n",
       "      <th>0</th>\n",
       "      <td>0.7002</td>\n",
       "      <td>-0.1982</td>\n",
       "      <td>-1.0702</td>\n",
       "      <td>1.431793</td>\n",
       "      <td>0.007095</td>\n",
       "      <td>5.400467</td>\n",
       "      <td>32.415283</td>\n",
       "      <td>3.221130</td>\n",
       "      <td>0.0</td>\n",
       "    </tr>\n",
       "    <tr>\n",
       "      <th>1</th>\n",
       "      <td>0.7294</td>\n",
       "      <td>-0.1902</td>\n",
       "      <td>-1.0470</td>\n",
       "      <td>1.461960</td>\n",
       "      <td>-0.012405</td>\n",
       "      <td>5.408859</td>\n",
       "      <td>32.434631</td>\n",
       "      <td>3.607178</td>\n",
       "      <td>0.0</td>\n",
       "    </tr>\n",
       "    <tr>\n",
       "      <th>2</th>\n",
       "      <td>0.7646</td>\n",
       "      <td>-0.1840</td>\n",
       "      <td>-1.0046</td>\n",
       "      <td>1.471619</td>\n",
       "      <td>-0.018082</td>\n",
       "      <td>5.401611</td>\n",
       "      <td>32.445099</td>\n",
       "      <td>3.608704</td>\n",
       "      <td>0.0</td>\n",
       "    </tr>\n",
       "    <tr>\n",
       "      <th>3</th>\n",
       "      <td>0.8014</td>\n",
       "      <td>-0.1778</td>\n",
       "      <td>-0.9782</td>\n",
       "      <td>1.472763</td>\n",
       "      <td>-0.027557</td>\n",
       "      <td>5.407715</td>\n",
       "      <td>32.439087</td>\n",
       "      <td>3.643799</td>\n",
       "      <td>0.0</td>\n",
       "    </tr>\n",
       "    <tr>\n",
       "      <th>4</th>\n",
       "      <td>0.8348</td>\n",
       "      <td>-0.1608</td>\n",
       "      <td>-0.8950</td>\n",
       "      <td>1.469421</td>\n",
       "      <td>-0.026779</td>\n",
       "      <td>5.410385</td>\n",
       "      <td>32.439087</td>\n",
       "      <td>3.575134</td>\n",
       "      <td>0.0</td>\n",
       "    </tr>\n",
       "    <tr>\n",
       "      <th>...</th>\n",
       "      <td>...</td>\n",
       "      <td>...</td>\n",
       "      <td>...</td>\n",
       "      <td>...</td>\n",
       "      <td>...</td>\n",
       "      <td>...</td>\n",
       "      <td>...</td>\n",
       "      <td>...</td>\n",
       "      <td>...</td>\n",
       "    </tr>\n",
       "    <tr>\n",
       "      <th>3957259</th>\n",
       "      <td>0.4826</td>\n",
       "      <td>-0.0094</td>\n",
       "      <td>-0.8248</td>\n",
       "      <td>0.195236</td>\n",
       "      <td>0.013962</td>\n",
       "      <td>7.021713</td>\n",
       "      <td>34.080353</td>\n",
       "      <td>14.350891</td>\n",
       "      <td>4.0</td>\n",
       "    </tr>\n",
       "    <tr>\n",
       "      <th>3957260</th>\n",
       "      <td>0.4838</td>\n",
       "      <td>-0.0088</td>\n",
       "      <td>-0.8298</td>\n",
       "      <td>0.178574</td>\n",
       "      <td>0.013504</td>\n",
       "      <td>7.020569</td>\n",
       "      <td>34.084900</td>\n",
       "      <td>14.419556</td>\n",
       "      <td>4.0</td>\n",
       "    </tr>\n",
       "    <tr>\n",
       "      <th>3957261</th>\n",
       "      <td>0.4872</td>\n",
       "      <td>-0.0086</td>\n",
       "      <td>-0.8294</td>\n",
       "      <td>0.158020</td>\n",
       "      <td>0.024353</td>\n",
       "      <td>7.020569</td>\n",
       "      <td>34.022461</td>\n",
       "      <td>14.363098</td>\n",
       "      <td>4.0</td>\n",
       "    </tr>\n",
       "    <tr>\n",
       "      <th>3957262</th>\n",
       "      <td>0.4858</td>\n",
       "      <td>-0.0080</td>\n",
       "      <td>-0.8376</td>\n",
       "      <td>0.129959</td>\n",
       "      <td>0.004623</td>\n",
       "      <td>7.029724</td>\n",
       "      <td>34.063538</td>\n",
       "      <td>14.361572</td>\n",
       "      <td>4.0</td>\n",
       "    </tr>\n",
       "    <tr>\n",
       "      <th>3957263</th>\n",
       "      <td>0.4846</td>\n",
       "      <td>-0.0072</td>\n",
       "      <td>-0.8306</td>\n",
       "      <td>0.099289</td>\n",
       "      <td>-0.019318</td>\n",
       "      <td>7.025528</td>\n",
       "      <td>34.095551</td>\n",
       "      <td>14.436340</td>\n",
       "      <td>4.0</td>\n",
       "    </tr>\n",
       "  </tbody>\n",
       "</table>\n",
       "<p>4022201 rows × 9 columns</p>\n",
       "</div>"
      ],
      "text/plain": [
       "            cax     cay     caz      cecg      cemg      ceda      ctemp  \\\n",
       "0        0.7002 -0.1982 -1.0702  1.431793  0.007095  5.400467  32.415283   \n",
       "1        0.7294 -0.1902 -1.0470  1.461960 -0.012405  5.408859  32.434631   \n",
       "2        0.7646 -0.1840 -1.0046  1.471619 -0.018082  5.401611  32.445099   \n",
       "3        0.8014 -0.1778 -0.9782  1.472763 -0.027557  5.407715  32.439087   \n",
       "4        0.8348 -0.1608 -0.8950  1.469421 -0.026779  5.410385  32.439087   \n",
       "...         ...     ...     ...       ...       ...       ...        ...   \n",
       "3957259  0.4826 -0.0094 -0.8248  0.195236  0.013962  7.021713  34.080353   \n",
       "3957260  0.4838 -0.0088 -0.8298  0.178574  0.013504  7.020569  34.084900   \n",
       "3957261  0.4872 -0.0086 -0.8294  0.158020  0.024353  7.020569  34.022461   \n",
       "3957262  0.4858 -0.0080 -0.8376  0.129959  0.004623  7.029724  34.063538   \n",
       "3957263  0.4846 -0.0072 -0.8306  0.099289 -0.019318  7.025528  34.095551   \n",
       "\n",
       "             cresp  label  \n",
       "0         3.221130    0.0  \n",
       "1         3.607178    0.0  \n",
       "2         3.608704    0.0  \n",
       "3         3.643799    0.0  \n",
       "4         3.575134    0.0  \n",
       "...            ...    ...  \n",
       "3957259  14.350891    4.0  \n",
       "3957260  14.419556    4.0  \n",
       "3957261  14.363098    4.0  \n",
       "3957262  14.361572    4.0  \n",
       "3957263  14.436340    4.0  \n",
       "\n",
       "[4022201 rows x 9 columns]"
      ]
     },
     "execution_count": 17,
     "metadata": {},
     "output_type": "execute_result"
    }
   ],
   "source": [
    "ch_loc = pd.concat([loc0, loc1, loc2, loc3, loc4])\n",
    "ch_loc"
   ]
  },
  {
   "cell_type": "markdown",
   "metadata": {},
   "source": [
    "#### Check Statistics"
   ]
  },
  {
   "cell_type": "code",
   "execution_count": 18,
   "metadata": {},
   "outputs": [
    {
     "data": {
      "text/html": [
       "<div>\n",
       "<style scoped>\n",
       "    .dataframe tbody tr th:only-of-type {\n",
       "        vertical-align: middle;\n",
       "    }\n",
       "\n",
       "    .dataframe tbody tr th {\n",
       "        vertical-align: top;\n",
       "    }\n",
       "\n",
       "    .dataframe thead th {\n",
       "        text-align: right;\n",
       "    }\n",
       "</style>\n",
       "<table border=\"1\" class=\"dataframe\">\n",
       "  <thead>\n",
       "    <tr style=\"text-align: right;\">\n",
       "      <th></th>\n",
       "      <th>count</th>\n",
       "      <th>mean</th>\n",
       "      <th>std</th>\n",
       "      <th>min</th>\n",
       "      <th>25%</th>\n",
       "      <th>50%</th>\n",
       "      <th>75%</th>\n",
       "      <th>max</th>\n",
       "    </tr>\n",
       "  </thead>\n",
       "  <tbody>\n",
       "    <tr>\n",
       "      <th>cax</th>\n",
       "      <td>4022201.0</td>\n",
       "      <td>0.625521</td>\n",
       "      <td>0.232062</td>\n",
       "      <td>0.181000</td>\n",
       "      <td>0.385000</td>\n",
       "      <td>0.638400</td>\n",
       "      <td>0.875800</td>\n",
       "      <td>1.859400</td>\n",
       "    </tr>\n",
       "    <tr>\n",
       "      <th>cay</th>\n",
       "      <td>4022201.0</td>\n",
       "      <td>-0.016564</td>\n",
       "      <td>0.060754</td>\n",
       "      <td>-0.665600</td>\n",
       "      <td>-0.061000</td>\n",
       "      <td>-0.003800</td>\n",
       "      <td>0.028000</td>\n",
       "      <td>0.541600</td>\n",
       "    </tr>\n",
       "    <tr>\n",
       "      <th>caz</th>\n",
       "      <td>4022201.0</td>\n",
       "      <td>-0.590528</td>\n",
       "      <td>0.315183</td>\n",
       "      <td>-1.321400</td>\n",
       "      <td>-0.886200</td>\n",
       "      <td>-0.691400</td>\n",
       "      <td>-0.280600</td>\n",
       "      <td>1.474400</td>\n",
       "    </tr>\n",
       "    <tr>\n",
       "      <th>cecg</th>\n",
       "      <td>4022201.0</td>\n",
       "      <td>0.000970</td>\n",
       "      <td>0.286113</td>\n",
       "      <td>-1.258484</td>\n",
       "      <td>-0.111282</td>\n",
       "      <td>-0.040237</td>\n",
       "      <td>0.017990</td>\n",
       "      <td>1.499954</td>\n",
       "    </tr>\n",
       "    <tr>\n",
       "      <th>cemg</th>\n",
       "      <td>4022201.0</td>\n",
       "      <td>-0.004097</td>\n",
       "      <td>0.017965</td>\n",
       "      <td>-0.901337</td>\n",
       "      <td>-0.011765</td>\n",
       "      <td>-0.003891</td>\n",
       "      <td>0.003571</td>\n",
       "      <td>1.138412</td>\n",
       "    </tr>\n",
       "    <tr>\n",
       "      <th>ceda</th>\n",
       "      <td>4022201.0</td>\n",
       "      <td>6.492656</td>\n",
       "      <td>0.811025</td>\n",
       "      <td>5.057526</td>\n",
       "      <td>5.739975</td>\n",
       "      <td>6.296158</td>\n",
       "      <td>7.221985</td>\n",
       "      <td>8.211136</td>\n",
       "    </tr>\n",
       "    <tr>\n",
       "      <th>ctemp</th>\n",
       "      <td>4022201.0</td>\n",
       "      <td>33.775670</td>\n",
       "      <td>0.425098</td>\n",
       "      <td>32.102783</td>\n",
       "      <td>33.533875</td>\n",
       "      <td>33.677673</td>\n",
       "      <td>34.103210</td>\n",
       "      <td>34.755402</td>\n",
       "    </tr>\n",
       "    <tr>\n",
       "      <th>cresp</th>\n",
       "      <td>4022201.0</td>\n",
       "      <td>0.044936</td>\n",
       "      <td>4.788009</td>\n",
       "      <td>-28.024292</td>\n",
       "      <td>-2.362061</td>\n",
       "      <td>-0.218201</td>\n",
       "      <td>2.647400</td>\n",
       "      <td>28.684998</td>\n",
       "    </tr>\n",
       "    <tr>\n",
       "      <th>label</th>\n",
       "      <td>4022201.0</td>\n",
       "      <td>1.160285</td>\n",
       "      <td>1.407391</td>\n",
       "      <td>0.000000</td>\n",
       "      <td>0.000000</td>\n",
       "      <td>1.000000</td>\n",
       "      <td>2.000000</td>\n",
       "      <td>4.000000</td>\n",
       "    </tr>\n",
       "  </tbody>\n",
       "</table>\n",
       "</div>"
      ],
      "text/plain": [
       "           count       mean       std        min        25%        50%  \\\n",
       "cax    4022201.0   0.625521  0.232062   0.181000   0.385000   0.638400   \n",
       "cay    4022201.0  -0.016564  0.060754  -0.665600  -0.061000  -0.003800   \n",
       "caz    4022201.0  -0.590528  0.315183  -1.321400  -0.886200  -0.691400   \n",
       "cecg   4022201.0   0.000970  0.286113  -1.258484  -0.111282  -0.040237   \n",
       "cemg   4022201.0  -0.004097  0.017965  -0.901337  -0.011765  -0.003891   \n",
       "ceda   4022201.0   6.492656  0.811025   5.057526   5.739975   6.296158   \n",
       "ctemp  4022201.0  33.775670  0.425098  32.102783  33.533875  33.677673   \n",
       "cresp  4022201.0   0.044936  4.788009 -28.024292  -2.362061  -0.218201   \n",
       "label  4022201.0   1.160285  1.407391   0.000000   0.000000   1.000000   \n",
       "\n",
       "             75%        max  \n",
       "cax     0.875800   1.859400  \n",
       "cay     0.028000   0.541600  \n",
       "caz    -0.280600   1.474400  \n",
       "cecg    0.017990   1.499954  \n",
       "cemg    0.003571   1.138412  \n",
       "ceda    7.221985   8.211136  \n",
       "ctemp  34.103210  34.755402  \n",
       "cresp   2.647400  28.684998  \n",
       "label   2.000000   4.000000  "
      ]
     },
     "execution_count": 18,
     "metadata": {},
     "output_type": "execute_result"
    }
   ],
   "source": [
    "ch_loc.describe().T"
   ]
  },
  {
   "cell_type": "markdown",
   "metadata": {},
   "source": [
    "#### Plot all classes vs. classes 0,1,2,3,4 "
   ]
  },
  {
   "cell_type": "code",
   "execution_count": 19,
   "metadata": {
    "scrolled": false
   },
   "outputs": [
    {
     "name": "stdout",
     "output_type": "stream",
     "text": [
      "4144000 4022201\n",
      "Number of Rows Removed: 121799\n"
     ]
    },
    {
     "data": {
      "image/png": "[encoded data removed]",
      "text/plain": [
       "<Figure size 1008x360 with 2 Axes>"
      ]
     },
     "metadata": {},
     "output_type": "display_data"
    }
   ],
   "source": [
    "plt.figure(figsize = (14,5))\n",
    "plt.subplot(1, 2, 1)\n",
    "ch_df['label'].value_counts().plot(kind='bar', \n",
    "                                     title='Chest Number of Examples by Class \\n',\n",
    "                                     color=['b','b','b','b','b','r','r','r'])\n",
    "plt.subplot(1, 2, 2)\n",
    "ch_loc['label'].value_counts().plot(kind='bar', \n",
    "                                     title='Chest Number of Examples by Class \\n')\n",
    "print((ch_df['label'].value_counts().sum()), ch_loc['label'].value_counts().sum())\n",
    "print('Number of Rows Removed:', (ch_df['label'].value_counts().sum()) - \n",
    "      ch_loc['label'].value_counts().sum());"
   ]
  },
  {
   "cell_type": "markdown",
   "metadata": {},
   "source": [
    "**XGBoost for Multi-class Classification** <br>\n",
    "https://towardsdatascience.com/xgboost-for-multi-class-classification-799d96bcd368"
   ]
  },
  {
   "cell_type": "code",
   "execution_count": 19,
   "metadata": {},
   "outputs": [
    {
     "data": {
      "text/plain": [
       "'\\nAuthor: Plog, E\\nTitle: AUC ROC Curve Scoring Function for Multi-class Classification\\nDate: 2018\\nCode version: n.a.\\nAvailability: https://medium.com/@plog397/auc-roc-curve-scoring-function-for-multi-class-classification-9822871a6659\\n'"
      ]
     },
     "execution_count": 19,
     "metadata": {},
     "output_type": "execute_result"
    }
   ],
   "source": [
    "# Multiclass ROC AUC Score original script sourced from \n",
    "'''\n",
    "Author: Plog, E\n",
    "Title: AUC ROC Curve Scoring Function for Multi-class Classification\n",
    "Date: 2018\n",
    "Code version: n.a.\n",
    "Availability: https://medium.com/@plog397/auc-roc-curve-scoring-function-for-multi-class-classification-9822871a6659\n",
    "'''"
   ]
  },
  {
   "cell_type": "markdown",
   "metadata": {},
   "source": [
    "# Model Runs: XGBoost Classifier"
   ]
  },
  {
   "cell_type": "markdown",
   "metadata": {},
   "source": [
    "## Model allChest: All chest features"
   ]
  },
  {
   "cell_type": "markdown",
   "metadata": {},
   "source": [
    "### Train Test"
   ]
  },
  {
   "cell_type": "code",
   "execution_count": 20,
   "metadata": {},
   "outputs": [
    {
     "name": "stdout",
     "output_type": "stream",
     "text": [
      "(3217760, 8)\n",
      "(804441,)\n"
     ]
    }
   ],
   "source": [
    "y = ch_loc.label\n",
    "x = ch_loc.drop('label',axis=1)\n",
    "x_train, x_test, y_train, y_test = train_test_split(x, y, test_size=0.2)\n",
    "print(x_train.shape)\n",
    "print(y_test.shape)\n",
    "evalSet = [(x_train, y_train), (x_test, y_test)]"
   ]
  },
  {
   "cell_type": "markdown",
   "metadata": {},
   "source": [
    "### Check Correlations"
   ]
  },
  {
   "cell_type": "code",
   "execution_count": 21,
   "metadata": {},
   "outputs": [
    {
     "data": {
      "image/png": "[encoded data removed]",
      "text/plain": [
       "<Figure size 648x504 with 2 Axes>"
      ]
     },
     "metadata": {},
     "output_type": "display_data"
    }
   ],
   "source": [
    "plt.figure(figsize=(9,7))\n",
    "sns.heatmap(x_train.corr(), annot=True, cmap=plt.cm.BuPu);"
   ]
  },
  {
   "cell_type": "markdown",
   "metadata": {},
   "source": [
    "    There is a very strong correlation between caz and cax \n",
    "    There is very strong relationship between eda and temp"
   ]
  },
  {
   "cell_type": "markdown",
   "metadata": {},
   "source": [
    "### Model Fit and f1 and Balanced Accuracy Scores"
   ]
  },
  {
   "cell_type": "code",
   "execution_count": 22,
   "metadata": {
    "scrolled": true
   },
   "outputs": [
    {
     "name": "stdout",
     "output_type": "stream",
     "text": [
      "[0]\tvalidation_0-merror:0.02911\tvalidation_1-merror:0.02949\n",
      "[1]\tvalidation_0-merror:0.02916\tvalidation_1-merror:0.02955\n",
      "[2]\tvalidation_0-merror:0.02881\tvalidation_1-merror:0.02918\n",
      "[3]\tvalidation_0-merror:0.02822\tvalidation_1-merror:0.02857\n",
      "[4]\tvalidation_0-merror:0.02821\tvalidation_1-merror:0.02856\n",
      "[5]\tvalidation_0-merror:0.02855\tvalidation_1-merror:0.02892\n",
      "[6]\tvalidation_0-merror:0.02841\tvalidation_1-merror:0.02875\n",
      "[7]\tvalidation_0-merror:0.02755\tvalidation_1-merror:0.02790\n",
      "[8]\tvalidation_0-merror:0.02729\tvalidation_1-merror:0.02764\n",
      "[9]\tvalidation_0-merror:0.02729\tvalidation_1-merror:0.02759\n",
      "[10]\tvalidation_0-merror:0.02723\tvalidation_1-merror:0.02752\n",
      "[11]\tvalidation_0-merror:0.02653\tvalidation_1-merror:0.02684\n",
      "[12]\tvalidation_0-merror:0.02600\tvalidation_1-merror:0.02636\n",
      "[13]\tvalidation_0-merror:0.02517\tvalidation_1-merror:0.02556\n",
      "[14]\tvalidation_0-merror:0.02512\tvalidation_1-merror:0.02545\n",
      "[15]\tvalidation_0-merror:0.02495\tvalidation_1-merror:0.02530\n",
      "[16]\tvalidation_0-merror:0.02415\tvalidation_1-merror:0.02456\n",
      "[17]\tvalidation_0-merror:0.02394\tvalidation_1-merror:0.02440\n",
      "[18]\tvalidation_0-merror:0.02387\tvalidation_1-merror:0.02431\n",
      "[19]\tvalidation_0-merror:0.02374\tvalidation_1-merror:0.02417\n",
      "[20]\tvalidation_0-merror:0.02370\tvalidation_1-merror:0.02412\n",
      "[21]\tvalidation_0-merror:0.02333\tvalidation_1-merror:0.02379\n",
      "[22]\tvalidation_0-merror:0.02306\tvalidation_1-merror:0.02356\n",
      "[23]\tvalidation_0-merror:0.02221\tvalidation_1-merror:0.02265\n",
      "[24]\tvalidation_0-merror:0.02193\tvalidation_1-merror:0.02237\n",
      "[25]\tvalidation_0-merror:0.02133\tvalidation_1-merror:0.02176\n",
      "[26]\tvalidation_0-merror:0.02070\tvalidation_1-merror:0.02114\n",
      "[27]\tvalidation_0-merror:0.01968\tvalidation_1-merror:0.02006\n",
      "[28]\tvalidation_0-merror:0.01932\tvalidation_1-merror:0.01973\n",
      "[29]\tvalidation_0-merror:0.01916\tvalidation_1-merror:0.01959\n",
      "[30]\tvalidation_0-merror:0.01890\tvalidation_1-merror:0.01929\n",
      "[31]\tvalidation_0-merror:0.01865\tvalidation_1-merror:0.01908\n",
      "[32]\tvalidation_0-merror:0.01836\tvalidation_1-merror:0.01876\n",
      "[33]\tvalidation_0-merror:0.01798\tvalidation_1-merror:0.01838\n",
      "[34]\tvalidation_0-merror:0.01773\tvalidation_1-merror:0.01814\n",
      "[35]\tvalidation_0-merror:0.01750\tvalidation_1-merror:0.01791\n",
      "[36]\tvalidation_0-merror:0.01735\tvalidation_1-merror:0.01773\n",
      "[37]\tvalidation_0-merror:0.01713\tvalidation_1-merror:0.01755\n",
      "[38]\tvalidation_0-merror:0.01706\tvalidation_1-merror:0.01748\n",
      "[39]\tvalidation_0-merror:0.01678\tvalidation_1-merror:0.01717\n",
      "[40]\tvalidation_0-merror:0.01661\tvalidation_1-merror:0.01697\n",
      "[41]\tvalidation_0-merror:0.01640\tvalidation_1-merror:0.01675\n",
      "[42]\tvalidation_0-merror:0.01614\tvalidation_1-merror:0.01653\n",
      "[43]\tvalidation_0-merror:0.01590\tvalidation_1-merror:0.01630\n",
      "[44]\tvalidation_0-merror:0.01582\tvalidation_1-merror:0.01621\n",
      "[45]\tvalidation_0-merror:0.01570\tvalidation_1-merror:0.01607\n",
      "[46]\tvalidation_0-merror:0.01557\tvalidation_1-merror:0.01595\n",
      "[47]\tvalidation_0-merror:0.01547\tvalidation_1-merror:0.01583\n",
      "[48]\tvalidation_0-merror:0.01531\tvalidation_1-merror:0.01568\n",
      "[49]\tvalidation_0-merror:0.01527\tvalidation_1-merror:0.01563\n",
      "[50]\tvalidation_0-merror:0.01515\tvalidation_1-merror:0.01548\n",
      "[51]\tvalidation_0-merror:0.01500\tvalidation_1-merror:0.01533\n",
      "[52]\tvalidation_0-merror:0.01495\tvalidation_1-merror:0.01532\n",
      "[53]\tvalidation_0-merror:0.01485\tvalidation_1-merror:0.01522\n",
      "[54]\tvalidation_0-merror:0.01477\tvalidation_1-merror:0.01515\n",
      "[55]\tvalidation_0-merror:0.01453\tvalidation_1-merror:0.01490\n",
      "[56]\tvalidation_0-merror:0.01451\tvalidation_1-merror:0.01486\n",
      "[57]\tvalidation_0-merror:0.01438\tvalidation_1-merror:0.01475\n",
      "[58]\tvalidation_0-merror:0.01431\tvalidation_1-merror:0.01465\n",
      "[59]\tvalidation_0-merror:0.01414\tvalidation_1-merror:0.01448\n",
      "[60]\tvalidation_0-merror:0.01398\tvalidation_1-merror:0.01434\n",
      "[61]\tvalidation_0-merror:0.01376\tvalidation_1-merror:0.01413\n",
      "[62]\tvalidation_0-merror:0.01370\tvalidation_1-merror:0.01408\n",
      "[63]\tvalidation_0-merror:0.01357\tvalidation_1-merror:0.01394\n",
      "[64]\tvalidation_0-merror:0.01356\tvalidation_1-merror:0.01392\n",
      "[65]\tvalidation_0-merror:0.01346\tvalidation_1-merror:0.01387\n",
      "[66]\tvalidation_0-merror:0.01340\tvalidation_1-merror:0.01383\n",
      "[67]\tvalidation_0-merror:0.01330\tvalidation_1-merror:0.01370\n",
      "[68]\tvalidation_0-merror:0.01318\tvalidation_1-merror:0.01359\n",
      "[69]\tvalidation_0-merror:0.01308\tvalidation_1-merror:0.01350\n",
      "[70]\tvalidation_0-merror:0.01299\tvalidation_1-merror:0.01340\n",
      "[71]\tvalidation_0-merror:0.01288\tvalidation_1-merror:0.01331\n",
      "[72]\tvalidation_0-merror:0.01282\tvalidation_1-merror:0.01323\n",
      "[73]\tvalidation_0-merror:0.01278\tvalidation_1-merror:0.01319\n",
      "[74]\tvalidation_0-merror:0.01273\tvalidation_1-merror:0.01314\n",
      "[75]\tvalidation_0-merror:0.01264\tvalidation_1-merror:0.01308\n",
      "[76]\tvalidation_0-merror:0.01244\tvalidation_1-merror:0.01288\n",
      "[77]\tvalidation_0-merror:0.01236\tvalidation_1-merror:0.01282\n",
      "[78]\tvalidation_0-merror:0.01229\tvalidation_1-merror:0.01274\n",
      "[79]\tvalidation_0-merror:0.01222\tvalidation_1-merror:0.01266\n",
      "[80]\tvalidation_0-merror:0.01215\tvalidation_1-merror:0.01260\n",
      "[81]\tvalidation_0-merror:0.01205\tvalidation_1-merror:0.01247\n",
      "[82]\tvalidation_0-merror:0.01197\tvalidation_1-merror:0.01241\n",
      "[83]\tvalidation_0-merror:0.01190\tvalidation_1-merror:0.01233\n",
      "[84]\tvalidation_0-merror:0.01183\tvalidation_1-merror:0.01227\n",
      "[85]\tvalidation_0-merror:0.01178\tvalidation_1-merror:0.01222\n",
      "[86]\tvalidation_0-merror:0.01171\tvalidation_1-merror:0.01217\n",
      "[87]\tvalidation_0-merror:0.01165\tvalidation_1-merror:0.01211\n",
      "[88]\tvalidation_0-merror:0.01162\tvalidation_1-merror:0.01207\n",
      "[89]\tvalidation_0-merror:0.01153\tvalidation_1-merror:0.01197\n",
      "[90]\tvalidation_0-merror:0.01142\tvalidation_1-merror:0.01184\n",
      "[91]\tvalidation_0-merror:0.01141\tvalidation_1-merror:0.01181\n",
      "[92]\tvalidation_0-merror:0.01133\tvalidation_1-merror:0.01176\n",
      "[93]\tvalidation_0-merror:0.01130\tvalidation_1-merror:0.01172\n",
      "[94]\tvalidation_0-merror:0.01126\tvalidation_1-merror:0.01169\n",
      "[95]\tvalidation_0-merror:0.01119\tvalidation_1-merror:0.01161\n",
      "[96]\tvalidation_0-merror:0.01107\tvalidation_1-merror:0.01151\n",
      "[97]\tvalidation_0-merror:0.01100\tvalidation_1-merror:0.01145\n",
      "[98]\tvalidation_0-merror:0.01097\tvalidation_1-merror:0.01138\n",
      "[99]\tvalidation_0-merror:0.01087\tvalidation_1-merror:0.01128\n",
      "[100]\tvalidation_0-merror:0.01081\tvalidation_1-merror:0.01124\n",
      "[101]\tvalidation_0-merror:0.01076\tvalidation_1-merror:0.01120\n",
      "[102]\tvalidation_0-merror:0.01073\tvalidation_1-merror:0.01116\n",
      "[103]\tvalidation_0-merror:0.01062\tvalidation_1-merror:0.01108\n",
      "[104]\tvalidation_0-merror:0.01060\tvalidation_1-merror:0.01105\n",
      "[105]\tvalidation_0-merror:0.01055\tvalidation_1-merror:0.01102\n",
      "[106]\tvalidation_0-merror:0.01050\tvalidation_1-merror:0.01095\n",
      "[107]\tvalidation_0-merror:0.01043\tvalidation_1-merror:0.01089\n",
      "[108]\tvalidation_0-merror:0.01039\tvalidation_1-merror:0.01085\n",
      "[109]\tvalidation_0-merror:0.01036\tvalidation_1-merror:0.01083\n",
      "[110]\tvalidation_0-merror:0.01027\tvalidation_1-merror:0.01074\n",
      "[111]\tvalidation_0-merror:0.01023\tvalidation_1-merror:0.01068\n",
      "[112]\tvalidation_0-merror:0.01006\tvalidation_1-merror:0.01049\n",
      "[113]\tvalidation_0-merror:0.00994\tvalidation_1-merror:0.01035\n",
      "[114]\tvalidation_0-merror:0.00989\tvalidation_1-merror:0.01031\n",
      "[115]\tvalidation_0-merror:0.00973\tvalidation_1-merror:0.01016\n",
      "[116]\tvalidation_0-merror:0.00965\tvalidation_1-merror:0.01007\n",
      "[117]\tvalidation_0-merror:0.00954\tvalidation_1-merror:0.00996\n",
      "[118]\tvalidation_0-merror:0.00949\tvalidation_1-merror:0.00990\n",
      "[119]\tvalidation_0-merror:0.00947\tvalidation_1-merror:0.00987\n",
      "[120]\tvalidation_0-merror:0.00946\tvalidation_1-merror:0.00984\n",
      "[121]\tvalidation_0-merror:0.00943\tvalidation_1-merror:0.00980\n",
      "[122]\tvalidation_0-merror:0.00938\tvalidation_1-merror:0.00975\n",
      "[123]\tvalidation_0-merror:0.00928\tvalidation_1-merror:0.00965\n",
      "[124]\tvalidation_0-merror:0.00927\tvalidation_1-merror:0.00962\n",
      "[125]\tvalidation_0-merror:0.00914\tvalidation_1-merror:0.00950\n",
      "[126]\tvalidation_0-merror:0.00906\tvalidation_1-merror:0.00943\n",
      "[127]\tvalidation_0-merror:0.00901\tvalidation_1-merror:0.00938\n",
      "[128]\tvalidation_0-merror:0.00899\tvalidation_1-merror:0.00937\n",
      "[129]\tvalidation_0-merror:0.00897\tvalidation_1-merror:0.00936\n",
      "[130]\tvalidation_0-merror:0.00896\tvalidation_1-merror:0.00935\n",
      "[131]\tvalidation_0-merror:0.00890\tvalidation_1-merror:0.00928\n",
      "[132]\tvalidation_0-merror:0.00887\tvalidation_1-merror:0.00925\n",
      "[133]\tvalidation_0-merror:0.00884\tvalidation_1-merror:0.00924\n"
     ]
    },
    {
     "name": "stdout",
     "output_type": "stream",
     "text": [
      "[134]\tvalidation_0-merror:0.00880\tvalidation_1-merror:0.00920\n",
      "[135]\tvalidation_0-merror:0.00878\tvalidation_1-merror:0.00916\n",
      "[136]\tvalidation_0-merror:0.00874\tvalidation_1-merror:0.00913\n",
      "[137]\tvalidation_0-merror:0.00870\tvalidation_1-merror:0.00909\n",
      "[138]\tvalidation_0-merror:0.00867\tvalidation_1-merror:0.00908\n",
      "[139]\tvalidation_0-merror:0.00861\tvalidation_1-merror:0.00903\n",
      "[140]\tvalidation_0-merror:0.00859\tvalidation_1-merror:0.00902\n",
      "[141]\tvalidation_0-merror:0.00855\tvalidation_1-merror:0.00896\n",
      "[142]\tvalidation_0-merror:0.00848\tvalidation_1-merror:0.00889\n",
      "[143]\tvalidation_0-merror:0.00845\tvalidation_1-merror:0.00887\n",
      "[144]\tvalidation_0-merror:0.00843\tvalidation_1-merror:0.00886\n",
      "[145]\tvalidation_0-merror:0.00840\tvalidation_1-merror:0.00881\n",
      "[146]\tvalidation_0-merror:0.00831\tvalidation_1-merror:0.00872\n",
      "[147]\tvalidation_0-merror:0.00829\tvalidation_1-merror:0.00869\n",
      "[148]\tvalidation_0-merror:0.00826\tvalidation_1-merror:0.00869\n",
      "[149]\tvalidation_0-merror:0.00822\tvalidation_1-merror:0.00863\n",
      "[150]\tvalidation_0-merror:0.00817\tvalidation_1-merror:0.00859\n",
      "[151]\tvalidation_0-merror:0.00814\tvalidation_1-merror:0.00856\n",
      "[152]\tvalidation_0-merror:0.00812\tvalidation_1-merror:0.00854\n",
      "[153]\tvalidation_0-merror:0.00808\tvalidation_1-merror:0.00851\n",
      "[154]\tvalidation_0-merror:0.00804\tvalidation_1-merror:0.00848\n",
      "[155]\tvalidation_0-merror:0.00802\tvalidation_1-merror:0.00846\n",
      "[156]\tvalidation_0-merror:0.00801\tvalidation_1-merror:0.00846\n",
      "[157]\tvalidation_0-merror:0.00797\tvalidation_1-merror:0.00842\n",
      "[158]\tvalidation_0-merror:0.00792\tvalidation_1-merror:0.00838\n",
      "[159]\tvalidation_0-merror:0.00787\tvalidation_1-merror:0.00834\n",
      "[160]\tvalidation_0-merror:0.00785\tvalidation_1-merror:0.00832\n",
      "[161]\tvalidation_0-merror:0.00783\tvalidation_1-merror:0.00830\n",
      "[162]\tvalidation_0-merror:0.00781\tvalidation_1-merror:0.00829\n",
      "[163]\tvalidation_0-merror:0.00778\tvalidation_1-merror:0.00825\n",
      "[164]\tvalidation_0-merror:0.00777\tvalidation_1-merror:0.00824\n",
      "[165]\tvalidation_0-merror:0.00775\tvalidation_1-merror:0.00822\n",
      "[166]\tvalidation_0-merror:0.00772\tvalidation_1-merror:0.00819\n",
      "[167]\tvalidation_0-merror:0.00770\tvalidation_1-merror:0.00815\n",
      "[168]\tvalidation_0-merror:0.00768\tvalidation_1-merror:0.00814\n",
      "[169]\tvalidation_0-merror:0.00766\tvalidation_1-merror:0.00809\n",
      "[170]\tvalidation_0-merror:0.00762\tvalidation_1-merror:0.00810\n",
      "[171]\tvalidation_0-merror:0.00761\tvalidation_1-merror:0.00807\n",
      "[172]\tvalidation_0-merror:0.00757\tvalidation_1-merror:0.00804\n",
      "[173]\tvalidation_0-merror:0.00755\tvalidation_1-merror:0.00802\n",
      "[174]\tvalidation_0-merror:0.00752\tvalidation_1-merror:0.00799\n",
      "[175]\tvalidation_0-merror:0.00748\tvalidation_1-merror:0.00795\n",
      "[176]\tvalidation_0-merror:0.00747\tvalidation_1-merror:0.00794\n",
      "[177]\tvalidation_0-merror:0.00745\tvalidation_1-merror:0.00791\n",
      "[178]\tvalidation_0-merror:0.00741\tvalidation_1-merror:0.00788\n",
      "[179]\tvalidation_0-merror:0.00740\tvalidation_1-merror:0.00787\n",
      "[180]\tvalidation_0-merror:0.00739\tvalidation_1-merror:0.00784\n",
      "[181]\tvalidation_0-merror:0.00738\tvalidation_1-merror:0.00783\n",
      "[182]\tvalidation_0-merror:0.00737\tvalidation_1-merror:0.00783\n",
      "[183]\tvalidation_0-merror:0.00735\tvalidation_1-merror:0.00782\n",
      "[184]\tvalidation_0-merror:0.00734\tvalidation_1-merror:0.00781\n",
      "[185]\tvalidation_0-merror:0.00732\tvalidation_1-merror:0.00778\n",
      "[186]\tvalidation_0-merror:0.00729\tvalidation_1-merror:0.00775\n",
      "[187]\tvalidation_0-merror:0.00727\tvalidation_1-merror:0.00773\n",
      "[188]\tvalidation_0-merror:0.00725\tvalidation_1-merror:0.00773\n",
      "[189]\tvalidation_0-merror:0.00722\tvalidation_1-merror:0.00770\n",
      "[190]\tvalidation_0-merror:0.00720\tvalidation_1-merror:0.00766\n",
      "[191]\tvalidation_0-merror:0.00717\tvalidation_1-merror:0.00763\n",
      "[192]\tvalidation_0-merror:0.00713\tvalidation_1-merror:0.00760\n",
      "[193]\tvalidation_0-merror:0.00712\tvalidation_1-merror:0.00758\n",
      "[194]\tvalidation_0-merror:0.00709\tvalidation_1-merror:0.00755\n",
      "[195]\tvalidation_0-merror:0.00708\tvalidation_1-merror:0.00754\n",
      "[196]\tvalidation_0-merror:0.00706\tvalidation_1-merror:0.00752\n",
      "[197]\tvalidation_0-merror:0.00704\tvalidation_1-merror:0.00750\n",
      "[198]\tvalidation_0-merror:0.00702\tvalidation_1-merror:0.00748\n",
      "[199]\tvalidation_0-merror:0.00701\tvalidation_1-merror:0.00747\n",
      "[200]\tvalidation_0-merror:0.00700\tvalidation_1-merror:0.00745\n",
      "[201]\tvalidation_0-merror:0.00698\tvalidation_1-merror:0.00742\n",
      "[202]\tvalidation_0-merror:0.00695\tvalidation_1-merror:0.00740\n",
      "[203]\tvalidation_0-merror:0.00693\tvalidation_1-merror:0.00738\n",
      "[204]\tvalidation_0-merror:0.00692\tvalidation_1-merror:0.00737\n",
      "[205]\tvalidation_0-merror:0.00689\tvalidation_1-merror:0.00735\n",
      "[206]\tvalidation_0-merror:0.00686\tvalidation_1-merror:0.00733\n",
      "[207]\tvalidation_0-merror:0.00683\tvalidation_1-merror:0.00730\n",
      "[208]\tvalidation_0-merror:0.00682\tvalidation_1-merror:0.00727\n",
      "[209]\tvalidation_0-merror:0.00679\tvalidation_1-merror:0.00724\n",
      "[210]\tvalidation_0-merror:0.00679\tvalidation_1-merror:0.00723\n",
      "[211]\tvalidation_0-merror:0.00675\tvalidation_1-merror:0.00720\n",
      "[212]\tvalidation_0-merror:0.00671\tvalidation_1-merror:0.00718\n",
      "[213]\tvalidation_0-merror:0.00671\tvalidation_1-merror:0.00717\n",
      "[214]\tvalidation_0-merror:0.00670\tvalidation_1-merror:0.00716\n",
      "[215]\tvalidation_0-merror:0.00668\tvalidation_1-merror:0.00715\n",
      "[216]\tvalidation_0-merror:0.00666\tvalidation_1-merror:0.00714\n",
      "[217]\tvalidation_0-merror:0.00664\tvalidation_1-merror:0.00712\n",
      "[218]\tvalidation_0-merror:0.00663\tvalidation_1-merror:0.00709\n",
      "[219]\tvalidation_0-merror:0.00661\tvalidation_1-merror:0.00708\n",
      "[220]\tvalidation_0-merror:0.00659\tvalidation_1-merror:0.00706\n",
      "[221]\tvalidation_0-merror:0.00657\tvalidation_1-merror:0.00704\n",
      "[222]\tvalidation_0-merror:0.00655\tvalidation_1-merror:0.00701\n",
      "[223]\tvalidation_0-merror:0.00654\tvalidation_1-merror:0.00701\n",
      "[224]\tvalidation_0-merror:0.00654\tvalidation_1-merror:0.00701\n",
      "[225]\tvalidation_0-merror:0.00652\tvalidation_1-merror:0.00699\n",
      "[226]\tvalidation_0-merror:0.00650\tvalidation_1-merror:0.00699\n",
      "[227]\tvalidation_0-merror:0.00648\tvalidation_1-merror:0.00697\n",
      "[228]\tvalidation_0-merror:0.00646\tvalidation_1-merror:0.00694\n",
      "[229]\tvalidation_0-merror:0.00644\tvalidation_1-merror:0.00691\n",
      "[230]\tvalidation_0-merror:0.00644\tvalidation_1-merror:0.00690\n",
      "[231]\tvalidation_0-merror:0.00643\tvalidation_1-merror:0.00688\n",
      "[232]\tvalidation_0-merror:0.00641\tvalidation_1-merror:0.00687\n",
      "[233]\tvalidation_0-merror:0.00640\tvalidation_1-merror:0.00686\n",
      "[234]\tvalidation_0-merror:0.00639\tvalidation_1-merror:0.00686\n",
      "[235]\tvalidation_0-merror:0.00638\tvalidation_1-merror:0.00685\n",
      "[236]\tvalidation_0-merror:0.00638\tvalidation_1-merror:0.00685\n",
      "[237]\tvalidation_0-merror:0.00638\tvalidation_1-merror:0.00684\n",
      "[238]\tvalidation_0-merror:0.00637\tvalidation_1-merror:0.00684\n",
      "[239]\tvalidation_0-merror:0.00636\tvalidation_1-merror:0.00682\n",
      "[240]\tvalidation_0-merror:0.00636\tvalidation_1-merror:0.00682\n",
      "[241]\tvalidation_0-merror:0.00634\tvalidation_1-merror:0.00681\n",
      "[242]\tvalidation_0-merror:0.00633\tvalidation_1-merror:0.00679\n",
      "[243]\tvalidation_0-merror:0.00633\tvalidation_1-merror:0.00680\n",
      "[244]\tvalidation_0-merror:0.00630\tvalidation_1-merror:0.00677\n",
      "[245]\tvalidation_0-merror:0.00628\tvalidation_1-merror:0.00676\n",
      "[246]\tvalidation_0-merror:0.00627\tvalidation_1-merror:0.00675\n",
      "[247]\tvalidation_0-merror:0.00626\tvalidation_1-merror:0.00673\n",
      "[248]\tvalidation_0-merror:0.00624\tvalidation_1-merror:0.00671\n",
      "[249]\tvalidation_0-merror:0.00624\tvalidation_1-merror:0.00672\n",
      "[250]\tvalidation_0-merror:0.00622\tvalidation_1-merror:0.00671\n",
      "[251]\tvalidation_0-merror:0.00620\tvalidation_1-merror:0.00669\n",
      "[252]\tvalidation_0-merror:0.00619\tvalidation_1-merror:0.00668\n",
      "[253]\tvalidation_0-merror:0.00618\tvalidation_1-merror:0.00666\n",
      "[254]\tvalidation_0-merror:0.00617\tvalidation_1-merror:0.00665\n",
      "[255]\tvalidation_0-merror:0.00615\tvalidation_1-merror:0.00665\n",
      "[256]\tvalidation_0-merror:0.00613\tvalidation_1-merror:0.00661\n",
      "[257]\tvalidation_0-merror:0.00611\tvalidation_1-merror:0.00659\n",
      "[258]\tvalidation_0-merror:0.00610\tvalidation_1-merror:0.00659\n",
      "[259]\tvalidation_0-merror:0.00609\tvalidation_1-merror:0.00659\n",
      "[260]\tvalidation_0-merror:0.00607\tvalidation_1-merror:0.00656\n",
      "[261]\tvalidation_0-merror:0.00605\tvalidation_1-merror:0.00656\n",
      "[262]\tvalidation_0-merror:0.00604\tvalidation_1-merror:0.00654\n",
      "[263]\tvalidation_0-merror:0.00602\tvalidation_1-merror:0.00652\n",
      "[264]\tvalidation_0-merror:0.00602\tvalidation_1-merror:0.00651\n",
      "[265]\tvalidation_0-merror:0.00601\tvalidation_1-merror:0.00650\n",
      "[266]\tvalidation_0-merror:0.00600\tvalidation_1-merror:0.00649\n"
     ]
    },
    {
     "name": "stdout",
     "output_type": "stream",
     "text": [
      "[267]\tvalidation_0-merror:0.00600\tvalidation_1-merror:0.00649\n",
      "[268]\tvalidation_0-merror:0.00599\tvalidation_1-merror:0.00648\n",
      "[269]\tvalidation_0-merror:0.00598\tvalidation_1-merror:0.00647\n",
      "[270]\tvalidation_0-merror:0.00597\tvalidation_1-merror:0.00645\n",
      "[271]\tvalidation_0-merror:0.00597\tvalidation_1-merror:0.00644\n",
      "[272]\tvalidation_0-merror:0.00596\tvalidation_1-merror:0.00644\n",
      "[273]\tvalidation_0-merror:0.00596\tvalidation_1-merror:0.00643\n",
      "[274]\tvalidation_0-merror:0.00595\tvalidation_1-merror:0.00644\n",
      "[275]\tvalidation_0-merror:0.00595\tvalidation_1-merror:0.00644\n",
      "[276]\tvalidation_0-merror:0.00595\tvalidation_1-merror:0.00644\n",
      "[277]\tvalidation_0-merror:0.00595\tvalidation_1-merror:0.00644\n",
      "[278]\tvalidation_0-merror:0.00595\tvalidation_1-merror:0.00644\n",
      "[279]\tvalidation_0-merror:0.00595\tvalidation_1-merror:0.00644\n",
      "[280]\tvalidation_0-merror:0.00595\tvalidation_1-merror:0.00644\n",
      "[281]\tvalidation_0-merror:0.00595\tvalidation_1-merror:0.00644\n",
      "[282]\tvalidation_0-merror:0.00595\tvalidation_1-merror:0.00644\n",
      "[283]\tvalidation_0-merror:0.00595\tvalidation_1-merror:0.00644\n",
      "[284]\tvalidation_0-merror:0.00595\tvalidation_1-merror:0.00644\n",
      "[285]\tvalidation_0-merror:0.00595\tvalidation_1-merror:0.00644\n",
      "[286]\tvalidation_0-merror:0.00595\tvalidation_1-merror:0.00644\n",
      "[287]\tvalidation_0-merror:0.00595\tvalidation_1-merror:0.00644\n",
      "[288]\tvalidation_0-merror:0.00595\tvalidation_1-merror:0.00644\n",
      "[289]\tvalidation_0-merror:0.00595\tvalidation_1-merror:0.00644\n",
      "[290]\tvalidation_0-merror:0.00595\tvalidation_1-merror:0.00644\n",
      "[291]\tvalidation_0-merror:0.00595\tvalidation_1-merror:0.00644\n",
      "[292]\tvalidation_0-merror:0.00595\tvalidation_1-merror:0.00644\n",
      "[293]\tvalidation_0-merror:0.00595\tvalidation_1-merror:0.00644\n",
      "[294]\tvalidation_0-merror:0.00595\tvalidation_1-merror:0.00644\n",
      "[295]\tvalidation_0-merror:0.00595\tvalidation_1-merror:0.00644\n",
      "[296]\tvalidation_0-merror:0.00595\tvalidation_1-merror:0.00644\n",
      "[297]\tvalidation_0-merror:0.00595\tvalidation_1-merror:0.00644\n",
      "[298]\tvalidation_0-merror:0.00595\tvalidation_1-merror:0.00644\n",
      "[299]\tvalidation_0-merror:0.00595\tvalidation_1-merror:0.00644\n",
      "Balanced Accuracy: 0.994548988149527\n",
      "----------------------------------------\n",
      "------------ S11 All Chest Classification Report------------\n",
      "              precision    recall  f1-score   support\n",
      "\n",
      "         0.0     0.9964    0.9901    0.9932    382983\n",
      "         1.0     0.9981    0.9991    0.9986    165199\n",
      "         2.0     0.9987    0.9992    0.9990    101485\n",
      "         3.0     0.9711    0.9909    0.9809     52334\n",
      "         4.0     0.9825    0.9936    0.9880    102440\n",
      "\n",
      "    accuracy                         0.9936    804441\n",
      "   macro avg     0.9893    0.9945    0.9919    804441\n",
      "weighted avg     0.9936    0.9936    0.9936    804441\n",
      "\n",
      "Wall time: 1min 36s\n"
     ]
    }
   ],
   "source": [
    "%%time\n",
    "allChest = xgb.XGBClassifier(objective = 'multi:softmax',\n",
    "                              tree_method = 'gpu_hist',\n",
    "                              learning_rate = 0.1,\n",
    "                              n_estimators = 300, \n",
    "                              #max_depth = 10,\n",
    "                              #deterministic_histogram = 'false',\n",
    "                              gradient_based = 0.1,\n",
    "                              num_early_stopping_rounds = 20,\n",
    "                              gamma = 3,\n",
    "                              #seed = 24,\n",
    "                              verbosity = 2) \n",
    "\n",
    "model_allChest = allChest.fit(x_train,y_train, \n",
    "                              eval_metric=['merror'],\n",
    "                              eval_set = evalSet) \n",
    "allChest_pred = allChest.predict(x_test)\n",
    "allChest_report = (classification_report(y_test,\n",
    "                                         allChest_pred,\n",
    "                                         labels=np.unique(allChest_pred),\n",
    "                                         digits=4))\n",
    "\n",
    "print('Balanced Accuracy:', balanced_accuracy_score(y_test, allChest_pred))\n",
    "print('----------------------------------------')\n",
    "print('------------ S11 All Chest Classification Report------------')\n",
    "print(allChest_report)"
   ]
  },
  {
   "cell_type": "markdown",
   "metadata": {},
   "source": [
    "### Confusion Matrix"
   ]
  },
  {
   "cell_type": "code",
   "execution_count": 23,
   "metadata": {},
   "outputs": [
    {
     "data": {
      "image/png": "[encoded data removed]",
      "text/plain": [
       "<Figure size 504x360 with 2 Axes>"
      ]
     },
     "metadata": {},
     "output_type": "display_data"
    }
   ],
   "source": [
    "cm = confusion_matrix(y_test, allChest_pred)\n",
    "plt.figure(figsize=(7,5))\n",
    "sns.heatmap(cm, annot=True, fmt='d', cmap=plt.cm.BuPu );"
   ]
  },
  {
   "cell_type": "markdown",
   "metadata": {},
   "source": [
    "### Multi-class AUC Score"
   ]
  },
  {
   "cell_type": "code",
   "execution_count": 24,
   "metadata": {},
   "outputs": [
    {
     "name": "stdout",
     "output_type": "stream",
     "text": [
      "S11 All Chest\n",
      "---------------------\n",
      "AUC: 99.60%\n"
     ]
    }
   ],
   "source": [
    "def multiclass_roc_auc_score(y_test, allChest_pred, average = 'micro'): \n",
    "    xg = preprocessing.LabelBinarizer()\n",
    "    xg.fit(y_test)\n",
    "    y_test1 = xg.transform(y_test) \n",
    "    y_pred1 = xg.transform(allChest_pred)\n",
    "    return roc_auc_score(y_test1, y_pred1, average=average)\n",
    "\n",
    "aucScore = multiclass_roc_auc_score(y_test, allChest_pred)\n",
    "\n",
    "print('S11 All Chest')\n",
    "print('---------------------')\n",
    "print(\"AUC: %.2f%%\" % (aucScore*100))"
   ]
  },
  {
   "cell_type": "markdown",
   "metadata": {},
   "source": [
    "## Model ch_lessAcc: Chest Less Accelerometer  "
   ]
  },
  {
   "cell_type": "markdown",
   "metadata": {},
   "source": [
    "### Train Test Split"
   ]
  },
  {
   "cell_type": "code",
   "execution_count": 25,
   "metadata": {},
   "outputs": [
    {
     "name": "stdout",
     "output_type": "stream",
     "text": [
      "(3217760, 5)\n",
      "(804441,)\n"
     ]
    }
   ],
   "source": [
    "lessAcc = ch_loc[['ceda', 'ctemp', 'cresp', 'cemg', 'cecg', 'label']]\n",
    "y = lessAcc.label\n",
    "x = lessAcc.drop('label',axis=1)\n",
    "x_train, x_test, y_train, y_test = train_test_split(x, y, test_size=0.2)\n",
    "print(x_train.shape)\n",
    "print(y_test.shape)"
   ]
  },
  {
   "cell_type": "markdown",
   "metadata": {},
   "source": [
    "### Model Fit and f1 and Balanced Accuracy Scores"
   ]
  },
  {
   "cell_type": "code",
   "execution_count": 26,
   "metadata": {},
   "outputs": [
    {
     "name": "stdout",
     "output_type": "stream",
     "text": [
      "Balanced Accuracy: 0.9405464126744864\n",
      "----------------------------------------\n",
      "------------ S11 All Chest less ACC Classification Report------------\n",
      "              precision    recall  f1-score   support\n",
      "\n",
      "         0.0     0.9598    0.9577    0.9587    383721\n",
      "         1.0     0.9952    0.9965    0.9959    165036\n",
      "         2.0     0.9629    0.9391    0.9509    101118\n",
      "         3.0     0.9092    0.8934    0.9012     52210\n",
      "         4.0     0.8815    0.9160    0.8984    102356\n",
      "\n",
      "    accuracy                         0.9539    804441\n",
      "   macro avg     0.9417    0.9405    0.9410    804441\n",
      "weighted avg     0.9542    0.9539    0.9540    804441\n",
      "\n",
      "Wall time: 1min 26s\n"
     ]
    }
   ],
   "source": [
    "%%time\n",
    "ch_lessAcc = XGBClassifier(objective = 'multi:softmax',\n",
    "                              tree_method = 'gpu_hist',\n",
    "                              learning_rate = 0.1,\n",
    "                              n_estimators = 300, \n",
    "                              #max_depth = 10,\n",
    "                              #deterministic_histogram = 'false',\n",
    "                              gradient_based = 0.1,\n",
    "                              num_early_stopping_rounds = 20,\n",
    "                              gamma = 3,\n",
    "                              #seed = 24,\n",
    "                              verbosity = 2) \n",
    "\n",
    "model_ch_lessAcc = ch_lessAcc.fit(x_train,y_train)\n",
    "ch_lessAcc_pred = ch_lessAcc.predict(x_test)\n",
    "ch_lessAcc_report = (classification_report(y_test,\n",
    "                                           ch_lessAcc_pred,\n",
    "                                           labels=np.unique(ch_lessAcc_pred),\n",
    "                                           digits=4))\n",
    "\n",
    "print('Balanced Accuracy:', balanced_accuracy_score(y_test, ch_lessAcc_pred))\n",
    "print('----------------------------------------')\n",
    "print('------------ S11 All Chest less ACC Classification Report------------')\n",
    "print(ch_lessAcc_report)"
   ]
  },
  {
   "cell_type": "markdown",
   "metadata": {},
   "source": [
    "### Confusion Matrix"
   ]
  },
  {
   "cell_type": "code",
   "execution_count": 27,
   "metadata": {},
   "outputs": [
    {
     "data": {
      "image/png": "[encoded data removed]",
      "text/plain": [
       "<Figure size 504x360 with 2 Axes>"
      ]
     },
     "metadata": {},
     "output_type": "display_data"
    }
   ],
   "source": [
    "cm = confusion_matrix(y_test, ch_lessAcc_pred)\n",
    "plt.figure(figsize=(7,5))\n",
    "sns.heatmap(cm, annot=True, fmt='d', cmap=plt.cm.BuPu );"
   ]
  },
  {
   "cell_type": "markdown",
   "metadata": {},
   "source": [
    "### Classification Prediction Error"
   ]
  },
  {
   "cell_type": "code",
   "execution_count": 28,
   "metadata": {},
   "outputs": [
    {
     "data": {
      "image/png": "[encoded data removed]",
      "text/plain": [
       "<Figure size 620x450 with 1 Axes>"
      ]
     },
     "metadata": {},
     "output_type": "display_data"
    }
   ],
   "source": [
    "Classes = ['0', 'base', 'stress', 'amus', 'med']\n",
    "error = ClassPredictionError(ch_lessAcc, size=(620, 450), classes=Classes)\n",
    "error.score(x_test, y_test)\n",
    "e = error.poof()"
   ]
  },
  {
   "cell_type": "markdown",
   "metadata": {},
   "source": [
    "### Multiclass ROC AUC Score"
   ]
  },
  {
   "cell_type": "code",
   "execution_count": 29,
   "metadata": {},
   "outputs": [
    {
     "name": "stdout",
     "output_type": "stream",
     "text": [
      "S11 All Chest less ACC\n",
      "-------------------------------\n",
      "AUC: 97.12%\n"
     ]
    }
   ],
   "source": [
    "def multiclass_roc_auc_score(y_test, ch_lessAcc_pred, average = 'micro'): \n",
    "    xg = preprocessing.LabelBinarizer()\n",
    "    xg.fit(y_test)\n",
    "    y_test1 = xg.transform(y_test) \n",
    "    y_pred1 = xg.transform(ch_lessAcc_pred)\n",
    "    return roc_auc_score(y_test1, y_pred1, average=average)\n",
    "\n",
    "aucScore = multiclass_roc_auc_score(y_test, ch_lessAcc_pred)\n",
    "\n",
    "print('S11 All Chest less ACC')\n",
    "print('-------------------------------')\n",
    "print(\"AUC: %.2f%%\" % (aucScore*100))"
   ]
  },
  {
   "cell_type": "markdown",
   "metadata": {},
   "source": [
    "##  Model ACC: Accelerometer [X,Y,Z]"
   ]
  },
  {
   "cell_type": "markdown",
   "metadata": {},
   "source": [
    "### Train Test Split"
   ]
  },
  {
   "cell_type": "code",
   "execution_count": 30,
   "metadata": {},
   "outputs": [
    {
     "name": "stdout",
     "output_type": "stream",
     "text": [
      "(3217760, 3)\n",
      "(804441,)\n"
     ]
    }
   ],
   "source": [
    "ch_ACC = ch_loc[['cax', 'cay', 'caz', 'label']]\n",
    "y = ch_ACC.label\n",
    "x = ch_ACC.drop('label',axis=1)\n",
    "x_train, x_test, y_train, y_test = train_test_split(x, y, test_size=0.2)\n",
    "print(x_train.shape)\n",
    "print(y_test.shape)"
   ]
  },
  {
   "cell_type": "markdown",
   "metadata": {},
   "source": [
    "### Model Fit and f1 and Balanced Accuracy Scores"
   ]
  },
  {
   "cell_type": "code",
   "execution_count": 31,
   "metadata": {},
   "outputs": [
    {
     "name": "stdout",
     "output_type": "stream",
     "text": [
      "Balanced Accuracy: 0.8908462560143187\n",
      "---------------------------------------\n",
      "------------ S11 Chest ACC Classification Report------------\n",
      "              precision    recall  f1-score   support\n",
      "\n",
      "         0.0     0.9180    0.9003    0.9091    383451\n",
      "         1.0     0.9768    0.9644    0.9706    165528\n",
      "         2.0     0.9221    0.9829    0.9515    101075\n",
      "         3.0     0.7919    0.7727    0.7822     52013\n",
      "         4.0     0.8022    0.8339    0.8177    102374\n",
      "\n",
      "    accuracy                         0.9072    804441\n",
      "   macro avg     0.8822    0.8908    0.8862    804441\n",
      "weighted avg     0.9077    0.9072    0.9072    804441\n",
      "\n",
      "Wall time: 1min 15s\n"
     ]
    }
   ],
   "source": [
    "%%time\n",
    "ACC = XGBClassifier(objective = 'multi:softmax',\n",
    "                    tree_method = 'gpu_hist',\n",
    "                    learning_rate = 0.1,\n",
    "                    gradient_based = 0.1,\n",
    "                    #max_depth = 10,\n",
    "                    num_early_stopping_rounds = 20,\n",
    "                    n_estimators = 300,\n",
    "                    gamma = 3,\n",
    "                    verbosity = 2) \n",
    "\n",
    "model_ACC = ACC.fit(x_train, y_train)\n",
    "ACC_pred = ACC.predict(x_test)\n",
    "ACC_report = (classification_report(y_test,\n",
    "                                    ACC_pred,\n",
    "                                    labels=np.unique(ACC_pred),\n",
    "                                    digits=4))\n",
    "\n",
    "print('Balanced Accuracy:', balanced_accuracy_score(y_test, ACC_pred))\n",
    "print('---------------------------------------')\n",
    "print('------------ S11 Chest ACC Classification Report------------')\n",
    "print(ACC_report)"
   ]
  },
  {
   "cell_type": "markdown",
   "metadata": {},
   "source": [
    "### Confusion matrix "
   ]
  },
  {
   "cell_type": "code",
   "execution_count": 32,
   "metadata": {},
   "outputs": [
    {
     "data": {
      "image/png": "[encoded data removed]",
      "text/plain": [
       "<Figure size 576x432 with 2 Axes>"
      ]
     },
     "metadata": {},
     "output_type": "display_data"
    }
   ],
   "source": [
    "cm = confusion_matrix(y_test, ACC_pred)\n",
    "plt.figure(figsize=(8,6))\n",
    "sns.heatmap(cm, annot=True, fmt='d', cmap=plt.cm.BuPu );"
   ]
  },
  {
   "cell_type": "markdown",
   "metadata": {},
   "source": [
    "### Classification Prediction Error"
   ]
  },
  {
   "cell_type": "code",
   "execution_count": 33,
   "metadata": {},
   "outputs": [
    {
     "data": {
      "image/png": "[encoded data removed]",
      "text/plain": [
       "<Figure size 620x450 with 1 Axes>"
      ]
     },
     "metadata": {},
     "output_type": "display_data"
    }
   ],
   "source": [
    "Classes = ['0', 'base', 'stress', 'amus', 'med']\n",
    "error = ClassPredictionError(ACC, size=(620, 450), classes=Classes)\n",
    "error.score(x_test, y_test)\n",
    "e = error.poof()"
   ]
  },
  {
   "cell_type": "markdown",
   "metadata": {},
   "source": [
    "### Multiclass ROC AUC Score"
   ]
  },
  {
   "cell_type": "code",
   "execution_count": 32,
   "metadata": {},
   "outputs": [
    {
     "name": "stdout",
     "output_type": "stream",
     "text": [
      "S11 Chest Accelerometer\n",
      "-------------------\n",
      "AUC: 94.94%\n"
     ]
    }
   ],
   "source": [
    "def multiclass_roc_auc_score(y_test, ACC_pred, average = 'macro'): #(None, 'micro', 'macro', 'weighted', 'samples')\n",
    "    xg = preprocessing.LabelBinarizer()\n",
    "    xg.fit(y_test)\n",
    "    y_test1 = xg.transform(y_test) \n",
    "    y_pred1 = xg.transform(ACC_pred)\n",
    "    return roc_auc_score(y_test1, y_pred1, average=average)\n",
    "\n",
    "aucScore = multiclass_roc_auc_score(y_test, ACC_pred)\n",
    "\n",
    "print('S11 Chest Accelerometer')\n",
    "print('-------------------')\n",
    "print(\"AUC: %.2f%%\" % (aucScore*100))  "
   ]
  },
  {
   "cell_type": "markdown",
   "metadata": {},
   "source": [
    "## Model Eda: Electrodermal Activity only"
   ]
  },
  {
   "cell_type": "markdown",
   "metadata": {},
   "source": [
    "### Train Test Split"
   ]
  },
  {
   "cell_type": "code",
   "execution_count": 19,
   "metadata": {},
   "outputs": [
    {
     "name": "stdout",
     "output_type": "stream",
     "text": [
      "(3217760, 1)\n",
      "(804441,)\n"
     ]
    }
   ],
   "source": [
    "ch_eda= ch_loc[['ceda', 'label']]\n",
    "y = ch_eda.label\n",
    "x = ch_eda.drop('label',axis=1)\n",
    "x_train, x_test, y_train, y_test = train_test_split(x, y, test_size=0.2)\n",
    "print(x_train.shape)\n",
    "print(y_test.shape)"
   ]
  },
  {
   "cell_type": "markdown",
   "metadata": {},
   "source": [
    "### Model Fit, classification report, and balanced accuracy "
   ]
  },
  {
   "cell_type": "code",
   "execution_count": 20,
   "metadata": {},
   "outputs": [
    {
     "name": "stdout",
     "output_type": "stream",
     "text": [
      "Balanced Accuracy: 0.774356045293555\n",
      "---------------------------------------\n",
      "------------ S11 Chest Electrodermal Activity Classification Report------------\n",
      "              precision    recall  f1-score   support\n",
      "\n",
      "         0.0     0.8093    0.8137    0.8115    384126\n",
      "         1.0     0.9601    0.9560    0.9580    165305\n",
      "         2.0     0.6661    0.7097    0.6872    100669\n",
      "         3.0     0.8891    0.7600    0.8195     51751\n",
      "         4.0     0.6353    0.6323    0.6338    102590\n",
      "\n",
      "    accuracy                         0.8034    804441\n",
      "   macro avg     0.7920    0.7744    0.7820    804441\n",
      "weighted avg     0.8053    0.8034    0.8039    804441\n",
      "\n",
      "Wall time: 1min 5s\n"
     ]
    }
   ],
   "source": [
    "%%time\n",
    "Eda = XGBClassifier(objective = 'multi:softmax',\n",
    "                    tree_method = 'gpu_hist',\n",
    "                    learning_rate = 0.1,\n",
    "                    gradient_based = 0.1,\n",
    "                    num_early_stopping_rounds = 20,\n",
    "                    n_estimators = 300,\n",
    "                    #max_depth = 10,\n",
    "                    gamma = 3,\n",
    "                    Eseed = 24,\n",
    "                    verbosity = 2) \n",
    "\n",
    "model_Eda = Eda.fit(x_train, y_train)\n",
    "Eda_pred = Eda.predict(x_test)\n",
    "Eda_report = (classification_report(y_test,\n",
    "                                    Eda_pred,\n",
    "                                    labels = np.unique(Eda_pred),\n",
    "                                    digits = 4))\n",
    "\n",
    "print('Balanced Accuracy:', balanced_accuracy_score(y_test, Eda_pred))\n",
    "print('---------------------------------------')\n",
    "print('------------ S11 Chest Electrodermal Activity Classification Report------------')\n",
    "print(Eda_report)"
   ]
  },
  {
   "cell_type": "markdown",
   "metadata": {},
   "source": [
    "### Confusion Matrix"
   ]
  },
  {
   "cell_type": "code",
   "execution_count": 21,
   "metadata": {},
   "outputs": [
    {
     "data": {
      "image/png": "[encoded data removed]",
      "text/plain": [
       "<Figure size 576x432 with 2 Axes>"
      ]
     },
     "metadata": {},
     "output_type": "display_data"
    }
   ],
   "source": [
    "cm = confusion_matrix(y_test, Eda_pred)\n",
    "plt.figure(figsize=(8,6))\n",
    "sns.heatmap(cm, annot=True, fmt='d', cmap=plt.cm.BuPu );"
   ]
  },
  {
   "cell_type": "markdown",
   "metadata": {},
   "source": [
    "### Classification Prediction Error"
   ]
  },
  {
   "cell_type": "code",
   "execution_count": 22,
   "metadata": {},
   "outputs": [
    {
     "data": {
      "image/png": "[encoded data removed]",
      "text/plain": [
       "<Figure size 620x450 with 1 Axes>"
      ]
     },
     "metadata": {},
     "output_type": "display_data"
    }
   ],
   "source": [
    "Classes = ['0', 'base', 'stress', 'amus', 'med']\n",
    "error = ClassPredictionError(Eda, size=(620, 450), classes=Classes)\n",
    "error.score(x_test, y_test)\n",
    "e = error.poof()"
   ]
  },
  {
   "cell_type": "markdown",
   "metadata": {},
   "source": [
    "### Multiclass ROC AUC Score"
   ]
  },
  {
   "cell_type": "code",
   "execution_count": 23,
   "metadata": {},
   "outputs": [
    {
     "name": "stdout",
     "output_type": "stream",
     "text": [
      "S11 Chest Skin Temperature\n",
      "-------------------\n",
      "AUC: 85.76%\n"
     ]
    }
   ],
   "source": [
    "def multiclass_roc_auc_score(y_test, Eda_pred, average = 'macro'): #(None, 'micro', 'macro', 'weighted', 'samples')\n",
    "    xg = preprocessing.LabelBinarizer()\n",
    "    xg.fit(y_test)\n",
    "    y_test1 = xg.transform(y_test) \n",
    "    y_pred1 = xg.transform(Eda_pred)\n",
    "    return roc_auc_score(y_test1, y_pred1, average=average)\n",
    "\n",
    "aucScore = multiclass_roc_auc_score(y_test, Eda_pred)\n",
    "\n",
    "print('S11 Chest Skin Temperature')\n",
    "print('-------------------')\n",
    "print(\"AUC: %.2f%%\" % (aucScore*100))  "
   ]
  },
  {
   "cell_type": "markdown",
   "metadata": {},
   "source": [
    "### Model ACC TEMP EDA"
   ]
  },
  {
   "cell_type": "code",
   "execution_count": 20,
   "metadata": {},
   "outputs": [
    {
     "name": "stdout",
     "output_type": "stream",
     "text": [
      "(3217760, 5)\n",
      "(804441,)\n"
     ]
    }
   ],
   "source": [
    "less_Emg_Ecg = ch_loc[['ceda', 'ctemp', 'cax', 'cay', 'caz', 'label']]\n",
    "y = less_Emg_Ecg.label\n",
    "x = less_Emg_Ecg.drop('label',axis=1)\n",
    "x_train, x_test, y_train, y_test = train_test_split(x, y, test_size=0.2)\n",
    "print(x_train.shape)\n",
    "print(y_test.shape)"
   ]
  },
  {
   "cell_type": "markdown",
   "metadata": {},
   "source": [
    "#### Model Fit, classification report, and Balanced Accuracy "
   ]
  },
  {
   "cell_type": "code",
   "execution_count": 21,
   "metadata": {},
   "outputs": [
    {
     "name": "stdout",
     "output_type": "stream",
     "text": [
      "Balanced Accuracy: 0.9904657170296376\n",
      "---------------------------------------\n",
      "------------ S17 ACC EDA TEMP Classification Report------------\n",
      "              precision    recall  f1-score   support\n",
      "\n",
      "         0.0     0.9932    0.9854    0.9893    383940\n",
      "         1.0     0.9973    0.9987    0.9980    165410\n",
      "         2.0     0.9976    0.9979    0.9978    101044\n",
      "         3.0     0.9580    0.9828    0.9703     51873\n",
      "         4.0     0.9741    0.9874    0.9807    102174\n",
      "\n",
      "    accuracy                         0.9898    804441\n",
      "   macro avg     0.9841    0.9905    0.9872    804441\n",
      "weighted avg     0.9899    0.9898    0.9898    804441\n",
      "\n",
      "Wall time: 1min 18s\n"
     ]
    }
   ],
   "source": [
    "%%time\n",
    "accEdaTemp = XGBClassifier(objective = 'multi:softmax',\n",
    "                           tree_method = 'gpu_hist',\n",
    "                           learning_rate = 0.1,\n",
    "                           gradient_based = 0.1,\n",
    "                           num_early_stopping_rounds = 20,\n",
    "                           n_estimators = 300,\n",
    "                           gamma = 3,\n",
    "                           verbosity = 2) \n",
    "\n",
    "model_accEdaTemp = accEdaTemp.fit(x_train, y_train)\n",
    "accEdaTemp_pred = accEdaTemp.predict(x_test)\n",
    "accEdaTemp_report = (classification_report(y_test, \n",
    "                                         accEdaTemp_pred, \n",
    "                                         labels = np.unique(accEdaTemp_pred),\n",
    "                                         digits = 4))\n",
    "\n",
    "print('Balanced Accuracy:', balanced_accuracy_score(y_test, accEdaTemp_pred))\n",
    "print('---------------------------------------')\n",
    "print('------------ S17 ACC EDA TEMP Classification Report------------')\n",
    "print(accEdaTemp_report)"
   ]
  },
  {
   "cell_type": "markdown",
   "metadata": {},
   "source": [
    "#### Confusion matrix"
   ]
  },
  {
   "cell_type": "code",
   "execution_count": 22,
   "metadata": {},
   "outputs": [
    {
     "data": {
      "image/png": "[encoded data removed]",
      "text/plain": [
       "<Figure size 576x432 with 2 Axes>"
      ]
     },
     "metadata": {},
     "output_type": "display_data"
    }
   ],
   "source": [
    "cm = confusion_matrix(y_test, accEdaTemp_pred)\n",
    "plt.figure(figsize=(8,6))\n",
    "sns.heatmap(cm, annot=True, fmt='d', cmap=plt.cm.BuPu );"
   ]
  },
  {
   "cell_type": "markdown",
   "metadata": {},
   "source": [
    "#### Classification Prediction Error"
   ]
  },
  {
   "cell_type": "code",
   "execution_count": 23,
   "metadata": {},
   "outputs": [
    {
     "data": {
      "image/png": "[encoded data removed]",
      "text/plain": [
       "<Figure size 620x450 with 1 Axes>"
      ]
     },
     "metadata": {},
     "output_type": "display_data"
    }
   ],
   "source": [
    "sns.set(style=\"darkgrid\")\n",
    "Classes = ['0', 'base', 'stress', 'amus', 'med']\n",
    "error = ClassPredictionError(accEdaTemp, size=(620, 450), classes=Classes)\n",
    "error.score(x_test, y_test)\n",
    "e = error.poof()"
   ]
  },
  {
   "cell_type": "markdown",
   "metadata": {},
   "source": [
    "#### Multiclass ROC AUC Score"
   ]
  },
  {
   "cell_type": "code",
   "execution_count": 24,
   "metadata": {},
   "outputs": [
    {
     "name": "stdout",
     "output_type": "stream",
     "text": [
      "S17 ACC EDA TEMP\n",
      "-------------------\n",
      "AUC: 99.38%\n"
     ]
    }
   ],
   "source": [
    "def multiclass_roc_auc_score(y_test, accEdaTemp_pred, average = 'macro'): #(None, 'micro', 'macro', 'weighted', 'samples')\n",
    "    xg = preprocessing.LabelBinarizer()\n",
    "    xg.fit(y_test)\n",
    "    y_test1 = xg.transform(y_test) \n",
    "    y_pred1 = xg.transform(accEdaTemp_pred)\n",
    "    return roc_auc_score(y_test1, y_pred1, average=average)\n",
    "\n",
    "aucScore = multiclass_roc_auc_score(y_test, accEdaTemp_pred)\n",
    "\n",
    "print('S17 ACC EDA TEMP')\n",
    "print('-------------------')\n",
    "print(\"AUC: %.2f%%\" % (aucScore*100))"
   ]
  },
  {
   "cell_type": "code",
   "execution_count": null,
   "metadata": {},
   "outputs": [],
   "source": []
  }
 ],
 "metadata": {
  "kernelspec": {
   "display_name": "practicum1",
   "language": "python",
   "name": "practicum1"
  },
  "language_info": {
   "codemirror_mode": {
    "name": "ipython",
    "version": 3
   },
   "file_extension": ".py",
   "mimetype": "text/x-python",
   "name": "python",
   "nbconvert_exporter": "python",
   "pygments_lexer": "ipython3",
   "version": "3.7.6"
  },
  "toc": {
   "base_numbering": 1,
   "nav_menu": {},
   "number_sections": true,
   "sideBar": true,
   "skip_h1_title": true,
   "title_cell": "Table of Contents",
   "title_sidebar": "Contents",
   "toc_cell": true,
   "toc_position": {},
   "toc_section_display": true,
   "toc_window_display": false
  }
 },
 "nbformat": 4,
 "nbformat_minor": 2
}
