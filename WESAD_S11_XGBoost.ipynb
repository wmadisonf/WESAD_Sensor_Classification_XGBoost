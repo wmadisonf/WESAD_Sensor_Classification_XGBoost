{
 "cells": [
  {
   "cell_type": "markdown",
   "metadata": {},
   "source": [
    "# S11 WESAD XGBoost"
   ]
  },
  {
   "cell_type": "markdown",
   "metadata": {},
   "source": [
    "    Female Participant\n",
    "    Age: 26\n",
    "    Height (cm): 171\n",
    "    Weight (kg): 54"
   ]
  },
  {
   "cell_type": "markdown",
   "metadata": {},
   "source": [
    "# Load Tools"
   ]
  },
  {
   "cell_type": "code",
   "execution_count": 2,
   "metadata": {},
   "outputs": [],
   "source": [
    "%matplotlib inline\n",
    "import pickle\n",
    "import numpy as np\n",
    "import pandas as pd\n",
    "import matplotlib\n",
    "import matplotlib.pyplot as plt\n",
    "import seaborn as sns\n",
    "import warnings\n",
    "warnings.filterwarnings('ignore')"
   ]
  },
  {
   "cell_type": "code",
   "execution_count": 3,
   "metadata": {},
   "outputs": [],
   "source": [
    "import sklearn as skl\n",
    "from sklearn.model_selection import train_test_split\n",
    "from sklearn.metrics import confusion_matrix, classification_report\n",
    "from sklearn.metrics import balanced_accuracy_score, f1_score, roc_auc_score \n",
    "from sklearn import preprocessing\n",
    "from sklearn.preprocessing import LabelEncoder, StandardScaler, label_binarize\n",
    "from sklearn.utils import class_weight\n",
    "import xgboost as xgb\n",
    "from xgboost import plot_importance, XGBClassifier"
   ]
  },
  {
   "cell_type": "code",
   "execution_count": 5,
   "metadata": {},
   "outputs": [],
   "source": [
    "sns.set(style=\"darkgrid\")"
   ]
  },
  {
   "cell_type": "code",
   "execution_count": 6,
   "metadata": {},
   "outputs": [],
   "source": [
    "# https://medium.com/ibm-data-science-experience/markdown-for-jupyter-notebooks-cheatsheet-386c05aeebed#:~:text=Colors%3A%20Use%20this%20code%3A%20%3C,space%2C%20then%20type%20the%20text.\n",
    "# https://www.w3schools.com/charsets/ref_utf_geometric.asp# import pydot"
   ]
  },
  {
   "cell_type": "code",
   "execution_count": 7,
   "metadata": {},
   "outputs": [
    {
     "name": "stdout",
     "output_type": "stream",
     "text": [
      "WForsythe 2020-08-02 16:23:13 \n",
      "\n",
      "CPython 3.7.6\n",
      "IPython 7.11.1\n",
      "\n",
      "numpy 1.18.1\n",
      "pandas 1.0.3\n",
      "cv2 4.2.0\n",
      "xgboost 1.0.2\n",
      "sklearn 0.22.1\n",
      "seaborn 0.9.0\n",
      "matplotlib 3.2.2\n",
      "yellowbrick 1.1\n"
     ]
    }
   ],
   "source": [
    "import autoreload\n",
    "%load_ext watermark\n",
    "%load_ext autoreload\n",
    "%autoreload 2\n",
    "%watermark -a 'WForsythe' -d -t -v -p   numpy,pandas,cv2,xgboost,sklearn,seaborn,matplotlib,yellowbrick"
   ]
  },
  {
   "cell_type": "markdown",
   "metadata": {},
   "source": [
    "# Load and Process File"
   ]
  },
  {
   "cell_type": "markdown",
   "metadata": {},
   "source": [
    "## Load File"
   ]
  },
  {
   "cell_type": "code",
   "execution_count": 8,
   "metadata": {},
   "outputs": [
    {
     "name": "stdout",
     "output_type": "stream",
     "text": [
      "Wall time: 10.2 s\n"
     ]
    },
    {
     "data": {
      "text/plain": [
       "{'signal': {'chest': {'ACC': array([[ 0.76740003,  0.42260003,  1.76620007],\n",
       "          [ 0.73259997,  0.28779995,  1.72340012],\n",
       "          [ 0.68939996,  0.11459994,  1.55500007],\n",
       "          ...,\n",
       "          [ 0.88139999,  0.05499995, -0.31900001],\n",
       "          [ 0.87660003,  0.0546    , -0.32560003],\n",
       "          [ 0.8714    ,  0.05540001, -0.32840002]]),\n",
       "   'ECG': array([[ 0.02009583],\n",
       "          [ 0.03684998],\n",
       "          [ 0.0536499 ],\n",
       "          ...,\n",
       "          [-0.02677917],\n",
       "          [-0.00682068],\n",
       "          [ 0.01643372]]),\n",
       "   'EMG': array([[-0.01387024],\n",
       "          [-0.00201416],\n",
       "          [-0.00759888],\n",
       "          ...,\n",
       "          [-0.04550171],\n",
       "          [-0.04197693],\n",
       "          [-0.02082825]]),\n",
       "   'EDA': array([[6.60743713],\n",
       "          [6.60324097],\n",
       "          [6.60552979],\n",
       "          ...,\n",
       "          [6.37817383],\n",
       "          [6.37702942],\n",
       "          [6.38008118]]),\n",
       "   'Temp': array([[33.520264],\n",
       "          [33.494537],\n",
       "          [33.50815 ],\n",
       "          ...,\n",
       "          [35.014282],\n",
       "          [35.01892 ],\n",
       "          [35.02353 ]], dtype=float32),\n",
       "   'Resp': array([[ 2.12097168],\n",
       "          [ 2.11334229],\n",
       "          [ 2.12249756],\n",
       "          ...,\n",
       "          [-0.63934326],\n",
       "          [-0.64849854],\n",
       "          [-0.68206787]])},\n",
       "  'wrist': {'ACC': array([[-128.,  127.,  127.],\n",
       "          [ -46.,    2.,   92.],\n",
       "          [ -82.,  -34.,    5.],\n",
       "          ...,\n",
       "          [ -42.,  -38.,  -21.],\n",
       "          [ -25.,  -42.,  -18.],\n",
       "          [ -31.,  -44.,  -13.]]), 'BVP': array([[-12.14],\n",
       "          [ -6.2 ],\n",
       "          [ -0.58],\n",
       "          ...,\n",
       "          [  5.76],\n",
       "          [  5.48],\n",
       "          [  5.1 ]]), 'EDA': array([[4.4455  ],\n",
       "          [4.911148],\n",
       "          [4.741007],\n",
       "          ...,\n",
       "          [1.860665],\n",
       "          [1.842755],\n",
       "          [1.946375]]), 'TEMP': array([[34.  ],\n",
       "          [34.  ],\n",
       "          [34.  ],\n",
       "          ...,\n",
       "          [31.53],\n",
       "          [31.53],\n",
       "          [31.53]])}},\n",
       " 'label': array([0, 0, 0, ..., 0, 0, 0]),\n",
       " 'subject': 'S11'}"
      ]
     },
     "execution_count": 8,
     "metadata": {},
     "output_type": "execute_result"
    }
   ],
   "source": [
    "%%time\n",
    "data = 'D:/WESAD/'\n",
    "s11_file = pd.read_pickle(data + 'S11/S11.pkl')\n",
    "s11_file"
   ]
  },
  {
   "cell_type": "markdown",
   "metadata": {},
   "source": [
    "**there are 3 columns for both chest and wrist ACC and one column each for the other features**"
   ]
  },
  {
   "cell_type": "markdown",
   "metadata": {},
   "source": [
    "## Process"
   ]
  },
  {
   "cell_type": "markdown",
   "metadata": {},
   "source": [
    "### Seperate chest features  from wrist  features "
   ]
  },
  {
   "cell_type": "code",
   "execution_count": 9,
   "metadata": {},
   "outputs": [],
   "source": [
    "cax = s11_file['signal']['chest']['ACC'][0:,0]\n",
    "cay = s11_file['signal']['chest']['ACC'][0:,1]\n",
    "caz = s11_file['signal']['chest']['ACC'][0:,2]\n",
    "cecg = s11_file['signal']['chest']['ECG'][:,0]\n",
    "cemg = s11_file['signal']['chest']['EMG'][:,0]\n",
    "ceda = s11_file['signal']['chest']['EDA'][:,0]\n",
    "ctemp = s11_file['signal']['chest']['Temp'][:,0]\n",
    "cresp = s11_file['signal']['chest']['Resp'][:,0]\n",
    "label = s11_file['label']"
   ]
  },
  {
   "cell_type": "code",
   "execution_count": 10,
   "metadata": {},
   "outputs": [
    {
     "data": {
      "text/plain": [
       "array([0, 0, 0, ..., 0, 0, 0])"
      ]
     },
     "execution_count": 10,
     "metadata": {},
     "output_type": "execute_result"
    }
   ],
   "source": [
    "label"
   ]
  },
  {
   "cell_type": "markdown",
   "metadata": {},
   "source": [
    "### Change dictionary object to a numpy array and array to a dataframe"
   ]
  },
  {
   "cell_type": "code",
   "execution_count": 11,
   "metadata": {},
   "outputs": [],
   "source": [
    "# Python | Numpy ndarray.T\n",
    "# https://www.geeksforgeeks.org/python-numpy-ndarray-t/\n",
    "# Numpy Array Cookbook: Generating and Manipulating Arrays in Python\n",
    "# https://towardsdatascience.com/numpy-array-cookbook-generating-and-manipulating-arrays-in-python-2195c3988b09"
   ]
  },
  {
   "cell_type": "code",
   "execution_count": 12,
   "metadata": {},
   "outputs": [
    {
     "data": {
      "text/html": [
       "<div>\n",
       "<style scoped>\n",
       "    .dataframe tbody tr th:only-of-type {\n",
       "        vertical-align: middle;\n",
       "    }\n",
       "\n",
       "    .dataframe tbody tr th {\n",
       "        vertical-align: top;\n",
       "    }\n",
       "\n",
       "    .dataframe thead th {\n",
       "        text-align: right;\n",
       "    }\n",
       "</style>\n",
       "<table border=\"1\" class=\"dataframe\">\n",
       "  <thead>\n",
       "    <tr style=\"text-align: right;\">\n",
       "      <th></th>\n",
       "      <th>cax</th>\n",
       "      <th>cay</th>\n",
       "      <th>caz</th>\n",
       "      <th>cecg</th>\n",
       "      <th>cemg</th>\n",
       "      <th>ceda</th>\n",
       "      <th>ctemp</th>\n",
       "      <th>cresp</th>\n",
       "      <th>label</th>\n",
       "    </tr>\n",
       "  </thead>\n",
       "  <tbody>\n",
       "    <tr>\n",
       "      <th>0</th>\n",
       "      <td>0.7674</td>\n",
       "      <td>0.4226</td>\n",
       "      <td>1.7662</td>\n",
       "      <td>0.020096</td>\n",
       "      <td>-0.013870</td>\n",
       "      <td>6.607437</td>\n",
       "      <td>33.520264</td>\n",
       "      <td>2.120972</td>\n",
       "      <td>0.0</td>\n",
       "    </tr>\n",
       "    <tr>\n",
       "      <th>1</th>\n",
       "      <td>0.7326</td>\n",
       "      <td>0.2878</td>\n",
       "      <td>1.7234</td>\n",
       "      <td>0.036850</td>\n",
       "      <td>-0.002014</td>\n",
       "      <td>6.603241</td>\n",
       "      <td>33.494537</td>\n",
       "      <td>2.113342</td>\n",
       "      <td>0.0</td>\n",
       "    </tr>\n",
       "    <tr>\n",
       "      <th>2</th>\n",
       "      <td>0.6894</td>\n",
       "      <td>0.1146</td>\n",
       "      <td>1.5550</td>\n",
       "      <td>0.053650</td>\n",
       "      <td>-0.007599</td>\n",
       "      <td>6.605530</td>\n",
       "      <td>33.508148</td>\n",
       "      <td>2.122498</td>\n",
       "      <td>0.0</td>\n",
       "    </tr>\n",
       "    <tr>\n",
       "      <th>3</th>\n",
       "      <td>0.6646</td>\n",
       "      <td>-0.0626</td>\n",
       "      <td>1.3322</td>\n",
       "      <td>0.052780</td>\n",
       "      <td>-0.026505</td>\n",
       "      <td>6.611252</td>\n",
       "      <td>33.491516</td>\n",
       "      <td>2.125549</td>\n",
       "      <td>0.0</td>\n",
       "    </tr>\n",
       "    <tr>\n",
       "      <th>4</th>\n",
       "      <td>0.6590</td>\n",
       "      <td>-0.2322</td>\n",
       "      <td>1.0834</td>\n",
       "      <td>0.035751</td>\n",
       "      <td>-0.040421</td>\n",
       "      <td>6.609726</td>\n",
       "      <td>33.524780</td>\n",
       "      <td>2.131653</td>\n",
       "      <td>0.0</td>\n",
       "    </tr>\n",
       "    <tr>\n",
       "      <th>...</th>\n",
       "      <td>...</td>\n",
       "      <td>...</td>\n",
       "      <td>...</td>\n",
       "      <td>...</td>\n",
       "      <td>...</td>\n",
       "      <td>...</td>\n",
       "      <td>...</td>\n",
       "      <td>...</td>\n",
       "      <td>...</td>\n",
       "    </tr>\n",
       "    <tr>\n",
       "      <th>3663095</th>\n",
       "      <td>0.8854</td>\n",
       "      <td>0.0582</td>\n",
       "      <td>-0.3068</td>\n",
       "      <td>-0.027145</td>\n",
       "      <td>-0.045914</td>\n",
       "      <td>6.463242</td>\n",
       "      <td>35.029724</td>\n",
       "      <td>-0.650024</td>\n",
       "      <td>0.0</td>\n",
       "    </tr>\n",
       "    <tr>\n",
       "      <th>3663096</th>\n",
       "      <td>0.8830</td>\n",
       "      <td>0.0570</td>\n",
       "      <td>-0.3114</td>\n",
       "      <td>-0.032822</td>\n",
       "      <td>-0.047928</td>\n",
       "      <td>6.377792</td>\n",
       "      <td>34.989563</td>\n",
       "      <td>-0.669861</td>\n",
       "      <td>0.0</td>\n",
       "    </tr>\n",
       "    <tr>\n",
       "      <th>3663097</th>\n",
       "      <td>0.8814</td>\n",
       "      <td>0.0550</td>\n",
       "      <td>-0.3190</td>\n",
       "      <td>-0.026779</td>\n",
       "      <td>-0.045502</td>\n",
       "      <td>6.378174</td>\n",
       "      <td>35.014282</td>\n",
       "      <td>-0.639343</td>\n",
       "      <td>0.0</td>\n",
       "    </tr>\n",
       "    <tr>\n",
       "      <th>3663098</th>\n",
       "      <td>0.8766</td>\n",
       "      <td>0.0546</td>\n",
       "      <td>-0.3256</td>\n",
       "      <td>-0.006821</td>\n",
       "      <td>-0.041977</td>\n",
       "      <td>6.377029</td>\n",
       "      <td>35.018921</td>\n",
       "      <td>-0.648499</td>\n",
       "      <td>0.0</td>\n",
       "    </tr>\n",
       "    <tr>\n",
       "      <th>3663099</th>\n",
       "      <td>0.8714</td>\n",
       "      <td>0.0554</td>\n",
       "      <td>-0.3284</td>\n",
       "      <td>0.016434</td>\n",
       "      <td>-0.020828</td>\n",
       "      <td>6.380081</td>\n",
       "      <td>35.023529</td>\n",
       "      <td>-0.682068</td>\n",
       "      <td>0.0</td>\n",
       "    </tr>\n",
       "  </tbody>\n",
       "</table>\n",
       "<p>3663100 rows × 9 columns</p>\n",
       "</div>"
      ],
      "text/plain": [
       "            cax     cay     caz      cecg      cemg      ceda      ctemp  \\\n",
       "0        0.7674  0.4226  1.7662  0.020096 -0.013870  6.607437  33.520264   \n",
       "1        0.7326  0.2878  1.7234  0.036850 -0.002014  6.603241  33.494537   \n",
       "2        0.6894  0.1146  1.5550  0.053650 -0.007599  6.605530  33.508148   \n",
       "3        0.6646 -0.0626  1.3322  0.052780 -0.026505  6.611252  33.491516   \n",
       "4        0.6590 -0.2322  1.0834  0.035751 -0.040421  6.609726  33.524780   \n",
       "...         ...     ...     ...       ...       ...       ...        ...   \n",
       "3663095  0.8854  0.0582 -0.3068 -0.027145 -0.045914  6.463242  35.029724   \n",
       "3663096  0.8830  0.0570 -0.3114 -0.032822 -0.047928  6.377792  34.989563   \n",
       "3663097  0.8814  0.0550 -0.3190 -0.026779 -0.045502  6.378174  35.014282   \n",
       "3663098  0.8766  0.0546 -0.3256 -0.006821 -0.041977  6.377029  35.018921   \n",
       "3663099  0.8714  0.0554 -0.3284  0.016434 -0.020828  6.380081  35.023529   \n",
       "\n",
       "            cresp  label  \n",
       "0        2.120972    0.0  \n",
       "1        2.113342    0.0  \n",
       "2        2.122498    0.0  \n",
       "3        2.125549    0.0  \n",
       "4        2.131653    0.0  \n",
       "...           ...    ...  \n",
       "3663095 -0.650024    0.0  \n",
       "3663096 -0.669861    0.0  \n",
       "3663097 -0.639343    0.0  \n",
       "3663098 -0.648499    0.0  \n",
       "3663099 -0.682068    0.0  \n",
       "\n",
       "[3663100 rows x 9 columns]"
      ]
     },
     "execution_count": 12,
     "metadata": {},
     "output_type": "execute_result"
    }
   ],
   "source": [
    "chest = [cax, cay, caz, cecg, cemg, \n",
    "         ceda, ctemp, cresp, label] \n",
    "ch_array = np.array(chest) \n",
    "ch_array = ch_array.T # transpose \n",
    "Columns = ['cax', 'cay', 'caz','cecg', 'cemg', \n",
    "          'ceda','ctemp', 'cresp', 'label' ]\n",
    "ch_df = pd.DataFrame(ch_array, columns = Columns) \n",
    "ch_df"
   ]
  },
  {
   "cell_type": "markdown",
   "metadata": {},
   "source": [
    "#### Check Statistics"
   ]
  },
  {
   "cell_type": "code",
   "execution_count": 13,
   "metadata": {},
   "outputs": [
    {
     "data": {
      "text/html": [
       "<div>\n",
       "<style scoped>\n",
       "    .dataframe tbody tr th:only-of-type {\n",
       "        vertical-align: middle;\n",
       "    }\n",
       "\n",
       "    .dataframe tbody tr th {\n",
       "        vertical-align: top;\n",
       "    }\n",
       "\n",
       "    .dataframe thead th {\n",
       "        text-align: right;\n",
       "    }\n",
       "</style>\n",
       "<table border=\"1\" class=\"dataframe\">\n",
       "  <thead>\n",
       "    <tr style=\"text-align: right;\">\n",
       "      <th></th>\n",
       "      <th>count</th>\n",
       "      <th>mean</th>\n",
       "      <th>std</th>\n",
       "      <th>min</th>\n",
       "      <th>25%</th>\n",
       "      <th>50%</th>\n",
       "      <th>75%</th>\n",
       "      <th>max</th>\n",
       "    </tr>\n",
       "  </thead>\n",
       "  <tbody>\n",
       "    <tr>\n",
       "      <th>cax</th>\n",
       "      <td>3663100.0</td>\n",
       "      <td>0.883402</td>\n",
       "      <td>0.025900</td>\n",
       "      <td>0.297800</td>\n",
       "      <td>0.868000</td>\n",
       "      <td>0.883400</td>\n",
       "      <td>0.898000</td>\n",
       "      <td>2.037600</td>\n",
       "    </tr>\n",
       "    <tr>\n",
       "      <th>cay</th>\n",
       "      <td>3663100.0</td>\n",
       "      <td>0.012753</td>\n",
       "      <td>0.053536</td>\n",
       "      <td>-0.826200</td>\n",
       "      <td>-0.012200</td>\n",
       "      <td>0.009400</td>\n",
       "      <td>0.042400</td>\n",
       "      <td>0.499400</td>\n",
       "    </tr>\n",
       "    <tr>\n",
       "      <th>caz</th>\n",
       "      <td>3663100.0</td>\n",
       "      <td>-0.221811</td>\n",
       "      <td>0.110087</td>\n",
       "      <td>-1.547000</td>\n",
       "      <td>-0.288200</td>\n",
       "      <td>-0.240600</td>\n",
       "      <td>-0.182600</td>\n",
       "      <td>2.610800</td>\n",
       "    </tr>\n",
       "    <tr>\n",
       "      <th>cecg</th>\n",
       "      <td>3663100.0</td>\n",
       "      <td>0.001054</td>\n",
       "      <td>0.298879</td>\n",
       "      <td>-0.878952</td>\n",
       "      <td>-0.112839</td>\n",
       "      <td>-0.042206</td>\n",
       "      <td>0.036346</td>\n",
       "      <td>1.499954</td>\n",
       "    </tr>\n",
       "    <tr>\n",
       "      <th>cemg</th>\n",
       "      <td>3663100.0</td>\n",
       "      <td>-0.003610</td>\n",
       "      <td>0.013179</td>\n",
       "      <td>-0.359894</td>\n",
       "      <td>-0.010437</td>\n",
       "      <td>-0.003479</td>\n",
       "      <td>0.003159</td>\n",
       "      <td>0.335724</td>\n",
       "    </tr>\n",
       "    <tr>\n",
       "      <th>ceda</th>\n",
       "      <td>3663100.0</td>\n",
       "      <td>6.504319</td>\n",
       "      <td>0.421310</td>\n",
       "      <td>5.626297</td>\n",
       "      <td>6.250000</td>\n",
       "      <td>6.392288</td>\n",
       "      <td>6.624985</td>\n",
       "      <td>8.166885</td>\n",
       "    </tr>\n",
       "    <tr>\n",
       "      <th>ctemp</th>\n",
       "      <td>3663100.0</td>\n",
       "      <td>34.688962</td>\n",
       "      <td>0.328780</td>\n",
       "      <td>33.438599</td>\n",
       "      <td>34.549591</td>\n",
       "      <td>34.689331</td>\n",
       "      <td>34.967987</td>\n",
       "      <td>35.238495</td>\n",
       "    </tr>\n",
       "    <tr>\n",
       "      <th>cresp</th>\n",
       "      <td>3663100.0</td>\n",
       "      <td>0.050518</td>\n",
       "      <td>4.815635</td>\n",
       "      <td>-36.196899</td>\n",
       "      <td>-2.073669</td>\n",
       "      <td>-0.076294</td>\n",
       "      <td>2.253723</td>\n",
       "      <td>30.084229</td>\n",
       "    </tr>\n",
       "    <tr>\n",
       "      <th>label</th>\n",
       "      <td>3663100.0</td>\n",
       "      <td>1.475253</td>\n",
       "      <td>1.638622</td>\n",
       "      <td>0.000000</td>\n",
       "      <td>0.000000</td>\n",
       "      <td>1.000000</td>\n",
       "      <td>3.000000</td>\n",
       "      <td>7.000000</td>\n",
       "    </tr>\n",
       "  </tbody>\n",
       "</table>\n",
       "</div>"
      ],
      "text/plain": [
       "           count       mean       std        min        25%        50%  \\\n",
       "cax    3663100.0   0.883402  0.025900   0.297800   0.868000   0.883400   \n",
       "cay    3663100.0   0.012753  0.053536  -0.826200  -0.012200   0.009400   \n",
       "caz    3663100.0  -0.221811  0.110087  -1.547000  -0.288200  -0.240600   \n",
       "cecg   3663100.0   0.001054  0.298879  -0.878952  -0.112839  -0.042206   \n",
       "cemg   3663100.0  -0.003610  0.013179  -0.359894  -0.010437  -0.003479   \n",
       "ceda   3663100.0   6.504319  0.421310   5.626297   6.250000   6.392288   \n",
       "ctemp  3663100.0  34.688962  0.328780  33.438599  34.549591  34.689331   \n",
       "cresp  3663100.0   0.050518  4.815635 -36.196899  -2.073669  -0.076294   \n",
       "label  3663100.0   1.475253  1.638622   0.000000   0.000000   1.000000   \n",
       "\n",
       "             75%        max  \n",
       "cax     0.898000   2.037600  \n",
       "cay     0.042400   0.499400  \n",
       "caz    -0.182600   2.610800  \n",
       "cecg    0.036346   1.499954  \n",
       "cemg    0.003159   0.335724  \n",
       "ceda    6.624985   8.166885  \n",
       "ctemp  34.967987  35.238495  \n",
       "cresp   2.253723  30.084229  \n",
       "label   3.000000   7.000000  "
      ]
     },
     "execution_count": 13,
     "metadata": {},
     "output_type": "execute_result"
    }
   ],
   "source": [
    "ch_df.describe().T"
   ]
  },
  {
   "cell_type": "markdown",
   "metadata": {},
   "source": [
    "#### Check Type"
   ]
  },
  {
   "cell_type": "code",
   "execution_count": 14,
   "metadata": {},
   "outputs": [
    {
     "name": "stdout",
     "output_type": "stream",
     "text": [
      "<class 'pandas.core.frame.DataFrame'>\n",
      "RangeIndex: 3663100 entries, 0 to 3663099\n",
      "Data columns (total 9 columns):\n",
      " #   Column  Dtype  \n",
      "---  ------  -----  \n",
      " 0   cax     float64\n",
      " 1   cay     float64\n",
      " 2   caz     float64\n",
      " 3   cecg    float64\n",
      " 4   cemg    float64\n",
      " 5   ceda    float64\n",
      " 6   ctemp   float64\n",
      " 7   cresp   float64\n",
      " 8   label   float64\n",
      "dtypes: float64(9)\n",
      "memory usage: 251.5 MB\n"
     ]
    }
   ],
   "source": [
    "ch_df.info()"
   ]
  },
  {
   "cell_type": "code",
   "execution_count": 15,
   "metadata": {},
   "outputs": [
    {
     "data": {
      "text/plain": [
       "0.0    1443400\n",
       "1.0     826000\n",
       "4.0     553701\n",
       "2.0     476000\n",
       "3.0     257600\n",
       "6.0      36399\n",
       "7.0      35000\n",
       "5.0      35000\n",
       "Name: label, dtype: int64"
      ]
     },
     "execution_count": 15,
     "metadata": {},
     "output_type": "execute_result"
    }
   ],
   "source": [
    "ch_df['label'].value_counts()"
   ]
  },
  {
   "cell_type": "markdown",
   "metadata": {},
   "source": [
    "### Concatenate classes 0, 1, 2, 3, and 4\n",
    "    Classes 5, 6 and 7 correspond to timed periods in which the participant answered questionnaires, \n",
    "    therefore, only classes 0, 1, 2, 3, and 4 will be used \n",
    "    Additionally, the significant imbalance has been eliminated"
   ]
  },
  {
   "cell_type": "code",
   "execution_count": 16,
   "metadata": {},
   "outputs": [],
   "source": [
    "loc0 = ch_df.loc[ch_df['label'] == 0]\n",
    "loc1 = ch_df.loc[ch_df['label'] == 1]\n",
    "loc2 = ch_df.loc[ch_df['label'] == 2]\n",
    "loc3 = ch_df.loc[ch_df['label'] == 3]\n",
    "loc4 = ch_df.loc[ch_df['label'] == 4]"
   ]
  },
  {
   "cell_type": "code",
   "execution_count": 17,
   "metadata": {},
   "outputs": [
    {
     "data": {
      "text/html": [
       "<div>\n",
       "<style scoped>\n",
       "    .dataframe tbody tr th:only-of-type {\n",
       "        vertical-align: middle;\n",
       "    }\n",
       "\n",
       "    .dataframe tbody tr th {\n",
       "        vertical-align: top;\n",
       "    }\n",
       "\n",
       "    .dataframe thead th {\n",
       "        text-align: right;\n",
       "    }\n",
       "</style>\n",
       "<table border=\"1\" class=\"dataframe\">\n",
       "  <thead>\n",
       "    <tr style=\"text-align: right;\">\n",
       "      <th></th>\n",
       "      <th>cax</th>\n",
       "      <th>cay</th>\n",
       "      <th>caz</th>\n",
       "      <th>cecg</th>\n",
       "      <th>cemg</th>\n",
       "      <th>ceda</th>\n",
       "      <th>ctemp</th>\n",
       "      <th>cresp</th>\n",
       "      <th>label</th>\n",
       "    </tr>\n",
       "  </thead>\n",
       "  <tbody>\n",
       "    <tr>\n",
       "      <th>0</th>\n",
       "      <td>0.7674</td>\n",
       "      <td>0.4226</td>\n",
       "      <td>1.7662</td>\n",
       "      <td>0.020096</td>\n",
       "      <td>-0.013870</td>\n",
       "      <td>6.607437</td>\n",
       "      <td>33.520264</td>\n",
       "      <td>2.120972</td>\n",
       "      <td>0.0</td>\n",
       "    </tr>\n",
       "    <tr>\n",
       "      <th>1</th>\n",
       "      <td>0.7326</td>\n",
       "      <td>0.2878</td>\n",
       "      <td>1.7234</td>\n",
       "      <td>0.036850</td>\n",
       "      <td>-0.002014</td>\n",
       "      <td>6.603241</td>\n",
       "      <td>33.494537</td>\n",
       "      <td>2.113342</td>\n",
       "      <td>0.0</td>\n",
       "    </tr>\n",
       "    <tr>\n",
       "      <th>2</th>\n",
       "      <td>0.6894</td>\n",
       "      <td>0.1146</td>\n",
       "      <td>1.5550</td>\n",
       "      <td>0.053650</td>\n",
       "      <td>-0.007599</td>\n",
       "      <td>6.605530</td>\n",
       "      <td>33.508148</td>\n",
       "      <td>2.122498</td>\n",
       "      <td>0.0</td>\n",
       "    </tr>\n",
       "    <tr>\n",
       "      <th>3</th>\n",
       "      <td>0.6646</td>\n",
       "      <td>-0.0626</td>\n",
       "      <td>1.3322</td>\n",
       "      <td>0.052780</td>\n",
       "      <td>-0.026505</td>\n",
       "      <td>6.611252</td>\n",
       "      <td>33.491516</td>\n",
       "      <td>2.125549</td>\n",
       "      <td>0.0</td>\n",
       "    </tr>\n",
       "    <tr>\n",
       "      <th>4</th>\n",
       "      <td>0.6590</td>\n",
       "      <td>-0.2322</td>\n",
       "      <td>1.0834</td>\n",
       "      <td>0.035751</td>\n",
       "      <td>-0.040421</td>\n",
       "      <td>6.609726</td>\n",
       "      <td>33.524780</td>\n",
       "      <td>2.131653</td>\n",
       "      <td>0.0</td>\n",
       "    </tr>\n",
       "    <tr>\n",
       "      <th>...</th>\n",
       "      <td>...</td>\n",
       "      <td>...</td>\n",
       "      <td>...</td>\n",
       "      <td>...</td>\n",
       "      <td>...</td>\n",
       "      <td>...</td>\n",
       "      <td>...</td>\n",
       "      <td>...</td>\n",
       "      <td>...</td>\n",
       "    </tr>\n",
       "    <tr>\n",
       "      <th>3561332</th>\n",
       "      <td>0.8858</td>\n",
       "      <td>0.0022</td>\n",
       "      <td>-0.2758</td>\n",
       "      <td>0.077454</td>\n",
       "      <td>0.000595</td>\n",
       "      <td>6.375504</td>\n",
       "      <td>35.069885</td>\n",
       "      <td>-7.658386</td>\n",
       "      <td>4.0</td>\n",
       "    </tr>\n",
       "    <tr>\n",
       "      <th>3561333</th>\n",
       "      <td>0.8854</td>\n",
       "      <td>0.0036</td>\n",
       "      <td>-0.2738</td>\n",
       "      <td>0.080063</td>\n",
       "      <td>-0.005173</td>\n",
       "      <td>6.364059</td>\n",
       "      <td>35.060608</td>\n",
       "      <td>-7.655334</td>\n",
       "      <td>4.0</td>\n",
       "    </tr>\n",
       "    <tr>\n",
       "      <th>3561334</th>\n",
       "      <td>0.8842</td>\n",
       "      <td>0.0030</td>\n",
       "      <td>-0.2698</td>\n",
       "      <td>0.081436</td>\n",
       "      <td>0.007553</td>\n",
       "      <td>6.369400</td>\n",
       "      <td>35.065277</td>\n",
       "      <td>-7.658386</td>\n",
       "      <td>4.0</td>\n",
       "    </tr>\n",
       "    <tr>\n",
       "      <th>3561335</th>\n",
       "      <td>0.8850</td>\n",
       "      <td>0.0054</td>\n",
       "      <td>-0.2718</td>\n",
       "      <td>0.082626</td>\n",
       "      <td>0.002151</td>\n",
       "      <td>6.370926</td>\n",
       "      <td>35.051361</td>\n",
       "      <td>-7.667542</td>\n",
       "      <td>4.0</td>\n",
       "    </tr>\n",
       "    <tr>\n",
       "      <th>3561336</th>\n",
       "      <td>0.8866</td>\n",
       "      <td>0.0050</td>\n",
       "      <td>-0.2654</td>\n",
       "      <td>0.085464</td>\n",
       "      <td>-0.001694</td>\n",
       "      <td>6.373596</td>\n",
       "      <td>35.035889</td>\n",
       "      <td>-7.666016</td>\n",
       "      <td>4.0</td>\n",
       "    </tr>\n",
       "  </tbody>\n",
       "</table>\n",
       "<p>3556701 rows × 9 columns</p>\n",
       "</div>"
      ],
      "text/plain": [
       "            cax     cay     caz      cecg      cemg      ceda      ctemp  \\\n",
       "0        0.7674  0.4226  1.7662  0.020096 -0.013870  6.607437  33.520264   \n",
       "1        0.7326  0.2878  1.7234  0.036850 -0.002014  6.603241  33.494537   \n",
       "2        0.6894  0.1146  1.5550  0.053650 -0.007599  6.605530  33.508148   \n",
       "3        0.6646 -0.0626  1.3322  0.052780 -0.026505  6.611252  33.491516   \n",
       "4        0.6590 -0.2322  1.0834  0.035751 -0.040421  6.609726  33.524780   \n",
       "...         ...     ...     ...       ...       ...       ...        ...   \n",
       "3561332  0.8858  0.0022 -0.2758  0.077454  0.000595  6.375504  35.069885   \n",
       "3561333  0.8854  0.0036 -0.2738  0.080063 -0.005173  6.364059  35.060608   \n",
       "3561334  0.8842  0.0030 -0.2698  0.081436  0.007553  6.369400  35.065277   \n",
       "3561335  0.8850  0.0054 -0.2718  0.082626  0.002151  6.370926  35.051361   \n",
       "3561336  0.8866  0.0050 -0.2654  0.085464 -0.001694  6.373596  35.035889   \n",
       "\n",
       "            cresp  label  \n",
       "0        2.120972    0.0  \n",
       "1        2.113342    0.0  \n",
       "2        2.122498    0.0  \n",
       "3        2.125549    0.0  \n",
       "4        2.131653    0.0  \n",
       "...           ...    ...  \n",
       "3561332 -7.658386    4.0  \n",
       "3561333 -7.655334    4.0  \n",
       "3561334 -7.658386    4.0  \n",
       "3561335 -7.667542    4.0  \n",
       "3561336 -7.666016    4.0  \n",
       "\n",
       "[3556701 rows x 9 columns]"
      ]
     },
     "execution_count": 17,
     "metadata": {},
     "output_type": "execute_result"
    }
   ],
   "source": [
    "ch_loc = pd.concat([loc0, loc1, loc2, loc3, loc4])\n",
    "ch_loc"
   ]
  },
  {
   "cell_type": "markdown",
   "metadata": {},
   "source": [
    "#### Check Statistics"
   ]
  },
  {
   "cell_type": "code",
   "execution_count": 18,
   "metadata": {},
   "outputs": [
    {
     "data": {
      "text/html": [
       "<div>\n",
       "<style scoped>\n",
       "    .dataframe tbody tr th:only-of-type {\n",
       "        vertical-align: middle;\n",
       "    }\n",
       "\n",
       "    .dataframe tbody tr th {\n",
       "        vertical-align: top;\n",
       "    }\n",
       "\n",
       "    .dataframe thead th {\n",
       "        text-align: right;\n",
       "    }\n",
       "</style>\n",
       "<table border=\"1\" class=\"dataframe\">\n",
       "  <thead>\n",
       "    <tr style=\"text-align: right;\">\n",
       "      <th></th>\n",
       "      <th>count</th>\n",
       "      <th>mean</th>\n",
       "      <th>std</th>\n",
       "      <th>min</th>\n",
       "      <th>25%</th>\n",
       "      <th>50%</th>\n",
       "      <th>75%</th>\n",
       "      <th>max</th>\n",
       "    </tr>\n",
       "  </thead>\n",
       "  <tbody>\n",
       "    <tr>\n",
       "      <th>cax</th>\n",
       "      <td>3556701.0</td>\n",
       "      <td>0.883466</td>\n",
       "      <td>0.026205</td>\n",
       "      <td>0.297800</td>\n",
       "      <td>0.867600</td>\n",
       "      <td>0.883600</td>\n",
       "      <td>0.898400</td>\n",
       "      <td>2.037600</td>\n",
       "    </tr>\n",
       "    <tr>\n",
       "      <th>cay</th>\n",
       "      <td>3556701.0</td>\n",
       "      <td>0.013238</td>\n",
       "      <td>0.054229</td>\n",
       "      <td>-0.826200</td>\n",
       "      <td>-0.012400</td>\n",
       "      <td>0.010400</td>\n",
       "      <td>0.043800</td>\n",
       "      <td>0.499400</td>\n",
       "    </tr>\n",
       "    <tr>\n",
       "      <th>caz</th>\n",
       "      <td>3556701.0</td>\n",
       "      <td>-0.220440</td>\n",
       "      <td>0.111337</td>\n",
       "      <td>-1.547000</td>\n",
       "      <td>-0.288600</td>\n",
       "      <td>-0.239000</td>\n",
       "      <td>-0.180600</td>\n",
       "      <td>2.610800</td>\n",
       "    </tr>\n",
       "    <tr>\n",
       "      <th>cecg</th>\n",
       "      <td>3556701.0</td>\n",
       "      <td>0.001062</td>\n",
       "      <td>0.298621</td>\n",
       "      <td>-0.878952</td>\n",
       "      <td>-0.113113</td>\n",
       "      <td>-0.042252</td>\n",
       "      <td>0.036484</td>\n",
       "      <td>1.499954</td>\n",
       "    </tr>\n",
       "    <tr>\n",
       "      <th>cemg</th>\n",
       "      <td>3556701.0</td>\n",
       "      <td>-0.003607</td>\n",
       "      <td>0.013215</td>\n",
       "      <td>-0.359894</td>\n",
       "      <td>-0.010391</td>\n",
       "      <td>-0.003479</td>\n",
       "      <td>0.003159</td>\n",
       "      <td>0.335724</td>\n",
       "    </tr>\n",
       "    <tr>\n",
       "      <th>ceda</th>\n",
       "      <td>3556701.0</td>\n",
       "      <td>6.500956</td>\n",
       "      <td>0.419819</td>\n",
       "      <td>5.626297</td>\n",
       "      <td>6.251526</td>\n",
       "      <td>6.394196</td>\n",
       "      <td>6.617737</td>\n",
       "      <td>8.166885</td>\n",
       "    </tr>\n",
       "    <tr>\n",
       "      <th>ctemp</th>\n",
       "      <td>3556701.0</td>\n",
       "      <td>34.686744</td>\n",
       "      <td>0.331836</td>\n",
       "      <td>33.438599</td>\n",
       "      <td>34.546509</td>\n",
       "      <td>34.692352</td>\n",
       "      <td>34.967987</td>\n",
       "      <td>35.238495</td>\n",
       "    </tr>\n",
       "    <tr>\n",
       "      <th>cresp</th>\n",
       "      <td>3556701.0</td>\n",
       "      <td>0.047712</td>\n",
       "      <td>4.859344</td>\n",
       "      <td>-36.196899</td>\n",
       "      <td>-2.066040</td>\n",
       "      <td>-0.065613</td>\n",
       "      <td>2.256775</td>\n",
       "      <td>30.084229</td>\n",
       "    </tr>\n",
       "    <tr>\n",
       "      <th>label</th>\n",
       "      <td>3556701.0</td>\n",
       "      <td>1.339894</td>\n",
       "      <td>1.454284</td>\n",
       "      <td>0.000000</td>\n",
       "      <td>0.000000</td>\n",
       "      <td>1.000000</td>\n",
       "      <td>2.000000</td>\n",
       "      <td>4.000000</td>\n",
       "    </tr>\n",
       "  </tbody>\n",
       "</table>\n",
       "</div>"
      ],
      "text/plain": [
       "           count       mean       std        min        25%        50%  \\\n",
       "cax    3556701.0   0.883466  0.026205   0.297800   0.867600   0.883600   \n",
       "cay    3556701.0   0.013238  0.054229  -0.826200  -0.012400   0.010400   \n",
       "caz    3556701.0  -0.220440  0.111337  -1.547000  -0.288600  -0.239000   \n",
       "cecg   3556701.0   0.001062  0.298621  -0.878952  -0.113113  -0.042252   \n",
       "cemg   3556701.0  -0.003607  0.013215  -0.359894  -0.010391  -0.003479   \n",
       "ceda   3556701.0   6.500956  0.419819   5.626297   6.251526   6.394196   \n",
       "ctemp  3556701.0  34.686744  0.331836  33.438599  34.546509  34.692352   \n",
       "cresp  3556701.0   0.047712  4.859344 -36.196899  -2.066040  -0.065613   \n",
       "label  3556701.0   1.339894  1.454284   0.000000   0.000000   1.000000   \n",
       "\n",
       "             75%        max  \n",
       "cax     0.898400   2.037600  \n",
       "cay     0.043800   0.499400  \n",
       "caz    -0.180600   2.610800  \n",
       "cecg    0.036484   1.499954  \n",
       "cemg    0.003159   0.335724  \n",
       "ceda    6.617737   8.166885  \n",
       "ctemp  34.967987  35.238495  \n",
       "cresp   2.256775  30.084229  \n",
       "label   2.000000   4.000000  "
      ]
     },
     "execution_count": 18,
     "metadata": {},
     "output_type": "execute_result"
    }
   ],
   "source": [
    "ch_loc.describe().T"
   ]
  },
  {
   "cell_type": "markdown",
   "metadata": {},
   "source": [
    "#### Plot all classes vs. classes 0,1,2,3,4 "
   ]
  },
  {
   "cell_type": "code",
   "execution_count": 19,
   "metadata": {},
   "outputs": [
    {
     "name": "stdout",
     "output_type": "stream",
     "text": [
      "3663100 3556701\n",
      "Number of Rows Removed: 106399\n"
     ]
    },
    {
     "data": {
      "image/png": "[encoded data removed]",
      "text/plain": [
       "<Figure size 1008x360 with 2 Axes>"
      ]
     },
     "metadata": {},
     "output_type": "display_data"
    }
   ],
   "source": [
    "plt.figure(figsize = (14,5))\n",
    "plt.subplot(1, 2, 1)\n",
    "ch_df['label'].value_counts().plot(kind='bar', \n",
    "                                     title='Chest Number of Examples by Class \\n',\n",
    "                                     color=['b','b','b','b','b','r','r','r'])\n",
    "plt.subplot(1, 2, 2)\n",
    "ch_loc['label'].value_counts().plot(kind='bar', \n",
    "                                     title='Chest Number of Examples by Class \\n')\n",
    "print((ch_df['label'].value_counts().sum()), ch_loc['label'].value_counts().sum())\n",
    "print('Number of Rows Removed:', (ch_df['label'].value_counts().sum()) - \n",
    "      ch_loc['label'].value_counts().sum());"
   ]
  },
  {
   "cell_type": "markdown",
   "metadata": {},
   "source": [
    "**XGBoost for Multi-class Classification** <br>\n",
    "https://towardsdatascience.com/xgboost-for-multi-class-classification-799d96bcd368"
   ]
  },
  {
   "cell_type": "code",
   "execution_count": 2,
   "metadata": {},
   "outputs": [
    {
     "data": {
      "text/plain": [
       "'\\nAuthor: Plog, E\\nTitle: AUC ROC Curve Scoring Function for Multi-class Classification\\nDate: 2018\\nCode version: n.a.\\nAvailability: https://medium.com/@plog397/auc-roc-curve-scoring-function-for-multi-class-classification-9822871a6659\\n'"
      ]
     },
     "execution_count": 2,
     "metadata": {},
     "output_type": "execute_result"
    }
   ],
   "source": [
    "# Multiclass ROC AUC Score original script sourced from \n",
    "'''\n",
    "Author: Plog, E\n",
    "Title: AUC ROC Curve Scoring Function for Multi-class Classification\n",
    "Date: 2018\n",
    "Code version: n.a.\n",
    "Availability: https://medium.com/@plog397/auc-roc-curve-scoring-function-for-multi-class-classification-9822871a6659\n",
    "'''"
   ]
  },
  {
   "cell_type": "markdown",
   "metadata": {},
   "source": [
    "# Model Runs: XGBoost Classifier"
   ]
  },
  {
   "cell_type": "markdown",
   "metadata": {},
   "source": [
    "**XGBoost for Multi-class Classification** <br>\n",
    "https://towardsdatascience.com/xgboost-for-multi-class-classification-799d96bcd368"
   ]
  },
  {
   "cell_type": "markdown",
   "metadata": {},
   "source": [
    "## Model allChest: All chest features"
   ]
  },
  {
   "cell_type": "markdown",
   "metadata": {},
   "source": [
    "### Train Test"
   ]
  },
  {
   "cell_type": "code",
   "execution_count": 30,
   "metadata": {},
   "outputs": [
    {
     "name": "stdout",
     "output_type": "stream",
     "text": [
      "(2845360, 8)\n",
      "(711341,)\n"
     ]
    }
   ],
   "source": [
    "y = ch_loc.label\n",
    "x = ch_loc.drop('label',axis=1)\n",
    "x_train, x_test, y_train, y_test = train_test_split(x, y, test_size=0.2)\n",
    "print(x_train.shape)\n",
    "print(y_test.shape)\n",
    "evalSet = [(x_train, y_train), (x_test, y_test)]"
   ]
  },
  {
   "cell_type": "markdown",
   "metadata": {},
   "source": [
    "### Check Train Correlations"
   ]
  },
  {
   "cell_type": "code",
   "execution_count": 31,
   "metadata": {},
   "outputs": [
    {
     "data": {
      "image/png": "[encoded data removed]",
      "text/plain": [
       "<Figure size 648x504 with 2 Axes>"
      ]
     },
     "metadata": {},
     "output_type": "display_data"
    }
   ],
   "source": [
    "plt.figure(figsize=(9,7))\n",
    "sns.heatmap(x_train.corr(), annot=True, cmap=plt.cm.BuPu);"
   ]
  },
  {
   "cell_type": "markdown",
   "metadata": {},
   "source": [
    "There is one mildly strong correlation - between cax and caz - where the x-axis is forward/back and the z-axis is up/down.<br>\n",
    "This makes sense considering that movement from standing to sitting or from sitting to standing would likely involve x-axis motion "
   ]
  },
  {
   "cell_type": "markdown",
   "metadata": {},
   "source": [
    "### Model Fit and f1 and Balanced Accuracy Scores"
   ]
  },
  {
   "cell_type": "code",
   "execution_count": 64,
   "metadata": {
    "scrolled": true
   },
   "outputs": [
    {
     "name": "stdout",
     "output_type": "stream",
     "text": [
      "[0]\tvalidation_0-merror:0.04256\tvalidation_1-merror:0.04294\n",
      "[1]\tvalidation_0-merror:0.04044\tvalidation_1-merror:0.04083\n",
      "[2]\tvalidation_0-merror:0.03922\tvalidation_1-merror:0.03945\n",
      "[3]\tvalidation_0-merror:0.03873\tvalidation_1-merror:0.03904\n",
      "[4]\tvalidation_0-merror:0.03880\tvalidation_1-merror:0.03923\n",
      "[5]\tvalidation_0-merror:0.03730\tvalidation_1-merror:0.03768\n",
      "[6]\tvalidation_0-merror:0.03695\tvalidation_1-merror:0.03728\n",
      "[7]\tvalidation_0-merror:0.03637\tvalidation_1-merror:0.03673\n",
      "[8]\tvalidation_0-merror:0.03606\tvalidation_1-merror:0.03647\n",
      "[9]\tvalidation_0-merror:0.03574\tvalidation_1-merror:0.03621\n",
      "[10]\tvalidation_0-merror:0.03499\tvalidation_1-merror:0.03552\n",
      "[11]\tvalidation_0-merror:0.03461\tvalidation_1-merror:0.03504\n",
      "[12]\tvalidation_0-merror:0.03447\tvalidation_1-merror:0.03488\n",
      "[13]\tvalidation_0-merror:0.03383\tvalidation_1-merror:0.03427\n",
      "[14]\tvalidation_0-merror:0.03354\tvalidation_1-merror:0.03399\n",
      "[15]\tvalidation_0-merror:0.03327\tvalidation_1-merror:0.03375\n",
      "[16]\tvalidation_0-merror:0.03306\tvalidation_1-merror:0.03352\n",
      "[17]\tvalidation_0-merror:0.03276\tvalidation_1-merror:0.03325\n",
      "[18]\tvalidation_0-merror:0.03249\tvalidation_1-merror:0.03303\n",
      "[19]\tvalidation_0-merror:0.03225\tvalidation_1-merror:0.03283\n",
      "[20]\tvalidation_0-merror:0.03205\tvalidation_1-merror:0.03268\n",
      "[21]\tvalidation_0-merror:0.03165\tvalidation_1-merror:0.03227\n",
      "[22]\tvalidation_0-merror:0.03119\tvalidation_1-merror:0.03187\n",
      "[23]\tvalidation_0-merror:0.03094\tvalidation_1-merror:0.03163\n",
      "[24]\tvalidation_0-merror:0.03053\tvalidation_1-merror:0.03126\n",
      "[25]\tvalidation_0-merror:0.03031\tvalidation_1-merror:0.03106\n",
      "[26]\tvalidation_0-merror:0.03006\tvalidation_1-merror:0.03087\n",
      "[27]\tvalidation_0-merror:0.02976\tvalidation_1-merror:0.03054\n",
      "[28]\tvalidation_0-merror:0.02951\tvalidation_1-merror:0.03033\n",
      "[29]\tvalidation_0-merror:0.02920\tvalidation_1-merror:0.03002\n",
      "[30]\tvalidation_0-merror:0.02892\tvalidation_1-merror:0.02975\n",
      "[31]\tvalidation_0-merror:0.02873\tvalidation_1-merror:0.02957\n",
      "[32]\tvalidation_0-merror:0.02848\tvalidation_1-merror:0.02930\n",
      "[33]\tvalidation_0-merror:0.02823\tvalidation_1-merror:0.02903\n",
      "[34]\tvalidation_0-merror:0.02804\tvalidation_1-merror:0.02882\n",
      "[35]\tvalidation_0-merror:0.02779\tvalidation_1-merror:0.02856\n",
      "[36]\tvalidation_0-merror:0.02750\tvalidation_1-merror:0.02827\n",
      "[37]\tvalidation_0-merror:0.02729\tvalidation_1-merror:0.02803\n",
      "[38]\tvalidation_0-merror:0.02709\tvalidation_1-merror:0.02786\n",
      "[39]\tvalidation_0-merror:0.02690\tvalidation_1-merror:0.02768\n",
      "[40]\tvalidation_0-merror:0.02670\tvalidation_1-merror:0.02752\n",
      "[41]\tvalidation_0-merror:0.02654\tvalidation_1-merror:0.02736\n",
      "[42]\tvalidation_0-merror:0.02639\tvalidation_1-merror:0.02722\n",
      "[43]\tvalidation_0-merror:0.02623\tvalidation_1-merror:0.02707\n",
      "[44]\tvalidation_0-merror:0.02601\tvalidation_1-merror:0.02685\n",
      "[45]\tvalidation_0-merror:0.02582\tvalidation_1-merror:0.02669\n",
      "[46]\tvalidation_0-merror:0.02568\tvalidation_1-merror:0.02656\n",
      "[47]\tvalidation_0-merror:0.02550\tvalidation_1-merror:0.02638\n",
      "[48]\tvalidation_0-merror:0.02531\tvalidation_1-merror:0.02618\n",
      "[49]\tvalidation_0-merror:0.02510\tvalidation_1-merror:0.02598\n",
      "[50]\tvalidation_0-merror:0.02496\tvalidation_1-merror:0.02588\n",
      "[51]\tvalidation_0-merror:0.02480\tvalidation_1-merror:0.02574\n",
      "[52]\tvalidation_0-merror:0.02465\tvalidation_1-merror:0.02559\n",
      "[53]\tvalidation_0-merror:0.02451\tvalidation_1-merror:0.02547\n",
      "[54]\tvalidation_0-merror:0.02438\tvalidation_1-merror:0.02532\n",
      "[55]\tvalidation_0-merror:0.02422\tvalidation_1-merror:0.02514\n",
      "[56]\tvalidation_0-merror:0.02408\tvalidation_1-merror:0.02499\n",
      "[57]\tvalidation_0-merror:0.02398\tvalidation_1-merror:0.02490\n",
      "[58]\tvalidation_0-merror:0.02382\tvalidation_1-merror:0.02477\n",
      "[59]\tvalidation_0-merror:0.02376\tvalidation_1-merror:0.02469\n",
      "[60]\tvalidation_0-merror:0.02363\tvalidation_1-merror:0.02456\n",
      "[61]\tvalidation_0-merror:0.02349\tvalidation_1-merror:0.02444\n",
      "[62]\tvalidation_0-merror:0.02335\tvalidation_1-merror:0.02429\n",
      "[63]\tvalidation_0-merror:0.02329\tvalidation_1-merror:0.02424\n",
      "[64]\tvalidation_0-merror:0.02319\tvalidation_1-merror:0.02418\n",
      "[65]\tvalidation_0-merror:0.02301\tvalidation_1-merror:0.02399\n",
      "[66]\tvalidation_0-merror:0.02289\tvalidation_1-merror:0.02386\n",
      "[67]\tvalidation_0-merror:0.02280\tvalidation_1-merror:0.02377\n",
      "[68]\tvalidation_0-merror:0.02269\tvalidation_1-merror:0.02366\n",
      "[69]\tvalidation_0-merror:0.02257\tvalidation_1-merror:0.02354\n",
      "[70]\tvalidation_0-merror:0.02249\tvalidation_1-merror:0.02345\n",
      "[71]\tvalidation_0-merror:0.02231\tvalidation_1-merror:0.02332\n",
      "[72]\tvalidation_0-merror:0.02218\tvalidation_1-merror:0.02322\n",
      "[73]\tvalidation_0-merror:0.02213\tvalidation_1-merror:0.02317\n",
      "[74]\tvalidation_0-merror:0.02198\tvalidation_1-merror:0.02302\n",
      "[75]\tvalidation_0-merror:0.02188\tvalidation_1-merror:0.02295\n",
      "[76]\tvalidation_0-merror:0.02174\tvalidation_1-merror:0.02283\n",
      "[77]\tvalidation_0-merror:0.02147\tvalidation_1-merror:0.02262\n",
      "[78]\tvalidation_0-merror:0.02133\tvalidation_1-merror:0.02252\n",
      "[79]\tvalidation_0-merror:0.02126\tvalidation_1-merror:0.02245\n",
      "[80]\tvalidation_0-merror:0.02115\tvalidation_1-merror:0.02238\n",
      "[81]\tvalidation_0-merror:0.02100\tvalidation_1-merror:0.02224\n",
      "[82]\tvalidation_0-merror:0.02092\tvalidation_1-merror:0.02216\n",
      "[83]\tvalidation_0-merror:0.02077\tvalidation_1-merror:0.02202\n",
      "[84]\tvalidation_0-merror:0.02071\tvalidation_1-merror:0.02194\n",
      "[85]\tvalidation_0-merror:0.02060\tvalidation_1-merror:0.02182\n",
      "[86]\tvalidation_0-merror:0.02051\tvalidation_1-merror:0.02172\n",
      "[87]\tvalidation_0-merror:0.02038\tvalidation_1-merror:0.02160\n",
      "[88]\tvalidation_0-merror:0.02026\tvalidation_1-merror:0.02152\n",
      "[89]\tvalidation_0-merror:0.02013\tvalidation_1-merror:0.02145\n",
      "[90]\tvalidation_0-merror:0.02007\tvalidation_1-merror:0.02139\n",
      "[91]\tvalidation_0-merror:0.02000\tvalidation_1-merror:0.02132\n",
      "[92]\tvalidation_0-merror:0.01990\tvalidation_1-merror:0.02121\n",
      "[93]\tvalidation_0-merror:0.01983\tvalidation_1-merror:0.02116\n",
      "[94]\tvalidation_0-merror:0.01959\tvalidation_1-merror:0.02094\n",
      "[95]\tvalidation_0-merror:0.01949\tvalidation_1-merror:0.02086\n",
      "[96]\tvalidation_0-merror:0.01945\tvalidation_1-merror:0.02084\n",
      "[97]\tvalidation_0-merror:0.01936\tvalidation_1-merror:0.02076\n",
      "[98]\tvalidation_0-merror:0.01932\tvalidation_1-merror:0.02072\n",
      "[99]\tvalidation_0-merror:0.01929\tvalidation_1-merror:0.02070\n",
      "[100]\tvalidation_0-merror:0.01913\tvalidation_1-merror:0.02057\n",
      "[101]\tvalidation_0-merror:0.01900\tvalidation_1-merror:0.02043\n",
      "[102]\tvalidation_0-merror:0.01878\tvalidation_1-merror:0.02025\n",
      "[103]\tvalidation_0-merror:0.01871\tvalidation_1-merror:0.02020\n",
      "[104]\tvalidation_0-merror:0.01861\tvalidation_1-merror:0.02005\n",
      "[105]\tvalidation_0-merror:0.01856\tvalidation_1-merror:0.02002\n",
      "[106]\tvalidation_0-merror:0.01853\tvalidation_1-merror:0.01997\n",
      "[107]\tvalidation_0-merror:0.01846\tvalidation_1-merror:0.01991\n",
      "[108]\tvalidation_0-merror:0.01839\tvalidation_1-merror:0.01985\n",
      "[109]\tvalidation_0-merror:0.01832\tvalidation_1-merror:0.01978\n",
      "[110]\tvalidation_0-merror:0.01827\tvalidation_1-merror:0.01974\n",
      "[111]\tvalidation_0-merror:0.01820\tvalidation_1-merror:0.01968\n",
      "[112]\tvalidation_0-merror:0.01816\tvalidation_1-merror:0.01963\n",
      "[113]\tvalidation_0-merror:0.01810\tvalidation_1-merror:0.01957\n",
      "[114]\tvalidation_0-merror:0.01804\tvalidation_1-merror:0.01947\n",
      "[115]\tvalidation_0-merror:0.01799\tvalidation_1-merror:0.01941\n",
      "[116]\tvalidation_0-merror:0.01793\tvalidation_1-merror:0.01935\n",
      "[117]\tvalidation_0-merror:0.01784\tvalidation_1-merror:0.01926\n",
      "[118]\tvalidation_0-merror:0.01776\tvalidation_1-merror:0.01921\n",
      "[119]\tvalidation_0-merror:0.01770\tvalidation_1-merror:0.01916\n",
      "[120]\tvalidation_0-merror:0.01767\tvalidation_1-merror:0.01914\n",
      "[121]\tvalidation_0-merror:0.01765\tvalidation_1-merror:0.01911\n",
      "[122]\tvalidation_0-merror:0.01760\tvalidation_1-merror:0.01907\n",
      "[123]\tvalidation_0-merror:0.01754\tvalidation_1-merror:0.01900\n",
      "[124]\tvalidation_0-merror:0.01739\tvalidation_1-merror:0.01887\n",
      "[125]\tvalidation_0-merror:0.01728\tvalidation_1-merror:0.01879\n",
      "[126]\tvalidation_0-merror:0.01721\tvalidation_1-merror:0.01873\n",
      "[127]\tvalidation_0-merror:0.01718\tvalidation_1-merror:0.01871\n",
      "[128]\tvalidation_0-merror:0.01716\tvalidation_1-merror:0.01870\n",
      "[129]\tvalidation_0-merror:0.01710\tvalidation_1-merror:0.01864\n",
      "[130]\tvalidation_0-merror:0.01700\tvalidation_1-merror:0.01854\n",
      "[131]\tvalidation_0-merror:0.01692\tvalidation_1-merror:0.01847\n",
      "[132]\tvalidation_0-merror:0.01691\tvalidation_1-merror:0.01846\n",
      "[133]\tvalidation_0-merror:0.01690\tvalidation_1-merror:0.01846\n"
     ]
    },
    {
     "name": "stdout",
     "output_type": "stream",
     "text": [
      "[134]\tvalidation_0-merror:0.01687\tvalidation_1-merror:0.01844\n",
      "[135]\tvalidation_0-merror:0.01683\tvalidation_1-merror:0.01840\n",
      "[136]\tvalidation_0-merror:0.01682\tvalidation_1-merror:0.01839\n",
      "[137]\tvalidation_0-merror:0.01682\tvalidation_1-merror:0.01839\n",
      "[138]\tvalidation_0-merror:0.01679\tvalidation_1-merror:0.01838\n",
      "[139]\tvalidation_0-merror:0.01679\tvalidation_1-merror:0.01838\n",
      "[140]\tvalidation_0-merror:0.01678\tvalidation_1-merror:0.01837\n",
      "[141]\tvalidation_0-merror:0.01675\tvalidation_1-merror:0.01832\n",
      "[142]\tvalidation_0-merror:0.01668\tvalidation_1-merror:0.01823\n",
      "[143]\tvalidation_0-merror:0.01665\tvalidation_1-merror:0.01821\n",
      "[144]\tvalidation_0-merror:0.01662\tvalidation_1-merror:0.01819\n",
      "[145]\tvalidation_0-merror:0.01657\tvalidation_1-merror:0.01817\n",
      "[146]\tvalidation_0-merror:0.01657\tvalidation_1-merror:0.01817\n",
      "[147]\tvalidation_0-merror:0.01656\tvalidation_1-merror:0.01814\n",
      "[148]\tvalidation_0-merror:0.01655\tvalidation_1-merror:0.01814\n",
      "[149]\tvalidation_0-merror:0.01654\tvalidation_1-merror:0.01813\n",
      "[150]\tvalidation_0-merror:0.01654\tvalidation_1-merror:0.01813\n",
      "[151]\tvalidation_0-merror:0.01643\tvalidation_1-merror:0.01803\n",
      "[152]\tvalidation_0-merror:0.01640\tvalidation_1-merror:0.01798\n",
      "[153]\tvalidation_0-merror:0.01638\tvalidation_1-merror:0.01796\n",
      "[154]\tvalidation_0-merror:0.01638\tvalidation_1-merror:0.01798\n",
      "[155]\tvalidation_0-merror:0.01635\tvalidation_1-merror:0.01794\n",
      "[156]\tvalidation_0-merror:0.01633\tvalidation_1-merror:0.01794\n",
      "[157]\tvalidation_0-merror:0.01632\tvalidation_1-merror:0.01793\n",
      "[158]\tvalidation_0-merror:0.01631\tvalidation_1-merror:0.01792\n",
      "[159]\tvalidation_0-merror:0.01630\tvalidation_1-merror:0.01793\n",
      "[160]\tvalidation_0-merror:0.01627\tvalidation_1-merror:0.01790\n",
      "[161]\tvalidation_0-merror:0.01627\tvalidation_1-merror:0.01790\n",
      "[162]\tvalidation_0-merror:0.01627\tvalidation_1-merror:0.01790\n",
      "[163]\tvalidation_0-merror:0.01627\tvalidation_1-merror:0.01790\n",
      "[164]\tvalidation_0-merror:0.01627\tvalidation_1-merror:0.01790\n",
      "[165]\tvalidation_0-merror:0.01627\tvalidation_1-merror:0.01790\n",
      "[166]\tvalidation_0-merror:0.01627\tvalidation_1-merror:0.01790\n",
      "[167]\tvalidation_0-merror:0.01627\tvalidation_1-merror:0.01790\n",
      "[168]\tvalidation_0-merror:0.01627\tvalidation_1-merror:0.01790\n",
      "[169]\tvalidation_0-merror:0.01627\tvalidation_1-merror:0.01790\n",
      "[170]\tvalidation_0-merror:0.01627\tvalidation_1-merror:0.01790\n",
      "[171]\tvalidation_0-merror:0.01627\tvalidation_1-merror:0.01790\n",
      "[172]\tvalidation_0-merror:0.01628\tvalidation_1-merror:0.01790\n",
      "[173]\tvalidation_0-merror:0.01628\tvalidation_1-merror:0.01790\n",
      "[174]\tvalidation_0-merror:0.01628\tvalidation_1-merror:0.01790\n",
      "[175]\tvalidation_0-merror:0.01628\tvalidation_1-merror:0.01790\n",
      "[176]\tvalidation_0-merror:0.01625\tvalidation_1-merror:0.01789\n",
      "[177]\tvalidation_0-merror:0.01625\tvalidation_1-merror:0.01789\n",
      "[178]\tvalidation_0-merror:0.01624\tvalidation_1-merror:0.01787\n",
      "[179]\tvalidation_0-merror:0.01622\tvalidation_1-merror:0.01785\n",
      "[180]\tvalidation_0-merror:0.01622\tvalidation_1-merror:0.01785\n",
      "[181]\tvalidation_0-merror:0.01622\tvalidation_1-merror:0.01785\n",
      "[182]\tvalidation_0-merror:0.01622\tvalidation_1-merror:0.01785\n",
      "[183]\tvalidation_0-merror:0.01622\tvalidation_1-merror:0.01785\n",
      "[184]\tvalidation_0-merror:0.01621\tvalidation_1-merror:0.01784\n",
      "[185]\tvalidation_0-merror:0.01621\tvalidation_1-merror:0.01784\n",
      "[186]\tvalidation_0-merror:0.01621\tvalidation_1-merror:0.01784\n",
      "[187]\tvalidation_0-merror:0.01621\tvalidation_1-merror:0.01784\n",
      "[188]\tvalidation_0-merror:0.01621\tvalidation_1-merror:0.01784\n",
      "[189]\tvalidation_0-merror:0.01621\tvalidation_1-merror:0.01784\n",
      "[190]\tvalidation_0-merror:0.01621\tvalidation_1-merror:0.01784\n",
      "[191]\tvalidation_0-merror:0.01621\tvalidation_1-merror:0.01784\n",
      "[192]\tvalidation_0-merror:0.01621\tvalidation_1-merror:0.01784\n",
      "[193]\tvalidation_0-merror:0.01621\tvalidation_1-merror:0.01784\n",
      "[194]\tvalidation_0-merror:0.01621\tvalidation_1-merror:0.01784\n",
      "[195]\tvalidation_0-merror:0.01621\tvalidation_1-merror:0.01784\n",
      "[196]\tvalidation_0-merror:0.01621\tvalidation_1-merror:0.01784\n",
      "[197]\tvalidation_0-merror:0.01621\tvalidation_1-merror:0.01784\n",
      "[198]\tvalidation_0-merror:0.01621\tvalidation_1-merror:0.01784\n",
      "[199]\tvalidation_0-merror:0.01621\tvalidation_1-merror:0.01784\n",
      "Wall time: 1min 18s\n"
     ]
    }
   ],
   "source": [
    "%%time\n",
    "allChest = xgb.XGBClassifier(objective = 'multi:softmax',\n",
    "                              tree_method = 'gpu_hist',\n",
    "                              learning_rate = 0.1,\n",
    "                              n_estimators = 300, \n",
    "                              max_depth = 10,\n",
    "                              #deterministic_histogram = 'false',\n",
    "                              gradient_based = 0.1,\n",
    "                              num_early_stopping_rounds = 20,\n",
    "                              gamma = 3,\n",
    "                              #seed = 24,\n",
    "                              verbosity = 2) \n",
    "\n",
    "model_allChest = allChest.fit(x_train,y_train, \n",
    "                              eval_metric=['merror'], # % of wrong cases\n",
    "                              eval_set = evalSet) "
   ]
  },
  {
   "cell_type": "markdown",
   "metadata": {},
   "source": [
    "### Balanced Accuracy and Classification Report"
   ]
  },
  {
   "cell_type": "code",
   "execution_count": 75,
   "metadata": {},
   "outputs": [
    {
     "name": "stdout",
     "output_type": "stream",
     "text": [
      "----------------------------------------\n",
      "Balanced Accuracy: 0.9842\n",
      "----------------------------------------\n",
      "------------ S11 All Chest Classification Report------------\n",
      "              precision    recall  f1-score   support\n",
      "\n",
      "         0.0     0.9855    0.9719    0.9787    288395\n",
      "         1.0     0.9955    0.9967    0.9961    165447\n",
      "         2.0     0.9936    0.9958    0.9947     95455\n",
      "         3.0     0.9726    0.9803    0.9764     51471\n",
      "         4.0     0.9491    0.9762    0.9624    110573\n",
      "\n",
      "    accuracy                         0.9822    711341\n",
      "   macro avg     0.9792    0.9842    0.9817    711341\n",
      "weighted avg     0.9823    0.9822    0.9822    711341\n",
      "\n"
     ]
    }
   ],
   "source": [
    "allChest_pred = allChest.predict(x_test)\n",
    "allChest_report = (classification_report(y_test,\n",
    "                                         allChest_pred,\n",
    "                                         labels=np.unique(allChest_pred),\n",
    "                                         digits=4))\n",
    "\n",
    "print('----------------------------------------')\n",
    "print('Balanced Accuracy: {0:.4f}'.format(balanced_accuracy_score(y_test, allChest_pred)))\n",
    "print('----------------------------------------')\n",
    "print('------------ S11 All Chest Classification Report------------')\n",
    "print(allChest_report)"
   ]
  },
  {
   "cell_type": "code",
   "execution_count": 28,
   "metadata": {},
   "outputs": [
    {
     "name": "stdout",
     "output_type": "stream",
     "text": [
      "----------------------------------------\n",
      "Balanced Accuracy: 0.9798\n",
      "----------------------------------------\n",
      "------------ S11 All Chest Classification Report------------\n",
      "              precision    recall  f1-score   support\n",
      "\n",
      "         0.0     0.9820    0.9660    0.9739    288879\n",
      "         1.0     0.9946    0.9969    0.9957    164984\n",
      "         2.0     0.9899    0.9941    0.9920     95259\n",
      "         3.0     0.9644    0.9711    0.9678     51757\n",
      "         4.0     0.9404    0.9708    0.9554    110462\n",
      "\n",
      "    accuracy                         0.9780    711341\n",
      "   macro avg     0.9743    0.9798    0.9770    711341\n",
      "weighted avg     0.9782    0.9780    0.9781    711341\n",
      "\n"
     ]
    }
   ],
   "source": [
    "allChest_pred = allChest.predict(x_test)\n",
    "allChest_report = (classification_report(y_test,\n",
    "                                         allChest_pred,\n",
    "                                         labels=np.unique(allChest_pred),\n",
    "                                         digits=4))\n",
    "\n",
    "print('----------------------------------------')\n",
    "print('Balanced Accuracy: {0:.4f}'.format(balanced_accuracy_score(y_test, allChest_pred)))\n",
    "print('----------------------------------------')\n",
    "print('------------ S11 All Chest Classification Report------------')\n",
    "print(allChest_report)"
   ]
  },
  {
   "cell_type": "markdown",
   "metadata": {},
   "source": [
    "### Multiclass error Plot"
   ]
  },
  {
   "cell_type": "code",
   "execution_count": 65,
   "metadata": {},
   "outputs": [
    {
     "data": {
      "image/png": "[encoded data removed]",
      "text/plain": [
       "<Figure size 576x396 with 1 Axes>"
      ]
     },
     "metadata": {},
     "output_type": "display_data"
    }
   ],
   "source": [
    "# multi-class classification error plot \n",
    "# https://stackoverflow.com/questions/51900874/how-to-plot-xgboost-evaluation-metrics\n",
    "\n",
    "results = allChest.evals_result()\n",
    "epochs = len(results['validation_0']['merror'])\n",
    "x_axis = range(0, epochs)\n",
    "fig, ax = plt.subplots()\n",
    "ax.plot(x_axis, results['validation_0']['merror'], label = 'Train', c = 'm')\n",
    "ax.plot(x_axis, results['validation_1']['merror'], label = 'Test', c = 'r')\n",
    "plt.legend(loc = 'upper right')\n",
    "plt.ylabel('merror')\n",
    "plt.xlabel('epochs')\n",
    "plt.title('XGBoost allChest Multiclass Error');"
   ]
  },
  {
   "cell_type": "markdown",
   "metadata": {},
   "source": [
    "    Model stops improving at 184 epochs.\n",
    "    Afterwards, test and train remain relatively parallel indicating that over-fitting is not present"
   ]
  },
  {
   "cell_type": "markdown",
   "metadata": {},
   "source": [
    "### Confusion Matrix"
   ]
  },
  {
   "cell_type": "code",
   "execution_count": 67,
   "metadata": {},
   "outputs": [
    {
     "data": {
      "image/png": "[encoded data removed]",
      "text/plain": [
       "<Figure size 504x360 with 2 Axes>"
      ]
     },
     "metadata": {},
     "output_type": "display_data"
    }
   ],
   "source": [
    "cm = confusion_matrix(y_test, allChest_pred)\n",
    "plt.figure(figsize=(7,5))\n",
    "sns.heatmap(cm, annot=True, fmt='d', cmap=plt.cm.BuPu );"
   ]
  },
  {
   "cell_type": "markdown",
   "metadata": {},
   "source": [
    "## Model ACC TEMP EDA"
   ]
  },
  {
   "cell_type": "markdown",
   "metadata": {},
   "source": [
    "### Test Train Split"
   ]
  },
  {
   "cell_type": "code",
   "execution_count": 20,
   "metadata": {},
   "outputs": [
    {
     "name": "stdout",
     "output_type": "stream",
     "text": [
      "(2845360, 5)\n",
      "(711341,)\n"
     ]
    }
   ],
   "source": [
    "less_Emg_Ecg = ch_loc[['ceda', 'ctemp', 'cax', 'cay', 'caz', 'label']]\n",
    "y = less_Emg_Ecg.label\n",
    "x = less_Emg_Ecg.drop('label',axis=1)\n",
    "x_train, x_test, y_train, y_test = train_test_split(x, y, test_size=0.2)\n",
    "print(x_train.shape)\n",
    "print(y_test.shape)"
   ]
  },
  {
   "cell_type": "markdown",
   "metadata": {},
   "source": [
    "### Model Fit, classification report, and Balanced Accuracy "
   ]
  },
  {
   "cell_type": "code",
   "execution_count": 21,
   "metadata": {},
   "outputs": [
    {
     "name": "stdout",
     "output_type": "stream",
     "text": [
      "Balanced Accuracy: 0.9709339778002073\n",
      "---------------------------------------\n",
      "------------ S11 ACC EDA TEMP Classification Report------------\n",
      "              precision    recall  f1-score   support\n",
      "\n",
      "         0.0     0.9741    0.9520    0.9629    288141\n",
      "         1.0     0.9926    0.9957    0.9942    165413\n",
      "         2.0     0.9867    0.9916    0.9891     95062\n",
      "         3.0     0.9552    0.9576    0.9564     51757\n",
      "         4.0     0.9131    0.9578    0.9349    110968\n",
      "\n",
      "    accuracy                         0.9688    711341\n",
      "   macro avg     0.9643    0.9709    0.9675    711341\n",
      "weighted avg     0.9692    0.9688    0.9688    711341\n",
      "\n",
      "Wall time: 1min 14s\n"
     ]
    }
   ],
   "source": [
    "%%time\n",
    "accEdaTemp = XGBClassifier(objective = 'multi:softmax',\n",
    "                           tree_method = 'gpu_hist',\n",
    "                           learning_rate = 0.1,\n",
    "                           gradient_based = 0.1,\n",
    "                           num_early_stopping_rounds = 20,\n",
    "                           n_estimators = 300,\n",
    "                           gamma = 3,\n",
    "                           verbosity = 2) \n",
    "\n",
    "model_accEdaTemp = accEdaTemp.fit(x_train, y_train)\n",
    "accEdaTemp_pred = accEdaTemp.predict(x_test)\n",
    "accEdaTemp_report = (classification_report(y_test, \n",
    "                                         accEdaTemp_pred, \n",
    "                                         labels = np.unique(accEdaTemp_pred),\n",
    "                                         digits = 4))\n",
    "\n",
    "print('Balanced Accuracy:', balanced_accuracy_score(y_test, accEdaTemp_pred))\n",
    "print('---------------------------------------')\n",
    "print('------------ S11 ACC EDA TEMP Classification Report------------')\n",
    "print(accEdaTemp_report)"
   ]
  },
  {
   "cell_type": "markdown",
   "metadata": {},
   "source": [
    "### Confusion matrix"
   ]
  },
  {
   "cell_type": "code",
   "execution_count": 22,
   "metadata": {},
   "outputs": [
    {
     "data": {
      "image/png": "[encoded data removed]",
      "text/plain": [
       "<Figure size 576x432 with 2 Axes>"
      ]
     },
     "metadata": {},
     "output_type": "display_data"
    }
   ],
   "source": [
    "cm = confusion_matrix(y_test, accEdaTemp_pred)\n",
    "plt.figure(figsize=(8,6))\n",
    "sns.heatmap(cm, annot=True, fmt='d', cmap=plt.cm.BuPu );"
   ]
  },
  {
   "cell_type": "code",
   "execution_count": null,
   "metadata": {},
   "outputs": [],
   "source": []
  }
 ],
 "metadata": {
  "kernelspec": {
   "display_name": "practicum1",
   "language": "python",
   "name": "practicum1"
  },
  "language_info": {
   "codemirror_mode": {
    "name": "ipython",
    "version": 3
   },
   "file_extension": ".py",
   "mimetype": "text/x-python",
   "name": "python",
   "nbconvert_exporter": "python",
   "pygments_lexer": "ipython3",
   "version": "3.7.6"
  },
  "toc": {
   "base_numbering": 1,
   "nav_menu": {},
   "number_sections": true,
   "sideBar": true,
   "skip_h1_title": true,
   "title_cell": "Table of Contents",
   "title_sidebar": "Contents",
   "toc_cell": true,
   "toc_position": {},
   "toc_section_display": true,
   "toc_window_display": false
  }
 },
 "nbformat": 4,
 "nbformat_minor": 2
}
